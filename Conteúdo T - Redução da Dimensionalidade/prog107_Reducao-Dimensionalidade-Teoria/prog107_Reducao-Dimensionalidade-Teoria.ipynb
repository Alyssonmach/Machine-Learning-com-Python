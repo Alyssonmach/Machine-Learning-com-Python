{
 "cells": [
  {
   "cell_type": "markdown",
   "metadata": {},
   "source": [
    "# Redução da Dimensionalidade\n",
    "#### Analisando os principais algoritmos para aplicar a redução de dimensionalidade."
   ]
  },
  {
   "cell_type": "markdown",
   "metadata": {},
   "source": [
    "Em muitas situações, quando se existe uma base de dados com muitos campos de registros, é normal que alguns deles sejam redundantes ou pouco relevantes. Por esse motivo, a aplicação de algoritmos que permitem reduzir dimensionalmente a quantidade desses campos é uma estratégia muito conveniente, pois esse processo economizaria no tempo e no custo de treinamento dos algoritmos. Vamos analisar alguns deles para saber quando usá-los."
   ]
  },
  {
   "cell_type": "markdown",
   "metadata": {},
   "source": [
    "### PCA (Principal Component Analysys)"
   ]
  },
  {
   "cell_type": "markdown",
   "metadata": {},
   "source": [
    "1. Seleção de características x extração de características;\n",
    "2. Um dos principais algoritmos de aprendizagem de máquina **não supervisionada**;\n",
    "3. Identifica a correlação entre variáveis, e caso haja uma forte correlação é possível reduzir a dimensionalidade;\n",
    "4. Das **m** variáveis independentes, **PCA** extraí **p <= m** novas variáveis independentes que explicam melhor a variação na base de dados, sem considerar a variável dependente.\n",
    "5. O usuário pode escolher o número desejado de **p**."
   ]
  },
  {
   "cell_type": "markdown",
   "metadata": {},
   "source": [
    "### LDA (Linear Discriminant Analysis)"
   ]
  },
  {
   "cell_type": "markdown",
   "metadata": {},
   "source": [
    "1. Além de encontrar os componentes principais, **LDA** também encontra os eixos que maximizam a separação entre múltiplas classes.\n",
    "2. É **supervisionado** por causa da relação com a classe.\n",
    "3. Das **m** variáveis independentes, LDA extraí **p <= m** novas variáveis independentes que mais separam as classes da variável dependente."
   ]
  },
  {
   "cell_type": "markdown",
   "metadata": {},
   "source": [
    "![pca-lda](Imagens/pca-lda.png)"
   ]
  },
  {
   "cell_type": "markdown",
   "metadata": {},
   "source": [
    "### Kernel PCA"
   ]
  },
  {
   "cell_type": "markdown",
   "metadata": {},
   "source": [
    "1. **PCA** e **LDA** são utilizados quando os dados são **linearmente separáveis**.\n",
    "2. **Kernel PCA** é uma versão do PCA que os dados são mapeados para uma dimensão maior usando **kernel trick**.\n",
    "3. Os componentes principais são extraídos dos dados com dimensionalidade maior."
   ]
  },
  {
   "cell_type": "markdown",
   "metadata": {},
   "source": [
    "![kernel-pca](Imagens/kernel-pca.jpg)"
   ]
  },
  {
   "cell_type": "markdown",
   "metadata": {},
   "source": [
    "### Alguma Dúvida? Entre em Contato Comigo:"
   ]
  },
  {
   "cell_type": "markdown",
   "metadata": {},
   "source": [
    "- [Me envie um e-mail](mailto:alyssonmachado388@gmail.com);"
   ]
  }
 ],
 "metadata": {
  "kernelspec": {
   "display_name": "Python 3",
   "language": "python",
   "name": "python3"
  },
  "language_info": {
   "codemirror_mode": {
    "name": "ipython",
    "version": 3
   },
   "file_extension": ".py",
   "mimetype": "text/x-python",
   "name": "python",
   "nbconvert_exporter": "python",
   "pygments_lexer": "ipython3",
   "version": "3.7.4"
  }
 },
 "nbformat": 4,
 "nbformat_minor": 4
}
