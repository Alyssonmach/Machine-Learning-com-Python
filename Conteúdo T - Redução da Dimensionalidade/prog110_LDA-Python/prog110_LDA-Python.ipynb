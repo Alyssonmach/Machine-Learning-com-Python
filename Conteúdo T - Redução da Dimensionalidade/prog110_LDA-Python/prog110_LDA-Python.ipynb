{
 "cells": [
  {
   "cell_type": "markdown",
   "metadata": {
    "colab_type": "text",
    "id": "1k6CijIE4GcB"
   },
   "source": [
    "# Redução da Dimensionalidade\n",
    "#### Usando o algoritmo LDA para fazer a redução de dimensionalidade."
   ]
  },
  {
   "cell_type": "code",
   "execution_count": 5,
   "metadata": {
    "colab": {},
    "colab_type": "code",
    "id": "SVdENk4-4GcI"
   },
   "outputs": [],
   "source": [
    "# importando a biblioteca pandas do python\n",
    "import pandas as pd\n",
    "\n",
    "# atribuindo os registros da base de dados para o objeto \"dataframe\"\n",
    "dataframe = pd.read_csv('census.csv', encoding = 'utf-8', sep = ',')\n",
    "\n",
    "# separando os atributos previsores e classe \n",
    "previsores = dataframe.iloc[:, 0:14].values\n",
    "classe = dataframe.iloc[:, 14].values\n",
    "\n",
    "# importando a biblioteca sklearn do python\n",
    "from sklearn.preprocessing import LabelEncoder\n",
    "# LabelEncoder é uma função responsável por  normalizar rótulos\n",
    "# o objetivo é transoformar variáveis categóricas em numéricas\n",
    "\n",
    "# criando o objeto \"labelencoder_previsores\" para fazer a transformação dos atributos categóricos em numéricos\n",
    "labelencoder_previsores = LabelEncoder()\n",
    "\n",
    "# aplicando a transformação em todos os campos de dados categóricos usando o objeto criado e definido \n",
    "# \"LabelEncoder_previsores\"\n",
    "previsores[:,1] = labelencoder_previsores.fit_transform(previsores[:,1])\n",
    "previsores[:,3] = labelencoder_previsores.fit_transform(previsores[:,3])\n",
    "previsores[:,5] = labelencoder_previsores.fit_transform(previsores[:,5])\n",
    "previsores[:,6] = labelencoder_previsores.fit_transform(previsores[:,6])\n",
    "previsores[:,7] = labelencoder_previsores.fit_transform(previsores[:,7])\n",
    "previsores[:,8] = labelencoder_previsores.fit_transform(previsores[:,8])\n",
    "previsores[:,9] = labelencoder_previsores.fit_transform(previsores[:,9])\n",
    "previsores[:,13] = labelencoder_previsores.fit_transform(previsores[:,13])\n",
    "\n",
    "# importando a biblioteca sklearn do python\n",
    "from sklearn.preprocessing import StandardScaler\n",
    "\n",
    "# criando e configurando o objeto \"scaler\"\n",
    "scaler = StandardScaler()\n",
    "\n",
    "# aplicando o escaolonamento nos atributos previsores\n",
    "previsores = scaler.fit_transform(previsores)\n",
    "\n",
    "# importando a biblioteca sklearn do python\n",
    "from sklearn.model_selection import train_test_split\n",
    "# a função \"train_test_split\" tem a função de separar modelos de treinamento e modelos de teste em uma base \n",
    "#de dados\n",
    "\n",
    "# separando as bases de dados entre modelos de treinamento e modelos de teste\n",
    "previsores_treinamento, previsores_teste, classe_treinamento, classe_teste = train_test_split(previsores, \n",
    "                                                                                             classe,\n",
    "                                                                                             test_size = 0.15, \n",
    "                                                                                             random_state = 0)"
   ]
  },
  {
   "cell_type": "code",
   "execution_count": 6,
   "metadata": {
    "colab": {
     "base_uri": "https://localhost:8080/",
     "height": 35
    },
    "colab_type": "code",
    "id": "05ddpYqb4Gcc",
    "outputId": "29b1c803-bb39-411c-f24a-5412cc2fafa7"
   },
   "outputs": [
    {
     "name": "stdout",
     "output_type": "stream",
     "text": [
      "(27676, 14)\n"
     ]
    }
   ],
   "source": [
    "# visualizando a dimensão de 'previsores_treinamento'\n",
    "print(previsores_treinamento.shape)"
   ]
  },
  {
   "cell_type": "code",
   "execution_count": 7,
   "metadata": {
    "colab": {
     "base_uri": "https://localhost:8080/",
     "height": 35
    },
    "colab_type": "code",
    "id": "R09eb_pW4Gcv",
    "outputId": "62ec0d44-3780-4878-b1ac-5d4af260efaf"
   },
   "outputs": [
    {
     "name": "stdout",
     "output_type": "stream",
     "text": [
      "(4885, 14)\n"
     ]
    }
   ],
   "source": [
    "# visualizando a dimensão de 'previsores_teste'\n",
    "print(previsores_teste.shape)"
   ]
  },
  {
   "cell_type": "code",
   "execution_count": 8,
   "metadata": {
    "colab": {
     "base_uri": "https://localhost:8080/",
     "height": 35
    },
    "colab_type": "code",
    "id": "KPHyykHs4GdU",
    "outputId": "f902c557-3026-4915-d817-be2acef03dac"
   },
   "outputs": [
    {
     "name": "stdout",
     "output_type": "stream",
     "text": [
      "(27676,)\n"
     ]
    }
   ],
   "source": [
    "# visualizando a dimensão de 'classe_treinamento'\n",
    "print(classe_treinamento.shape)"
   ]
  },
  {
   "cell_type": "code",
   "execution_count": 9,
   "metadata": {
    "colab": {
     "base_uri": "https://localhost:8080/",
     "height": 35
    },
    "colab_type": "code",
    "id": "MnnT5L-U4Gdw",
    "outputId": "60af777b-4b41-4a3d-f844-95e353aab9d1"
   },
   "outputs": [
    {
     "name": "stdout",
     "output_type": "stream",
     "text": [
      "(4885,)\n"
     ]
    }
   ],
   "source": [
    "# visualizando a dimensão de 'classe_teste'\n",
    "print(classe_teste.shape)"
   ]
  },
  {
   "cell_type": "code",
   "execution_count": 11,
   "metadata": {
    "colab": {},
    "colab_type": "code",
    "id": "0u81dmDW4GeL"
   },
   "outputs": [],
   "source": [
    "# importando a biblioteca sklearn do python\n",
    "from sklearn.discriminant_analysis import LinearDiscriminantAnalysis"
   ]
  },
  {
   "cell_type": "code",
   "execution_count": 12,
   "metadata": {
    "colab": {},
    "colab_type": "code",
    "id": "Frjj-Bfk4Gen"
   },
   "outputs": [],
   "source": [
    "# criando o objeto 'lda' para redução de dimensionalidade\n",
    "lda = LinearDiscriminantAnalysis(n_components = 2)"
   ]
  },
  {
   "cell_type": "code",
   "execution_count": 14,
   "metadata": {
    "colab": {
     "base_uri": "https://localhost:8080/",
     "height": 108
    },
    "colab_type": "code",
    "id": "QcbJK91u4GfE",
    "outputId": "6f949fb2-da0a-424e-af56-17c26a1f31cf"
   },
   "outputs": [
    {
     "name": "stderr",
     "output_type": "stream",
     "text": [
      "/usr/local/lib/python3.6/dist-packages/sklearn/discriminant_analysis.py:463: ChangedBehaviorWarning: n_components cannot be larger than min(n_features, n_classes - 1). Using min(n_features, n_classes - 1) = min(14, 2 - 1) = 1 components.\n",
      "  ChangedBehaviorWarning)\n",
      "/usr/local/lib/python3.6/dist-packages/sklearn/discriminant_analysis.py:469: FutureWarning: In version 0.23, setting n_components > min(n_features, n_classes - 1) will raise a ValueError. You should set n_components to None (default), or a value smaller or equal to min(n_features, n_classes - 1).\n",
      "  warnings.warn(future_msg, FutureWarning)\n"
     ]
    }
   ],
   "source": [
    "# treinando o algoritmo para que ele consiga identificar padrões na base de dados\n",
    "# reduzindo para 6 campos de dados\n",
    "previsores_treinamento = lda.fit_transform(previsores_treinamento, classe_treinamento)"
   ]
  },
  {
   "cell_type": "code",
   "execution_count": 16,
   "metadata": {
    "colab": {},
    "colab_type": "code",
    "id": "HE7j2HVr4GfO"
   },
   "outputs": [],
   "source": [
    "# reduzindo para 6 campos de dados\n",
    "previsores_teste = lda.transform(previsores_teste)"
   ]
  },
  {
   "cell_type": "code",
   "execution_count": 17,
   "metadata": {
    "colab": {
     "base_uri": "https://localhost:8080/",
     "height": 35
    },
    "colab_type": "code",
    "id": "J_0KMBBq4Gfc",
    "outputId": "61418878-d658-4b23-c5f2-4d0cde988c1c"
   },
   "outputs": [
    {
     "name": "stdout",
     "output_type": "stream",
     "text": [
      "(27676, 1)\n"
     ]
    }
   ],
   "source": [
    "# visualizando a dimensão de 'previsores_treinamento'\n",
    "print(previsores_treinamento.shape)"
   ]
  },
  {
   "cell_type": "code",
   "execution_count": 18,
   "metadata": {
    "colab": {
     "base_uri": "https://localhost:8080/",
     "height": 35
    },
    "colab_type": "code",
    "id": "eD78GZGC4Gfl",
    "outputId": "d3f2c192-03d5-49b0-bcb2-55cb9f548942"
   },
   "outputs": [
    {
     "name": "stdout",
     "output_type": "stream",
     "text": [
      "(4885, 1)\n"
     ]
    }
   ],
   "source": [
    "# visualizando a dimensão de 'previsores_teste'\n",
    "print(previsores_teste.shape)"
   ]
  },
  {
   "cell_type": "markdown",
   "metadata": {
    "colab_type": "text",
    "id": "dC4UHY3O4Gft"
   },
   "source": [
    "Observe que antes existia 14 campos de dados, agora foram reduzidos para 1."
   ]
  },
  {
   "cell_type": "markdown",
   "metadata": {
    "colab_type": "text",
    "id": "eoDwWw3G4Gfv"
   },
   "source": [
    "### Alguma Dúvida? Entre em Contato Comigo:"
   ]
  },
  {
   "cell_type": "markdown",
   "metadata": {
    "colab_type": "text",
    "id": "Z8UaHd6W4Gfy"
   },
   "source": [
    "- [Me envie um e-mail](mailto:alysson.barbosa@ee.ufcg.edu.br);"
   ]
  }
 ],
 "metadata": {
  "colab": {
   "collapsed_sections": [],
   "name": "Untitled-Copy2.ipynb",
   "provenance": [],
   "toc_visible": true
  },
  "kernelspec": {
   "display_name": "Python 3",
   "language": "python",
   "name": "python3"
  },
  "language_info": {
   "codemirror_mode": {
    "name": "ipython",
    "version": 3
   },
   "file_extension": ".py",
   "mimetype": "text/x-python",
   "name": "python",
   "nbconvert_exporter": "python",
   "pygments_lexer": "ipython3",
   "version": "3.7.4"
  }
 },
 "nbformat": 4,
 "nbformat_minor": 4
}
