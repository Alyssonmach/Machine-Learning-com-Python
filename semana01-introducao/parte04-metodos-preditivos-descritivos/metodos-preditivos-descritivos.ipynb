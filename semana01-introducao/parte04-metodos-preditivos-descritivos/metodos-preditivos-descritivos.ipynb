{
 "cells": [
  {
   "cell_type": "markdown",
   "metadata": {},
   "source": [
    "# Métodos Preditivos e Descritivos"
   ]
  },
  {
   "cell_type": "markdown",
   "metadata": {},
   "source": [
    "Para se resolver algum problema usando inteligência artificial, devemos primeiro analisar qual método seria mais eficaz na abordagem do tal problema. A partir disso, podemos imaginar que há diversos métodos para se desenvolver IAs, tais quais podem ser classificados como **Preditivas** ou **Descritivas**."
   ]
  },
  {
   "cell_type": "markdown",
   "metadata": {},
   "source": [
    "Veja abaixo um sumário com os principais métodos usados."
   ]
  },
  {
   "cell_type": "markdown",
   "metadata": {},
   "source": [
    "<table>\n",
    "    <tr>\n",
    "        <td><b>Métodos Preditivos</b></td>\n",
    "        <td><b>Métodos Descritivos</b></td>\n",
    "    </tr>\n",
    "    <tr>\n",
    "        <td>Método de Classificação</td>\n",
    "        <td>Método de Associação</td>\n",
    "    </tr>\n",
    "    <tr>\n",
    "        <td>Método de Regressão</td>\n",
    "        <td>Método de Agrupamento</td>\n",
    "    </tr>\n",
    "    <tr>\n",
    "        <td><none/></td>\n",
    "        <td>Método de Detecção de Desvios</td>\n",
    "    </tr>\n",
    "    <tr>\n",
    "        <td><none/></td>\n",
    "        <td>Método de Padrões Sequenciais</td>\n",
    "    </tr>\n",
    "    <tr>\n",
    "        <td><none/></td>\n",
    "        <td>Método de Sumarização</td>\n",
    "    </tr>\n",
    "</table>"
   ]
  },
  {
   "cell_type": "markdown",
   "metadata": {},
   "source": [
    "### Método Preditivo"
   ]
  },
  {
   "cell_type": "markdown",
   "metadata": {},
   "source": [
    "O método preditivo, como o própio nome entrega, trata-se da ideia de fazer alguma previsão sobre um evento futuro, baseado em um conjunto de atributos."
   ]
  },
  {
   "cell_type": "markdown",
   "metadata": {},
   "source": [
    "- **Classificação**: define uma classe para cada um dos registros, analisando se um elemento é isso ou é aquilo. Como exemplo, temos o seu uso em marketing direto, em que é posível classificar se o usuário vai ou não comprar certos produtos; podemos usar o método de classificação para perceber se o comprador vai estar satisfeito ou não com um determinado produto ou marca; usado também em risco de crédito, dado que se algum fator financeiro possa ser de risco ou não para se investir, como os empréstimos; possibilita classificar um e-mail, através do filtro de SPAM, analisando se um ele é caracterizado como SPAM ou não; garante a  separação e a classificação de notícias, se ela pertence ou não a uma determinada categoria; usado no reconhecimento de voz, se a voz é de uma pessoa ou não (mecanismo presente na Siri da Apple); usado em reconhecimento facial e várias outras aplicações."
   ]
  },
  {
   "cell_type": "markdown",
   "metadata": {},
   "source": [
    "- **Regressão**: não possui classes, como a classificação, mas é responsável por fazer a previsão de valores numéricos. Por exemplo: Gastos com propaganda para prever o valor da venda; uso de dados meteorológicos para prever a velocidade do vento; fatores econômicos externos para prever o valor do dólar, resultado do exame para saber a probabilidade do paciente viver; risco em investimentos financeiros, se um investimento tem chances de ser de risco ou não; histórico de gastos no cartão de crédito para prever o seu limite, entre vários outros."
   ]
  },
  {
   "cell_type": "markdown",
   "metadata": {},
   "source": [
    "### Método Descritivo"
   ]
  },
  {
   "cell_type": "markdown",
   "metadata": {},
   "source": [
    "O nome desse método também é bastante revelador, trata-se da ideia de descrever determinados objetos de acordo com os seus comportamentos."
   ]
  },
  {
   "cell_type": "markdown",
   "metadata": {},
   "source": [
    "- **Associação**: visa encontrar associação entre objetos ou elementos. Por exemplo, organização de prateleiras de mercado para otimizar a vendar de produtos; promoção com itens que são vendidos em conjunto, visando planejar catálogos das lojas e folhetos de promoções; controle de evasão em universidades através de fatores diferentes que juntos podem levar o aluno a evadir."
   ]
  },
  {
   "cell_type": "markdown",
   "metadata": {},
   "source": [
    "- **Agrupamento**: analisar os dados visando encontrar grupos. Por exemplo, segmentação de mercado para focar o marketing em compradores potenciais para determinados produtos; agrupamento de documentos e notícias; análise das redes sociais para encontrar usuários influentes, entre vários outros exemplos."
   ]
  },
  {
   "cell_type": "markdown",
   "metadata": {},
   "source": [
    "- **Detecção de desvios (outliers)**: identifica elementos que fogem do padrão. Por exemplo, identificar fraude em cartão de crédito para impedir compras fora do padrão do usuário; intrusão em redes; uso de energia elétrica, água ou telefone; desempenho de atletas (doping), visando encontrar quando o atleta foge de algum padrão que ele mantinha no seu histórico; monitoriar máquinas em um data center, visando encontrar máquinas que não estão trabalhando normalmente."
   ]
  },
  {
   "cell_type": "markdown",
   "metadata": {},
   "source": [
    "- **Descoberta de padrões sequenciais**: identifica padrões sucessivos, em que um padrão pode estar relacionado com outro. Por exemplo nas livrarias, lojas de equipamentos, de atletismo e computadores, esse método é usado para fazer marketing direcionado para pessoas que tem mais chance de adquirir um novo produto, baseado em suas compras passadas, e vários outros exemplos."
   ]
  },
  {
   "cell_type": "markdown",
   "metadata": {},
   "source": [
    "- **Sumarização**: resumir um dado maior, mas sem perder os principais dados. Por exemplo, através de um perfil completo de um usuário armazenado no banco de dados de uma determinada empresa, podemos extrair as informações chaves desse usuário."
   ]
  },
  {
   "cell_type": "markdown",
   "metadata": {},
   "source": [
    "### Alguma dúvida? Entre em contato comigo:"
   ]
  },
  {
   "cell_type": "markdown",
   "metadata": {},
   "source": [
    "- [Me envie um e-mail](mailto:alysson.barbosa@ee.ufcg.edu.br)"
   ]
  }
 ],
 "metadata": {
  "kernelspec": {
   "display_name": "Python 3",
   "language": "python",
   "name": "python3"
  },
  "language_info": {
   "codemirror_mode": {
    "name": "ipython",
    "version": 3
   },
   "file_extension": ".py",
   "mimetype": "text/x-python",
   "name": "python",
   "nbconvert_exporter": "python",
   "pygments_lexer": "ipython3",
   "version": "3.7.4"
  }
 },
 "nbformat": 4,
 "nbformat_minor": 4
}
