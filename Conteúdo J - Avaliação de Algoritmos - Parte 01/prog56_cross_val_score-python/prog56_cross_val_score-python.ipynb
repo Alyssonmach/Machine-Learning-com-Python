{
 "cells": [
  {
   "cell_type": "markdown",
   "metadata": {},
   "source": [
    "# Obtendo precisões de acertos reais do algoritmo\n",
    "#### Usando o método 'cross_valo_score' de validação cruzada na base de dados para visualizar a precisão de acertos do algoritmo."
   ]
  },
  {
   "cell_type": "markdown",
   "metadata": {},
   "source": [
    "### Pré-processamento da base de dados"
   ]
  },
  {
   "cell_type": "code",
   "execution_count": 1,
   "metadata": {},
   "outputs": [],
   "source": [
    "# importando a biblioteca pandas do python\n",
    "import pandas as pd\n",
    "\n",
    "# importando a base de dados para o objeto \"dataframe\"\n",
    "dataframe = pd.read_csv('Dados de Credito.csv', encoding = 'utf-8', sep = ',')\n",
    "\n",
    "# substituindo valores inconsistentes no campo idades pela média das idades consistentes\n",
    "dataframe.loc[dataframe.age < 0, 'age'] = 40.92\n",
    "\n",
    "# separando os atributos previsores do meta classe\n",
    "previsores = dataframe.iloc[:, 1:4].values\n",
    "classe = dataframe.iloc[:, 4].values\n",
    "\n",
    "# importando a biblioteca sklearn do python\n",
    "from sklearn.impute import SimpleImputer\n",
    "# função \"SimpleImputer\" responsável por corrigir valores faltantes na base de dados\n",
    "\n",
    "# importando a biblioteca numpy do python\n",
    "import numpy as np\n",
    "\n",
    "# criando o objeto \"imputer\"\n",
    "imputer = SimpleImputer(missing_values = np.nan, strategy = \"mean\")\n",
    "\n",
    "# fazendo o treinamento com a base de dados para correção de valores faltantes\n",
    "imputer = imputer.fit(previsores[:,0:3])\n",
    "\n",
    "# corrigindo os valores faltantes usando o objeto criado \"imputer\"\n",
    "previsores[:, 0:3] = imputer.transform(previsores[:, 0:3])\n",
    "\n",
    "# importando a biblioteca sklearn do python\n",
    "from sklearn.preprocessing import StandardScaler\n",
    "# a função \"StandardScaler\" tem a função de escalonas toda a base de dados para corrigir a discrepância\n",
    "# dos valores\n",
    "\n",
    "# criando o objeto \"scaler\"\n",
    "scaler = StandardScaler()\n",
    "\n",
    "# escalonando todos os atributos para auxiliar no cálculo de distâncias euclidianas\n",
    "previsores = scaler.fit_transform(previsores)"
   ]
  },
  {
   "cell_type": "markdown",
   "metadata": {},
   "source": [
    "> Nesse caso, não será preciso separar a base de testes em um modelo de treinamento e outro de teste. O própio algoritmo irá fazer isso automaticamente em N porções informadas, usando diversos testes com essas porções."
   ]
  },
  {
   "cell_type": "markdown",
   "metadata": {},
   "source": [
    "### 'cross_val_score' no python"
   ]
  },
  {
   "cell_type": "markdown",
   "metadata": {},
   "source": [
    "Para testar esse modelo de validação cruzada, vamos usar o algoritmo naive bayes para fazer a previsão na base de dados, dado que a execução é mais rápida. Entretanto, qualquer algoritmo de Machine Learning pode ser usado."
   ]
  },
  {
   "cell_type": "code",
   "execution_count": 2,
   "metadata": {},
   "outputs": [],
   "source": [
    "# importando a biblioteca sklearn do python\n",
    "from sklearn.model_selection import cross_val_score\n",
    "# 'cross_val_score' aplica o método de validação cruzada que possui esse mesmo nome\n",
    "\n",
    "# importando a biblioteca sklearn do python\n",
    "from sklearn.naive_bayes import GaussianNB\n",
    "# 'GaussianNB' aplica o método do algoritmo naive bayes na base de dados"
   ]
  },
  {
   "cell_type": "code",
   "execution_count": 3,
   "metadata": {},
   "outputs": [],
   "source": [
    "# criando o objeto 'classificador' responsável por gerar a tabela de probabilidades para a base de dados\n",
    "classificador = GaussianNB()"
   ]
  },
  {
   "cell_type": "code",
   "execution_count": 5,
   "metadata": {},
   "outputs": [],
   "source": [
    "# realizando a validação cruzada pelo método 'cross_val_score'\n",
    "resultados = cross_val_score(classificador, previsores, classe, cv = 10) \n",
    "# 'cv' indica o quanto a tabela de dados será fracionada no método 'cross_val_score'"
   ]
  },
  {
   "cell_type": "code",
   "execution_count": 7,
   "metadata": {},
   "outputs": [
    {
     "name": "stdout",
     "output_type": "stream",
     "text": [
      "[0.905 0.92  0.955 0.92  0.91  0.96  0.93  0.92  0.89  0.93 ]\n"
     ]
    }
   ],
   "source": [
    "# visualizado a precisão de acertos obtidas em cada um dos fracionamentos feitos na base de dados\n",
    "print(resultados)"
   ]
  },
  {
   "cell_type": "code",
   "execution_count": 8,
   "metadata": {},
   "outputs": [
    {
     "data": {
      "text/plain": [
       "0.924"
      ]
     },
     "execution_count": 8,
     "metadata": {},
     "output_type": "execute_result"
    }
   ],
   "source": [
    "# observando um resultado geral para a base de dados usando a média dos dados\n",
    "resultados.mean()"
   ]
  },
  {
   "cell_type": "markdown",
   "metadata": {},
   "source": [
    "Desse modo, é mais preciso dizer que a porcentagem de acertos pelo algoritmo com a base de dados usada é **92.4%**, pois é um valor mais preciso do que usar um modelo somente para teste."
   ]
  },
  {
   "cell_type": "code",
   "execution_count": 9,
   "metadata": {},
   "outputs": [
    {
     "data": {
      "text/plain": [
       "0.020223748416156664"
      ]
     },
     "execution_count": 9,
     "metadata": {},
     "output_type": "execute_result"
    }
   ],
   "source": [
    "# observando o quanto os dados se desviaram dos valores necessários de serem obtidos\n",
    "resultados.std()"
   ]
  },
  {
   "cell_type": "markdown",
   "metadata": {},
   "source": [
    "Com o desvio padrão, é possível visualizar o quão os dados obtidos estão distantes do resultado correto, quanto maior for o valor obtido, mais inconsistente é a precisão do algoritmo para uma determinada base de dados."
   ]
  },
  {
   "cell_type": "markdown",
   "metadata": {},
   "source": [
    "### Alguma dúvida? Entre em contato comigo:"
   ]
  },
  {
   "cell_type": "markdown",
   "metadata": {},
   "source": [
    "- [Me envie um e-mail](mailto:alyssonmachado388@gmail.com);"
   ]
  }
 ],
 "metadata": {
  "kernelspec": {
   "display_name": "Python 3",
   "language": "python",
   "name": "python3"
  },
  "language_info": {
   "codemirror_mode": {
    "name": "ipython",
    "version": 3
   },
   "file_extension": ".py",
   "mimetype": "text/x-python",
   "name": "python",
   "nbconvert_exporter": "python",
   "pygments_lexer": "ipython3",
   "version": "3.7.4"
  }
 },
 "nbformat": 4,
 "nbformat_minor": 4
}
