{
 "cells": [
  {
   "cell_type": "markdown",
   "metadata": {},
   "source": [
    "# Regressão Linear\n",
    "#### Entendendo como funciona o algoritmo de Machine Learning Regressão Linear."
   ]
  },
  {
   "cell_type": "markdown",
   "metadata": {},
   "source": [
    "![regressao-linear](Imagens/regressao-linear.jpg)"
   ]
  },
  {
   "cell_type": "markdown",
   "metadata": {},
   "source": [
    "O algoritmo de **Regressão Linear** é diferente de todos os outros que já foram vistos até agora, pois ao invés de tentar predizer se um determinado dado se encaixa ou não em uma determinada classe, será realizando a **aproximação** númerica para os dados."
   ]
  },
  {
   "cell_type": "markdown",
   "metadata": {},
   "source": [
    "Sobre linearidade ou não linearidade, para o primeiro caso a aproximação numérica tende a ser excelente, pois o algoritmo pode se adaptar perfeitamento aos dados, de modo a descrevê-los com exatidão. Para problemas não lineares, a aproximação numérica tende a ser regressiva, de modo a fazer uma estimativa numérica para cada dado."
   ]
  },
  {
   "cell_type": "markdown",
   "metadata": {},
   "source": [
    "A modelagem da relação entre variáveis numéricas é feita através de variáveis dependentes **y** e variáveis explanatórias **x**, de modo que os dados possam ser representados cartesianamente como a figura acima. Para entender esse problema melhor, há os seguintes exemplos:"
   ]
  },
  {
   "cell_type": "markdown",
   "metadata": {},
   "source": [
    "- Temperatura, Umidade, Pressão do Ar (x) -> Velocidade do Vento (y);\n",
    "- Gastos no cartão de crédito, históricos (x) -> Limite do Cartão (y);\n",
    "- Idade(x) -> Custo no plano de saúde (y);"
   ]
  },
  {
   "cell_type": "markdown",
   "metadata": {},
   "source": [
    "Sobre como o algoritmo constrói um modelo linear, o valor númerico aproximado **y** para cada dado é expressado pelo seguinte modelo matemático (equação da reta):"
   ]
  },
  {
   "cell_type": "markdown",
   "metadata": {},
   "source": [
    "$y = b_{0} + b_{1} * x_{1}$"
   ]
  },
  {
   "cell_type": "markdown",
   "metadata": {},
   "source": [
    "Em que essa linha será traçada seguindo a linearidade dos dados. A etapa do treinamento do algoritmo é constituida em encontrar os melhores parâmetros para que a linha se encaixe bem no dados. Tais parâmetros são $b_{0}$, que é uma constante, e $b_{1}$ que é o coeficiente."
   ]
  },
  {
   "cell_type": "markdown",
   "metadata": {},
   "source": [
    "Além disso, o método que a regressão linear usa para avaliar se a reta modelada está bem ajustada é através do cálculo do erro (**Mean Square Error**), esse que já foi discutido em outros algoritmos e possui o seguinte formato matemático:"
   ]
  },
  {
   "cell_type": "markdown",
   "metadata": {},
   "source": [
    "$MSE = \\frac{1}{n}\\sum_{i = 1}^{n}({f_{i} - y_{i})^{2}}$"
   ]
  },
  {
   "cell_type": "markdown",
   "metadata": {},
   "source": [
    "O erro é obtido através do valor médio do **MSE** de todos os dados analisados, em que $f_{i}$ é o resultado obtido pelo algoritmo e $y_{i}$ é o resultado ideial fornecido pelos atributos meta. Observando bem a equação do **MSE** é simples entender que quanto mais próximo um dado está da reta, menor é o valor do erro, e quanto mais distante esse dado estiver da reta, maior é o valor do erro. Quando o valor médio do erro estiver abaixo de um limiar definido, o modelo de regressão linear estará pronto."
   ]
  },
  {
   "cell_type": "markdown",
   "metadata": {},
   "source": [
    "### Formas de Ajustar os Parâmetros"
   ]
  },
  {
   "cell_type": "markdown",
   "metadata": {},
   "source": [
    "- Design Matrix (**Álgebra Linear**):  \n",
    "> - Base de dados com poucos atributos;  \n",
    "> - Inversão de matrizes que tem um custo computacional alto;  \n",
    "\n",
    "- Gradient Descent (**Descida do gradiente**):  \n",
    "> - Desempenho melhor com muitos atributos;"
   ]
  },
  {
   "cell_type": "markdown",
   "metadata": {},
   "source": [
    "### Regressão Linear Múltipla"
   ]
  },
  {
   "cell_type": "markdown",
   "metadata": {},
   "source": [
    "É possível aplicar múltiplos modelos de regressão linear, nos exemplos posteriores será mostrado essa aplicação. Abaixo é possível ver como o valor **y** é modelado matematicamente:"
   ]
  },
  {
   "cell_type": "markdown",
   "metadata": {},
   "source": [
    "$y = b_{0} + b_{1} * x_{1} + b_{2} * x_{2} + ... + b_{n} * x_{n}$"
   ]
  },
  {
   "cell_type": "markdown",
   "metadata": {},
   "source": [
    "### Alguma Dúvida? Entre em Contato Comigo:"
   ]
  },
  {
   "cell_type": "markdown",
   "metadata": {},
   "source": [
    "- [Me envie um e-mail](mailto:alysson.barbosa@ee.ufcg.edu.br);"
   ]
  }
 ],
 "metadata": {
  "kernelspec": {
   "display_name": "Python 3",
   "language": "python",
   "name": "python3"
  },
  "language_info": {
   "codemirror_mode": {
    "name": "ipython",
    "version": 3
   },
   "file_extension": ".py",
   "mimetype": "text/x-python",
   "name": "python",
   "nbconvert_exporter": "python",
   "pygments_lexer": "ipython3",
   "version": "3.7.4"
  }
 },
 "nbformat": 4,
 "nbformat_minor": 4
}
