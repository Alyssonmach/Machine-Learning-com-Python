{
 "cells": [
  {
   "cell_type": "markdown",
   "metadata": {},
   "source": [
    "# Tipos de Variáveis"
   ]
  },
  {
   "cell_type": "markdown",
   "metadata": {},
   "source": [
    "Quando estamos lidando com uma base de dados, as informações geralmente são agrupadas em tabelas. Em que as colunas representam pacotes de informação e cada linha seria os campos de dados relativos a cada um dos usuários. Além disso, devemos ficar atentos aos tipos de variáveis em que cada grupo de informações é armazenado, pois para fazer o pré-processamento dos mesmos devemos estar consoante com esses dados, visando evitar erros lógicos em nosso algoritmo via aprendizado de máquina. Dessa forma, ter uma boa base de dados e saber lidar com elas será de grande utilizada para qualidade do algoritmo."
   ]
  },
  {
   "cell_type": "markdown",
   "metadata": {},
   "source": [
    "### Tipos de Variáveis Númericas"
   ]
  },
  {
   "cell_type": "markdown",
   "metadata": {},
   "source": [
    "- **Contínua**: Números reais (float);\n",
    "- **Discreta**: Conjunto de valores finito (inteiros);\n"
   ]
  },
  {
   "cell_type": "markdown",
   "metadata": {},
   "source": [
    "### Tipos de Variáveis Categóricas (string)"
   ]
  },
  {
   "cell_type": "markdown",
   "metadata": {},
   "source": [
    "- **Nominal**: Dados não mensuráveis, sem ordenação;\n",
    "- **Ordinal**: Categorizado através de uma ordenação;"
   ]
  },
  {
   "cell_type": "markdown",
   "metadata": {},
   "source": [
    "### Alguma dúvida? Entre em contato comigo:"
   ]
  },
  {
   "cell_type": "markdown",
   "metadata": {},
   "source": [
    "- [Me Envie um E-mail](mailto:alysson.barbosa@ee.ufcg.edu.br);"
   ]
  }
 ],
 "metadata": {
  "kernelspec": {
   "display_name": "Python 3",
   "language": "python",
   "name": "python3"
  },
  "language_info": {
   "codemirror_mode": {
    "name": "ipython",
    "version": 3
   },
   "file_extension": ".py",
   "mimetype": "text/x-python",
   "name": "python",
   "nbconvert_exporter": "python",
   "pygments_lexer": "ipython3",
   "version": "3.7.4"
  }
 },
 "nbformat": 4,
 "nbformat_minor": 4
}
