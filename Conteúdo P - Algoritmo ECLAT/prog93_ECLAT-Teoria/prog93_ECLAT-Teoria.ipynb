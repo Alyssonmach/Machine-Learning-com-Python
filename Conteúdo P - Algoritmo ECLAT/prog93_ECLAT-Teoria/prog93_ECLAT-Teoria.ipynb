{
 "cells": [
  {
   "cell_type": "markdown",
   "metadata": {},
   "source": [
    "# Algoritmo ECLAT\n",
    "#### Entenda o algoritmo ECLAT, uma versão simplificada do algoritmo apriori."
   ]
  },
  {
   "cell_type": "markdown",
   "metadata": {},
   "source": [
    "- Versão simplificada do algoritmo apriori;\n",
    "- Apriori gera regras e a importância das regras pode ser medida pela confiança e pelo lift;\n",
    "- ECLAT utiliza somente o suporte (conjunto de itens);\n",
    "- Algoritmo:  \n",
    "    > Definir o Suporte;  \n",
    "    > Extrair o conjunto de itens que tem o suporte mínimo;  \n",
    "    > Ordenar os dados de acordo com o suporte;  "
   ]
  },
  {
   "cell_type": "markdown",
   "metadata": {},
   "source": [
    "![eclat-teoria](Imagens/eclat-teoria.jpg)"
   ]
  },
  {
   "cell_type": "markdown",
   "metadata": {},
   "source": [
    "### Alguma Dúvida? Entre em Contato Comigo: "
   ]
  },
  {
   "cell_type": "markdown",
   "metadata": {},
   "source": [
    "- [Me envie um e-mail](mailto:alyssonmachado388@gmail.com);"
   ]
  }
 ],
 "metadata": {
  "kernelspec": {
   "display_name": "Python 3",
   "language": "python",
   "name": "python3"
  },
  "language_info": {
   "codemirror_mode": {
    "name": "ipython",
    "version": 3
   },
   "file_extension": ".py",
   "mimetype": "text/x-python",
   "name": "python",
   "nbconvert_exporter": "python",
   "pygments_lexer": "ipython3",
   "version": "3.7.4"
  }
 },
 "nbformat": 4,
 "nbformat_minor": 4
}
