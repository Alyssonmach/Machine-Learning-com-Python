{
 "cells": [
  {
   "cell_type": "markdown",
   "metadata": {},
   "source": [
    "# Regressão Logística com Python\n",
    "### Aplicando o algoritmo de classificação usando o método de regressão logística para uma base de dados do censo."
   ]
  },
  {
   "cell_type": "markdown",
   "metadata": {},
   "source": [
    "#### Pré-processamento da base de dados"
   ]
  },
  {
   "cell_type": "code",
   "execution_count": 15,
   "metadata": {},
   "outputs": [],
   "source": [
    "# importando a biblioteca pandas do python\n",
    "import pandas as pd\n",
    "\n",
    "# atribuindo os registros da base de dados para o objeto \"dataframe\"\n",
    "dataframe = pd.read_csv('census.csv', encoding = 'utf-8', sep = ',')\n",
    "\n",
    "# separando os atributos previsores e classe \n",
    "previsores = dataframe.iloc[:, 0:14].values\n",
    "classe = dataframe.iloc[:, 14].values\n",
    "\n",
    "# importando a biblioteca sklearn do python\n",
    "from sklearn.preprocessing import LabelEncoder, OneHotEncoder\n",
    "# LabelEncoder é uma função responsável por  normalizar rótulos\n",
    "# o objetivo é transoformar variáveis categóricas em numéricas\n",
    "# função \"OneHotEncoder\" responsável por fazer a trasnformação em variáveis \"dummy\"\n",
    "\n",
    "# importando a biblioteca sklearn do python\n",
    "from sklearn.compose import ColumnTransformer\n",
    "# função \"ColumnTransformer\" responsável por definir quais colunas o objeto irá agir na alteração\n",
    "\n",
    "# criando o objeto \"labelencoder_previsores\" para fazer a transformação dos atributos categóricos em numéricos\n",
    "labelencoder_previsores = LabelEncoder()\n",
    "\n",
    "# aplicando a transformação em todos os campos de dados categóricos usando o objeto criado e definido \n",
    "# \"LabelEncoder_previsores\"\n",
    "previsores[:,1] = labelencoder_previsores.fit_transform(previsores[:,1])\n",
    "previsores[:,3] = labelencoder_previsores.fit_transform(previsores[:,3])\n",
    "previsores[:,5] = labelencoder_previsores.fit_transform(previsores[:,5])\n",
    "previsores[:,6] = labelencoder_previsores.fit_transform(previsores[:,6])\n",
    "previsores[:,7] = labelencoder_previsores.fit_transform(previsores[:,7])\n",
    "previsores[:,8] = labelencoder_previsores.fit_transform(previsores[:,8])\n",
    "previsores[:,9] = labelencoder_previsores.fit_transform(previsores[:,9])\n",
    "previsores[:,13] = labelencoder_previsores.fit_transform(previsores[:,13])\n",
    "\n",
    "# criando e configurando o objeto onehotencoder\n",
    "onehotencoder = ColumnTransformer(transformers = [('OneHot', OneHotEncoder(), [1,3,5,6,7,8,9,13])], \n",
    "                                  remainder = 'passthrough')\n",
    "\n",
    "# transformando os atributos previsores em variáveis do tipo \"dummy\"\n",
    "previsores = onehotencoder.fit_transform(previsores).toarray()\n",
    "\n",
    "# importando a biblioteca sklearn do python\n",
    "from sklearn.preprocessing import StandardScaler\n",
    "\n",
    "# criando e configurando o objeto \"scaler\"\n",
    "scaler = StandardScaler()\n",
    "\n",
    "# aplicando o escaolonamento nos atributos previsores\n",
    "previsores = scaler.fit_transform(previsores)\n",
    "\n",
    "# importando a biblioteca sklearn do python\n",
    "from sklearn.model_selection import train_test_split\n",
    "# a função \"train_test_split\" tem a função de separar modelos de treinamento e modelos de teste em uma base \n",
    "#de dados\n",
    "\n",
    "# separando as bases de dados entre modelos de treinamento e modelos de teste\n",
    "previsores_treinamento, previsores_teste, classe_treinamento, classe_teste = train_test_split(previsores, \n",
    "                                                                                             classe,\n",
    "                                                                                             test_size = 0.15, \n",
    "                                                                                             random_state = 0)"
   ]
  },
  {
   "cell_type": "markdown",
   "metadata": {},
   "source": [
    "> **OBS**: esse foi o pré-processamento com resultados mais satisfatórios para essa base de dados."
   ]
  },
  {
   "cell_type": "markdown",
   "metadata": {},
   "source": [
    "#### Regressão Logística com Python"
   ]
  },
  {
   "cell_type": "code",
   "execution_count": 16,
   "metadata": {},
   "outputs": [],
   "source": [
    "# importando a biblioteca sklearn do python\n",
    "from sklearn.linear_model import LogisticRegression\n",
    "# a função 'LogisticRegression' é a responsável por aplicar o método de regressão linear no algoritmo"
   ]
  },
  {
   "cell_type": "code",
   "execution_count": 17,
   "metadata": {},
   "outputs": [],
   "source": [
    "# criando o objeto 'classificador' para conseguir encontrar a melhor curva sigmoidal possível com a base de \n",
    "# dados em questão\n",
    "classificador = LogisticRegression()"
   ]
  },
  {
   "cell_type": "code",
   "execution_count": 18,
   "metadata": {},
   "outputs": [
    {
     "data": {
      "text/plain": [
       "LogisticRegression(C=1.0, class_weight=None, dual=False, fit_intercept=True,\n",
       "                   intercept_scaling=1, l1_ratio=None, max_iter=100,\n",
       "                   multi_class='auto', n_jobs=None, penalty='l2',\n",
       "                   random_state=None, solver='lbfgs', tol=0.0001, verbose=0,\n",
       "                   warm_start=False)"
      ]
     },
     "execution_count": 18,
     "metadata": {},
     "output_type": "execute_result"
    }
   ],
   "source": [
    "# aplicando o treinamento com a base de dados armazenada no objeto 'dataframe'\n",
    "classificador.fit(previsores, classe)"
   ]
  },
  {
   "cell_type": "code",
   "execution_count": 19,
   "metadata": {},
   "outputs": [
    {
     "name": "stdout",
     "output_type": "stream",
     "text": [
      "[-2.10016648]\n"
     ]
    }
   ],
   "source": [
    "# visualizando o parâmetro b0\n",
    "print(classificador.intercept_)"
   ]
  },
  {
   "cell_type": "code",
   "execution_count": 20,
   "metadata": {},
   "outputs": [
    {
     "name": "stdout",
     "output_type": "stream",
     "text": [
      "[[-6.64661373e-02  1.06870272e-01 -1.29004721e-02 -7.96492534e-02\n",
      "   5.96165019e-02  5.54886408e-02 -9.66775007e-02 -3.53798046e-02\n",
      "  -1.47246962e-01 -8.99841467e-02 -1.11358466e-01 -3.85900067e-02\n",
      "  -3.55273844e-02 -3.48729509e-02 -1.01379356e-01 -7.34902055e-02\n",
      "  -1.17147923e-02  1.90254838e-02  1.44889981e-01  1.13312269e-01\n",
      "  -7.34381962e-02  1.34304472e-01 -4.74479358e-01  1.26534365e-01\n",
      "   1.86096732e-02 -2.27004905e-01  5.30622265e-02  7.56693492e-01\n",
      "  -7.56941822e-02 -5.36947586e-01 -1.38749251e-01 -9.16652604e-02\n",
      "  -7.14006359e-02 -7.59221435e-03 -1.98223996e-02  1.60328227e-02\n",
      "   2.52157693e-01 -1.74669375e-01 -1.41062792e-01 -7.33889786e-02\n",
      "  -2.55739470e-01 -2.75013494e-01  1.63812281e-01  7.72291939e-02\n",
      "   8.12226508e-02  1.05149597e-01 -2.87921524e-02 -6.98611675e-02\n",
      "   1.74757185e-01 -9.02521506e-02 -2.98034254e-01  8.36462390e-02\n",
      "   2.60913910e-01 -4.75952732e-02  3.06591828e-02 -2.84212910e-02\n",
      "  -2.87795567e-02  2.89817310e-02 -2.02425904e-01  2.02425904e-01\n",
      "  -1.80368845e-02  3.24815041e-02  2.31720012e-02 -3.08111186e-02\n",
      "  -8.76876882e-02  2.14390388e-02 -8.22737738e-02 -6.73553565e-03\n",
      "  -3.17125467e-02  1.88873442e-02  1.90280425e-02  3.12851608e-02\n",
      "  -2.77852972e-02 -8.85183071e-03 -3.39393943e-05 -2.58425225e-02\n",
      "  -2.42769054e-02 -1.23671650e-03 -1.25065556e-03 -1.79558543e-02\n",
      "   3.52551720e-03  1.58586525e-02  4.05724696e-02  4.55877748e-03\n",
      "   1.93475299e-02 -1.30948158e-02 -6.96041754e-02 -2.42799081e-02\n",
      "  -1.36568222e-01 -2.42439006e-02  3.68855076e-02  1.98451372e-03\n",
      "   5.99359024e-04 -1.67693834e-02  1.05776890e-03 -5.03770385e-02\n",
      "   3.47911557e-03 -1.21117760e-02 -8.07875196e-03  7.49799529e-02\n",
      "  -4.95570027e-02  1.62959939e-02  3.47843405e-01  7.46103496e-02\n",
      "   3.69452203e-01  2.34378932e+00  2.60585651e-01  3.66557120e-01]]\n"
     ]
    }
   ],
   "source": [
    "# visualizando os parâmetros obtidos para cada um dos campos de dados\n",
    "print(classificador.coef_)"
   ]
  },
  {
   "cell_type": "markdown",
   "metadata": {},
   "source": [
    "#### testando a capacidade de predição do algoritmo"
   ]
  },
  {
   "cell_type": "code",
   "execution_count": 21,
   "metadata": {},
   "outputs": [],
   "source": [
    "# visualizando a predição para os previsores teste\n",
    "resultado = classificador.predict(previsores_teste)"
   ]
  },
  {
   "cell_type": "code",
   "execution_count": 22,
   "metadata": {},
   "outputs": [
    {
     "name": "stdout",
     "output_type": "stream",
     "text": [
      "[' <=50K' ' <=50K' ' <=50K' ... ' <=50K' ' <=50K' ' >50K']\n"
     ]
    }
   ],
   "source": [
    "# visualizando a predição para o modelo de teste\n",
    "print(resultado)"
   ]
  },
  {
   "cell_type": "code",
   "execution_count": 23,
   "metadata": {},
   "outputs": [
    {
     "name": "stdout",
     "output_type": "stream",
     "text": [
      "[' <=50K' ' <=50K' ' <=50K' ... ' <=50K' ' <=50K' ' <=50K']\n"
     ]
    }
   ],
   "source": [
    "# visualizando a classe para testes original\n",
    "print(classe_teste)"
   ]
  },
  {
   "cell_type": "code",
   "execution_count": 24,
   "metadata": {},
   "outputs": [],
   "source": [
    "# importando a biblioteca sklearn do python\n",
    "from sklearn.metrics import confusion_matrix, accuracy_score"
   ]
  },
  {
   "cell_type": "code",
   "execution_count": 25,
   "metadata": {},
   "outputs": [],
   "source": [
    "# calculando a porcentagem de acertos do algoritmo\n",
    "precisao = accuracy_score(classe_teste, resultado)"
   ]
  },
  {
   "cell_type": "code",
   "execution_count": 26,
   "metadata": {},
   "outputs": [
    {
     "data": {
      "text/plain": [
       "0.8517911975435005"
      ]
     },
     "execution_count": 26,
     "metadata": {},
     "output_type": "execute_result"
    }
   ],
   "source": [
    "# visualizando a precisão de acertos do algoritmo\n",
    "precisao"
   ]
  },
  {
   "cell_type": "markdown",
   "metadata": {},
   "source": [
    "A precisão de acertos do algoritmo em acertar as classificações foi de **85.18%**."
   ]
  },
  {
   "cell_type": "code",
   "execution_count": 27,
   "metadata": {},
   "outputs": [],
   "source": [
    "# criando a matriz de confusão para analisar a quantidade de acertos e erros\n",
    "matriz = confusion_matrix(classe_teste, resultado)"
   ]
  },
  {
   "cell_type": "code",
   "execution_count": 28,
   "metadata": {},
   "outputs": [
    {
     "name": "stdout",
     "output_type": "stream",
     "text": [
      "[[3432  261]\n",
      " [ 463  729]]\n"
     ]
    }
   ],
   "source": [
    "# visualizando a matriz de confusão\n",
    "print(matriz)"
   ]
  },
  {
   "cell_type": "markdown",
   "metadata": {},
   "source": [
    "Observando a matriz de confusão acima, é possível observar que 3432 dados foram analisados corretamente para as pessoas que recebem menos de 50 mil anualmente, juntamente com 729 pessoas que recebem a mais que isso por ano. Entretanto, 261 dados referentes a pessoas que recebem menos que a quantia analisada foram classificadas indevidamente como se recebessem mais que isso. Além disso, 463 dados referentes a pessoas que recebem mais que a quantia em questão foram classificadas como se recebessem menos."
   ]
  },
  {
   "cell_type": "code",
   "execution_count": 29,
   "metadata": {},
   "outputs": [],
   "source": [
    "# importando a biblioteca collections\n",
    "import collections"
   ]
  },
  {
   "cell_type": "code",
   "execution_count": 30,
   "metadata": {},
   "outputs": [
    {
     "data": {
      "text/plain": [
       "Counter({' <=50K': 3693, ' >50K': 1192})"
      ]
     },
     "execution_count": 30,
     "metadata": {},
     "output_type": "execute_result"
    }
   ],
   "source": [
    "#visualizando a quantidade de registros para cada uma das classe\n",
    "collections.Counter(classe_teste)"
   ]
  },
  {
   "cell_type": "markdown",
   "metadata": {},
   "source": [
    "### Alguma dúvida: Entre em contato comigo:"
   ]
  },
  {
   "cell_type": "markdown",
   "metadata": {},
   "source": [
    "- [Me envie um e-mail](mailto:alysson.barbosa@ee.ufcg.edu.br);"
   ]
  }
 ],
 "metadata": {
  "kernelspec": {
   "display_name": "Python 3",
   "language": "python",
   "name": "python3"
  },
  "language_info": {
   "codemirror_mode": {
    "name": "ipython",
    "version": 3
   },
   "file_extension": ".py",
   "mimetype": "text/x-python",
   "name": "python",
   "nbconvert_exporter": "python",
   "pygments_lexer": "ipython3",
   "version": "3.7.4"
  }
 },
 "nbformat": 4,
 "nbformat_minor": 4
}
