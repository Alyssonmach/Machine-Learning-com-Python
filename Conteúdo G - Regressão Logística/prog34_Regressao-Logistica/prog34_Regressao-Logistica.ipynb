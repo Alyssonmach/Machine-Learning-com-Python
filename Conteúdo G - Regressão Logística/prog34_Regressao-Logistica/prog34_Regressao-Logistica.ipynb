{
 "cells": [
  {
   "cell_type": "markdown",
   "metadata": {},
   "source": [
    "# Regressão Logística\n",
    "#### Entendendo o método de classificação usando regressão logística "
   ]
  },
  {
   "cell_type": "markdown",
   "metadata": {},
   "source": [
    "#### Teoria sobre regressão logística"
   ]
  },
  {
   "cell_type": "markdown",
   "metadata": {},
   "source": [
    "É comum muitas pessoas acreditarem que **regressão logística** é um método para prever números. Entretanto, essa ideia deriva da confusão que as pessoas fazem entre regressão logística e **regressão linear**, essa última que possui sim a finalidade de prever números. A regressão logística é um **algoritmo de classificação** que possui algumas características matemáticas da regressão linear, mas não exerce a sua tarefa. Esse tipo de problema surge quando queremos **categorizar alguma variável por classes**."
   ]
  },
  {
   "cell_type": "markdown",
   "metadata": {},
   "source": [
    "Diferente da regressão linear, que chama uma reta ajustada com os dados para fazer previsões, a regressão logística chama uma **função sigmóide**, essa que possui um formato de S e se ajusta perfeitamente com os dados, de modo a fazer uma excelente classificação após tentar **estimar uma linha sigmoidal que se aproxime bem dos dados estudados**. Abaixo, você pode entender o comportamento dessa função:"
   ]
  },
  {
   "cell_type": "markdown",
   "metadata": {},
   "source": [
    "![funcao-logistica.png](Imagens/funcao-logistica.png)"
   ]
  },
  {
   "cell_type": "markdown",
   "metadata": {},
   "source": [
    "A função sigmóide tem esse nome devido ao seu formato, e ela é definida como:"
   ]
  },
  {
   "cell_type": "markdown",
   "metadata": {},
   "source": [
    "f(x) = $$\\frac{1}{1 + e^{-x}}$$ para todo **x** real.  "
   ]
  },
  {
   "cell_type": "markdown",
   "metadata": {},
   "source": [
    "Ela é solução da equação diferencial: "
   ]
  },
  {
   "cell_type": "markdown",
   "metadata": {},
   "source": [
    " $\\frac{dy}{dx}$ = &omega;(y)(1-y) com **y** entre 0 e 1.  "
   ]
  },
  {
   "cell_type": "markdown",
   "metadata": {},
   "source": [
    "A função sempre retonará valores entre 0 e 1. Se **f(x)** for alto o valor será aproximadamente 1 e se **f(x)** for pequeno o valor será aproximadamente 0. A função nunca retornará valores negativos. Por essas características, fica claro como o método de regressão logística satisfaz a ideia de classificação em Machine Learning."
   ]
  },
  {
   "cell_type": "markdown",
   "metadata": {},
   "source": [
    "#### Como o algoritmo funciona"
   ]
  },
  {
   "cell_type": "markdown",
   "metadata": {},
   "source": [
    "Como foi dito anteriormente, o treinamento do algoritmo é baseado em tentar buscar uma linha que se ajuste perfeitamento aos dados informados."
   ]
  },
  {
   "cell_type": "markdown",
   "metadata": {},
   "source": [
    "Em um primeiro passo,o algoritmo tenta encontrar parâmetros para cada um dos campos de dados, utilizando uma série de cálculos que não convém a explicação, esses que serão chamados de $B_{0}, B_{1}, B_{2},...,B_{N}$ e visam dar um peso para cada um dos campos. O algoritmo usado para encontrar os melhores parâmetros para um tipo de dado é chamado **descida de gradiente**, na qual a partir de uma série de testes com diversos parâmetros, o algoritmo encontra a melhor combinação entre os elementos de forma a convergir uma função sigmoidal mais próxima dos dados que estão sendo estudados. Abaixo é possível conferir a representação gráfica da **técnica de otimização** chamada descida de gradiente."
   ]
  },
  {
   "cell_type": "markdown",
   "metadata": {},
   "source": [
    "![descida-gradiente.png](Imagens/descida-gradiente.png)"
   ]
  },
  {
   "cell_type": "markdown",
   "metadata": {},
   "source": [
    "Após encontrar esses parâmetros, cada um relativo ao peso dos campos de dados, sendo $B_{0}$ uma constante (por padrão geralmente assume o valor de -0.12), é calculado uma equação da reta usando os parâmetros descobertos durante o treinamento do algoritmo e os novos dados que entraram para serem submetidos a capacidade de previsão do algoritmo. O resultado da equação de reta data, com cada ponto representando um campo diferente, será o valor de **x** utilizado na função sigmoidal **f(x)** definida acima. Com esse valor em um intervalo de [0,1] é possível definir um intervalo lógico para classificação das classes. Caso o resultado de **f(x)** esteja entre 0 e 0.5, a classe é classificada como baixa. Caso o valor de **f(x)** seja acima de 0.5 e menor ou igual a 1, a classe e classificada como alta. A questão de classe alta ou baixa dependerá das variáveis categóricas definidas no pré-processamento da base de dados."
   ]
  },
  {
   "cell_type": "markdown",
   "metadata": {},
   "source": [
    "### Alguma dúvida? Entre em contato comigo:"
   ]
  },
  {
   "cell_type": "markdown",
   "metadata": {},
   "source": [
    "- [Me envie um e-mail](mailto:alysson.barbosa@ee.ufcg.edu.br);"
   ]
  }
 ],
 "metadata": {
  "kernelspec": {
   "display_name": "Python 3",
   "language": "python",
   "name": "python3"
  },
  "language_info": {
   "codemirror_mode": {
    "name": "ipython",
    "version": 3
   },
   "file_extension": ".py",
   "mimetype": "text/x-python",
   "name": "python",
   "nbconvert_exporter": "python",
   "pygments_lexer": "ipython3",
   "version": "3.7.4"
  }
 },
 "nbformat": 4,
 "nbformat_minor": 4
}
