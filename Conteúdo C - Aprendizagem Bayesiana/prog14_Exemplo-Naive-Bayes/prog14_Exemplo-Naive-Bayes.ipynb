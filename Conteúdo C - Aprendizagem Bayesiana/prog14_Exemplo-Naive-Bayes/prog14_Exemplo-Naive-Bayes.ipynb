{
 "cells": [
  {
   "cell_type": "markdown",
   "metadata": {},
   "source": [
    "# Exemplo com Naive Bayes\n",
    "### Analisando a situação de risco de créditos para clientes com históricos distintos com base no banco de dados \"Exemplo de Naive Bayes.xlsx\""
   ]
  },
  {
   "cell_type": "markdown",
   "metadata": {},
   "source": [
    "Nesse documento, será feita uma análise probabilística, utilizando o naive bayes, para determinar se um determinado cliente tem risco de crédito alto, baixo ou moderado em um sistema de negócios para realização de empréstimos. Vale a pena ressaltar que toda a montagem probabilística dos dados está localizada no arquivo \"Exemplo de Naive Bayes.xlsx\", localizado na pasta onde este documento se encontra."
   ]
  },
  {
   "cell_type": "markdown",
   "metadata": {},
   "source": [
    "### Exemplo 1 - Cliente favorável"
   ]
  },
  {
   "cell_type": "markdown",
   "metadata": {},
   "source": [
    "Vamos considerar que um cliente quer realizar um empréstimo em determinada empresa. Para isso, ele possui os seguintes históricos de créditos:"
   ]
  },
  {
   "cell_type": "markdown",
   "metadata": {},
   "source": [
    "|**Entrada de Novo Cliente no Sistema**|\n",
    "|:-------------------------------------|\n",
    "|História de Crédito: **Boa**|\n",
    "|Dívida: **Alta**|\n",
    "|Garantias: **Nenhuma**|\n",
    "|Renda: **>35**|"
   ]
  },
  {
   "cell_type": "markdown",
   "metadata": {},
   "source": [
    "Agora, com relação a tabela de probabilidades montada e localizada no arquivo \"Exemplo de Naive Bayes.xlsx\", vamos selecionar somente as colunas relativas aos campos presentes no histórico do usuário acima."
   ]
  },
  {
   "cell_type": "markdown",
   "metadata": {},
   "source": [
    "<html>\n",
    "    <body>\n",
    "        <table>\n",
    "            <tr>\n",
    "                <td>Risco de Crédito</td>\n",
    "                <td>Boa</td>\n",
    "                <td>Alta</td>\n",
    "                <td>Nenhuma</td>\n",
    "                <td>Maior que 35</td>\n",
    "            </tr>\n",
    "            <tr>\n",
    "                <td>Alto(6/14)</td>\n",
    "                <td>(1/6)</td>\n",
    "                <td>(4/6)</td>\n",
    "                <td>(6/6)</td>\n",
    "                <td>(1/6)</td>\n",
    "            </tr>\n",
    "            <tr>\n",
    "                <td>Moderado(3/14)</td>\n",
    "                <td>(1/3)</td>\n",
    "                <td>(1/3)</td>\n",
    "                <td>(2/3)</td>\n",
    "                <td>(1/3)</td>\n",
    "            </tr>\n",
    "            <tr>\n",
    "                <td>Baixo(5/14)</td>\n",
    "                <td>(3/5)</td>\n",
    "                <td>(2/5)</td>\n",
    "                <td>(3/5)</td>\n",
    "                <td>(5/5)</td>\n",
    "            </tr>\n",
    "        </table>\n",
    "    </body>\n",
    "</html>"
   ]
  },
  {
   "cell_type": "markdown",
   "metadata": {},
   "source": [
    "É necessário fazer a multiplicação de todos os valores numéricos presentes em cada linha. Dessa forma, vamos obter valores de risco de crédito para analisar a situação do cliente."
   ]
  },
  {
   "cell_type": "markdown",
   "metadata": {},
   "source": [
    "- **P(ALTO)** = 0.007936507937\n",
    "- **P(MODERADO)** = 0.005291005291\n",
    "- **P(BAIXO)** = 0.051428571"
   ]
  },
  {
   "cell_type": "markdown",
   "metadata": {},
   "source": [
    "Desse modo, temos que o valor mais alto é o risco baixo de crédito, sendo essa a classificação final dada ao cliente."
   ]
  },
  {
   "cell_type": "markdown",
   "metadata": {},
   "source": [
    "Se quisermos analisar esses dados em porcentagem, basta somar todos os dados, considerar essa soma como o todo, e fazer a divisão probabilística com cada amostragem de crédito. Observe os procedimentos abaixo:"
   ]
  },
  {
   "cell_type": "markdown",
   "metadata": {},
   "source": [
    "- **Somatório** = 0.007936507937 + 0.005291005291 + 0.051428571 = 0.064653155"
   ]
  },
  {
   "cell_type": "markdown",
   "metadata": {},
   "source": [
    "- **P(ALTO)** = $\\frac{0.007936507937}{0.064653155} = 12,27$%\n",
    "- **P(MODERADO)** = $\\frac{0.005291005291}{0.064653155} = 8,18$%\n",
    "- **P(BAIXO)** = $\\frac{0,051428571}{0.064653155} = 79,54$%"
   ]
  },
  {
   "cell_type": "markdown",
   "metadata": {},
   "source": [
    "Portanto, o cliente possui 79.54% de chances de possuir risco de crédito baixo, 8.18% de chances de possuir risco de crédito moderado e 12.27% de chances de possuir risco de crédito alto."
   ]
  },
  {
   "cell_type": "markdown",
   "metadata": {},
   "source": [
    "### Exemplo 2 - Cliente Desfavorável"
   ]
  },
  {
   "cell_type": "markdown",
   "metadata": {},
   "source": [
    "Vamos considerar que um cliente quer realizar um empréstimo em determinada empresa. Para isso, ele possui os seguintes históricos de créditos:"
   ]
  },
  {
   "cell_type": "markdown",
   "metadata": {},
   "source": [
    "|**Entrada de Novo Cliente no Sistema**|\n",
    "|:-------------------------------------|\n",
    "|História de Crédito: **Ruim**|\n",
    "|Dívida: **Alta**|\n",
    "|Garantias: **Adequada**|\n",
    "|Renda: **<15**|"
   ]
  },
  {
   "cell_type": "markdown",
   "metadata": {},
   "source": [
    "Agora, com relação a tabela de probabilidades montada e localizada no arquivo \"Exemplo de Naive Bayes.xlsx\", vamos selecionar somente as colunas relativas aos campos presentes no histórico do usuário acima."
   ]
  },
  {
   "cell_type": "markdown",
   "metadata": {},
   "source": [
    "<html>\n",
    "    <body>\n",
    "        <table>\n",
    "            <tr>\n",
    "                <td>Risco de Crédito</td>\n",
    "                <td>Ruim</td>\n",
    "                <td>Alta</td>\n",
    "                <td>Adequada</td>\n",
    "                <td>Menor que 15</td>\n",
    "            </tr>\n",
    "            <tr>\n",
    "                <td>Alto(6/14)</td>\n",
    "                <td>(3/6)</td>\n",
    "                <td>(4/6)</td>\n",
    "                <td>0</td>\n",
    "                <td>(3/6)</td>\n",
    "            </tr>\n",
    "            <tr>\n",
    "                <td>Moderado(3/14)</td>\n",
    "                <td>(1/3)</td>\n",
    "                <td>(1/3)</td>\n",
    "                <td>(1/3)</td>\n",
    "                <td>0</td>\n",
    "            </tr>\n",
    "            <tr>\n",
    "                <td>Baixo(5/14)</td>\n",
    "                <td>0</td>\n",
    "                <td>(2/5)</td>\n",
    "                <td>(2/5)</td>\n",
    "                <td>0</td>\n",
    "            </tr>\n",
    "        </table>\n",
    "    </body>\n",
    "</html>"
   ]
  },
  {
   "cell_type": "markdown",
   "metadata": {},
   "source": [
    "É necessário fazer a multiplicação de todos os valores numéricos presentes em cada linha. Dessa forma, vamos obter valores de risco de crédito para analisar a situação do cliente. Entretanto, teremos resultados nulos, pois há uma multiplicação por 0 em cada linha. Para resolver esse problema, é necessário fazer uso de um artifício chamado **Correção Laplaciana**, esse que consiste no simples ato de adicionar mais um elemento na amostragem e no valor total, para garantir que os dados estatísticos permaneçam na mesma proporção. Observe isso na nova tabela abaixo para esse mesmo cliente."
   ]
  },
  {
   "cell_type": "markdown",
   "metadata": {},
   "source": [
    "<html>\n",
    "    <body>\n",
    "        <table>\n",
    "            <tr>\n",
    "                <td>Risco de Crédito</td>\n",
    "                <td>Ruim</td>\n",
    "                <td>Alta</td>\n",
    "                <td>Adequada</td>\n",
    "                <td>Menor que 15</td>\n",
    "            </tr>\n",
    "            <tr>\n",
    "                <td>Alto(7/15)</td>\n",
    "                <td>(4/7)</td>\n",
    "                <td>(5/7)</td>\n",
    "                <td>(1/7)</td>\n",
    "                <td>(4/7)</td>\n",
    "            </tr>\n",
    "            <tr>\n",
    "                <td>Moderado(4/15)</td>\n",
    "                <td>(2/4)</td>\n",
    "                <td>(2/4)</td>\n",
    "                <td>(2/4)</td>\n",
    "                <td>(1/4)</td>\n",
    "            </tr>\n",
    "            <tr>\n",
    "                <td>Baixo(6/15)</td>\n",
    "                <td>(1/6)</td>\n",
    "                <td>(3/6)</td>\n",
    "                <td>(3/6)</td>\n",
    "                <td>(1/6)</td>\n",
    "            </tr>\n",
    "        </table>\n",
    "    </body>\n",
    "</html>"
   ]
  },
  {
   "cell_type": "markdown",
   "metadata": {},
   "source": [
    "- **P(ALTO)** = 0,0155490767735666‬\n",
    "- **P(MODERADO)** = 0,0083333333333333‬\n",
    "- **P(BAIXO)** = 0,0027777777777778"
   ]
  },
  {
   "cell_type": "markdown",
   "metadata": {},
   "source": [
    "Desse modo, temos que o valor mais alto é o risco alto de crédito, sendo essa a classificação final dada ao cliente."
   ]
  },
  {
   "cell_type": "markdown",
   "metadata": {},
   "source": [
    "Se quisermos analisar esses dados em porcentagem, basta somar todos os dados, considerar essa soma como o todo, e fazer a divisão probabilística com cada amostragem de crédito. Observe os procedimentos abaixo:"
   ]
  },
  {
   "cell_type": "markdown",
   "metadata": {},
   "source": [
    "- **Somatório**: 0,0155490767735666‬ + 0,0083333333333333‬ + 0,0027777777777778 = 0,0266601878846777‬"
   ]
  },
  {
   "cell_type": "markdown",
   "metadata": {},
   "source": [
    "- **P(ALTO)** = $\\frac{0,0155490767735666‬}{,0266601878846777‬} = 58,32$%\n",
    "- **P(MODERADO)** = $\\frac{0,0083333333333333‬}{,0266601878846777‬} = 31,26$%\n",
    "- **P(BAIXO)** = $\\frac{0,0027777777777778}{,0266601878846777‬} = 10,42$%"
   ]
  },
  {
   "cell_type": "markdown",
   "metadata": {},
   "source": [
    "Portanto, o cliente possui 10,42% de chances de possuir risco de crédito baixo, 31,26% de chances de possuir risco de crédito moderado e 58,32% de chances de possuir risco de crédito alto."
   ]
  },
  {
   "cell_type": "markdown",
   "metadata": {},
   "source": [
    "### Mais Conceitos Importantes"
   ]
  },
  {
   "cell_type": "markdown",
   "metadata": {},
   "source": [
    "> **Probabilidade a priori**: *Em probabilidade bayesiana, uma distribuição de probabilidade a priori para uma quantidade indeterminada p, também chamada simplesmente de prior relativo a p (suponha, por exemplo, que p seja a proporção de votantes em determinado político numa eleição futura) é a distribuição de probabilidade que expressaria a incerteza sobre o valor de p antes de qualquer dado ou medida (por exemplo, uma pesquisa de opinião). É uma maneira de atribuir incerteza em vez de aleatoriedade à grandeza em questão, além de ponto de partida para o uso do teorema de Bayes após a obtenção dos dados.* (Wikipédia)"
   ]
  },
  {
   "cell_type": "markdown",
   "metadata": {},
   "source": [
    "> **Probabilidade a posteriori**: *Em estatística bayesiana, a probabilidade a posteriori de um evento aleatório ou uma proposição incerta é a probabilidade condicionada que é atribuída depois que evidências ou planos de fundo relevantes são levados em conta. De forma semelhante, a distribuição de probabilidade a posteriori é a distribuição de probabilidade de uma quantidade incerta, tratada como uma variável aleatória, condicional sobre a evidência obtida de um experimento ou survey.* (Wikipédia)"
   ]
  },
  {
   "cell_type": "markdown",
   "metadata": {},
   "source": [
    "### Vantagens de se Utilizar o Naive Bayes\n",
    "- **Rápido**;\n",
    "- **Simplicidade de Interpretação**;\n",
    "- **Trabalha com Altas Dimensões**;\n",
    "- **Boas Previsões em Bases Pequenas**;\n"
   ]
  },
  {
   "cell_type": "markdown",
   "metadata": {},
   "source": [
    "### Desvantagens de se Utilizar o Naive Bayes\n",
    "- **Combinação de características(atributos independentes) - cada par de características são independentes - nem sempre é verdade**;"
   ]
  },
  {
   "cell_type": "markdown",
   "metadata": {},
   "source": [
    "### Alguma dúvida? Entre em contato comigo:\n"
   ]
  },
  {
   "cell_type": "markdown",
   "metadata": {},
   "source": [
    "- [Me envie um e-mail](mailto:alysson.barbosa@ee.ufcg.edu.br);"
   ]
  }
 ],
 "metadata": {
  "kernelspec": {
   "display_name": "Python 3",
   "language": "python",
   "name": "python3"
  },
  "language_info": {
   "codemirror_mode": {
    "name": "ipython",
    "version": 3
   },
   "file_extension": ".py",
   "mimetype": "text/x-python",
   "name": "python",
   "nbconvert_exporter": "python",
   "pygments_lexer": "ipython3",
   "version": "3.7.4"
  }
 },
 "nbformat": 4,
 "nbformat_minor": 4
}
