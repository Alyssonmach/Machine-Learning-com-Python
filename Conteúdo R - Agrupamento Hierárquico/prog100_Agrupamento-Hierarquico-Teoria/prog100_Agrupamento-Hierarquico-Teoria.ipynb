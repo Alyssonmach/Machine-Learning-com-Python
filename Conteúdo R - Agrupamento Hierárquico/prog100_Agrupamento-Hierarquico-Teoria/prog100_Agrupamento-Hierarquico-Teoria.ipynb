{
 "cells": [
  {
   "cell_type": "markdown",
   "metadata": {},
   "source": [
    "# Agrupamento Hierárquico \n",
    "#### Entenda como funciona o agrupamento hierárquico para construção de dendrogramas."
   ]
  },
  {
   "cell_type": "markdown",
   "metadata": {},
   "source": [
    "O agrupamento hierárquico é um **algoritmo de clusterização** que visa fazer a análise de conjunto de dados com algum tipo de semelhança através da costrução de **dendrogramas**. Dendrogramas são gráficos que agrupam os dados **por pares** considerando os que possuem as menores distâncias como prioridade para serem agrupados. Observe abaixo como é esse tipo de gráfico."
   ]
  },
  {
   "cell_type": "markdown",
   "metadata": {},
   "source": [
    "![clustering-dendrogram](Imagens/clustering-dendrogram.png)"
   ]
  },
  {
   "cell_type": "markdown",
   "metadata": {},
   "source": [
    " - É criado uma estrutura em **formato de árvore** que indica o número de clusters;\n",
    " - **Abordagem Aglomerativa**: cada registro pertence ao seu própio cluster e pares de clusters são unidos;\n",
    " - Os resultdos podem ser representados em um **dendrograma**;"
   ]
  },
  {
   "cell_type": "markdown",
   "metadata": {},
   "source": [
    "![hierarch](Imagens/hierarch.gif)"
   ]
  },
  {
   "cell_type": "markdown",
   "metadata": {},
   "source": [
    "A escolha de k quantidade de clusters ideais se dá da seguinte forma:"
   ]
  },
  {
   "cell_type": "markdown",
   "metadata": {},
   "source": [
    "- Escolher uma linha **paralela ao eixo y** que **não seja perpendicular com nenhuma outra linha**.\n",
    "- Após ter feito a escolha da linha ideal, deve-se **traçar uma linha perpendicular a ela**. A quantidade de **pontos de interseção** é a quantidade ideal de k clusters."
   ]
  },
  {
   "cell_type": "markdown",
   "metadata": {},
   "source": [
    "### Alguma Dúvida? Entre em Contato Comigo:"
   ]
  },
  {
   "cell_type": "markdown",
   "metadata": {},
   "source": [
    "- [Me envie um e-mail](mailto:alyssonmachado388@gmail.com);"
   ]
  }
 ],
 "metadata": {
  "kernelspec": {
   "display_name": "Python 3",
   "language": "python",
   "name": "python3"
  },
  "language_info": {
   "codemirror_mode": {
    "name": "ipython",
    "version": 3
   },
   "file_extension": ".py",
   "mimetype": "text/x-python",
   "name": "python",
   "nbconvert_exporter": "python",
   "pygments_lexer": "ipython3",
   "version": "3.7.4"
  }
 },
 "nbformat": 4,
 "nbformat_minor": 4
}
