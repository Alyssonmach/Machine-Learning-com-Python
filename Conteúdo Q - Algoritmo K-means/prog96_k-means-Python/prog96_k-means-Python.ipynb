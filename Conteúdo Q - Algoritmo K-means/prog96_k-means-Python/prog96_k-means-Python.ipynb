{
 "cells": [
  {
   "cell_type": "markdown",
   "metadata": {},
   "source": [
    "# Clusterização usando K-Means\n",
    "#### Aplicando o algoritmo de clusterização k-means usando o scikit-learn."
   ]
  },
  {
   "cell_type": "code",
   "execution_count": 1,
   "metadata": {},
   "outputs": [],
   "source": [
    "# importando a biblioteca numpy do python\n",
    "import numpy as np\n",
    "\n",
    "# importando a biblioteca matplotlib do python\n",
    "import matplotlib.pyplot as plt\n",
    "%matplotlib inline\n",
    "\n",
    "# importando a biblioteca sklearn do python\n",
    "from sklearn.cluster import KMeans\n",
    "from sklearn.preprocessing import StandardScaler"
   ]
  },
  {
   "cell_type": "code",
   "execution_count": 2,
   "metadata": {},
   "outputs": [],
   "source": [
    "# criando os dados para a variável x\n",
    "x = [20, 27, 21, 37, 46, 53, 55, 47, 52, 32, 39, 41, 39, 48, 48]\n",
    "# criando os dados para a variável y\n",
    "y = [1000, 1200, 2900, 1850, 900, 950, 2000, 2100, 3000, 5900, 4100, 5100, 7000, 5000, 6500]\n",
    "\n",
    "# criando uma lista vazia 'dataframe'\n",
    "dataframe  = []\n",
    "\n",
    "# iterando os dados x e y em 'dataframe'\n",
    "for i in range (0, 15):\n",
    "    dataframe.append((x[i], y[i]))\n",
    "        \n",
    "# transformando a lista em um array numpy\n",
    "dataframe = np.asarray(dataframe)"
   ]
  },
  {
   "cell_type": "code",
   "execution_count": 3,
   "metadata": {},
   "outputs": [
    {
     "data": {
      "image/png": "[encoded data removed]",
      "text/plain": [
       "<Figure size 720x360 with 1 Axes>"
      ]
     },
     "metadata": {
      "needs_background": "light"
     },
     "output_type": "display_data"
    }
   ],
   "source": [
    "# configurando o gráfico dos dados\n",
    "\n",
    "plt.figure(figsize = (10, 5))\n",
    "plt.scatter(x, y, color = 'red', marker = 'x', label = 'Dados')\n",
    "plt.title('Dados Desagrupados')\n",
    "plt.xlabel('X')\n",
    "plt.ylabel('Y')\n",
    "plt.legend()\n",
    "plt.grid(True)\n",
    "plt.box(False)"
   ]
  },
  {
   "cell_type": "code",
   "execution_count": 4,
   "metadata": {},
   "outputs": [
    {
     "name": "stdout",
     "output_type": "stream",
     "text": [
      "[[  20 1000]\n",
      " [  27 1200]\n",
      " [  21 2900]\n",
      " [  37 1850]\n",
      " [  46  900]\n",
      " [  53  950]\n",
      " [  55 2000]\n",
      " [  47 2100]\n",
      " [  52 3000]\n",
      " [  32 5900]\n",
      " [  39 4100]\n",
      " [  41 5100]\n",
      " [  39 7000]\n",
      " [  48 5000]\n",
      " [  48 6500]]\n"
     ]
    }
   ],
   "source": [
    "# visualizando o 'dataframe'\n",
    "print(dataframe)"
   ]
  },
  {
   "cell_type": "code",
   "execution_count": 5,
   "metadata": {},
   "outputs": [
    {
     "data": {
      "text/plain": [
       "(15, 2)"
      ]
     },
     "execution_count": 5,
     "metadata": {},
     "output_type": "execute_result"
    }
   ],
   "source": [
    "# visualizando a dimensão do 'dataframe'\n",
    "dataframe.shape"
   ]
  },
  {
   "cell_type": "code",
   "execution_count": 6,
   "metadata": {},
   "outputs": [],
   "source": [
    "# criando o objeto 'scaler'\n",
    "scaler = StandardScaler()"
   ]
  },
  {
   "cell_type": "code",
   "execution_count": 7,
   "metadata": {},
   "outputs": [],
   "source": [
    "# realizando o escalonamento de atributos em 'dataframe'\n",
    "dataframe = scaler.fit_transform(dataframe)"
   ]
  },
  {
   "cell_type": "code",
   "execution_count": 8,
   "metadata": {},
   "outputs": [
    {
     "name": "stdout",
     "output_type": "stream",
     "text": [
      "[[-1.87963884 -1.11413572]\n",
      " [-1.23255006 -1.01725435]\n",
      " [-1.78719758 -0.19376273]\n",
      " [-0.30813751 -0.70238991]\n",
      " [ 0.52383377 -1.1625764 ]\n",
      " [ 1.17092255 -1.13835606]\n",
      " [ 1.35580506 -0.62972888]\n",
      " [ 0.61627503 -0.5812882 ]\n",
      " [ 1.0784813  -0.14532205]\n",
      " [-0.77034379  1.25945777]\n",
      " [-0.12325501  0.38752547]\n",
      " [ 0.0616275   0.8719323 ]\n",
      " [-0.12325501  1.79230528]\n",
      " [ 0.70871628  0.82349162]\n",
      " [ 0.70871628  1.55010187]]\n"
     ]
    }
   ],
   "source": [
    "# visualizando o 'dataframe' escalonado\n",
    "print(dataframe)"
   ]
  },
  {
   "cell_type": "code",
   "execution_count": 9,
   "metadata": {},
   "outputs": [],
   "source": [
    "# criando o clusterizador 'kmeans'\n",
    "kmeans = KMeans(n_clusters = 3)\n",
    "# inicialmente será criado 3 clusters"
   ]
  },
  {
   "cell_type": "code",
   "execution_count": 10,
   "metadata": {},
   "outputs": [
    {
     "data": {
      "text/plain": [
       "KMeans(algorithm='auto', copy_x=True, init='k-means++', max_iter=300,\n",
       "       n_clusters=3, n_init=10, n_jobs=None, precompute_distances='auto',\n",
       "       random_state=None, tol=0.0001, verbose=0)"
      ]
     },
     "execution_count": 10,
     "metadata": {},
     "output_type": "execute_result"
    }
   ],
   "source": [
    "# treinando com os dados o clusterizados 'kmeans'\n",
    "kmeans.fit(dataframe)"
   ]
  },
  {
   "cell_type": "code",
   "execution_count": 11,
   "metadata": {},
   "outputs": [],
   "source": [
    "# criando os pontos de centróide\n",
    "centroides = kmeans.cluster_centers_"
   ]
  },
  {
   "cell_type": "code",
   "execution_count": 12,
   "metadata": {},
   "outputs": [
    {
     "name": "stdout",
     "output_type": "stream",
     "text": [
      "[[ 0.07703438  1.11413572]\n",
      " [ 0.73953003 -0.72661025]\n",
      " [-1.63312883 -0.77505093]]\n"
     ]
    }
   ],
   "source": [
    "# visualizando os pontos dos três centróides criados\n",
    "print(centroides)"
   ]
  },
  {
   "cell_type": "code",
   "execution_count": 13,
   "metadata": {},
   "outputs": [],
   "source": [
    "# criando os rótulos escolhidos para cada dado do 'dataframe'\n",
    "rotulos = kmeans.labels_"
   ]
  },
  {
   "cell_type": "code",
   "execution_count": 14,
   "metadata": {},
   "outputs": [
    {
     "name": "stdout",
     "output_type": "stream",
     "text": [
      "[2 2 2 1 1 1 1 1 1 0 0 0 0 0 0]\n"
     ]
    }
   ],
   "source": [
    "# visulizando os rótulos\n",
    "print(rotulos)"
   ]
  },
  {
   "cell_type": "code",
   "execution_count": 15,
   "metadata": {},
   "outputs": [],
   "source": [
    "# definindo um array para gerar as cores de cada cluster\n",
    "cores = [\"g.\", \"r.\", \"b.\"]"
   ]
  },
  {
   "cell_type": "code",
   "execution_count": 16,
   "metadata": {},
   "outputs": [
    {
     "data": {
      "text/plain": [
       "<matplotlib.legend.Legend at 0x1ebbdf70e08>"
      ]
     },
     "execution_count": 16,
     "metadata": {},
     "output_type": "execute_result"
    },
    {
     "data": {
      "image/png": "[encoded data removed]",
      "text/plain": [
       "<Figure size 720x360 with 1 Axes>"
      ]
     },
     "metadata": {
      "needs_background": "light"
     },
     "output_type": "display_data"
    }
   ],
   "source": [
    "# configurando os detalhes do gráfico\n",
    "\n",
    "plt.figure(figsize = (10, 5))\n",
    "\n",
    "for i in range(len(x)):\n",
    "    plt.plot(dataframe[i][0], dataframe[i][1], cores[rotulos[i]], markersize = 15)\n",
    "plt.scatter(centroides[:, 0], centroides[:, 1], marker = 'x', label = 'Centroides')\n",
    "\n",
    "plt.title('Agrupamento K-mean')\n",
    "plt.xlabel('X')\n",
    "plt.ylabel('Y')\n",
    "\n",
    "plt.grid(True)\n",
    "plt.box(False)\n",
    "plt.legend()"
   ]
  },
  {
   "cell_type": "markdown",
   "metadata": {},
   "source": [
    "### Alguma Dúvida? Entre em Contato Comigo:"
   ]
  },
  {
   "cell_type": "markdown",
   "metadata": {},
   "source": [
    "- [Me envie um e-mail](mailto:alysson.barbosa@ee.ufcg.edu.br);"
   ]
  }
 ],
 "metadata": {
  "kernelspec": {
   "display_name": "Python 3",
   "language": "python",
   "name": "python3"
  },
  "language_info": {
   "codemirror_mode": {
    "name": "ipython",
    "version": 3
   },
   "file_extension": ".py",
   "mimetype": "text/x-python",
   "name": "python",
   "nbconvert_exporter": "python",
   "pygments_lexer": "ipython3",
   "version": "3.7.4"
  }
 },
 "nbformat": 4,
 "nbformat_minor": 4
}
