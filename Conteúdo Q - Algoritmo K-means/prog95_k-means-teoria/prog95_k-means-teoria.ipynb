{
 "cells": [
  {
   "cell_type": "markdown",
   "metadata": {},
   "source": [
    "# Algoritmo K-Means\n",
    "#### Entendendo o algoritmo k-means de agrupamento para problemas de clusterização."
   ]
  },
  {
   "cell_type": "markdown",
   "metadata": {},
   "source": [
    "### Exemplos de Agrupamento (Cluster)"
   ]
  },
  {
   "cell_type": "markdown",
   "metadata": {},
   "source": [
    "Os algoritmos de **clusterização** visam agrupar elementos em **k** grupos diferentes. A especificidade desse algoritmo é que ele realiza esse agrupamento com dados que inicialmente não tem nem um rótulo."
   ]
  },
  {
   "cell_type": "markdown",
   "metadata": {},
   "source": [
    "Como exemplo, temos as seguintes aplicações desse algoritmo:"
   ]
  },
  {
   "cell_type": "markdown",
   "metadata": {},
   "source": [
    "- Segmentação do mercado;\n",
    "- Encontrar grupos de clientes que irão comprar um produto (mala direta);\n",
    "- Agrupamento de documentos/notícias;\n",
    "- Agrupamento de produtos similares;\n",
    "- Perfis de clientes (Netflix);\n",
    "- Análise de sedes sociais;"
   ]
  },
  {
   "cell_type": "markdown",
   "metadata": {},
   "source": [
    "### Características dos algoritmos que usam agrupamentos"
   ]
  },
  {
   "cell_type": "markdown",
   "metadata": {},
   "source": [
    "1. Aprendizagem **não supervisionada**.\n",
    "2. Usado em **classificação** e **regressão** (cria modelos que relacionam características com uma variável a ser prevista).\n",
    "3. Agrupa os dados em **k** grupos (cria novos dados).\n",
    "4. Não tem um rótulo e o algoritmo aprende as relações entre os dados.\n",
    "5. Identificar quando um grupo começa e outro termina.\n",
    "6. Elementos dentro de um grupo devem ser similares e diferentes dos que estão fora do grupo (**Nearest Mean**)."
   ]
  },
  {
   "cell_type": "markdown",
   "metadata": {},
   "source": [
    "![clusterizacao-ex](Imagens/clusterizacao-ex.jpg)"
   ]
  },
  {
   "cell_type": "markdown",
   "metadata": {},
   "source": [
    "### Algoritmo de Lloyd (K-Means)"
   ]
  },
  {
   "cell_type": "markdown",
   "metadata": {},
   "source": [
    "![k-means-ex](Imagens/k-means-ex.png)"
   ]
  },
  {
   "cell_type": "markdown",
   "metadata": {},
   "source": [
    "O **algoritmo de Lloyd** segue três passos fundamentais para aplicar a clusterização, são eles:"
   ]
  },
  {
   "cell_type": "markdown",
   "metadata": {},
   "source": [
    "1. inicializar os centroides aleatoriamente (**centros de um cluster**);\n",
    "2. para cada ponto na base de dados, calcular a distância (**distância euclidiana**) para cada centroide e associar ao que estiver mais perto;\n",
    "3. Calcular a média de todos os pontos ligados a cada centroide e definir um novo centroide (repetir as etapas 2 e 3);"
   ]
  },
  {
   "cell_type": "markdown",
   "metadata": {},
   "source": [
    "![k-means-iterations](Imagens/k-means-iterations.gif)"
   ]
  },
  {
   "cell_type": "markdown",
   "metadata": {},
   "source": [
    "### K-means++"
   ]
  },
  {
   "cell_type": "markdown",
   "metadata": {},
   "source": [
    "**K-means++** é uma melhoria feita no algoritmo k-means. Abaixo, é possível analisar as melhorias significativas:"
   ]
  },
  {
   "cell_type": "markdown",
   "metadata": {},
   "source": [
    "- Reduz a probabilidade de inicializações ruins.\n",
    "- Seleciona os centroides iniciais que estão longe uns dos outros.\n",
    "- O primeiro centroide é selecionado randomicamente. Porém, os outros são selecionados baseado na distância para o primeiro ponto."
   ]
  },
  {
   "cell_type": "markdown",
   "metadata": {},
   "source": [
    "![k-means++](Imagens/k-means++.gif)"
   ]
  },
  {
   "cell_type": "markdown",
   "metadata": {},
   "source": [
    "### Definição do Número de Clusters"
   ]
  },
  {
   "cell_type": "markdown",
   "metadata": {},
   "source": [
    "Não existem uma garantia para encotrar o melhor  número de clusters, mas há algumas ideias que podem ser utilizadas para se encontrar elas, como:"
   ]
  },
  {
   "cell_type": "markdown",
   "metadata": {},
   "source": [
    "1. Ter um conhecimento prévio de quantos grupos são necessários com base no significado dos dados."
   ]
  },
  {
   "cell_type": "markdown",
   "metadata": {},
   "source": [
    "2. Caso não se tenha conhecimento prévio no número de clusters, e seja **N** o número de registros na base de dados, teremos a seguinte fórmula:"
   ]
  },
  {
   "cell_type": "markdown",
   "metadata": {},
   "source": [
    "> $clusters = \\sqrt{\\frac{N}{2}}$"
   ]
  },
  {
   "cell_type": "markdown",
   "metadata": {},
   "source": [
    "3. Tentar vários valores de K usando o **Elbow Method**."
   ]
  },
  {
   "cell_type": "markdown",
   "metadata": {},
   "source": [
    "![elbow-method](Imagens/elbow-method.png)"
   ]
  },
  {
   "cell_type": "markdown",
   "metadata": {},
   "source": [
    "Na imagem acima, é possível observar que para **k > 4** os números de centróides crescem com pouca variação na diminuição das distâncias. Para **k < 4** a distância dos centróides tem um valor muito alto, sendo bastante impreciso. Portanto, quando **k = 4**, teremos o menor número da distância entre os centróides de forma consistente."
   ]
  },
  {
   "cell_type": "markdown",
   "metadata": {},
   "source": [
    "### Alguma dúvida? Entre em Contato Comigo:"
   ]
  },
  {
   "cell_type": "markdown",
   "metadata": {},
   "source": [
    "- [Me envie um e-mail](mailto:alysson.barbosa@ee.ufcg.edu.br);"
   ]
  }
 ],
 "metadata": {
  "kernelspec": {
   "display_name": "Python 3",
   "language": "python",
   "name": "python3"
  },
  "language_info": {
   "codemirror_mode": {
    "name": "ipython",
    "version": 3
   },
   "file_extension": ".py",
   "mimetype": "text/x-python",
   "name": "python",
   "nbconvert_exporter": "python",
   "pygments_lexer": "ipython3",
   "version": "3.7.4"
  }
 },
 "nbformat": 4,
 "nbformat_minor": 4
}
