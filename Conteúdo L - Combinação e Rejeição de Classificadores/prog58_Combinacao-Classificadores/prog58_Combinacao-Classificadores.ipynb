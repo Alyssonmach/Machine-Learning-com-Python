{
 "cells": [
  {
   "cell_type": "markdown",
   "metadata": {},
   "source": [
    "# Combinação de Classificadores\n",
    "#### Usar mais de um classificador para fazer a predição em dados é uma maneira mais segura de obter respostas confiáveis."
   ]
  },
  {
   "cell_type": "markdown",
   "metadata": {},
   "source": [
    "### Vantagens de combinar classificadores"
   ]
  },
  {
   "cell_type": "markdown",
   "metadata": {},
   "source": [
    "É possível utilizar mais de um classificador em um determinado problema, em que cada um terá um algoritmo de aprendizagem de máquina diferente em sua análise. Na seção anterior, foi feita uma análise rigorosa para cada algoritmo de machine learning e, a partir disso, foi possível visualizar quais teriam o melhor resultado para a base de dados de crédito e base de dados do censo. Desse modo, juntar os melhores classificadores para resolver em conjunto um problema, nos dá uma alta chance de acerto pois, com esse método, temos os seguintes ganhos:"
   ]
  },
  {
   "cell_type": "markdown",
   "metadata": {},
   "source": [
    "- Classificação mais precisa;"
   ]
  },
  {
   "cell_type": "markdown",
   "metadata": {},
   "source": [
    "- Busca-se o melhor conjunto de classificadores;"
   ]
  },
  {
   "cell_type": "markdown",
   "metadata": {},
   "source": [
    "- Diminui o risco de selecionar um classificador individual inadequado;"
   ]
  },
  {
   "cell_type": "markdown",
   "metadata": {},
   "source": [
    "### Métodos principais"
   ]
  },
  {
   "cell_type": "markdown",
   "metadata": {},
   "source": [
    "Desse modo, há três métodos principais de realizar essa combinação, são eles:"
   ]
  },
  {
   "cell_type": "markdown",
   "metadata": {},
   "source": [
    "1. Unanimidade (todos os classificadores concorcordam em um só resultado);\n",
    "2. Mais da metade (mais de 50% dos classificadores devem concordar em um só resultado);\n",
    "3. Pluralidade (O resultado mais obtido pelos classificadores é o que possui mais chances de ser verdadeiro);"
   ]
  },
  {
   "cell_type": "markdown",
   "metadata": {},
   "source": [
    "### Alguma dúvida? Entre em contato comigo:"
   ]
  },
  {
   "cell_type": "markdown",
   "metadata": {},
   "source": [
    "- [Me envie um e-mail](mailto:alyssonmachado388@gmail.com);"
   ]
  }
 ],
 "metadata": {
  "kernelspec": {
   "display_name": "Python 3",
   "language": "python",
   "name": "python3"
  },
  "language_info": {
   "codemirror_mode": {
    "name": "ipython",
    "version": 3
   },
   "file_extension": ".py",
   "mimetype": "text/x-python",
   "name": "python",
   "nbconvert_exporter": "python",
   "pygments_lexer": "ipython3",
   "version": "3.7.6"
  }
 },
 "nbformat": 4,
 "nbformat_minor": 4
}
