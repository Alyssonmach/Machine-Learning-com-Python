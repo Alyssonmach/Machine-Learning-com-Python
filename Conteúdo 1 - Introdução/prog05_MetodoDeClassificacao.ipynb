{
 "cells": [
  {
   "cell_type": "markdown",
   "metadata": {},
   "source": [
    "# Método de Classsificação"
   ]
  },
  {
   "cell_type": "markdown",
   "metadata": {},
   "source": [
    "o método preditivo de classificação é muito usado no ramo das IAs. Por esse motivo, vamos falar um pouco mais sobre ele e como se dá o seu funcionamento."
   ]
  },
  {
   "cell_type": "markdown",
   "metadata": {},
   "source": [
    "Com base em **atributos previsores** devemos fazer uma previsão, essa que é chamada de **meta classe**.  Basicamento os atributos previsores são **variáveis independentes** e as variáveis **meta classe** são dependentes dos atributos previsores. Como exemplo, temos um conjunto de dados financeiros de uma pessoa, baseada em seu histórico no banco e, através disso, podemos dar uma previsão se realizar um empréstimo para esse cliente é de alto ou baixo risco. Nesse caso, os dados financeiros seriam os atributos previsores e o risco de realizar um empréstimo para ela é a meta classe."
   ]
  },
  {
   "cell_type": "markdown",
   "metadata": {},
   "source": [
    "Ainda usando o exemplo de finanças, para realizar o treinamento de um algoritmo que relata o risco financeiro para empréstimos de **N** pessoas, baseada em **M** históricos bancários, devemos possuir uma série de clientes na base de dados da máquina para submetê-lo a um treinamento com esses dados, visando obter um **classificador**, que é um algoritmo responsável por receber dados de um cliente arbitrário e classificá-lo."
   ]
  },
  {
   "cell_type": "markdown",
   "metadata": {},
   "source": [
    "### Alguma dúvida? Entre em contato comigo:"
   ]
  },
  {
   "cell_type": "markdown",
   "metadata": {},
   "source": [
    "- [Me Envie um E-mail](mailto:alyssonmachado388@gmail.com);"
   ]
  }
 ],
 "metadata": {
  "kernelspec": {
   "display_name": "Python 3",
   "language": "python",
   "name": "python3"
  },
  "language_info": {
   "codemirror_mode": {
    "name": "ipython",
    "version": 3
   },
   "file_extension": ".py",
   "mimetype": "text/x-python",
   "name": "python",
   "nbconvert_exporter": "python",
   "pygments_lexer": "ipython3",
   "version": "3.7.6"
  }
 },
 "nbformat": 4,
 "nbformat_minor": 4
}
