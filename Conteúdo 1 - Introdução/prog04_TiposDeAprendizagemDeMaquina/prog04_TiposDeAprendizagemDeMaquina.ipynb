{
 "cells": [
  {
   "cell_type": "markdown",
   "metadata": {},
   "source": [
    "# Tipos de Aprendizagem de máquina"
   ]
  },
  {
   "cell_type": "markdown",
   "metadata": {},
   "source": [
    "Foi visto os diversos métodos que podem ser usados para desenvolvar uma IA. Agora, vamos analisar os tipos de aprendizagem a qual esses métodos podem ser submetidos."
   ]
  },
  {
   "cell_type": "markdown",
   "metadata": {},
   "source": [
    "Segue abaixo os principais tipos de aprendizagem de máquina, em que elas podem ser favoráveis para alguns métodos e outros não."
   ]
  },
  {
   "cell_type": "markdown",
   "metadata": {},
   "source": [
    "<table>\n",
    "    <tr>\n",
    "        <td><b>Supervisionada</b></td>\n",
    "        <td><b>Não Supervisionada</b></td>\n",
    "        <td><b>Reforço</b></td>\n",
    "    </tr>\n",
    "    <tr>\n",
    "        <td>Classificação</td>\n",
    "        <td>Associação</td>\n",
    "        <td><none/></td>\n",
    "    </tr>\n",
    "    <tr>\n",
    "        <td>Regressão</td>\n",
    "        <td>Agrupamento</td>\n",
    "        <td><none/></td>\n",
    "    </tr>\n",
    "    <tr>\n",
    "        <td><none/></td>\n",
    "        <td>Detecção de desvios</td>\n",
    "        <td><none/></td>\n",
    "    </tr>\n",
    "    <tr>\n",
    "        <td><none/></td>\n",
    "        <td>Padrões Sequenciais</td>\n",
    "        <td><none/></td>\n",
    "    </tr>\n",
    "    <tr>\n",
    "        <td><none/></td>\n",
    "        <td>Sumarização</td>\n",
    "        <td><none/></td>\n",
    "    </tr>\n",
    "</table>"
   ]
  },
  {
   "cell_type": "markdown",
   "metadata": {},
   "source": [
    "- **Aprendizagem Supervisionada**: primeiramente é realizado uma extração das características dos elementos, visando montar nossa base dados. Após esse passo, fazemos um algoritmo de aprendizagem baseado nos dados obtidos. Com isso, realizamos manualmente (papel de supervisionar) a diferenciação dos elementos durante o treinamento de nosso algoritmo. Por fim, após todos esses passos, vamos obter um modelo aprendido."
   ]
  },
  {
   "cell_type": "markdown",
   "metadata": {},
   "source": [
    "- **Aprendizagem não Supervisionada**: é quase a mesma ideia da aprendizagem supervisionada, mas nesse tipo de aprendizagem não há interferência de um supervisor."
   ]
  },
  {
   "cell_type": "markdown",
   "metadata": {},
   "source": [
    "- **Aprendizagem por reforço**: tipo de aprendizado por causa e efeito, em que a máquina aprende por suas própia experiência e através das interações com o ambiente."
   ]
  },
  {
   "cell_type": "markdown",
   "metadata": {},
   "source": [
    "### Alguma dúvida? Entre em contato comigo:"
   ]
  },
  {
   "cell_type": "markdown",
   "metadata": {},
   "source": [
    "- [Me Envie um E-mail](mailto:alyssonmachado388@gmail.com);"
   ]
  }
 ],
 "metadata": {
  "kernelspec": {
   "display_name": "Python 3",
   "language": "python",
   "name": "python3"
  },
  "language_info": {
   "codemirror_mode": {
    "name": "ipython",
    "version": 3
   },
   "file_extension": ".py",
   "mimetype": "text/x-python",
   "name": "python",
   "nbconvert_exporter": "python",
   "pygments_lexer": "ipython3",
   "version": "3.7.6"
  }
 },
 "nbformat": 4,
 "nbformat_minor": 4
}
