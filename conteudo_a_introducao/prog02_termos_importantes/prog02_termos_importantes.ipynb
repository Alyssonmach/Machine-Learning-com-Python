{
 "cells": [
  {
   "cell_type": "markdown",
   "metadata": {},
   "source": [
    "# Termos Importantes"
   ]
  },
  {
   "cell_type": "markdown",
   "metadata": {},
   "source": [
    "Vamos listar uma série de termos importantes para se entender inteligência artificial. Com eles, você pode ter uma ideia das áreas que a inteligência artificial abrange."
   ]
  },
  {
   "cell_type": "markdown",
   "metadata": {},
   "source": [
    "> **Inteligência Artificial**: Área de estudo da Ciência da Computação responsável pelo desenvolvimento de sistemas que simulam a capacidade humana de resolver problemas."
   ]
  },
  {
   "cell_type": "markdown",
   "metadata": {},
   "source": [
    "> **Inteligência Computacional**: é uma forma em que muitos desenvolvedores gostam de chamar essa área ao invés de inteligência artificial. Envolve estudos sobre redes neurais, computação evolucionária e lógica nebulosa (ou fuzzy)."
   ]
  },
  {
   "cell_type": "markdown",
   "metadata": {},
   "source": [
    "> **Sistemas Especialistas**: Baseia-se na construção de sistemas computacionais que tem a capacidade de possuir conhecimentos de especialistas humanos sobre determinados temas. Dessa forma, um programa com inteligência artificial pode adquirir a capacidade de análise e resposta de um especialista."
   ]
  },
  {
   "cell_type": "markdown",
   "metadata": {},
   "source": [
    "> **Visão Computacional**: simula a visão de um ser humano para identificar objetos, pessoas, expressões faciais, entre vários outros itens. Podemos citar como exemplo os filtros usados em fotos pelo aplicativo Instagram e o desbloqueio de celulares por meio de reconhecimento facial."
   ]
  },
  {
   "cell_type": "markdown",
   "metadata": {},
   "source": [
    "> **Machine Learning**: conjunto de inúmeros algoritmos que garantem a aprendizagem de máquina, baseado em uma série de dados e um conjunto de treinamentos com esse algoritmo."
   ]
  },
  {
   "cell_type": "markdown",
   "metadata": {},
   "source": [
    "> **Processamento de Linguagem Natural**: poder que uma máquina possui de absorver significado através de uma conjunto de caracteres."
   ]
  },
  {
   "cell_type": "markdown",
   "metadata": {},
   "source": [
    "> **Algoritmo Genético**: trata-se de um mecanismo definido por tentativa e erro para achar soluções aproximadas em problemas de otimização e busca. Ideia fortemente baseada nos princípios da seleção natural, proposta por Charles Darwin."
   ]
  },
  {
   "cell_type": "markdown",
   "metadata": {},
   "source": [
    "> **Sistemas Multiagente**: trata-se da ideia de ter dois ou mais agentes em interação ou cooperação para atender a determinados objetivos."
   ]
  },
  {
   "cell_type": "markdown",
   "metadata": {},
   "source": [
    "> **Data Mining (Mineração de Dados)**: é o processo de explorar grandes quantidades de dados à procura de padrões consistentes, através de modelos matemáticos desenvolvidos para machine learning."
   ]
  },
  {
   "cell_type": "markdown",
   "metadata": {},
   "source": [
    "> **Lógica Fuzzy (ou Nebulosa)**: é uma forma de lógica multivalorada, em os valores aceitáveis estão entre a faixa de 0 e 1. Diferentemente da lógica booleana, em que os valores são discretos: ou é 0 ou é 1."
   ]
  },
  {
   "cell_type": "markdown",
   "metadata": {},
   "source": [
    "> **Raciocínio Baseado em Casos**: é um método que busca resolver novos problemas, adaptando soluções utilizadas para resolver problemas anteriores. "
   ]
  },
  {
   "cell_type": "markdown",
   "metadata": {},
   "source": [
    "> **Redes Neurais**: é um tipo de aprendizagem de máquina, baseado na criação de neurônios virtuais, esses que tem a premissa de funcionar de forma análoga ao cérebro humano."
   ]
  },
  {
   "cell_type": "markdown",
   "metadata": {},
   "source": [
    "> **Robótica**: é um ramo tecnológico que trata de sistemas compostos por partes mecânicas automáticas e controladas por circuitos integrados, tornando sistemas mecânicos motorizados controlados automaticamente por circuitos elétricos. Além disso, é uma área independente da IA, mas as duas agindo em conjunto possuem aplicações promissoras."
   ]
  },
  {
   "cell_type": "markdown",
   "metadata": {},
   "source": [
    "> **Deep Learning (ou Aprendizado Profundo)**: é um tipo de aprendizagem de máquina, mas com auxílio de muitos mais dados e processadores mais potentes. Nela, uma rede neural teria mais camadas, por exemplo."
   ]
  },
  {
   "cell_type": "markdown",
   "metadata": {},
   "source": [
    "> **Big Data**: trata-se do nosso inúmero volume de dados disponíveis a nosso favor. Com esses dados, podemos desenvolver inúmeros algoritmos responsáveis por tratar e modelar tais dados."
   ]
  },
  {
   "cell_type": "markdown",
   "metadata": {},
   "source": [
    "> **Ciência de Dados**: é uma área de desenvolvimento que está em ascendecia em todo mundo. Nela, é possível explorar e analisar dados, através de recursos que envolvem a Ciência da Computação e a Estatística."
   ]
  },
  {
   "cell_type": "markdown",
   "metadata": {},
   "source": [
    "### Alguma dúvida? Entre em contato comigo:"
   ]
  },
  {
   "cell_type": "markdown",
   "metadata": {},
   "source": [
    "- [Me envie um e-mail](mailto:alysson.barbosa@ee.ufcg.edu.br);"
   ]
  }
 ],
 "metadata": {
  "kernelspec": {
   "display_name": "Python 3",
   "language": "python",
   "name": "python3"
  },
  "language_info": {
   "codemirror_mode": {
    "name": "ipython",
    "version": 3
   },
   "file_extension": ".py",
   "mimetype": "text/x-python",
   "name": "python",
   "nbconvert_exporter": "python",
   "pygments_lexer": "ipython3",
   "version": "3.7.4"
  }
 },
 "nbformat": 4,
 "nbformat_minor": 4
}
