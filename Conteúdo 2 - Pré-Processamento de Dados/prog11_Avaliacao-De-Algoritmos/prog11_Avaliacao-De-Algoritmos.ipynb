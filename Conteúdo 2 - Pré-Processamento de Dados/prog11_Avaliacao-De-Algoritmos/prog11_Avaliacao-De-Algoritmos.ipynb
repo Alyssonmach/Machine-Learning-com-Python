{
 "cells": [
  {
   "cell_type": "markdown",
   "metadata": {},
   "source": [
    "# Avaliação de Algoritmos\n",
    "### Arquitetura de modelos de Inteligência Artificial"
   ]
  },
  {
   "cell_type": "markdown",
   "metadata": {},
   "source": [
    "Quando estamos interessandos em fazer uma algoritmo de inteligência artificial, precisamos ter como ferramentas os seguintes itens:\n",
    "> 1. Uma base de dados;\n",
    "> 2. Saber exatamente os parâmetros de avaliação que será exigido do algoritmo;\n",
    "> 3. Método mais eficaz para a resolução daquele problema;"
   ]
  },
  {
   "cell_type": "markdown",
   "metadata": {},
   "source": [
    "Através da análise de atributos **previsores**, conseguimos obter atributos **meta classe**, que é uma estimativa baseada nos registros (atributos previsores), na qual cada estimativa vai depender do modelo usado para construir o algoritmo. Devemos ter uma base de dados para ser o **modelo de treinamento** do algoritmo e outra, completamente diferente, para servir como um **modelo de teste**, na qual poderemos testar a qualidade de estimativa do algoritmo. Vale a pena salientar que toda base de dados usada em treinamento e teste, deve ser constituida de atributos previsores com meta classes definidas, a única diferença, além dos dados, é que a meta classe do modelo de teste será um gabarito para comparar com os resultados obtidos pelo algoritmo, enquanto o modelo de treinamento usará os dois tipos de atributo para efetivamente capacitar a máquina com aquele conhecimento."
   ]
  },
  {
   "cell_type": "markdown",
   "metadata": {},
   "source": [
    "### Alguma dúvida? Entre em contato comigo:"
   ]
  },
  {
   "cell_type": "markdown",
   "metadata": {},
   "source": [
    "- [Me envie um e-mail](mailto:alyssonmachado388@gmail.com);"
   ]
  }
 ],
 "metadata": {
  "kernelspec": {
   "display_name": "Python 3",
   "language": "python",
   "name": "python3"
  },
  "language_info": {
   "codemirror_mode": {
    "name": "ipython",
    "version": 3
   },
   "file_extension": ".py",
   "mimetype": "text/x-python",
   "name": "python",
   "nbconvert_exporter": "python",
   "pygments_lexer": "ipython3",
   "version": "3.7.6"
  }
 },
 "nbformat": 4,
 "nbformat_minor": 4
}
