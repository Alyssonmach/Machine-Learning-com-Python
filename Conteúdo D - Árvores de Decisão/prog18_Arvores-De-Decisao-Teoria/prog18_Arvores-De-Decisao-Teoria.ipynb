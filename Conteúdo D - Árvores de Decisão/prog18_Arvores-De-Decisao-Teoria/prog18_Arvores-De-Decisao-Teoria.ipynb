{
 "cells": [
  {
   "cell_type": "markdown",
   "metadata": {},
   "source": [
    "# Árvores de Decisão: Teoria\n",
    "### Árvores de decisão são métodos de aprendizado de máquinas supervisionado não-paramétricos, muito utilizados em tarefas de classificação e regressão."
   ]
  },
  {
   "cell_type": "markdown",
   "metadata": {},
   "source": [
    "Nesse arquivo, será iniciado o estudo em mais um dos algoritmos famosos na área de machine learning: **Árvores de Decisão**. Esse algoritmo é bastante utilizado em métodos de aprendizado de máquina supervisionado e não-paramétricos, sendo também conveniente para os métodos de classificação e regressão (CART - Classification and Regression Trees)."
   ]
  },
  {
   "cell_type": "markdown",
   "metadata": {},
   "source": [
    "#### Árvores de Decisão: Fundamentos"
   ]
  },
  {
   "cell_type": "markdown",
   "metadata": {},
   "source": [
    "Uma árvore de decisão é um fluxograma de informações sem loop. Começamos com a primeira decisão, essa que é a mais relevante de todas (tal qual faz parte do algoritmo escolher a importância de cada campo de dados), e a partir dela, há o desmembramento de mais duas decisões, e cada uma delas terá mais duas e assim sucessivamente. A parada desse algoritmo levará diretamente para a meta classe, e as decisões são baseadas nos atributos previsores."
   ]
  },
  {
   "cell_type": "markdown",
   "metadata": {},
   "source": [
    "A definição formal usada na computação é a seguinte:"
   ]
  },
  {
   "cell_type": "markdown",
   "metadata": {},
   "source": [
    "> \"*Árvores, de um modo geral, são estruturas de dados formadas por um conjunto de elementos que armazenam informações chamadas nós. Além disso, toda árvore possui um nó chamado raiz, que possui o maior nível hierárquico (o ponto de partida) e ligações denominadas filhos. Esses filhos podem possuir seus própios filhos que por sua vez também possuem os seus. Uma árvore de decisão nada mais é que uma árvore que armazena regras nos seus nós, e eles representam decisões a serem tomadas*\"."
   ]
  },
  {
   "cell_type": "markdown",
   "metadata": {},
   "source": [
    "Quando dizemos que o algoritmo é supervisionado, é porque há a necessidade de um observador para validar se aquele resultado está correto ou não. Já quando se diz que o algoritmo é não-paramétrico, é porque não assumimos nada sobre os dados de antemão, e isso garante força ao algoritmo, diferenciando-o de um outro simplesmente construído com estruturas de decisões simples."
   ]
  },
  {
   "cell_type": "markdown",
   "metadata": {},
   "source": [
    "Obviamente, na parte do treinamento do algoritmo, é visado obter uma árvore de dados a partir dos registros informados. Será também reservada uma porcentagem do banco de dados para servir de treinamento e outra para servir de teste, assim como a separação entre os atributos previsores e meta classe."
   ]
  },
  {
   "cell_type": "markdown",
   "metadata": {},
   "source": [
    "#### Decisão na hierárquia dos dados"
   ]
  },
  {
   "cell_type": "markdown",
   "metadata": {},
   "source": [
    "Como foi dito anteriormente, uma parte muito importante do algoritmo é definir a hierárquia entre os campos de dados, os mais importantes estão mais próximos da raiz, e os menos importantes estão longe dela. O limite da folha é considerado os dados meta classe ou o resultado do algoritmo em sí. Quem está localizado na área compreendida entre a raiz e a folha são os atributos previsores. "
   ]
  },
  {
   "cell_type": "markdown",
   "metadata": {},
   "source": [
    "Para classificar a importância dos campos de dados, são utilizadas duas fórmulas: a de entropia e a de ganho. Abaixo você pode consultar ambas:"
   ]
  },
  {
   "cell_type": "markdown",
   "metadata": {},
   "source": [
    "- $Entropia(S) = \\underbrace{ \\sum_{i=1}^{c} -pi.log_{2}.pi } \\\\ $  "
   ]
  },
  {
   "cell_type": "markdown",
   "metadata": {},
   "source": [
    "> **pi = porcentagem do elemento**"
   ]
  },
  {
   "cell_type": "markdown",
   "metadata": {},
   "source": [
    "- $Ganho(S,A) = Entropia(S) - \\sum_{Values(A)}\\frac{|S_{v}|}{S}Entropia(S_{v})$"
   ]
  },
  {
   "cell_type": "markdown",
   "metadata": {},
   "source": [
    "Observe que a fórmula de ganho é dependente da fórmula de entropia, e é ela que vai dar o aval sobre qual a ordem de relevância será considerada entre os campos de dados. Além disso, considera-se os sub-campos de dados também, visando tornar a escolha mais precisa. Enquanto isso, a fórmula de entropia serve para indicar o quão organizado está o nível dos dados usados. Por fim, o cálculo é refeito para cada um dos filhos, levando em consideração somente os dados que se encaixam nas decisões tomadas anteriormente (caso o valor do ganho seja muito baixo, é possível que algum dado não seja utilizado em uma das ramificações)."
   ]
  },
  {
   "cell_type": "markdown",
   "metadata": {},
   "source": [
    "Para evitar a reinvenção da roda, não é preciso ficar preocupado com as fórmulas acima, pois o Python, especificamente bibliotecas do scikit-learn, possuem funções prontas para realizar tal tarefa. Dessa forma, será importante focar as atenções em como será utilizado o algoritmo desse estágio em diante (tendo clareza de como o algoritmo funciona), assim como acontece com a evolução de qualquer tecnologia no mundo atual."
   ]
  },
  {
   "cell_type": "markdown",
   "metadata": {},
   "source": [
    "#### Realizando podas"
   ]
  },
  {
   "cell_type": "markdown",
   "metadata": {},
   "source": [
    "Após a árvore de dados ser construida, é possível também que haja a realização de uma poda. Assim como na vida real, fazemos uma poda em uma árvore de decisões para remover as partes que não são interessantes para o algoritmo ou, em alguns casos, podem chegar a prejudicá-lo. Por esse motivo, dizemos que a construção de uma árvore de decisões é feita por supervisão."
   ]
  },
  {
   "cell_type": "markdown",
   "metadata": {},
   "source": [
    "Há dois termos importantes que são levados em conta no processo de realização da poda. São eles:"
   ]
  },
  {
   "cell_type": "markdown",
   "metadata": {},
   "source": [
    "- Bias (Viés)\n",
    "> Erros causados por classificação errada;"
   ]
  },
  {
   "cell_type": "markdown",
   "metadata": {},
   "source": [
    "- Variância\n",
    "> - Erros por sensibilidade pequena a mudanças na base de dados;  \n",
    "> - Pode levar ao overfitting, esse que ocorre quando o algoritmo se adapta muito bem aos dados do algoritmo, mas na prática, gera muitos erros. Semelhante a decorar um assunto ao invés de aprender;"
   ]
  },
  {
   "cell_type": "markdown",
   "metadata": {},
   "source": [
    "A poda tem a tendência natural a dar resultados melhores no algoritmo. Entretanto, caso seja feita de forma incorreta, pode levá-lo a perder sua capacidade preditiva. Desse modo, essa ferramenta deve ser utilizada somente quando realmente houver necessidade, e sempre é necessário estar observando a porcentagem de acertos após cada modificação, afim de ficar somente com as alterações que a levarão para a maior capacidade de prever dados acertivamente."
   ]
  },
  {
   "cell_type": "markdown",
   "metadata": {},
   "source": [
    "#### Vantagens de árvores de decisão"
   ]
  },
  {
   "cell_type": "markdown",
   "metadata": {},
   "source": [
    "- Fácil Interpretação;"
   ]
  },
  {
   "cell_type": "markdown",
   "metadata": {},
   "source": [
    "- Não há necessidade de realizar a padronização ou normalização dos dados (recursos utilizado em escalonamento dos atributos);"
   ]
  },
  {
   "cell_type": "markdown",
   "metadata": {},
   "source": [
    "#### Desvantagens de árvores de decisão"
   ]
  },
  {
   "cell_type": "markdown",
   "metadata": {},
   "source": [
    "- Geração de árvores muito complexas;"
   ]
  },
  {
   "cell_type": "markdown",
   "metadata": {},
   "source": [
    "- Pequenas mudanças nos dados pode mudar a árvore (o conceito de poda pode ser a solução nesse caso);"
   ]
  },
  {
   "cell_type": "markdown",
   "metadata": {},
   "source": [
    "- Problema NP-completo para construir a árvore (significa que teremos problemas complexos para resolver);"
   ]
  },
  {
   "cell_type": "markdown",
   "metadata": {},
   "source": [
    "#### Curiosidade"
   ]
  },
  {
   "cell_type": "markdown",
   "metadata": {},
   "source": [
    "As árvores de decisão eram muito populares nos anos de 1990. Atualmente, as redes neurais são utilizadas como uma opção mais viável. Porém, isso não significa que as árvores de decisão foram abandonadas por completo. Ao longo dos tempos, esse algoritmo recebeu inúmeras melhorias, como o random forest (também chamado de floresta randômica). Essa última implementação, por exemplo, é utilizada nas tecnologias da Microsoft nos produtos Kinect, do console Xbox."
   ]
  },
  {
   "cell_type": "markdown",
   "metadata": {},
   "source": [
    "### Alguma dúvida? Entre em contato comigo:"
   ]
  },
  {
   "cell_type": "markdown",
   "metadata": {},
   "source": [
    "- [Me envie um e-mail](mailto:alysson.barbosa@ee.ufcg.edu.br);"
   ]
  }
 ],
 "metadata": {
  "kernelspec": {
   "display_name": "Python 3",
   "language": "python",
   "name": "python3"
  },
  "language_info": {
   "codemirror_mode": {
    "name": "ipython",
    "version": 3
   },
   "file_extension": ".py",
   "mimetype": "text/x-python",
   "name": "python",
   "nbconvert_exporter": "python",
   "pygments_lexer": "ipython3",
   "version": "3.7.4"
  }
 },
 "nbformat": 4,
 "nbformat_minor": 4
}
