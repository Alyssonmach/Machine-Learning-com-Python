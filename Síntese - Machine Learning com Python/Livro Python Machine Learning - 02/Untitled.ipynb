{
 "cells": [
  {
   "cell_type": "markdown",
   "metadata": {},
   "source": [
    "# Machine Learning: Treinamento simples de um algoritmo"
   ]
  },
  {
   "cell_type": "markdown",
   "metadata": {},
   "source": [
    "Nesse documento será testado dois principais algoritmos recorrentes na área de Machine Learning usados para fazer classificação: **perceptron** e **neurônios lineares adaptativos**."
   ]
  },
  {
   "cell_type": "markdown",
   "metadata": {},
   "source": [
    "Com o perceptron, será utilizado uma base de treinamento com diferentes informações sobre flores para dar a capacidade do algoritmo classificar diferentes espécies de flores. Além disso, todo processo será feito utilizando a linguagem de programação Python."
   ]
  },
  {
   "cell_type": "markdown",
   "metadata": {},
   "source": [
    "A partir da discussão de conceitos básicos de otimização usando neurônios lineares adaptativos, será criado uma forte base para a utilização de classificadores mais poderosos por meio da biblioteca **scikit-learn**."
   ]
  },
  {
   "cell_type": "markdown",
   "metadata": {},
   "source": [
    "Os conteúdos que serão abordados nesse arquivo será:"
   ]
  },
  {
   "cell_type": "markdown",
   "metadata": {},
   "source": [
    "- Construção de uma capacidade intuitiva para o algoritmo;\n",
    "- Será utilizada as bibliotecas pandas, NumPy e Matplotlib para ler, processar e visualizar os dados;\n",
    "- Implementação de algoritmos de classificação linear no Python;"
   ]
  },
  {
   "cell_type": "markdown",
   "metadata": {},
   "source": [
    "#### Neurônios Artificias - O início do Machine Learning"
   ]
  },
  {
   "cell_type": "markdown",
   "metadata": {},
   "source": [
    "Antes da discussão sobre o perceptron ser iniciada, vale a pena fazer uma pequena análise sobre os passos primordiais na área da machine learning. "
   ]
  },
  {
   "cell_type": "markdown",
   "metadata": {},
   "source": [
    "Tentando entender como o neurônio biológico funciona, Warren McCullock and Walter Pitts publicaram o primeiro conceito simplificado sobre a célula nervosa cerebral, denominando-a de neurônio McCullock-Pitts  em 1943. "
   ]
  },
  {
   "cell_type": "markdown",
   "metadata": {},
   "source": [
    "> \"Neurônios são células nervosas interconectadas, envolvidas no processo de transisão de sinais elétricos e químicos\"."
   ]
  },
  {
   "attachments": {},
   "cell_type": "markdown",
   "metadata": {},
   "source": [
    "![neurônios.png](neurônios.png)"
   ]
  },
  {
   "cell_type": "markdown",
   "metadata": {},
   "source": [
    "McCullock e Pitts descreveram a célula nervosa como uma porta lógica simples com saídas binárias. Múltiplos sinais entram nos dendritos, esses que são integrados no corpo da célula e, se o sinal acumulado exceder um certo limite, é gerado um sinal de saída que será transmitido ao axônio."
   ]
  },
  {
   "cell_type": "markdown",
   "metadata": {},
   "source": [
    "Alguns anos depois, Frank Rossenblatt  publico seu primeiro conceito sobre a regra de aprendizado Perceptron baseado no modelo de neurônio de McCullock-Pitts."
   ]
  },
  {
   "cell_type": "markdown",
   "metadata": {},
   "source": [
    "Com sua regra do perceptron, Rosenblatt propôs um algoritmo que aprenderia automaticamente os coeficientes de peso ideais que são então multiplicados pelos recursos de entrada para tomar a decisão de um neurônio disparar ou não. No contexto da aprendizagem e classificação supervisionadas, esse algoritmo pode ser usado para prever se uma amostra pertence a uma classe ou a outra, exatamente a finalidade da classificação."
   ]
  },
  {
   "cell_type": "markdown",
   "metadata": {},
   "source": [
    "#### A definição formal de um neurônio artificial"
   ]
  },
  {
   "cell_type": "code",
   "execution_count": null,
   "metadata": {},
   "outputs": [],
   "source": []
  }
 ],
 "metadata": {
  "kernelspec": {
   "display_name": "Python 3",
   "language": "python",
   "name": "python3"
  },
  "language_info": {
   "codemirror_mode": {
    "name": "ipython",
    "version": 3
   },
   "file_extension": ".py",
   "mimetype": "text/x-python",
   "name": "python",
   "nbconvert_exporter": "python",
   "pygments_lexer": "ipython3",
   "version": "3.7.4"
  }
 },
 "nbformat": 4,
 "nbformat_minor": 2
}
