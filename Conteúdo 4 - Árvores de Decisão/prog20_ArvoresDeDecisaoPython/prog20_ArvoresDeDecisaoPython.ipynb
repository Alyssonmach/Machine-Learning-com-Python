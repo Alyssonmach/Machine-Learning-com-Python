{
 "cells": [
  {
   "cell_type": "markdown",
   "metadata": {},
   "source": [
    "# Árvores de Decisão\n",
    "### Algoritmo árvores de decisão usado em uma base de dados sobre créditos."
   ]
  },
  {
   "cell_type": "markdown",
   "metadata": {},
   "source": [
    "Nesse arquivo, será feito uma predição para pessoas que tem chances de pagar ou não alguma ação bancária com base em seus dados previsores."
   ]
  },
  {
   "cell_type": "markdown",
   "metadata": {},
   "source": [
    "#### Pré- processamento da base de dados"
   ]
  },
  {
   "cell_type": "code",
   "execution_count": 1,
   "metadata": {},
   "outputs": [],
   "source": [
    "# importando a biblioteca pandas do python\n",
    "import pandas as pd\n",
    "\n",
    "# importando a base de dados em \"dataframe\"\n",
    "dataframe = pd.read_csv(\"Dados de Credito.csv\", encoding = \"UTF-8\", sep = \",\")\n",
    "\n",
    "# usando o atributo \"loc\" para localizar os registros em que  as idades menores que 0 existem, no campo de \n",
    "# dados \"age\", e fazer a atribuição com o valor médio dos valores maiores que 0 (40.92770044906149)\n",
    "dataframe.loc[dataframe.age < 0, \"age\"] = 40.92770044906149\n",
    "\n",
    "# separando os atributos previsores e os meta classe do nosso banco de dados\n",
    "previsores = dataframe.iloc[:,1:4].values\n",
    "meta_classe = dataframe.iloc[:,4].values\n",
    "\n",
    "# importando a biblioteca sklearn do python\n",
    "from sklearn.impute import SimpleImputer\n",
    "# função \"SimpleImputer\" responsável por corrigir valores faltantes na base de dados\n",
    "\n",
    "# importando a biblioteca numpy do python\n",
    "import numpy as np\n",
    "# ela será responsável por categorizar os valores nulos na base de dados \n",
    "\n",
    "# criando  o objeto \"imputer\"\n",
    "imputer = SimpleImputer(missing_values = np.nan, strategy = \"mean\")\n",
    "\n",
    "# observando o objeto \"imputer\"\n",
    "imputer\n",
    "\n",
    "# definindo o objeto \"imputer\" na nossa base de dados\n",
    "imputer = imputer.fit(previsores[:,0:3])\n",
    "\n",
    "# aplicando a transformação dos dados para correção de valores faltantes nos atributos previsores \n",
    "# usando o objeto \"imputer\"\n",
    "previsores[:,0:3] = imputer.transform(previsores[:,0:3])\n",
    "\n",
    "# importando a biblioteca sklearn do python\n",
    "from sklearn.preprocessing import StandardScaler\n",
    "# a função \"StandardScaler\" tem a função de escalonas toda a base de dados para corrigir a discrepância\n",
    "# dos valores\n",
    "\n",
    "# criando o objeto \"scaler\"\n",
    "scaler = StandardScaler()\n",
    "\n",
    "# aplicando a transformação de escalonamento nos atributos previsores usando o nosso objeto \"scaler\"\n",
    "previsores = scaler.fit_transform(previsores)\n",
    "\n",
    "# importando a biblioteca sklearn do python\n",
    "from sklearn.model_selection import train_test_split\n",
    "# a função \"train_test_split\" tem a importância de separar modelos de treinamento e modelos de teste\n",
    "# em uma base de dados\n",
    "\n",
    "# definir os modelos de treinamento e modelo de teste para os atributos previsores e meta classe\n",
    "previsores_treinamento, previsores_teste, classe_treinamento, classe_teste = train_test_split(previsores, \n",
    "                                                                                              meta_classe, \n",
    "                                                                                          test_size = 0.25,\n",
    "                                                                                        random_state = 0)"
   ]
  },
  {
   "cell_type": "markdown",
   "metadata": {},
   "source": [
    "#### Algoritmo de Árvores de Decisão com Python"
   ]
  },
  {
   "cell_type": "code",
   "execution_count": 2,
   "metadata": {},
   "outputs": [],
   "source": [
    "# importando o pacote sklearn do python\n",
    "from sklearn.tree import DecisionTreeClassifier\n",
    "# função \"DecisionTreeClassifier\" responsável por criar a árvore de decisão"
   ]
  },
  {
   "cell_type": "code",
   "execution_count": 3,
   "metadata": {},
   "outputs": [],
   "source": [
    "# criando o objeto \"classificador\", esse que receberá a árvore de decisão relativa a base de dados trabalhada\n",
    "classificador = DecisionTreeClassifier(criterion = \"entropy\", random_state = 0)\n",
    "# usa a fórmula da entropia e do ganho para fazer o critério dos dados mais relevantes\n",
    "# definine um estado randômico como zero para garantir que em qualquer ocasião o algoritmo obtenha o mesmo resultado para uma\n",
    "# base de dados analisada"
   ]
  },
  {
   "cell_type": "code",
   "execution_count": 4,
   "metadata": {},
   "outputs": [
    {
     "data": {
      "text/plain": [
       "DecisionTreeClassifier(ccp_alpha=0.0, class_weight=None, criterion='entropy',\n",
       "                       max_depth=None, max_features=None, max_leaf_nodes=None,\n",
       "                       min_impurity_decrease=0.0, min_impurity_split=None,\n",
       "                       min_samples_leaf=1, min_samples_split=2,\n",
       "                       min_weight_fraction_leaf=0.0, presort='deprecated',\n",
       "                       random_state=0, splitter='best')"
      ]
     },
     "execution_count": 4,
     "metadata": {},
     "output_type": "execute_result"
    }
   ],
   "source": [
    "# fazendo o treinamento com a base de dados \n",
    "classificador.fit(previsores_treinamento, classe_treinamento)"
   ]
  },
  {
   "cell_type": "markdown",
   "metadata": {},
   "source": [
    "### Visualizando a árvore de decisão usando o Graphviz"
   ]
  },
  {
   "cell_type": "markdown",
   "metadata": {},
   "source": [
    "Uma ferramenta poderosa para visualizar árvores de decisão é um software chamado Graphviz. Observe abaixo como fazer essa criação."
   ]
  },
  {
   "cell_type": "code",
   "execution_count": 9,
   "metadata": {},
   "outputs": [],
   "source": [
    "# importando a biblioteca sklearn do python\n",
    "from sklearn.tree import DecisionTreeClassifier, export"
   ]
  },
  {
   "cell_type": "code",
   "execution_count": 11,
   "metadata": {},
   "outputs": [],
   "source": [
    "# criando o arquivo \"arvore.dot\" com códigos renderizáveis no Graphviz\n",
    "export.export_graphviz(classificador, out_file = 'arvore.dot', \n",
    "                       feature_names = ['renda', 'idade', 'empréstimo'],\n",
    "                       class_names = ['não pagará', 'pagará'],\n",
    "                       filled = True, leaves_parallel = True)"
   ]
  },
  {
   "cell_type": "markdown",
   "metadata": {},
   "source": [
    "Nesse caso, foi usado um recurso para visualização de árvores de decisão usando o graphviz. Foi criado um arquivo de nome \"arvore.dot\", assim como foi especificado no atributo \"export_graphviz\". Use os links abaixo para visualizar esses recurso, basta apenas copiar e colar as linhas de códigos criadas no documento que será criado após executar o comando acima."
   ]
  },
  {
   "cell_type": "markdown",
   "metadata": {},
   "source": [
    "#### Links para o Graphviz"
   ]
  },
  {
   "cell_type": "markdown",
   "metadata": {},
   "source": [
    "- [Graphviz Online](https://dreampuf.github.io/GraphvizOnline/);"
   ]
  },
  {
   "cell_type": "markdown",
   "metadata": {},
   "source": [
    "- [Árvore de Decisão com a Árvore de Decisão de Créditos](https://dreampuf.github.io/GraphvizOnline/#digraph%20Tree%20%7B%0Anode%20%5Bshape%3Dbox%2C%20style%3D%22filled%22%2C%20color%3D%22black%22%5D%20%3B%0Agraph%20%5Branksep%3Dequally%2C%20splines%3Dpolyline%5D%20%3B%0A0%20%5Blabel%3D%22idade%20%3C%3D%20-0.453%5Cnentropy%20%3D%200.6%5Cnsamples%20%3D%201500%5Cnvalue%20%3D%20%5B1281%2C%20219%5D%5Cnclass%20%3D%20n%C3%A3o%20pagar%C3%A1%22%2C%20fillcolor%3D%22%23e9975b%22%5D%20%3B%0A1%20%5Blabel%3D%22empr%C3%A9stimo%20%3C%3D%20-0.253%5Cnentropy%20%3D%200.963%5Cnsamples%20%3D%20565%5Cnvalue%20%3D%20%5B346%2C%20219%5D%5Cnclass%20%3D%20n%C3%A3o%20pagar%C3%A1%22%2C%20fillcolor%3D%22%23f5d1b6%22%5D%20%3B%0A0%20-%3E%201%20%5Blabeldistance%3D2.5%2C%20labelangle%3D45%2C%20headlabel%3D%22True%22%5D%20%3B%0A2%20%5Blabel%3D%22renda%20%3C%3D%20-1.241%5Cnentropy%20%3D%200.284%5Cnsamples%20%3D%20263%5Cnvalue%20%3D%20%5B250%2C%2013%5D%5Cnclass%20%3D%20n%C3%A3o%20pagar%C3%A1%22%2C%20fillcolor%3D%22%23e68843%22%5D%20%3B%0A1%20-%3E%202%20%3B%0A3%20%5Blabel%3D%22empr%C3%A9stimo%20%3C%3D%20-0.644%5Cnentropy%20%3D%200.722%5Cnsamples%20%3D%2065%5Cnvalue%20%3D%20%5B52%2C%2013%5D%5Cnclass%20%3D%20n%C3%A3o%20pagar%C3%A1%22%2C%20fillcolor%3D%22%23eca06a%22%5D%20%3B%0A2%20-%3E%203%20%3B%0A4%20%5Blabel%3D%22entropy%20%3D%200.0%5Cnsamples%20%3D%2046%5Cnvalue%20%3D%20%5B46%2C%200%5D%5Cnclass%20%3D%20n%C3%A3o%20pagar%C3%A1%22%2C%20fillcolor%3D%22%23e58139%22%5D%20%3B%0A3%20-%3E%204%20%3B%0A5%20%5Blabel%3D%22renda%20%3C%3D%20-1.64%5Cnentropy%20%3D%200.9%5Cnsamples%20%3D%2019%5Cnvalue%20%3D%20%5B6%2C%2013%5D%5Cnclass%20%3D%20pagar%C3%A1%22%2C%20fillcolor%3D%22%2394caf1%22%5D%20%3B%0A3%20-%3E%205%20%3B%0A6%20%5Blabel%3D%22entropy%20%3D%200.0%5Cnsamples%20%3D%208%5Cnvalue%20%3D%20%5B0%2C%208%5D%5Cnclass%20%3D%20pagar%C3%A1%22%2C%20fillcolor%3D%22%23399de5%22%5D%20%3B%0A5%20-%3E%206%20%3B%0A7%20%5Blabel%3D%22empr%C3%A9stimo%20%3C%3D%20-0.487%5Cnentropy%20%3D%200.994%5Cnsamples%20%3D%2011%5Cnvalue%20%3D%20%5B6%2C%205%5D%5Cnclass%20%3D%20n%C3%A3o%20pagar%C3%A1%22%2C%20fillcolor%3D%22%23fbeade%22%5D%20%3B%0A5%20-%3E%207%20%3B%0A8%20%5Blabel%3D%22entropy%20%3D%200.0%5Cnsamples%20%3D%206%5Cnvalue%20%3D%20%5B6%2C%200%5D%5Cnclass%20%3D%20n%C3%A3o%20pagar%C3%A1%22%2C%20fillcolor%3D%22%23e58139%22%5D%20%3B%0A7%20-%3E%208%20%3B%0A9%20%5Blabel%3D%22entropy%20%3D%200.0%5Cnsamples%20%3D%205%5Cnvalue%20%3D%20%5B0%2C%205%5D%5Cnclass%20%3D%20pagar%C3%A1%22%2C%20fillcolor%3D%22%23399de5%22%5D%20%3B%0A7%20-%3E%209%20%3B%0A10%20%5Blabel%3D%22entropy%20%3D%200.0%5Cnsamples%20%3D%20198%5Cnvalue%20%3D%20%5B198%2C%200%5D%5Cnclass%20%3D%20n%C3%A3o%20pagar%C3%A1%22%2C%20fillcolor%3D%22%23e58139%22%5D%20%3B%0A2%20-%3E%2010%20%3B%0A11%20%5Blabel%3D%22empr%C3%A9stimo%20%3C%3D%201.074%5Cnentropy%20%3D%200.902%5Cnsamples%20%3D%20302%5Cnvalue%20%3D%20%5B96%2C%20206%5D%5Cnclass%20%3D%20pagar%C3%A1%22%2C%20fillcolor%3D%22%2395cbf1%22%5D%20%3B%0A1%20-%3E%2011%20%3B%0A12%20%5Blabel%3D%22renda%20%3C%3D%200.109%5Cnentropy%20%3D%200.993%5Cnsamples%20%3D%20210%5Cnvalue%20%3D%20%5B95%2C%20115%5D%5Cnclass%20%3D%20pagar%C3%A1%22%2C%20fillcolor%3D%22%23ddeefa%22%5D%20%3B%0A11%20-%3E%2012%20%3B%0A13%20%5Blabel%3D%22empr%C3%A9stimo%20%3C%3D%200.14%5Cnentropy%20%3D%200.547%5Cnsamples%20%3D%20111%5Cnvalue%20%3D%20%5B14%2C%2097%5D%5Cnclass%20%3D%20pagar%C3%A1%22%2C%20fillcolor%3D%22%2356abe9%22%5D%20%3B%0A12%20-%3E%2013%20%3B%0A14%20%5Blabel%3D%22renda%20%3C%3D%20-0.867%5Cnentropy%20%3D%200.918%5Cnsamples%20%3D%2042%5Cnvalue%20%3D%20%5B14%2C%2028%5D%5Cnclass%20%3D%20pagar%C3%A1%22%2C%20fillcolor%3D%22%239ccef2%22%5D%20%3B%0A13%20-%3E%2014%20%3B%0A15%20%5Blabel%3D%22entropy%20%3D%200.0%5Cnsamples%20%3D%2027%5Cnvalue%20%3D%20%5B0%2C%2027%5D%5Cnclass%20%3D%20pagar%C3%A1%22%2C%20fillcolor%3D%22%23399de5%22%5D%20%3B%0A14%20-%3E%2015%20%3B%0A16%20%5Blabel%3D%22renda%20%3C%3D%20-0.705%5Cnentropy%20%3D%200.353%5Cnsamples%20%3D%2015%5Cnvalue%20%3D%20%5B14%2C%201%5D%5Cnclass%20%3D%20n%C3%A3o%20pagar%C3%A1%22%2C%20fillcolor%3D%22%23e78a47%22%5D%20%3B%0A14%20-%3E%2016%20%3B%0A17%20%5Blabel%3D%22renda%20%3C%3D%20-0.851%5Cnentropy%20%3D%201.0%5Cnsamples%20%3D%202%5Cnvalue%20%3D%20%5B1%2C%201%5D%5Cnclass%20%3D%20n%C3%A3o%20pagar%C3%A1%22%2C%20fillcolor%3D%22%23ffffff%22%5D%20%3B%0A16%20-%3E%2017%20%3B%0A18%20%5Blabel%3D%22entropy%20%3D%200.0%5Cnsamples%20%3D%201%5Cnvalue%20%3D%20%5B1%2C%200%5D%5Cnclass%20%3D%20n%C3%A3o%20pagar%C3%A1%22%2C%20fillcolor%3D%22%23e58139%22%5D%20%3B%0A17%20-%3E%2018%20%3B%0A19%20%5Blabel%3D%22entropy%20%3D%200.0%5Cnsamples%20%3D%201%5Cnvalue%20%3D%20%5B0%2C%201%5D%5Cnclass%20%3D%20pagar%C3%A1%22%2C%20fillcolor%3D%22%23399de5%22%5D%20%3B%0A17%20-%3E%2019%20%3B%0A20%20%5Blabel%3D%22entropy%20%3D%200.0%5Cnsamples%20%3D%2013%5Cnvalue%20%3D%20%5B13%2C%200%5D%5Cnclass%20%3D%20n%C3%A3o%20pagar%C3%A1%22%2C%20fillcolor%3D%22%23e58139%22%5D%20%3B%0A16%20-%3E%2020%20%3B%0A21%20%5Blabel%3D%22entropy%20%3D%200.0%5Cnsamples%20%3D%2069%5Cnvalue%20%3D%20%5B0%2C%2069%5D%5Cnclass%20%3D%20pagar%C3%A1%22%2C%20fillcolor%3D%22%23399de5%22%5D%20%3B%0A13%20-%3E%2021%20%3B%0A22%20%5Blabel%3D%22renda%20%3C%3D%200.893%5Cnentropy%20%3D%200.684%5Cnsamples%20%3D%2099%5Cnvalue%20%3D%20%5B81%2C%2018%5D%5Cnclass%20%3D%20n%C3%A3o%20pagar%C3%A1%22%2C%20fillcolor%3D%22%23eb9d65%22%5D%20%3B%0A12%20-%3E%2022%20%3B%0A23%20%5Blabel%3D%22empr%C3%A9stimo%20%3C%3D%200.655%5Cnentropy%20%3D%200.96%5Cnsamples%20%3D%2047%5Cnvalue%20%3D%20%5B29%2C%2018%5D%5Cnclass%20%3D%20n%C3%A3o%20pagar%C3%A1%22%2C%20fillcolor%3D%22%23f5cfb4%22%5D%20%3B%0A22%20-%3E%2023%20%3B%0A24%20%5Blabel%3D%22empr%C3%A9stimo%20%3C%3D%200.46%5Cnentropy%20%3D%200.449%5Cnsamples%20%3D%2032%5Cnvalue%20%3D%20%5B29%2C%203%5D%5Cnclass%20%3D%20n%C3%A3o%20pagar%C3%A1%22%2C%20fillcolor%3D%22%23e88e4d%22%5D%20%3B%0A23%20-%3E%2024%20%3B%0A25%20%5Blabel%3D%22entropy%20%3D%200.0%5Cnsamples%20%3D%2024%5Cnvalue%20%3D%20%5B24%2C%200%5D%5Cnclass%20%3D%20n%C3%A3o%20pagar%C3%A1%22%2C%20fillcolor%3D%22%23e58139%22%5D%20%3B%0A24%20-%3E%2025%20%3B%0A26%20%5Blabel%3D%22renda%20%3C%3D%200.377%5Cnentropy%20%3D%200.954%5Cnsamples%20%3D%208%5Cnvalue%20%3D%20%5B5%2C%203%5D%5Cnclass%20%3D%20n%C3%A3o%20pagar%C3%A1%22%2C%20fillcolor%3D%22%23f5cdb0%22%5D%20%3B%0A24%20-%3E%2026%20%3B%0A27%20%5Blabel%3D%22entropy%20%3D%200.0%5Cnsamples%20%3D%203%5Cnvalue%20%3D%20%5B0%2C%203%5D%5Cnclass%20%3D%20pagar%C3%A1%22%2C%20fillcolor%3D%22%23399de5%22%5D%20%3B%0A26%20-%3E%2027%20%3B%0A28%20%5Blabel%3D%22entropy%20%3D%200.0%5Cnsamples%20%3D%205%5Cnvalue%20%3D%20%5B5%2C%200%5D%5Cnclass%20%3D%20n%C3%A3o%20pagar%C3%A1%22%2C%20fillcolor%3D%22%23e58139%22%5D%20%3B%0A26%20-%3E%2028%20%3B%0A29%20%5Blabel%3D%22entropy%20%3D%200.0%5Cnsamples%20%3D%2015%5Cnvalue%20%3D%20%5B0%2C%2015%5D%5Cnclass%20%3D%20pagar%C3%A1%22%2C%20fillcolor%3D%22%23399de5%22%5D%20%3B%0A23%20-%3E%2029%20%3B%0A30%20%5Blabel%3D%22entropy%20%3D%200.0%5Cnsamples%20%3D%2052%5Cnvalue%20%3D%20%5B52%2C%200%5D%5Cnclass%20%3D%20n%C3%A3o%20pagar%C3%A1%22%2C%20fillcolor%3D%22%23e58139%22%5D%20%3B%0A22%20-%3E%2030%20%3B%0A31%20%5Blabel%3D%22renda%20%3C%3D%201.683%5Cnentropy%20%3D%200.087%5Cnsamples%20%3D%2092%5Cnvalue%20%3D%20%5B1%2C%2091%5D%5Cnclass%20%3D%20pagar%C3%A1%22%2C%20fillcolor%3D%22%233b9ee5%22%5D%20%3B%0A11%20-%3E%2031%20%3B%0A32%20%5Blabel%3D%22entropy%20%3D%200.0%5Cnsamples%20%3D%2089%5Cnvalue%20%3D%20%5B0%2C%2089%5D%5Cnclass%20%3D%20pagar%C3%A1%22%2C%20fillcolor%3D%22%23399de5%22%5D%20%3B%0A31%20-%3E%2032%20%3B%0A33%20%5Blabel%3D%22renda%20%3C%3D%201.685%5Cnentropy%20%3D%200.918%5Cnsamples%20%3D%203%5Cnvalue%20%3D%20%5B1%2C%202%5D%5Cnclass%20%3D%20pagar%C3%A1%22%2C%20fillcolor%3D%22%239ccef2%22%5D%20%3B%0A31%20-%3E%2033%20%3B%0A34%20%5Blabel%3D%22entropy%20%3D%200.0%5Cnsamples%20%3D%201%5Cnvalue%20%3D%20%5B1%2C%200%5D%5Cnclass%20%3D%20n%C3%A3o%20pagar%C3%A1%22%2C%20fillcolor%3D%22%23e58139%22%5D%20%3B%0A33%20-%3E%2034%20%3B%0A35%20%5Blabel%3D%22entropy%20%3D%200.0%5Cnsamples%20%3D%202%5Cnvalue%20%3D%20%5B0%2C%202%5D%5Cnclass%20%3D%20pagar%C3%A1%22%2C%20fillcolor%3D%22%23399de5%22%5D%20%3B%0A33%20-%3E%2035%20%3B%0A36%20%5Blabel%3D%22entropy%20%3D%200.0%5Cnsamples%20%3D%20935%5Cnvalue%20%3D%20%5B935%2C%200%5D%5Cnclass%20%3D%20n%C3%A3o%20pagar%C3%A1%22%2C%20fillcolor%3D%22%23e58139%22%5D%20%3B%0A0%20-%3E%2036%20%5Blabeldistance%3D2.5%2C%20labelangle%3D-45%2C%20headlabel%3D%22False%22%5D%20%3B%0A%7Brank%3Dsame%20%3B%200%7D%20%3B%0A%7Brank%3Dsame%20%3B%201%7D%20%3B%0A%7Brank%3Dsame%20%3B%202%3B%2011%7D%20%3B%0A%7Brank%3Dsame%20%3B%203%3B%2012%3B%2031%7D%20%3B%0A%7Brank%3Dsame%20%3B%205%3B%2013%3B%2022%3B%2033%7D%20%3B%0A%7Brank%3Dsame%20%3B%207%3B%2014%3B%2023%7D%20%3B%0A%7Brank%3Dsame%20%3B%2016%3B%2024%7D%20%3B%0A%7Brank%3Dsame%20%3B%2017%3B%2026%7D%20%3B%0A%7Brank%3Dsame%20%3B%204%3B%206%3B%208%3B%209%3B%2010%3B%2015%3B%2018%3B%2019%3B%2020%3B%2021%3B%2025%3B%2027%3B%2028%3B%2029%3B%2030%3B%2032%3B%2034%3B%2035%3B%2036%7D%20%3B%0A%7D);"
   ]
  },
  {
   "cell_type": "markdown",
   "metadata": {},
   "source": [
    "A árvore de decisão criada para essa base de dados pode ser visualizada abaixo:"
   ]
  },
  {
   "cell_type": "markdown",
   "metadata": {},
   "source": [
    "![Árvore de Decisão](graphviz.png)"
   ]
  },
  {
   "cell_type": "markdown",
   "metadata": {},
   "source": [
    "#### Testando a Capacidade de Predição do Algoritmo"
   ]
  },
  {
   "cell_type": "code",
   "execution_count": 5,
   "metadata": {},
   "outputs": [],
   "source": [
    "# usando a base de dados de teste para analisar a capacidade de predição do algoritmo feito\n",
    "previsoes = classificador.predict(previsores_teste)"
   ]
  },
  {
   "cell_type": "code",
   "execution_count": 6,
   "metadata": {},
   "outputs": [
    {
     "name": "stdout",
     "output_type": "stream",
     "text": [
      "[1 0 0 0 0 0 0 0 0 0 0 0 0 0 0 0 1 0 0 1 0 0 0 0 0 0 0 0 0 0 0 0 0 0 0 1 1\n",
      " 0 0 0 0 0 0 0 0 1 1 0 1 0 0 0 0 0 0 0 0 0 0 1 0 0 0 1 0 0 0 0 0 1 0 0 1 0\n",
      " 0 1 0 0 1 0 0 0 0 0 0 0 1 0 0 0 0 0 0 0 0 0 0 0 0 0 0 0 0 1 0 0 0 0 0 1 0\n",
      " 0 1 0 0 0 0 0 0 0 0 0 0 0 0 0 0 0 0 0 0 1 0 0 0 0 0 0 0 0 0 0 0 0 1 0 0 0\n",
      " 0 0 0 0 1 0 0 0 0 0 0 0 0 0 0 0 0 1 0 0 0 1 0 0 0 0 0 0 0 1 0 0 0 0 0 1 0\n",
      " 0 0 1 1 0 0 0 1 0 0 0 0 0 0 0 0 0 0 0 0 0 1 1 0 1 0 0 0 0 0 0 0 0 0 0 1 0\n",
      " 0 0 0 0 0 0 0 1 0 0 0 0 0 0 0 0 0 0 0 0 0 1 1 0 1 1 0 0 0 0 0 0 0 0 0 0 1\n",
      " 0 1 0 0 0 0 0 0 0 0 0 0 0 0 0 0 0 0 0 0 0 0 0 0 0 0 0 0 0 0 0 0 0 0 0 0 0\n",
      " 1 0 0 0 0 0 0 0 1 0 0 0 0 0 1 1 0 0 0 1 0 0 0 0 0 1 0 0 0 0 0 1 0 0 0 0 0\n",
      " 0 0 1 0 0 0 0 0 0 1 0 0 0 0 0 0 1 0 0 0 0 0 1 0 0 0 0 0 0 0 0 0 0 0 0 0 0\n",
      " 0 0 0 0 0 0 0 0 1 0 0 0 0 0 0 0 1 0 0 0 0 0 0 0 0 0 0 0 0 0 1 0 0 0 0 0 0\n",
      " 0 0 0 1 0 0 0 0 0 0 0 0 0 0 0 0 0 0 0 0 0 0 0 0 1 0 0 0 0 0 0 0 0 0 1 0 0\n",
      " 1 0 0 0 0 0 0 0 1 0 0 0 0 0 0 0 0 0 0 0 1 0 0 0 0 0 0 0 0 0 0 0 0 1 0 0 0\n",
      " 0 0 0 0 0 1 0 0 0 1 0 0 0 0 0 0 0 1 1]\n"
     ]
    }
   ],
   "source": [
    "# observando a classe teste\n",
    "print(classe_teste)"
   ]
  },
  {
   "cell_type": "code",
   "execution_count": 7,
   "metadata": {},
   "outputs": [
    {
     "name": "stdout",
     "output_type": "stream",
     "text": [
      "[1 0 0 0 0 0 0 0 0 0 0 0 0 0 0 0 1 0 0 1 0 0 0 0 0 0 0 0 0 0 0 0 0 0 0 1 1\n",
      " 0 0 0 0 0 0 0 0 1 1 0 1 0 0 0 0 0 0 0 0 0 0 1 0 0 0 1 0 0 0 0 0 1 0 0 1 0\n",
      " 0 1 0 0 1 0 0 0 0 0 0 0 1 0 0 0 0 0 0 0 0 0 0 0 0 0 0 0 0 1 0 0 1 0 0 0 0\n",
      " 0 1 0 0 0 0 0 0 0 1 0 0 0 0 0 0 0 0 0 0 1 0 0 0 0 0 0 0 0 0 0 0 0 1 0 0 0\n",
      " 0 0 0 0 1 0 0 0 0 0 0 0 0 0 0 0 0 1 0 0 0 0 0 0 0 0 0 0 0 1 0 0 0 0 0 1 0\n",
      " 0 0 1 1 0 0 0 0 0 0 0 0 0 0 0 0 0 0 0 0 0 1 1 1 1 0 0 0 0 0 0 0 0 0 0 1 0\n",
      " 0 0 0 0 0 0 0 1 0 0 0 0 0 0 0 0 0 0 0 0 0 1 1 0 1 1 0 0 0 0 0 0 0 0 1 0 1\n",
      " 0 1 0 0 0 0 1 0 0 0 0 0 0 0 0 0 0 0 0 0 0 0 0 0 0 0 0 0 0 1 0 0 0 0 0 0 0\n",
      " 1 0 0 0 0 0 0 0 1 0 0 0 0 0 1 1 0 0 0 1 0 0 0 0 0 1 0 0 0 0 0 1 0 0 0 0 0\n",
      " 0 0 1 0 0 0 0 0 0 1 0 0 0 0 0 0 1 0 0 0 0 0 1 0 0 0 0 0 0 0 0 0 0 0 0 0 0\n",
      " 0 0 0 0 0 0 0 0 1 0 0 0 0 0 0 0 1 0 0 0 0 0 0 0 0 0 0 0 0 0 1 0 0 0 0 0 0\n",
      " 0 0 0 1 0 0 0 0 0 0 0 0 0 0 0 0 0 0 0 0 0 0 0 0 1 0 0 0 0 0 0 0 0 0 1 0 0\n",
      " 1 0 0 0 0 0 0 0 1 0 0 0 0 0 0 0 0 0 0 0 1 0 0 0 0 0 0 0 0 0 0 0 0 1 0 0 0\n",
      " 0 0 0 0 0 1 0 0 0 1 0 0 0 0 0 0 0 1 1]\n"
     ]
    }
   ],
   "source": [
    "# observando o resultado do nosso algoritmo, esse que deve ser semelhante a \"classe_teste\" para um resultado ideal\n",
    "print(previsoes)"
   ]
  },
  {
   "cell_type": "markdown",
   "metadata": {},
   "source": [
    "#### Comparando a base de dados de teste com o resultado do algoritmo"
   ]
  },
  {
   "cell_type": "markdown",
   "metadata": {},
   "source": [
    "Acima podem ser visualizadas duas bases de dados: a primeira relativa aos dados confiáveis e a segunda relativa ao resultado do algoritmo. Lembrando que:"
   ]
  },
  {
   "cell_type": "markdown",
   "metadata": {},
   "source": [
    "|**Saída dos dados (Legenda)**|\n",
    "|:----------------------------|\n",
    "|0 - tem chance de não pagar|\n",
    "|1 - tem chance de pagar|"
   ]
  },
  {
   "cell_type": "code",
   "execution_count": 19,
   "metadata": {},
   "outputs": [],
   "source": [
    "# importando o pacote sklearn do python\n",
    "from sklearn.metrics import confusion_matrix, accuracy_score\n",
    "# \"confusion_matrix\" relaciona os dados originais com os dados previstos pelo algoritmo em uma matriz\n",
    "# \"accuracy_score\" exibe uma porcentagem de confiança no algoritmo, com base nos dados originais e nos dados previstos"
   ]
  },
  {
   "cell_type": "code",
   "execution_count": 20,
   "metadata": {},
   "outputs": [],
   "source": [
    "# usando \"accuracy_score\" para obter a precisão do algoritmo\n",
    "precisao = accuracy_score(classe_teste, previsoes)"
   ]
  },
  {
   "cell_type": "code",
   "execution_count": 21,
   "metadata": {},
   "outputs": [
    {
     "name": "stdout",
     "output_type": "stream",
     "text": [
      "0.982\n"
     ]
    }
   ],
   "source": [
    "# exibindo na saída de dados a porcentagem de acertos obtidos pelo algoritmo feito\n",
    "print(precisao)"
   ]
  },
  {
   "cell_type": "code",
   "execution_count": 22,
   "metadata": {},
   "outputs": [],
   "source": [
    "# cruzando os dados da base original com a obtida no algoritmo para analisá-las\n",
    "matriz = confusion_matrix(classe_teste, previsoes)"
   ]
  },
  {
   "cell_type": "code",
   "execution_count": 23,
   "metadata": {},
   "outputs": [
    {
     "name": "stdout",
     "output_type": "stream",
     "text": [
      "[[430   6]\n",
      " [  3  61]]\n"
     ]
    }
   ],
   "source": [
    "# observando a matriz de confusão abaixo\n",
    "print(matriz)"
   ]
  },
  {
   "cell_type": "markdown",
   "metadata": {},
   "source": [
    "Observando a matriz acima podemos observar que 430 dados foram classificados corretamente para pessoas classificadas com \"não irão pagar\" e 61 pessoas classificadas corretamente com \"irão pagar\". O total de acertos é 491/500. Ao passo em que 3 pessoas com classificação \"não irão pagar\" foram avaliadas como pagadoras e 3 pessoas classificados como \"irão pagar\" foram avaliadas como não pagadoras. O total de erros foi 9/500. "
   ]
  },
  {
   "cell_type": "markdown",
   "metadata": {},
   "source": [
    "Em comparação com o algoritmo usando o método **Naive Bayes**, o algoritmo usado com **Árvores de Decisão** obteve o seguinte resultado na mesma classificação:"
   ]
  },
  {
   "cell_type": "markdown",
   "metadata": {},
   "source": [
    "|**Comparando os algoritmos com a mesma base de dados para classificação**:|\n",
    "|:----------|\n",
    "|Naive Bayes (Porcentagem de acertos): **93.80%**|\n",
    "|Árvores de Decisão (Porcentagem de acertos): **98.20%**|"
   ]
  },
  {
   "cell_type": "markdown",
   "metadata": {},
   "source": [
    "Concluí-se que o algoritmo usando o método de árvores de decisão foi mais favorável para resolver esse problema de análise bancária."
   ]
  },
  {
   "cell_type": "markdown",
   "metadata": {},
   "source": [
    "### Alguma dúvida? Entre em contato comigo:"
   ]
  },
  {
   "cell_type": "markdown",
   "metadata": {},
   "source": [
    "- [Me envie um e-mail](mailto:alyssonmachado388@gmail.com);"
   ]
  }
 ],
 "metadata": {
  "kernelspec": {
   "display_name": "Python 3",
   "language": "python",
   "name": "python3"
  },
  "language_info": {
   "codemirror_mode": {
    "name": "ipython",
    "version": 3
   },
   "file_extension": ".py",
   "mimetype": "text/x-python",
   "name": "python",
   "nbconvert_exporter": "python",
   "pygments_lexer": "ipython3",
   "version": "3.7.4"
  }
 },
 "nbformat": 4,
 "nbformat_minor": 2
}
