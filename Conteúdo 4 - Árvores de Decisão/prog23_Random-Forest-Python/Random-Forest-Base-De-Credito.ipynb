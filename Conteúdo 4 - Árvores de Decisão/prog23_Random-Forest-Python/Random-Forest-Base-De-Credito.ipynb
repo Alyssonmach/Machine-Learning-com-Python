{
 "cells": [
  {
   "cell_type": "markdown",
   "metadata": {},
   "source": [
    "# Árvores de Decisão - Random Forest\n",
    "### Algoritmo árvores de decisão, melhorado com o random forest, usado em uma base de dados sobre crédito."
   ]
  },
  {
   "cell_type": "markdown",
   "metadata": {},
   "source": [
    "Nesse arquivo, será feito uma predição para pessoas que tem chances de pagar ou não alguma ação bancária com base em seus dados previsores."
   ]
  },
  {
   "cell_type": "markdown",
   "metadata": {},
   "source": [
    "#### Pré-Processamento da Base de Dados"
   ]
  },
  {
   "cell_type": "code",
   "execution_count": 33,
   "metadata": {},
   "outputs": [],
   "source": [
    "# importando a biblioteca pandas do python\n",
    "import pandas as pd\n",
    "\n",
    "# importando a base de dados em \"dataframe\"\n",
    "dataframe = pd.read_csv(\"Dados de Credito.csv\", encoding = \"UTF-8\", sep = \",\")\n",
    "\n",
    "# usando o atributo \"loc\" para localizar os registros em que as idades menores que 0 existem, no campo de dados \"age\", e \n",
    "# fazer a atribução com o valor médio dos valores maiores que 0 (40.92770044906149)\n",
    "dataframe.loc[dataframe.age < 0, \"age\"] = 40.92770044906149\n",
    "\n",
    "# seprando os atributos previsores e meta classe da base de dados\n",
    "previsores = dataframe.iloc[:, 1:4].values\n",
    "meta_classe = dataframe.iloc[:, 4].values\n",
    "\n",
    "# importando a biblioteca sklearn do python\n",
    "from sklearn.impute import SimpleImputer\n",
    "# função \"SimpleImputer\" responsável por corrigir valores faltantes na base de dados\n",
    "\n",
    "# importando a biblioteca numpy do python\n",
    "import numpy as np\n",
    "# ela será responsável por categorizar os valores nulos na base de dados\n",
    "\n",
    "# criando o objeto \"imputer\"\n",
    "imputer = SimpleImputer(missing_values = np.nan, strategy = \"mean\")\n",
    "\n",
    "# realizando o treinamento com os atributos previsores da base de dado no objeto \"imputer\"\n",
    "imputer = imputer.fit(previsores[:, 0:3])\n",
    "\n",
    "# aplicando a transformação dos dados para correção de valores faltantes nos atributos previsores usando o objeto \"imputer\"\n",
    "previsores[:, 0:3] = imputer.transform(previsores[:, 0:3])\n",
    "\n",
    "# importando a biblioteca sklearn do python\n",
    "from sklearn.preprocessing import StandardScaler\n",
    "# a função \"StandardScaler\" tem a função de escalonar toda a base de dados para corrigir a discrepância dos valores\n",
    "\n",
    "# criando o objeto \"scaler\"\n",
    "scaler = StandardScaler()\n",
    "\n",
    "# aplicando a transformação de escalonamento nos atributos previsores usando o objeto \"scaler\"\n",
    "previsores  = scaler.fit_transform(previsores)\n",
    "\n",
    "# importando a biblioteca sklearn do python\n",
    "from sklearn.model_selection import train_test_split\n",
    "# a função \"train_test_split\" tem a importância de separar modelos de treinamento e modelos de teste em uma base de dados\n",
    "\n",
    "# definindo os modelos de treinamento e os modelos de teste para os atributos previsores e meta classe\n",
    "previsores_treinamento, previsores_teste, classe_treinamento, classe_teste = train_test_split(previsores, meta_classe,\n",
    "                                                                                             test_size = 0.25, \n",
    "                                                                                             random_state = 0)"
   ]
  },
  {
   "cell_type": "markdown",
   "metadata": {},
   "source": [
    "#### Algoritmo de Árvore de Decisão  - Random Forest (10 árvores)"
   ]
  },
  {
   "cell_type": "code",
   "execution_count": 34,
   "metadata": {},
   "outputs": [],
   "source": [
    "# importando o pacote sklearn do python\n",
    "from sklearn.ensemble import RandomForestClassifier\n",
    "# função \"RandomForestClassifier\" responsável por criar as diversas árvores de decisão"
   ]
  },
  {
   "cell_type": "code",
   "execution_count": 35,
   "metadata": {},
   "outputs": [],
   "source": [
    "# criando o objeto \"classificaodor\", esse que receberá as árvores de decisão relativa a base de dados trabalhada\n",
    "classificador = RandomForestClassifier(n_estimators = 10, criterion = \"entropy\", random_state = 0)\n",
    "# nesse caso, foi especificado a criação de 10 árvores de decisão"
   ]
  },
  {
   "cell_type": "code",
   "execution_count": 36,
   "metadata": {},
   "outputs": [
    {
     "data": {
      "text/plain": [
       "RandomForestClassifier(bootstrap=True, ccp_alpha=0.0, class_weight=None,\n",
       "                       criterion='entropy', max_depth=None, max_features='auto',\n",
       "                       max_leaf_nodes=None, max_samples=None,\n",
       "                       min_impurity_decrease=0.0, min_impurity_split=None,\n",
       "                       min_samples_leaf=1, min_samples_split=2,\n",
       "                       min_weight_fraction_leaf=0.0, n_estimators=10,\n",
       "                       n_jobs=None, oob_score=False, random_state=0, verbose=0,\n",
       "                       warm_start=False)"
      ]
     },
     "execution_count": 36,
     "metadata": {},
     "output_type": "execute_result"
    }
   ],
   "source": [
    "# fazendo o treinamento com a base de dados\n",
    "classificador.fit(previsores_treinamento, classe_treinamento)"
   ]
  },
  {
   "cell_type": "code",
   "execution_count": 37,
   "metadata": {},
   "outputs": [],
   "source": [
    "# usando a base de dados de teste para analisar a capacidade de predição do algoritmo feito\n",
    "previsoes = classificador.predict(previsores_teste)"
   ]
  },
  {
   "cell_type": "code",
   "execution_count": 38,
   "metadata": {},
   "outputs": [
    {
     "name": "stdout",
     "output_type": "stream",
     "text": [
      "[1 0 0 0 0 0 0 0 0 0 0 0 0 0 0 0 1 0 0 1 0 0 0 0 0 0 0 0 0 0 0 0 0 0 0 1 1\n",
      " 0 0 0 0 0 0 0 0 1 1 0 1 0 0 0 0 0 0 0 0 0 0 1 0 0 0 1 0 0 0 0 0 1 0 0 1 0\n",
      " 0 1 0 0 1 0 0 0 0 0 0 0 1 0 0 0 0 0 0 0 0 0 0 0 0 0 0 0 0 1 0 0 0 0 0 1 0\n",
      " 0 1 0 0 0 0 0 0 0 0 0 0 0 0 0 0 0 0 0 0 1 0 0 0 0 0 0 0 0 0 0 0 0 1 0 0 0\n",
      " 0 0 0 0 1 0 0 0 0 0 0 0 0 0 0 0 0 1 0 0 0 1 0 0 0 0 0 0 0 1 0 0 0 0 0 1 0\n",
      " 0 0 1 1 0 0 0 1 0 0 0 0 0 0 0 0 0 0 0 0 0 1 1 0 1 0 0 0 0 0 0 0 0 0 0 1 0\n",
      " 0 0 0 0 0 0 0 1 0 0 0 0 0 0 0 0 0 0 0 0 0 1 1 0 1 1 0 0 0 0 0 0 0 0 0 0 1\n",
      " 0 1 0 0 0 0 0 0 0 0 0 0 0 0 0 0 0 0 0 0 0 0 0 0 0 0 0 0 0 0 0 0 0 0 0 0 0\n",
      " 1 0 0 0 0 0 0 0 1 0 0 0 0 0 1 1 0 0 0 1 0 0 0 0 0 1 0 0 0 0 0 1 0 0 0 0 0\n",
      " 0 0 1 0 0 0 0 0 0 1 0 0 0 0 0 0 1 0 0 0 0 0 1 0 0 0 0 0 0 0 0 0 0 0 0 0 0\n",
      " 0 0 0 0 0 0 0 0 1 0 0 0 0 0 0 0 1 0 0 0 0 0 0 0 0 0 0 0 0 0 1 0 0 0 0 0 0\n",
      " 0 0 0 1 0 0 0 0 0 0 0 0 0 0 0 0 0 0 0 0 0 0 0 0 1 0 0 0 0 0 0 0 0 0 1 0 0\n",
      " 1 0 0 0 0 0 0 0 1 0 0 0 0 0 0 0 0 0 0 0 1 0 0 0 0 0 0 0 0 0 0 0 0 1 0 0 0\n",
      " 0 0 0 0 0 1 0 0 0 1 0 0 0 0 0 0 0 1 1]\n"
     ]
    }
   ],
   "source": [
    "# observando a classe teste\n",
    "print(classe_teste)"
   ]
  },
  {
   "cell_type": "code",
   "execution_count": 39,
   "metadata": {},
   "outputs": [
    {
     "name": "stdout",
     "output_type": "stream",
     "text": [
      "[1 0 0 0 0 0 0 0 0 0 0 0 0 0 0 0 1 0 0 1 0 0 0 0 0 0 0 0 0 0 0 0 0 0 0 1 1\n",
      " 0 0 0 0 0 0 0 0 1 1 0 1 0 0 0 0 0 0 0 0 0 0 1 0 0 0 1 0 0 0 0 0 1 0 0 1 0\n",
      " 0 1 0 0 1 0 0 0 0 0 0 0 1 0 0 0 0 0 0 0 0 0 0 0 0 0 0 0 0 1 0 0 1 0 0 0 0\n",
      " 0 1 0 0 0 0 0 0 0 1 0 0 0 0 0 0 0 0 0 0 1 0 0 0 0 0 0 0 0 0 0 0 0 1 0 0 0\n",
      " 0 0 0 0 1 0 0 0 0 0 0 0 0 0 0 0 0 1 0 0 0 0 0 0 0 0 0 0 0 1 0 0 0 0 0 1 0\n",
      " 0 0 1 0 0 0 0 1 0 0 0 0 0 0 0 0 0 0 0 0 0 1 0 1 1 0 0 0 0 0 0 0 0 0 0 1 0\n",
      " 0 0 0 0 0 0 0 1 0 0 0 0 0 0 0 0 0 0 0 0 0 1 1 0 0 0 0 0 0 0 0 0 0 0 0 0 1\n",
      " 0 1 0 0 0 0 1 0 0 0 0 0 0 0 0 0 0 0 0 0 0 0 0 0 0 0 0 0 0 0 0 0 0 0 0 0 0\n",
      " 1 0 0 0 0 0 0 0 1 0 0 0 0 0 0 1 0 0 0 1 0 0 0 0 0 1 0 0 0 0 0 1 0 0 0 0 0\n",
      " 0 0 1 0 0 0 0 0 0 1 0 0 0 0 0 0 1 0 0 0 0 0 1 0 0 0 0 0 0 0 0 0 0 0 0 0 0\n",
      " 0 0 0 0 0 0 0 0 0 0 0 0 0 0 0 0 0 0 0 0 0 0 0 0 0 0 0 0 0 0 0 0 0 0 0 0 0\n",
      " 0 0 0 1 0 0 0 0 0 0 0 0 0 0 0 0 0 0 0 0 0 0 0 0 1 0 0 0 0 0 0 0 0 0 1 0 0\n",
      " 1 0 0 0 0 0 0 0 0 0 0 0 0 0 0 0 0 0 0 0 1 0 0 0 0 0 0 0 0 0 0 0 0 1 0 0 0\n",
      " 0 0 0 0 0 1 0 0 0 1 0 0 0 0 0 0 0 0 1]\n"
     ]
    }
   ],
   "source": [
    "# observando o resultado do nosso algoritmo, esse que deve ser semelhante a \"classe_teste\" para um resultado ideal\n",
    "print(previsoes)"
   ]
  },
  {
   "cell_type": "markdown",
   "metadata": {},
   "source": [
    "#### Comparando a Base de Dados de Teste com o Resultado do Algoritmo"
   ]
  },
  {
   "cell_type": "markdown",
   "metadata": {},
   "source": [
    "Acima podem ser visualizadas duas bases de dados: a primeira relativa aos dados confiáveis e a segunda fruto do algoritmo feito. Lembrando que:"
   ]
  },
  {
   "cell_type": "markdown",
   "metadata": {},
   "source": [
    "|**Saída de Dados (Legenda)**|\n",
    "|:---------------------------|\n",
    "|0 - tem chance de não pagar |\n",
    "|1 - tem chance de pagar     |"
   ]
  },
  {
   "cell_type": "code",
   "execution_count": 40,
   "metadata": {},
   "outputs": [],
   "source": [
    "# importando o pacote sklearn do python\n",
    "from sklearn.metrics import confusion_matrix, accuracy_score\n",
    "# \"confusion_matrix\" relaciona os dados originais com os dados previstos pelo algoritmo em uma matriz\n",
    "# \"accuracy_score\" exibe uma porcentagem de confiança no algoritmo, com base nos dados originais e nos dados previstos"
   ]
  },
  {
   "cell_type": "code",
   "execution_count": 41,
   "metadata": {},
   "outputs": [],
   "source": [
    "# usando \"accuracy_score\" para obter a precisão do algoritmo\n",
    "precisao = accuracy_score(classe_teste, previsoes)"
   ]
  },
  {
   "cell_type": "code",
   "execution_count": 42,
   "metadata": {},
   "outputs": [
    {
     "name": "stdout",
     "output_type": "stream",
     "text": [
      "0.968\n"
     ]
    }
   ],
   "source": [
    "# exibindo na saída de dados a porcentagem de acertos obtidos pelo algoritmo feito\n",
    "print(precisao)"
   ]
  },
  {
   "cell_type": "code",
   "execution_count": 43,
   "metadata": {},
   "outputs": [],
   "source": [
    "# cruzando os dados da base original com a obtida no algoritmo para analisá-las\n",
    "matriz = confusion_matrix(classe_teste, previsoes)"
   ]
  },
  {
   "cell_type": "code",
   "execution_count": 44,
   "metadata": {},
   "outputs": [
    {
     "name": "stdout",
     "output_type": "stream",
     "text": [
      "[[432   4]\n",
      " [ 12  52]]\n"
     ]
    }
   ],
   "source": [
    "# observando a matriz de confusão abaixo\n",
    "print(matriz)"
   ]
  },
  {
   "cell_type": "markdown",
   "metadata": {},
   "source": [
    "Observando a matriz acima, podemos analisar que 432 dados foram classificados corretamente para pessoas classificadas com \"não irão pagar\" e 52 pessoas classificadas corretamente como \"irão pagar\". O total de acertos é 484/500. Ao passo em que 4 pessoas com classificação \"não irão pagar\" foram classificadas como pagadoras e 12 pessoas classificadas com \"irão pagar\" forma classificadas como não pagadoras. O total de erros foram 16/500."
   ]
  },
  {
   "cell_type": "markdown",
   "metadata": {},
   "source": [
    "Em comparação com o algoritmo usando o método **Naive Bayes** e **Árvores de Decisão sem o Random Forest**, o algoritmo usado com **Árvores de Decisão com Random Forest** obteve o seguinte resultado na mesma classificação:"
   ]
  },
  {
   "cell_type": "markdown",
   "metadata": {},
   "source": [
    "|**Comparando os algoritmos com a mesma base de dados para classificação**:|\n",
    "|:----------|\n",
    "|Naive Bayes (Porcentagem de acertos): **93.80%**|\n",
    "|Árvores de Decisão (Porcentagem de acertos): **98.20%**|\n",
    "|Árvores de Decisão com Random Forest - 10 Árvores (Porcentagem de acertos): **96.80%**|"
   ]
  },
  {
   "cell_type": "markdown",
   "metadata": {},
   "source": [
    "#### Algoritmo de Árvore de Decisão - Random Forest (15 árvores)"
   ]
  },
  {
   "cell_type": "markdown",
   "metadata": {},
   "source": [
    "Será feito o mesmo processor do random forest no algoritmo, mas dessa vez 15 árvores serão criadas ao invés de 10."
   ]
  },
  {
   "cell_type": "code",
   "execution_count": 45,
   "metadata": {},
   "outputs": [
    {
     "name": "stdout",
     "output_type": "stream",
     "text": [
      "0.978\n"
     ]
    }
   ],
   "source": [
    "# criando o objeto \"classificaodor\", esse que receberá as árvores de decisão relativa a base de dados trabalhada\n",
    "classificador = RandomForestClassifier(n_estimators = 15, criterion = \"entropy\", random_state = 0)\n",
    "# nesse caso, foi especificado a criação de 15 árvores de decisão\n",
    "\n",
    "# fazendo o treinamento com a base de dados\n",
    "classificador.fit(previsores_treinamento, classe_treinamento)\n",
    "\n",
    "# usando a base de dados de teste para analisar a capacidade de predição do algoritmo feito\n",
    "previsoes = classificador.predict(previsores_teste)\n",
    "\n",
    "# usando \"accuracy_score\" para obter a precisão do algoritmo\n",
    "precisao = accuracy_score(classe_teste, previsoes)\n",
    "\n",
    "# exibindo na saída de dados a porcentagem de acertos obtidos pelo algoritmo feito\n",
    "print(precisao)"
   ]
  },
  {
   "cell_type": "markdown",
   "metadata": {},
   "source": [
    "|**Comparando os algoritmos com a mesma base de dados para classificação**:|\n",
    "|:----------|\n",
    "|Naive Bayes (Porcentagem de acertos): **93.80%**|\n",
    "|Árvores de Decisão (Porcentagem de acertos): **98.20%**|\n",
    "|Árvores de Decisão com Random Forest - 15 Árvores (Porcentagem de acertos): **97.80%**|"
   ]
  },
  {
   "cell_type": "markdown",
   "metadata": {},
   "source": [
    "### Algoritmo de Árvore de Decisão - Random Forest (30 árvores)"
   ]
  },
  {
   "cell_type": "markdown",
   "metadata": {},
   "source": [
    "Será feito o mesmo processor do random forest no algoritmo, mas dessa vez 30 árvores serão criadas ao invés de 15."
   ]
  },
  {
   "cell_type": "code",
   "execution_count": 46,
   "metadata": {},
   "outputs": [
    {
     "name": "stdout",
     "output_type": "stream",
     "text": [
      "0.98\n"
     ]
    }
   ],
   "source": [
    "# criando o objeto \"classificaodor\", esse que receberá as árvores de decisão relativa a base de dados trabalhada\n",
    "classificador = RandomForestClassifier(n_estimators = 30, criterion = \"entropy\", random_state = 0)\n",
    "# nesse caso, foi especificado a criação de 15 árvores de decisão\n",
    "\n",
    "# fazendo o treinamento com a base de dados\n",
    "classificador.fit(previsores_treinamento, classe_treinamento)\n",
    "\n",
    "# usando a base de dados de teste para analisar a capacidade de predição do algoritmo feito\n",
    "previsoes = classificador.predict(previsores_teste)\n",
    "\n",
    "# usando \"accuracy_score\" para obter a precisão do algoritmo\n",
    "precisao = accuracy_score(classe_teste, previsoes)\n",
    "\n",
    "# exibindo na saída de dados a porcentagem de acertos obtidos pelo algoritmo feito\n",
    "print(precisao)"
   ]
  },
  {
   "cell_type": "markdown",
   "metadata": {},
   "source": [
    "|**Comparando os algoritmos com a mesma base de dados para classificação**:|\n",
    "|:----------|\n",
    "|Naive Bayes (Porcentagem de acertos): **93.80%**|\n",
    "|Árvores de Decisão (Porcentagem de acertos): **98.20%**|\n",
    "|Árvores de Decisão com Random Forest - 30 Árvores (Porcentagem de acertos): **98.00%**|"
   ]
  },
  {
   "cell_type": "markdown",
   "metadata": {},
   "source": [
    "#### Algoritmo de Árvore de Decisão - Random Forest (40 árvores)"
   ]
  },
  {
   "cell_type": "markdown",
   "metadata": {},
   "source": [
    "Será feito o mesmo processor do random forest no algoritmo, mas dessa vez 40 árvores serão criadas ao invés de 30."
   ]
  },
  {
   "cell_type": "code",
   "execution_count": 47,
   "metadata": {},
   "outputs": [
    {
     "name": "stdout",
     "output_type": "stream",
     "text": [
      "0.984\n"
     ]
    }
   ],
   "source": [
    "# criando o objeto \"classificaodor\", esse que receberá as árvores de decisão relativa a base de dados trabalhada\n",
    "classificador = RandomForestClassifier(n_estimators = 40, criterion = \"entropy\", random_state = 0)\n",
    "# nesse caso, foi especificado a criação de 15 árvores de decisão\n",
    "\n",
    "# fazendo o treinamento com a base de dados\n",
    "classificador.fit(previsores_treinamento, classe_treinamento)\n",
    "\n",
    "# usando a base de dados de teste para analisar a capacidade de predição do algoritmo feito\n",
    "previsoes = classificador.predict(previsores_teste)\n",
    "\n",
    "# usando \"accuracy_score\" para obter a precisão do algoritmo\n",
    "precisao = accuracy_score(classe_teste, previsoes)\n",
    "\n",
    "# exibindo na saída de dados a porcentagem de acertos obtidos pelo algoritmo feito\n",
    "print(precisao)"
   ]
  },
  {
   "cell_type": "markdown",
   "metadata": {},
   "source": [
    "|**Comparando os algoritmos com a mesma base de dados para classificação**:|\n",
    "|:----------|\n",
    "|Naive Bayes (Porcentagem de acertos): **93.80%**|\n",
    "|Árvores de Decisão (Porcentagem de acertos): **98.20%**|\n",
    "|Árvores de Decisão com Random Forest - 40 Árvores (Porcentagem de acertos): **98.40%**|"
   ]
  },
  {
   "cell_type": "markdown",
   "metadata": {},
   "source": [
    "A escolha por Random Forest ou não depende muito da aplicação que o desenvolvedor terá que lidar, pois um ganho de **0.20%** a mais na capacidade preditiva exigiu mais espaço de armazenamento com a criação de 40 árvores de decisão ao invés de uma. Portanto, concluí-se que o Random Forest não é a escolha mais adequada para essa base de dados."
   ]
  },
  {
   "cell_type": "markdown",
   "metadata": {},
   "source": [
    "### Alguma Dúvida? Entre em contato comigo:"
   ]
  },
  {
   "cell_type": "markdown",
   "metadata": {},
   "source": [
    "- [Me envie um e-mail](mailto:alyssonmachado388@gmail.com);"
   ]
  }
 ],
 "metadata": {
  "kernelspec": {
   "display_name": "Python 3",
   "language": "python",
   "name": "python3"
  },
  "language_info": {
   "codemirror_mode": {
    "name": "ipython",
    "version": 3
   },
   "file_extension": ".py",
   "mimetype": "text/x-python",
   "name": "python",
   "nbconvert_exporter": "python",
   "pygments_lexer": "ipython3",
   "version": "3.7.4"
  }
 },
 "nbformat": 4,
 "nbformat_minor": 2
}
