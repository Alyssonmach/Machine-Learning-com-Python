{
 "cells": [
  {
   "cell_type": "markdown",
   "metadata": {},
   "source": [
    "# Aprendizagem por Regras"
   ]
  },
  {
   "cell_type": "markdown",
   "metadata": {},
   "source": [
    "A aprendizagem de máquina baseada em regras trata da ideia de analisar uma base de dados para gerar regras lógicas de análise. Com isso, qualquer registro novo de entrada para o algoritmo criado será avaliado por um conjunto de regras e, dependendo dos seus dados, terá uma saída específica."
   ]
  },
  {
   "cell_type": "markdown",
   "metadata": {},
   "source": [
    "Basicamente, a ideia central é utiliza regras explícitas para expressar o conhecimento do domínio de um problema e, através da confrontação do conhecimento existente com fatos conhecidos sobre um determinado problema, inferir novos fatos."
   ]
  },
  {
   "cell_type": "markdown",
   "metadata": {},
   "source": [
    "#### Algoritmo OneR"
   ]
  },
  {
   "cell_type": "markdown",
   "metadata": {},
   "source": [
    "Quando se está trabalhando com Inteligência Artificial, é importante partir dos algoritmo mais simples para algo mais complexo quando se está tentando criar algo novo. Desse modo, é garantido a análise dos algoritmos mais adequados para uma determinada base de dados, evitando utilizar processos complexos em algo simples."
   ]
  },
  {
   "cell_type": "markdown",
   "metadata": {},
   "source": [
    "O Algoritmo OneR é bastante simples. Aplicado no campo de aprendizagem por regras, o OneR (abreviação de \"One Rule\"), é um algoritmo de classificação simples, porém preciso, que gera uma regra para cada preditor nos dados e, em seguida, seleciona a regra com o menor erro total como sua \"única regra\". Para criar uma regra para um preditor, construímos uma tabela de frequência para cada preditor em relação ao alvo. Foi demonstrado que o OneR produz regras apenas um pouco menos precisas que os algoritmos de classificação de ponta, enquanto produz regras simples para os humanos interpretarem."
   ]
  },
  {
   "cell_type": "markdown",
   "metadata": {},
   "source": [
    "![oner.png](Imagens/oner.png)"
   ]
  },
  {
   "cell_type": "markdown",
   "metadata": {},
   "source": [
    "Acima é possível observar o algoritmo OneR aplicado na base de dados de créditos. Observe que ele escolhe somente um atributo baseado na menor quantidade de erros possíveis para delimitar a análise. No exemplo acima, foi escolhido o atributo \"renda\" por ser o mais seguro na base de dados."
   ]
  },
  {
   "cell_type": "markdown",
   "metadata": {},
   "source": [
    "#### Algoritmo PRISM\n"
   ]
  },
  {
   "cell_type": "markdown",
   "metadata": {},
   "source": [
    "A ideia do algoritmo PRISM é semelhante ao OneR em seus métodos. Porém, a principal diferença entre elas é que enquanto o OneR se utiliza somente de um atributo para sua análise, o PRISM se utiliza de vários atributos. Dessa forma, fica claro que o algoritmo PRISM é mais seguro que o OneR, mas não necessariamente mais preciso, pois esse quesito dependerá da aplicação feita."
   ]
  },
  {
   "cell_type": "markdown",
   "metadata": {},
   "source": [
    "#### Pontos Relevantes em Aprendizagem por Regras"
   ]
  },
  {
   "cell_type": "markdown",
   "metadata": {},
   "source": [
    "- Compreensibilidade: algoritmos feitos por esse método são mais fáceis de entender em relação aos demais;"
   ]
  },
  {
   "cell_type": "markdown",
   "metadata": {},
   "source": [
    "- Pouco espaço de armazenamento;"
   ]
  },
  {
   "cell_type": "markdown",
   "metadata": {},
   "source": [
    "- Mais lento de ser criado;"
   ]
  },
  {
   "cell_type": "markdown",
   "metadata": {},
   "source": [
    "- Em geral, regras não apresentam melhores resultados que árvores de decisão;"
   ]
  },
  {
   "cell_type": "markdown",
   "metadata": {},
   "source": [
    "- Pouco usado por existir algoritmos que fazem o seu papel com resultados mais satisfatórios;"
   ]
  },
  {
   "cell_type": "markdown",
   "metadata": {},
   "source": [
    "### Alguma dúvida? Entre em contato comigo:"
   ]
  },
  {
   "cell_type": "markdown",
   "metadata": {},
   "source": [
    "- [Me envie um e-mail](mailto:alyssonmachado388@gmail.com);"
   ]
  }
 ],
 "metadata": {
  "kernelspec": {
   "display_name": "Python 3",
   "language": "python",
   "name": "python3"
  },
  "language_info": {
   "codemirror_mode": {
    "name": "ipython",
    "version": 3
   },
   "file_extension": ".py",
   "mimetype": "text/x-python",
   "name": "python",
   "nbconvert_exporter": "python",
   "pygments_lexer": "ipython3",
   "version": "3.7.4"
  }
 },
 "nbformat": 4,
 "nbformat_minor": 4
}
