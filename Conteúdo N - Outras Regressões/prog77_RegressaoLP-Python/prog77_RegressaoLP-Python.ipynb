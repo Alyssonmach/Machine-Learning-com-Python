{
 "cells": [
  {
   "cell_type": "markdown",
   "metadata": {},
   "source": [
    "# Regressão Linear Polinomial\n",
    "#### Aplicando o algoritmo de regressão linear polinomial em uma base de dados não linear de planos de saúde."
   ]
  },
  {
   "cell_type": "code",
   "execution_count": 1,
   "metadata": {},
   "outputs": [],
   "source": [
    "# importando a biblioteca pandas do python\n",
    "import pandas as pd"
   ]
  },
  {
   "cell_type": "code",
   "execution_count": 2,
   "metadata": {},
   "outputs": [],
   "source": [
    "# importando a base de dados no dataframe\n",
    "dataframe = pd.read_csv('plano_saude2.csv', encoding = 'utf-8', sep = ',')"
   ]
  },
  {
   "cell_type": "code",
   "execution_count": 3,
   "metadata": {},
   "outputs": [],
   "source": [
    "# separando as variáveis x e y\n",
    "x = dataframe.iloc[:, 0:1].values\n",
    "y = dataframe.iloc[:, 1].values"
   ]
  },
  {
   "cell_type": "code",
   "execution_count": 4,
   "metadata": {},
   "outputs": [
    {
     "name": "stdout",
     "output_type": "stream",
     "text": [
      "[[18]\n",
      " [23]\n",
      " [28]\n",
      " [33]\n",
      " [38]\n",
      " [43]\n",
      " [48]\n",
      " [53]\n",
      " [58]\n",
      " [63]]\n",
      "\n",
      "\n",
      "[  470   520   630   830  1150  1530  2040  3080  5100 10100]\n"
     ]
    }
   ],
   "source": [
    "# visualizando as variáveis x e y\n",
    "print(x)\n",
    "print('\\n')\n",
    "print(y)"
   ]
  },
  {
   "cell_type": "markdown",
   "metadata": {},
   "source": [
    "### Regressão Linear Simples"
   ]
  },
  {
   "cell_type": "code",
   "execution_count": 6,
   "metadata": {},
   "outputs": [],
   "source": [
    "# importando a biblioteca sklearn do python\n",
    "from sklearn.linear_model import LinearRegression"
   ]
  },
  {
   "cell_type": "code",
   "execution_count": 7,
   "metadata": {},
   "outputs": [],
   "source": [
    "# criando o classificador 'regressor1'\n",
    "regressor1 = LinearRegression()"
   ]
  },
  {
   "cell_type": "code",
   "execution_count": 8,
   "metadata": {},
   "outputs": [
    {
     "data": {
      "text/plain": [
       "LinearRegression(copy_X=True, fit_intercept=True, n_jobs=None, normalize=False)"
      ]
     },
     "execution_count": 8,
     "metadata": {},
     "output_type": "execute_result"
    }
   ],
   "source": [
    "# realizando o treinamento no classificador 'regressor1'\n",
    "regressor1.fit(x, y)"
   ]
  },
  {
   "cell_type": "code",
   "execution_count": 9,
   "metadata": {},
   "outputs": [],
   "source": [
    "# visualizando o quanto o modelo criado se adaptou as dados existentes\n",
    "score1 = regressor1.score(x, y)"
   ]
  },
  {
   "cell_type": "code",
   "execution_count": 10,
   "metadata": {},
   "outputs": [
    {
     "name": "stdout",
     "output_type": "stream",
     "text": [
      "0.6722701203412687\n"
     ]
    }
   ],
   "source": [
    "# visualizando a porcentagem\n",
    "print(score1)"
   ]
  },
  {
   "cell_type": "markdown",
   "metadata": {},
   "source": [
    "Observe que o modelo de regressão linear simples não se adaptou bem aos dados existentes, pois eles são não lineares e o algoritmo é feito para problemas lineares."
   ]
  },
  {
   "cell_type": "code",
   "execution_count": 11,
   "metadata": {},
   "outputs": [],
   "source": [
    "# importando a biblioteca matplotlib do python\n",
    "import matplotlib.pyplot as plt\n",
    "%matplotlib inline"
   ]
  },
  {
   "cell_type": "code",
   "execution_count": 13,
   "metadata": {},
   "outputs": [
    {
     "data": {
      "image/png": "[encoded data removed]",
      "text/plain": [
       "<Figure size 720x360 with 1 Axes>"
      ]
     },
     "metadata": {
      "needs_background": "light"
     },
     "output_type": "display_data"
    }
   ],
   "source": [
    "# configurando o gráfico para o modelo de regressão linear simples \n",
    "plt.figure(figsize = (10, 5))\n",
    "plt.scatter(x, y, color = 'red', label = 'Dados')\n",
    "plt.plot(x, regressor1.predict(x), color = 'green', label = 'Modelo de Regressão Linear Simples')\n",
    "plt.title('Regressão Linear Simples')\n",
    "plt.xlabel('Idade')\n",
    "plt.ylabel('Custo')\n",
    "plt.legend()\n",
    "plt.grid(True)\n",
    "plt.box(False)"
   ]
  },
  {
   "cell_type": "markdown",
   "metadata": {},
   "source": [
    "### Regressão Linear Polinomial"
   ]
  },
  {
   "cell_type": "code",
   "execution_count": 14,
   "metadata": {},
   "outputs": [],
   "source": [
    "# importando a biblioteca sklearn do python\n",
    "from sklearn.preprocessing import PolynomialFeatures"
   ]
  },
  {
   "cell_type": "code",
   "execution_count": 15,
   "metadata": {},
   "outputs": [],
   "source": [
    "# criando o objeto 'poly' que eleve as variáveis x até a 4º potência e armazena em uma lista\n",
    "poly = PolynomialFeatures(degree = 4)"
   ]
  },
  {
   "cell_type": "code",
   "execution_count": 16,
   "metadata": {},
   "outputs": [],
   "source": [
    "# elevando as variáveis x até a 4º potência com o objeto 'poly'\n",
    "x_poly = poly.fit_transform(x)"
   ]
  },
  {
   "cell_type": "code",
   "execution_count": 17,
   "metadata": {},
   "outputs": [
    {
     "name": "stdout",
     "output_type": "stream",
     "text": [
      "[[1.0000000e+00 1.8000000e+01 3.2400000e+02 5.8320000e+03 1.0497600e+05]\n",
      " [1.0000000e+00 2.3000000e+01 5.2900000e+02 1.2167000e+04 2.7984100e+05]\n",
      " [1.0000000e+00 2.8000000e+01 7.8400000e+02 2.1952000e+04 6.1465600e+05]\n",
      " [1.0000000e+00 3.3000000e+01 1.0890000e+03 3.5937000e+04 1.1859210e+06]\n",
      " [1.0000000e+00 3.8000000e+01 1.4440000e+03 5.4872000e+04 2.0851360e+06]\n",
      " [1.0000000e+00 4.3000000e+01 1.8490000e+03 7.9507000e+04 3.4188010e+06]\n",
      " [1.0000000e+00 4.8000000e+01 2.3040000e+03 1.1059200e+05 5.3084160e+06]\n",
      " [1.0000000e+00 5.3000000e+01 2.8090000e+03 1.4887700e+05 7.8904810e+06]\n",
      " [1.0000000e+00 5.8000000e+01 3.3640000e+03 1.9511200e+05 1.1316496e+07]\n",
      " [1.0000000e+00 6.3000000e+01 3.9690000e+03 2.5004700e+05 1.5752961e+07]]\n"
     ]
    }
   ],
   "source": [
    "# visualizando a lista 'x_poly'\n",
    "print(x_poly)"
   ]
  },
  {
   "cell_type": "code",
   "execution_count": 18,
   "metadata": {},
   "outputs": [],
   "source": [
    "# criando o classificador 'regressor2'\n",
    "regressor2 = LinearRegression()"
   ]
  },
  {
   "cell_type": "code",
   "execution_count": 19,
   "metadata": {},
   "outputs": [
    {
     "data": {
      "text/plain": [
       "LinearRegression(copy_X=True, fit_intercept=True, n_jobs=None, normalize=False)"
      ]
     },
     "execution_count": 19,
     "metadata": {},
     "output_type": "execute_result"
    }
   ],
   "source": [
    "# fazendo o treinamento do classificador 'regressor2'\n",
    "regressor2.fit(x_poly, y)"
   ]
  },
  {
   "cell_type": "code",
   "execution_count": 20,
   "metadata": {},
   "outputs": [],
   "source": [
    "# visualizando o quanto o modelo criado se adaptou aos dados\n",
    "score = regressor2.score(x_poly, y)"
   ]
  },
  {
   "cell_type": "code",
   "execution_count": 21,
   "metadata": {},
   "outputs": [
    {
     "name": "stdout",
     "output_type": "stream",
     "text": [
      "0.997649414732199\n"
     ]
    }
   ],
   "source": [
    "# visualizando a porcentagel\n",
    "print(score)"
   ]
  },
  {
   "cell_type": "markdown",
   "metadata": {},
   "source": [
    "Observe que o modelo utilizando regressão linear polinomial se adaptou muito bem ao algoritmo feito, isso porque esse modelo é mais favorável para problemas não linearmente separáveis, assim como os dados estão dispostos."
   ]
  },
  {
   "cell_type": "code",
   "execution_count": 39,
   "metadata": {},
   "outputs": [
    {
     "data": {
      "image/png": "[encoded data removed]",
      "text/plain": [
       "<Figure size 720x360 with 1 Axes>"
      ]
     },
     "metadata": {
      "needs_background": "light"
     },
     "output_type": "display_data"
    }
   ],
   "source": [
    "# configurando o gráfico para o modelo de regressão linear simples \n",
    "plt.figure(figsize = (10, 5))\n",
    "plt.scatter(x, y, color = 'red', label = 'Dados')\n",
    "plt.plot(x, regressor2.predict(poly.fit_transform(x)), color = 'green', \n",
    "         label = 'Modelo de Regressão Linear Polinomial')\n",
    "plt.title('Regressão Linear Polinomial')\n",
    "plt.xlabel('Idade')\n",
    "plt.ylabel('Custo')\n",
    "plt.legend()\n",
    "plt.grid(True)\n",
    "plt.box(False)"
   ]
  },
  {
   "cell_type": "markdown",
   "metadata": {},
   "source": [
    "### Fazendo Predições"
   ]
  },
  {
   "cell_type": "markdown",
   "metadata": {},
   "source": [
    "Vamos analisar quanto o algoritmo iria prever no custo do plano de saúde para uma pessoa que possui 40 anos de idade. Será feito usando o classificador para regressão linear simples e regressão linear polinomial."
   ]
  },
  {
   "cell_type": "code",
   "execution_count": 22,
   "metadata": {},
   "outputs": [
    {
     "data": {
      "text/plain": [
       "array([2463.18787879])"
      ]
     },
     "execution_count": 22,
     "metadata": {},
     "output_type": "execute_result"
    }
   ],
   "source": [
    "# fazendo a predição com o classificador 'regressor1'\n",
    "regressor1.predict([[40]])"
   ]
  },
  {
   "cell_type": "code",
   "execution_count": 36,
   "metadata": {},
   "outputs": [
    {
     "data": {
      "text/plain": [
       "array([1335.33958016])"
      ]
     },
     "execution_count": 36,
     "metadata": {},
     "output_type": "execute_result"
    }
   ],
   "source": [
    "# fazendo a predição com o classificador 'regressor2'\n",
    "regressor2.predict(poly.transform([[40]]))"
   ]
  },
  {
   "cell_type": "markdown",
   "metadata": {},
   "source": [
    "|**Algoritmo**|**Score**|**Predição para uma pessoa de 40 anos de idade**|\n",
    "|-------------|---------|------------------------------------------------|\n",
    "|Regressão Linear Simples|67.22%|2463,19 Reais|\n",
    "|Regressão Linear Polinomial|99.76%|1335,34 Reais|"
   ]
  },
  {
   "cell_type": "markdown",
   "metadata": {},
   "source": [
    "### Alguma Dúvida? Entre em Contato Comigo:"
   ]
  },
  {
   "cell_type": "markdown",
   "metadata": {},
   "source": [
    "- [Me envie um e-mail](mailto:alysson.barbosa@ee.ufcg.edu.br);"
   ]
  }
 ],
 "metadata": {
  "kernelspec": {
   "display_name": "Python 3",
   "language": "python",
   "name": "python3"
  },
  "language_info": {
   "codemirror_mode": {
    "name": "ipython",
    "version": 3
   },
   "file_extension": ".py",
   "mimetype": "text/x-python",
   "name": "python",
   "nbconvert_exporter": "python",
   "pygments_lexer": "ipython3",
   "version": "3.7.4"
  }
 },
 "nbformat": 4,
 "nbformat_minor": 4
}
