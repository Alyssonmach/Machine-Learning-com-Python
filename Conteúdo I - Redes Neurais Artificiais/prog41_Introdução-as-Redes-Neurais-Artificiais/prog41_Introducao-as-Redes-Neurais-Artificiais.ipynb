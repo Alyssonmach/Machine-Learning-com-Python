{
 "cells": [
  {
   "cell_type": "markdown",
   "metadata": {},
   "source": [
    "# Introdução as Redes Neurais Artificiais\n",
    "#### Preparando o ambiente para o entendimento das redes neurais artificiais."
   ]
  },
  {
   "cell_type": "markdown",
   "metadata": {},
   "source": [
    "### Introdução"
   ]
  },
  {
   "cell_type": "markdown",
   "metadata": {},
   "source": [
    "Atualmente, existem diversos algoritmos pré-determinados para resolver inúmeros problemas da vida real, tal como **sistemas de recomendação** em plataformas de streaming, **sistema de buscas** em GPS's, construção de **grafos**, **ordenações de elementos** e vários outros algoritmos presentes na computação. As redes neurais surgem para fugir um pouca dessa ideia em que, dado a necessidade de resolver algum problema, a rede neural se adapta e busca encontrar soluções das mais variadas formas possíveis."
   ]
  },
  {
   "cell_type": "markdown",
   "metadata": {},
   "source": [
    "Redes neurais é um tópico da inteligência artificial chamado **Deep Learning** ou **aprendizagem profunda**. Os seus estudos são de longa data e está em constante evolução. Sua emancipação na atualidade se dá a um fenômeno chamado **Big Data**, esse que tange a realidade mundial da sua grande quantidade de dados disponíveis sobre diversas instâncias da realidade que nos circunda, pois com esses dados registrados é possível dotar máquinas com inteligência, assim como vem sendo desenvolvido ao longo desse repositório."
   ]
  },
  {
   "cell_type": "markdown",
   "metadata": {},
   "source": [
    "### Aplicações"
   ]
  },
  {
   "cell_type": "markdown",
   "metadata": {},
   "source": [
    "As redes neurais estão presentes em diversas instâncias de nossas vidas. Abaixo, é possível conferir algumas aplicações desse algoritmo que foram e são relevantes para a humanidade."
   ]
  },
  {
   "cell_type": "markdown",
   "metadata": {},
   "source": [
    "- Descoberta de novos remédios;\n",
    "- Entendimento da linguagem natural (atualmente a **linguagem BERT da Google**);\n",
    "- Carros autônomos (cujo destaque é da **Tesla** e da **Google**);\n",
    "- Reconhecimento facial;\n",
    "- Cura para doenças;\n",
    "- Bolsa de valores;\n",
    "- Soluções para controle de tráfego;\n",
    "- Produção artística;"
   ]
  },
  {
   "cell_type": "markdown",
   "metadata": {},
   "source": [
    "### Quando o seu uso é necessário?"
   ]
  },
  {
   "cell_type": "markdown",
   "metadata": {},
   "source": [
    "As redes neurais devem ser usadas quando os dados são extensos, ou seja, há muita informação armazenada sobre um determinado tema e tais problemas devem ser complexos, pois para problemas mais simples existem algoritmos de machine learning que satisfazem a necessidade de solver um determinado problema."
   ]
  },
  {
   "cell_type": "markdown",
   "metadata": {},
   "source": [
    "### Em que as redes neurais se baseiam?"
   ]
  },
  {
   "cell_type": "markdown",
   "metadata": {},
   "source": [
    "A ideia do funcionamento de uma rede neural é de simular o neurônio humano, em que a informação passa de um neurônio biológico para o outro pelo sistema nervoso humano. Desse modo, sabendo como se dá a base do funcionamento de celulas nervosas, é possível criar um sistema computacional que simule essa capacidade de aprendizagem."
   ]
  },
  {
   "cell_type": "markdown",
   "metadata": {},
   "source": [
    "Além disso, atualmente diversas técnicas da computação foram implementadas nas redes neurais (muito além da estatística), possibilitando que seu uso voltasse a ser popular novamente, dado que houve um tempo obscuro em que outros algoritmos de machine learning possuiam maior precisão em seus acertos, como as máquinas de vetores de suporte e árvores de decisão por exemplo."
   ]
  },
  {
   "cell_type": "markdown",
   "metadata": {},
   "source": [
    "### Alguma dúvida? Entre em contato comigo:"
   ]
  },
  {
   "cell_type": "markdown",
   "metadata": {},
   "source": [
    "- [Me envie um e-mail](mailto:alysson.barbosa@ee.ufcg.edu.br);"
   ]
  }
 ],
 "metadata": {
  "kernelspec": {
   "display_name": "Python 3",
   "language": "python",
   "name": "python3"
  },
  "language_info": {
   "codemirror_mode": {
    "name": "ipython",
    "version": 3
   },
   "file_extension": ".py",
   "mimetype": "text/x-python",
   "name": "python",
   "nbconvert_exporter": "python",
   "pygments_lexer": "ipython3",
   "version": "3.7.4"
  }
 },
 "nbformat": 4,
 "nbformat_minor": 4
}
