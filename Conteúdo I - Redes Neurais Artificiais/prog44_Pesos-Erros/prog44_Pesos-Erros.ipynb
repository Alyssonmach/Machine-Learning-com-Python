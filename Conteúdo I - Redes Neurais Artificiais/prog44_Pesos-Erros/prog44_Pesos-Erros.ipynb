{
 "cells": [
  {
   "cell_type": "markdown",
   "metadata": {},
   "source": [
    "# Cálculo de Pesos e Erros\n",
    "#### Entenda como o algoritmo que usa redes neurais faz os cálculos para descobrir novos pesos se baseado nos erros obtidos."
   ]
  },
  {
   "cell_type": "markdown",
   "metadata": {},
   "source": [
    "### Introdução"
   ]
  },
  {
   "cell_type": "markdown",
   "metadata": {},
   "source": [
    "Anteriormente, foi mostrado como são os tipos de redes neurais (básicas) existentes. Além disso, foi explicado que o algoritmo que usa redes neurais para fazer sua predição se baseia na descoberta de pesos ideais para cada problema que for submetido a rede neural."
   ]
  },
  {
   "cell_type": "markdown",
   "metadata": {},
   "source": [
    "Agora, vamos entender como funciona os cálculos dos pesos para cada neurônio utilizado."
   ]
  },
  {
   "cell_type": "markdown",
   "metadata": {},
   "source": [
    "### Cálculo dos pesos"
   ]
  },
  {
   "cell_type": "markdown",
   "metadata": {},
   "source": [
    "Inicialmente, os pesos são escolhidos de forma **randômica**. Em alguns modelos mais sofisticados de redes neurais, os pesos recebem alguns critérios de inicialização com base nos dados disponíveis, garantido um menor tempo de execução."
   ]
  },
  {
   "cell_type": "markdown",
   "metadata": {},
   "source": [
    "Cada vez que um neurônio retorna um valor, com base nas entradas, nos pesos e na função de ativação, esse valor é comparado com os atributos metas correspondentes. Se os valores forem majoritariamente corretos, a execução do algoritmo foi plena. Mas caso ocorra muitos valores incorretos, é necessário rodar novamente o algoritmo com novos pesos. Esse novos pesos não serão escolhidos de forma randômica, é levando em consideração os **cálculos de erro** e a **taxa de aprendizagem**, essa que pode ser definida pelo usuário e quanto menor ela for, mais cuidadosa será a escolha de novos pesos para obter uma melhor precisão, mesmo tendo um tempo de execução maior. Os cálculos de novos pesos são:"
   ]
  },
  {
   "cell_type": "markdown",
   "metadata": {},
   "source": [
    "- $peso(n + 1) = peso(n) + TaxaAprendizagem * Entrada * Erro$  \n",
    "- $erro = RespostaCorreta - RespostaCalculada$  "
   ]
  },
  {
   "cell_type": "markdown",
   "metadata": {},
   "source": [
    "> \"*O conhecimento de uma rede neural consiste em achar os pesos adequados que permitam o acerto dos resultados*\"."
   ]
  },
  {
   "cell_type": "markdown",
   "metadata": {},
   "source": [
    "### Função de ativação"
   ]
  },
  {
   "cell_type": "markdown",
   "metadata": {},
   "source": [
    "A ativação de um neurônio é definida somente se o valor for maior que um limiar definido pela **função de ativação** (**step function**), e é ela que permite a resolução de problemas que não são linearmente separáveis. Abaixo é possível identificar os tipos mais comuns de função de ativação e como elas funcionam."
   ]
  },
  {
   "cell_type": "markdown",
   "metadata": {},
   "source": [
    "- **Função degrau**: retorna valores discretos (retorna 0 ou 1), não retorna valores negativos;"
   ]
  },
  {
   "cell_type": "markdown",
   "metadata": {},
   "source": [
    "![funcao-degrau](Imagens/funcao-degrau.png)"
   ]
  },
  {
   "cell_type": "markdown",
   "metadata": {},
   "source": [
    "- **Função sigmoide**: retorna valores contínuos entre 0 e 1, não retorna valores negativos;"
   ]
  },
  {
   "cell_type": "markdown",
   "metadata": {},
   "source": [
    "![funcao-sigmoid](Imagens/funcao-sigmoid.png)"
   ]
  },
  {
   "cell_type": "markdown",
   "metadata": {},
   "source": [
    "- **Função tangente hiperbólica**: retorna valores contínuos entre -1 e 1, esse sim pode retornar valores negativo;"
   ]
  },
  {
   "cell_type": "markdown",
   "metadata": {},
   "source": [
    "![funcao-tangente-hiperbolica](Imagens/funcao-tangente-hiperbolica.png)"
   ]
  },
  {
   "cell_type": "markdown",
   "metadata": {},
   "source": [
    "A escolha de uma função de ativação adequada depende do problema a ser resolvido, pois qualquer algoritmo de aprendizagem de máquina ou aprendizagem profunda deve ser moldado a se encaixar perfeitamente na base de dados utilizada. Além disso, existem diversas funções que não foram citadas aqui, mas podem ser usadas nas funções de ativação."
   ]
  },
  {
   "cell_type": "markdown",
   "metadata": {},
   "source": [
    "Na prática, usa-se a função **relu** nas camadas ocultas e a **sigmoidal** na camada de saída. Quando há mais de um neurônio na saída, usa-se o **softmax**. Essas sugestões são as que mais fornecem poder preditivo ao algoritmo, mas sempre vai depender do caso a ser resolvido"
   ]
  },
  {
   "cell_type": "markdown",
   "metadata": {},
   "source": [
    "Dois termos são muito comuns na área do Deep Learning que são:  \n",
    "- **Neurônio Sigmoid** = Indica que a função de ativação (step function) usa a uma curva sigmoidal;\n",
    "- **Perceptrons usam step function** = indica que o algoritmo é o perceptron e ele usa uma função de ativação, diferente do Adaline por exemplo;"
   ]
  },
  {
   "cell_type": "markdown",
   "metadata": {},
   "source": [
    "### Esquema de uma rede neural"
   ]
  },
  {
   "cell_type": "markdown",
   "metadata": {},
   "source": [
    "1. Baseado nos dados (aprendizagem supervisionada), realiza os cálculos com os pesos e calculo o erro;\n",
    "2. Calcula as mudanças nos pesos e os atualiza (Backpropagation);\n",
    "3. O algoritmo termina quando o erro é pequeno;"
   ]
  },
  {
   "cell_type": "markdown",
   "metadata": {},
   "source": [
    "![esquema-pesos-erros](Imagens/esquema-pesos-erros.png)"
   ]
  },
  {
   "cell_type": "markdown",
   "metadata": {},
   "source": [
    "### Ajuste de pesos"
   ]
  },
  {
   "cell_type": "markdown",
   "metadata": {},
   "source": [
    "A escolha de novos pesos para a rede neural, após a primeira execução, não ocorre de forma aleatória. Para isso, são utilizadas algumas técnicas como as citadas abaixo:"
   ]
  },
  {
   "cell_type": "markdown",
   "metadata": {},
   "source": [
    "- Gradiente (**Gradient Descent**);\n",
    "- Derivada;\n",
    "- Cálculo do Delta;\n",
    "- Backpropagation;\n",
    "- Learning Rate (Taxa de Aprendizagem);\n",
    "- Momentum (Momento);"
   ]
  },
  {
   "cell_type": "markdown",
   "metadata": {},
   "source": [
    "mais adiante alguns desses métodos serão discutidos com mais profundidade."
   ]
  },
  {
   "cell_type": "markdown",
   "metadata": {},
   "source": [
    "### Outros métodos de calcular o erro"
   ]
  },
  {
   "cell_type": "markdown",
   "metadata": {},
   "source": [
    "Existem outros algoritmos que calculam o erro para a saída de dados com os pesos em cada treinamento, os dois mais famosos são o **Mean Square Error** (**MSE**) e **Root Mean Square Error (**RMSE**). Os cálculos são os seguintes:\n"
   ]
  },
  {
   "cell_type": "markdown",
   "metadata": {},
   "source": [
    "- **MSE** = $\\frac{1}{N}\\sum_{i=1}^{n}(f_{i}-y_{i})^{2}$  \n",
    "> $f_{i}$ = classe original e $y_{i}$ = classe obtida.  \n",
    "- **RMSE** = $\\sqrt{\\frac{1}{N}\\sum_{i=1}^{n}(f_{i}-y_{i})^{2}}{}$"
   ]
  },
  {
   "cell_type": "markdown",
   "metadata": {},
   "source": [
    "O cálculo desses dois algoritmos consiste basicamente em calcular a média das diferenças entre o esperado e o que foi previsto. Além disso, erros maiores contam mais que erros menores, penalizando os maiores erros."
   ]
  },
  {
   "cell_type": "markdown",
   "metadata": {},
   "source": [
    "### Bias"
   ]
  },
  {
   "cell_type": "markdown",
   "metadata": {},
   "source": [
    "Um melhoramento utilizado pelas redes neurais é chamado de **bias**. Esse método consiste em adicionar um atributo a mais nas camadas ocultas e na camada de saída, visando balancear os pesos para que eles cheguem mais perto de mínimos globais, pois é possível que todas as entradas dos neurônios das camadas sejam zero, podendo ocasionar problemas lógicos. Desse modo, o bias é uma medida de segurança para evitar esse erro."
   ]
  },
  {
   "cell_type": "markdown",
   "metadata": {},
   "source": [
    "### Alguma dúvida? Entre em contato comigo:"
   ]
  },
  {
   "cell_type": "markdown",
   "metadata": {},
   "source": [
    "- [Me envie um e-mail](mailto:alyssonmachado388@gmail.com);"
   ]
  }
 ],
 "metadata": {
  "kernelspec": {
   "display_name": "Python 3",
   "language": "python",
   "name": "python3"
  },
  "language_info": {
   "codemirror_mode": {
    "name": "ipython",
    "version": 3
   },
   "file_extension": ".py",
   "mimetype": "text/x-python",
   "name": "python",
   "nbconvert_exporter": "python",
   "pygments_lexer": "ipython3",
   "version": "3.7.4"
  }
 },
 "nbformat": 4,
 "nbformat_minor": 4
}
