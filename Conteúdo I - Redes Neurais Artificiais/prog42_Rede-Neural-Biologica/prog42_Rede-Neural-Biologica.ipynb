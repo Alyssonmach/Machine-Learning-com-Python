{
 "cells": [
  {
   "cell_type": "markdown",
   "metadata": {},
   "source": [
    "# Rede Neural Biológica\n",
    "#### Entendendo como é o esquema simples de um neurônio biológico."
   ]
  },
  {
   "cell_type": "markdown",
   "metadata": {},
   "source": [
    "Redes neurais artificiais são baseadas no funcionamento de redes neurais biológicas. Por esse motivo, é interessante saber como é o esquema de um neurônio biológico simples antes de começar a se aprofundar em redes neurais artificiais complexas. Abaixo, é possível visualizar todos esses detalhes."
   ]
  },
  {
   "cell_type": "markdown",
   "metadata": {},
   "source": [
    "> *Vale a pena salientar que esse estudo não será muito aprofundado, dado que o entendimento simplificado de um neurônio biológico já satisfaz o entendimendo dos próximos tópicos*."
   ]
  },
  {
   "cell_type": "markdown",
   "metadata": {},
   "source": [
    "### Neurônio Biológico"
   ]
  },
  {
   "cell_type": "markdown",
   "metadata": {},
   "source": [
    "![neuronio-biologico](Imagens/neuronio-biologico.jpg)"
   ]
  },
  {
   "cell_type": "markdown",
   "metadata": {},
   "source": [
    "- **Neurônios**: o cérebro usa para processar informações;\n",
    "- **Axônio**: transmite o sinal de um neurônio para outro (sinais elétricos e sinapses nervosas) - conecta os neurônios;\n",
    "- **Substâncias químicas**: são lançadas nas sinapses e entram pelos dendritos, aumentando ou baixando o potenial elétrico do corpo da célula;\n",
    "- **sinapses**: são as informações que são transmitidas de um neurônio para outro."
   ]
  },
  {
   "cell_type": "markdown",
   "metadata": {},
   "source": [
    "- O neurônio é ativado somente se o valor for maior que um limiar definido (liga ou não liga);\n",
    "- A partir de um valor de entrada, a rede processa e retorna uma resposta;"
   ]
  },
  {
   "cell_type": "markdown",
   "metadata": {},
   "source": [
    "### Alguma dúvida? Entre em contato comigo:"
   ]
  },
  {
   "cell_type": "markdown",
   "metadata": {},
   "source": [
    "- [Me envie um e-mail](mailto:alyssonmachado388@gmail.com);"
   ]
  }
 ],
 "metadata": {
  "kernelspec": {
   "display_name": "Python 3",
   "language": "python",
   "name": "python3"
  },
  "language_info": {
   "codemirror_mode": {
    "name": "ipython",
    "version": 3
   },
   "file_extension": ".py",
   "mimetype": "text/x-python",
   "name": "python",
   "nbconvert_exporter": "python",
   "pygments_lexer": "ipython3",
   "version": "3.7.4"
  }
 },
 "nbformat": 4,
 "nbformat_minor": 4
}
