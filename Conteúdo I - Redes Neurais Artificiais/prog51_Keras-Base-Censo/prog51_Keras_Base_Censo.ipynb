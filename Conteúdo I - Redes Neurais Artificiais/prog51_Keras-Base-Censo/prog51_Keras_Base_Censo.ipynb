{
 "cells": [
  {
   "cell_type": "markdown",
   "metadata": {
    "colab_type": "text",
    "id": "GYPQINcfYIDg"
   },
   "source": [
    "# Rede Neural para a Base do Censo Usando Keras\n",
    "#### Usando a biblioteca do python keras para criar uma rede neural usando a base de dados do censo."
   ]
  },
  {
   "cell_type": "markdown",
   "metadata": {
    "colab_type": "text",
    "id": "5j4lXjEOYZiV"
   },
   "source": [
    "### Pré-processamento da base de dados"
   ]
  },
  {
   "cell_type": "code",
   "execution_count": null,
   "metadata": {
    "colab": {},
    "colab_type": "code",
    "id": "yHxAHocPYGib"
   },
   "outputs": [],
   "source": [
    "# importando a biblioteca pandas do python\n",
    "import pandas as pd\n",
    "\n",
    "# atribuindo os registros da base de dados para o objeto \"dataframe\"\n",
    "dataframe = pd.read_csv('census.csv', encoding = 'utf-8', sep = ',')\n",
    "\n",
    "# separando os atributos previsores e classe \n",
    "previsores = dataframe.iloc[:, 0:14].values\n",
    "classe = dataframe.iloc[:, 14].values\n",
    "\n",
    "# importando a biblioteca sklearn do python\n",
    "from sklearn.preprocessing import LabelEncoder\n",
    "# LabelEncoder é uma função responsável por  normalizar rótulos\n",
    "# o objetivo é transoformar variáveis categóricas em numéricas\n",
    "\n",
    "# criando o objeto \"labelencoder_previsores\" para fazer a transformação dos atributos categóricos em numéricos\n",
    "labelencoder_previsores = LabelEncoder()\n",
    "\n",
    "# aplicando a transformação em todos os campos de dados categóricos usando o objeto criado e definido \n",
    "# \"LabelEncoder_previsores\"\n",
    "previsores[:,1] = labelencoder_previsores.fit_transform(previsores[:,1])\n",
    "previsores[:,3] = labelencoder_previsores.fit_transform(previsores[:,3])\n",
    "previsores[:,5] = labelencoder_previsores.fit_transform(previsores[:,5])\n",
    "previsores[:,6] = labelencoder_previsores.fit_transform(previsores[:,6])\n",
    "previsores[:,7] = labelencoder_previsores.fit_transform(previsores[:,7])\n",
    "previsores[:,8] = labelencoder_previsores.fit_transform(previsores[:,8])\n",
    "previsores[:,9] = labelencoder_previsores.fit_transform(previsores[:,9])\n",
    "previsores[:,13] = labelencoder_previsores.fit_transform(previsores[:,13])\n",
    "\n",
    "# criando o objeto 'labelencoder_classe' para fazer a transformação dos atributos categóricos em numéricos\n",
    "labelencoder_classe = LabelEncoder()\n",
    "\n",
    "classe = labelencoder_classe.fit_transform(classe)\n",
    "\n",
    "# importando a biblioteca sklearn do python\n",
    "from sklearn.preprocessing import StandardScaler\n",
    "\n",
    "# criando e configurando o objeto \"scaler\"\n",
    "scaler = StandardScaler()\n",
    "\n",
    "# aplicando o escaolonamento nos atributos previsores\n",
    "previsores = scaler.fit_transform(previsores)\n",
    "\n",
    "# importando a biblioteca sklearn do python\n",
    "from sklearn.model_selection import train_test_split\n",
    "# a função \"train_test_split\" tem a função de separar modelos de treinamento e modelos de teste em uma base \n",
    "#de dados\n",
    "\n",
    "# separando as bases de dados entre modelos de treinamento e modelos de teste\n",
    "previsores_treinamento, previsores_teste, classe_treinamento, classe_teste = train_test_split(previsores, \n",
    "                                                                                             classe,\n",
    "                                                                                             test_size = 0.15, \n",
    "                                                                                             random_state = 0)"
   ]
  },
  {
   "cell_type": "markdown",
   "metadata": {
    "colab_type": "text",
    "id": "yBIO5EltvhUe"
   },
   "source": [
    "> O pré-processamento acima teve uma boa adapatação com o algoritmo feito. Outros testes foram feitos com pré-processamentos diferentes e os resultados não foram suficientemente bons."
   ]
  },
  {
   "cell_type": "markdown",
   "metadata": {
    "colab_type": "text",
    "id": "ziXBAmjXZULF"
   },
   "source": [
    "### Usando o Keras para criar uma rede neural"
   ]
  },
  {
   "cell_type": "code",
   "execution_count": 2,
   "metadata": {
    "colab": {
     "base_uri": "https://localhost:8080/",
     "height": 35
    },
    "colab_type": "code",
    "id": "ZHM4deNJZP0U",
    "outputId": "685a13aa-89d0-48b5-8df8-3d13aceb10c9"
   },
   "outputs": [
    {
     "name": "stderr",
     "output_type": "stream",
     "text": [
      "Using TensorFlow backend.\n"
     ]
    }
   ],
   "source": [
    "# importando a biblioteca keras do python\n",
    "import keras\n",
    "\n",
    "from keras.models import Sequential\n",
    "# 'Sequential' indica o modelo de rede neural que conecta a camada de neurônios de entrada, ocultas e saída\n",
    "\n",
    "from keras.layers import Dense\n",
    "# 'Dense' indica que os neurônios da camada anterior se conectam com os da camada posterior"
   ]
  },
  {
   "cell_type": "code",
   "execution_count": null,
   "metadata": {
    "colab": {},
    "colab_type": "code",
    "id": "V9oRPzBvaC1_"
   },
   "outputs": [],
   "source": [
    "# criando o objeto de configuração para a rede neural 'classificador'\n",
    "classificador = Sequential()"
   ]
  },
  {
   "cell_type": "code",
   "execution_count": 4,
   "metadata": {
    "colab": {
     "base_uri": "https://localhost:8080/",
     "height": 35
    },
    "colab_type": "code",
    "id": "W93CxgWyfNM0",
    "outputId": "79573f1a-fe7c-4ee4-8d54-1da6f6ccf634"
   },
   "outputs": [
    {
     "data": {
      "text/plain": [
       "(27676, 14)"
      ]
     },
     "execution_count": 4,
     "metadata": {
      "tags": []
     },
     "output_type": "execute_result"
    }
   ],
   "source": [
    "# visualizando a quantidade de dados do dataframe\n",
    "previsores_treinamento.shape"
   ]
  },
  {
   "cell_type": "code",
   "execution_count": null,
   "metadata": {
    "colab": {},
    "colab_type": "code",
    "id": "-lxwMnTpaOqk"
   },
   "outputs": [],
   "source": [
    "# adicionando a primeira camada de entrada a rede neural\n",
    "classificador.add(Dense(units = 8, activation = 'relu', input_dim = 14))"
   ]
  },
  {
   "cell_type": "code",
   "execution_count": null,
   "metadata": {
    "colab": {},
    "colab_type": "code",
    "id": "GAEslMxlcr3R"
   },
   "outputs": [],
   "source": [
    "# adicionando a segunda camada oculta a rede neural\n",
    "classificador.add(Dense( units = 8, activation = 'relu'))"
   ]
  },
  {
   "cell_type": "code",
   "execution_count": null,
   "metadata": {
    "colab": {},
    "colab_type": "code",
    "id": "mWKzW6Xpcwb2"
   },
   "outputs": [],
   "source": [
    "# adicionando a quarta camada de saída a rede neural\n",
    "classificador.add(Dense(units = 1, activation = 'sigmoid'))"
   ]
  },
  {
   "cell_type": "code",
   "execution_count": null,
   "metadata": {
    "colab": {},
    "colab_type": "code",
    "id": "NdEcrCz0dHck"
   },
   "outputs": [],
   "source": [
    "# configurando os parâmetros da rede neural\n",
    "classificador.compile(optimizer = 'adam', loss = 'binary_crossentropy', metrics = ['accuracy'])"
   ]
  },
  {
   "cell_type": "code",
   "execution_count": 9,
   "metadata": {
    "colab": {
     "base_uri": "https://localhost:8080/",
     "height": 1000
    },
    "colab_type": "code",
    "id": "Y5XQo-Qsdynl",
    "outputId": "c6c6013d-4f7d-4c6b-a3c8-ab7b2c42b7c6"
   },
   "outputs": [
    {
     "name": "stderr",
     "output_type": "stream",
     "text": [
      "/usr/local/lib/python3.6/dist-packages/ipykernel_launcher.py:2: UserWarning: The `nb_epoch` argument in `fit` has been renamed `epochs`.\n",
      "  \n"
     ]
    },
    {
     "name": "stdout",
     "output_type": "stream",
     "text": [
      "Epoch 1/100\n",
      "27676/27676 [==============================] - 4s 144us/step - loss: 0.3987 - accuracy: 0.8111\n",
      "Epoch 2/100\n",
      "27676/27676 [==============================] - 4s 144us/step - loss: 0.3383 - accuracy: 0.8427\n",
      "Epoch 3/100\n",
      "27676/27676 [==============================] - 3s 125us/step - loss: 0.3309 - accuracy: 0.8471\n",
      "Epoch 4/100\n",
      "27676/27676 [==============================] - 3s 126us/step - loss: 0.3279 - accuracy: 0.8459\n",
      "Epoch 5/100\n",
      "27676/27676 [==============================] - 3s 125us/step - loss: 0.3265 - accuracy: 0.8463\n",
      "Epoch 6/100\n",
      "27676/27676 [==============================] - 4s 129us/step - loss: 0.3256 - accuracy: 0.8467\n",
      "Epoch 7/100\n",
      "27676/27676 [==============================] - 3s 126us/step - loss: 0.3239 - accuracy: 0.8480\n",
      "Epoch 8/100\n",
      "27676/27676 [==============================] - 4s 141us/step - loss: 0.3236 - accuracy: 0.8498\n",
      "Epoch 9/100\n",
      "27676/27676 [==============================] - 4s 145us/step - loss: 0.3230 - accuracy: 0.8484\n",
      "Epoch 10/100\n",
      "27676/27676 [==============================] - 4s 146us/step - loss: 0.3223 - accuracy: 0.8499\n",
      "Epoch 11/100\n",
      "27676/27676 [==============================] - 4s 145us/step - loss: 0.3219 - accuracy: 0.8496\n",
      "Epoch 12/100\n",
      "27676/27676 [==============================] - 4s 141us/step - loss: 0.3210 - accuracy: 0.8497\n",
      "Epoch 13/100\n",
      "27676/27676 [==============================] - 4s 129us/step - loss: 0.3207 - accuracy: 0.8509\n",
      "Epoch 14/100\n",
      "27676/27676 [==============================] - 4s 128us/step - loss: 0.3203 - accuracy: 0.8514\n",
      "Epoch 15/100\n",
      "27676/27676 [==============================] - 4s 137us/step - loss: 0.3198 - accuracy: 0.8513\n",
      "Epoch 16/100\n",
      "27676/27676 [==============================] - 4s 130us/step - loss: 0.3192 - accuracy: 0.8518\n",
      "Epoch 17/100\n",
      "27676/27676 [==============================] - 4s 129us/step - loss: 0.3193 - accuracy: 0.8517\n",
      "Epoch 18/100\n",
      "27676/27676 [==============================] - 4s 127us/step - loss: 0.3185 - accuracy: 0.8524\n",
      "Epoch 19/100\n",
      "27676/27676 [==============================] - 4s 128us/step - loss: 0.3190 - accuracy: 0.8515\n",
      "Epoch 20/100\n",
      "27676/27676 [==============================] - 4s 128us/step - loss: 0.3188 - accuracy: 0.8517\n",
      "Epoch 21/100\n",
      "27676/27676 [==============================] - 4s 128us/step - loss: 0.3183 - accuracy: 0.8515\n",
      "Epoch 22/100\n",
      "27676/27676 [==============================] - 3s 126us/step - loss: 0.3182 - accuracy: 0.8521\n",
      "Epoch 23/100\n",
      "27676/27676 [==============================] - 3s 124us/step - loss: 0.3178 - accuracy: 0.8525\n",
      "Epoch 24/100\n",
      "27676/27676 [==============================] - 3s 125us/step - loss: 0.3175 - accuracy: 0.8519\n",
      "Epoch 25/100\n",
      "27676/27676 [==============================] - 3s 124us/step - loss: 0.3172 - accuracy: 0.8519\n",
      "Epoch 26/100\n",
      "27676/27676 [==============================] - 3s 124us/step - loss: 0.3171 - accuracy: 0.8519\n",
      "Epoch 27/100\n",
      "27676/27676 [==============================] - 4s 136us/step - loss: 0.3173 - accuracy: 0.8508\n",
      "Epoch 28/100\n",
      "27676/27676 [==============================] - 4s 151us/step - loss: 0.3169 - accuracy: 0.8525\n",
      "Epoch 29/100\n",
      "27676/27676 [==============================] - 4s 145us/step - loss: 0.3169 - accuracy: 0.8525\n",
      "Epoch 30/100\n",
      "27676/27676 [==============================] - 4s 150us/step - loss: 0.3162 - accuracy: 0.8537\n",
      "Epoch 31/100\n",
      "27676/27676 [==============================] - 4s 143us/step - loss: 0.3159 - accuracy: 0.8522\n",
      "Epoch 32/100\n",
      "27676/27676 [==============================] - 4s 141us/step - loss: 0.3156 - accuracy: 0.8529\n",
      "Epoch 33/100\n",
      "27676/27676 [==============================] - 4s 129us/step - loss: 0.3154 - accuracy: 0.8524\n",
      "Epoch 34/100\n",
      "27676/27676 [==============================] - 4s 131us/step - loss: 0.3151 - accuracy: 0.8525\n",
      "Epoch 35/100\n",
      "27676/27676 [==============================] - 4s 129us/step - loss: 0.3150 - accuracy: 0.8530\n",
      "Epoch 36/100\n",
      "27676/27676 [==============================] - 4s 127us/step - loss: 0.3149 - accuracy: 0.8540\n",
      "Epoch 37/100\n",
      "27676/27676 [==============================] - 4s 127us/step - loss: 0.3144 - accuracy: 0.8536\n",
      "Epoch 38/100\n",
      "27676/27676 [==============================] - 4s 128us/step - loss: 0.3148 - accuracy: 0.8534\n",
      "Epoch 39/100\n",
      "27676/27676 [==============================] - 4s 127us/step - loss: 0.3146 - accuracy: 0.8541\n",
      "Epoch 40/100\n",
      "27676/27676 [==============================] - 4s 127us/step - loss: 0.3138 - accuracy: 0.8531\n",
      "Epoch 41/100\n",
      "27676/27676 [==============================] - 4s 129us/step - loss: 0.3141 - accuracy: 0.8524\n",
      "Epoch 42/100\n",
      "27676/27676 [==============================] - 4s 128us/step - loss: 0.3138 - accuracy: 0.8535\n",
      "Epoch 43/100\n",
      "27676/27676 [==============================] - 4s 127us/step - loss: 0.3135 - accuracy: 0.8547\n",
      "Epoch 44/100\n",
      "27676/27676 [==============================] - 4s 130us/step - loss: 0.3135 - accuracy: 0.8532\n",
      "Epoch 45/100\n",
      "27676/27676 [==============================] - 4s 129us/step - loss: 0.3133 - accuracy: 0.8541\n",
      "Epoch 46/100\n",
      "27676/27676 [==============================] - 4s 138us/step - loss: 0.3135 - accuracy: 0.8534\n",
      "Epoch 47/100\n",
      "27676/27676 [==============================] - 4s 153us/step - loss: 0.3131 - accuracy: 0.8538\n",
      "Epoch 48/100\n",
      "27676/27676 [==============================] - 4s 145us/step - loss: 0.3130 - accuracy: 0.8537\n",
      "Epoch 49/100\n",
      "27676/27676 [==============================] - 4s 146us/step - loss: 0.3128 - accuracy: 0.8557\n",
      "Epoch 50/100\n",
      "27676/27676 [==============================] - 4s 142us/step - loss: 0.3130 - accuracy: 0.8540\n",
      "Epoch 51/100\n",
      "27676/27676 [==============================] - 4s 132us/step - loss: 0.3123 - accuracy: 0.8532\n",
      "Epoch 52/100\n",
      "27676/27676 [==============================] - 4s 127us/step - loss: 0.3127 - accuracy: 0.8545\n",
      "Epoch 53/100\n",
      "27676/27676 [==============================] - 4s 129us/step - loss: 0.3120 - accuracy: 0.8549\n",
      "Epoch 54/100\n",
      "27676/27676 [==============================] - 4s 133us/step - loss: 0.3125 - accuracy: 0.8538\n",
      "Epoch 55/100\n",
      "27676/27676 [==============================] - 4s 129us/step - loss: 0.3123 - accuracy: 0.8542\n",
      "Epoch 56/100\n",
      "27676/27676 [==============================] - 4s 130us/step - loss: 0.3119 - accuracy: 0.8550\n",
      "Epoch 57/100\n",
      "27676/27676 [==============================] - 4s 129us/step - loss: 0.3120 - accuracy: 0.8540\n",
      "Epoch 58/100\n",
      "27676/27676 [==============================] - 4s 128us/step - loss: 0.3118 - accuracy: 0.8532\n",
      "Epoch 59/100\n",
      "27676/27676 [==============================] - 4s 129us/step - loss: 0.3118 - accuracy: 0.8540\n",
      "Epoch 60/100\n",
      "27676/27676 [==============================] - 4s 127us/step - loss: 0.3115 - accuracy: 0.8541\n",
      "Epoch 61/100\n",
      "27676/27676 [==============================] - 4s 129us/step - loss: 0.3113 - accuracy: 0.8556\n",
      "Epoch 62/100\n",
      "27676/27676 [==============================] - 4s 128us/step - loss: 0.3116 - accuracy: 0.8547\n",
      "Epoch 63/100\n",
      "27676/27676 [==============================] - 4s 128us/step - loss: 0.3112 - accuracy: 0.8537\n",
      "Epoch 64/100\n",
      "27676/27676 [==============================] - 4s 130us/step - loss: 0.3115 - accuracy: 0.8537\n",
      "Epoch 65/100\n",
      "27676/27676 [==============================] - 4s 143us/step - loss: 0.3115 - accuracy: 0.8545\n",
      "Epoch 66/100\n",
      "27676/27676 [==============================] - 4s 148us/step - loss: 0.3110 - accuracy: 0.8546\n",
      "Epoch 67/100\n",
      "27676/27676 [==============================] - 4s 144us/step - loss: 0.3110 - accuracy: 0.8549\n",
      "Epoch 68/100\n",
      "27676/27676 [==============================] - 4s 144us/step - loss: 0.3111 - accuracy: 0.8545\n",
      "Epoch 69/100\n",
      "27676/27676 [==============================] - 4s 144us/step - loss: 0.3108 - accuracy: 0.8542\n",
      "Epoch 70/100\n",
      "27676/27676 [==============================] - 4s 132us/step - loss: 0.3111 - accuracy: 0.8550\n",
      "Epoch 71/100\n",
      "27676/27676 [==============================] - 4s 129us/step - loss: 0.3110 - accuracy: 0.8538\n",
      "Epoch 72/100\n",
      "27676/27676 [==============================] - 3s 126us/step - loss: 0.3108 - accuracy: 0.8553\n",
      "Epoch 73/100\n",
      "27676/27676 [==============================] - 4s 129us/step - loss: 0.3108 - accuracy: 0.8539\n",
      "Epoch 74/100\n",
      "27676/27676 [==============================] - 3s 126us/step - loss: 0.3107 - accuracy: 0.8549\n",
      "Epoch 75/100\n",
      "27676/27676 [==============================] - 3s 126us/step - loss: 0.3103 - accuracy: 0.8537\n",
      "Epoch 76/100\n",
      "27676/27676 [==============================] - 4s 143us/step - loss: 0.3102 - accuracy: 0.8550\n",
      "Epoch 77/100\n",
      "27676/27676 [==============================] - 4s 150us/step - loss: 0.3104 - accuracy: 0.8549\n",
      "Epoch 78/100\n",
      "27676/27676 [==============================] - 4s 145us/step - loss: 0.3104 - accuracy: 0.8553\n",
      "Epoch 79/100\n",
      "27676/27676 [==============================] - 4s 128us/step - loss: 0.3099 - accuracy: 0.8563\n",
      "Epoch 80/100\n",
      "27676/27676 [==============================] - 4s 131us/step - loss: 0.3101 - accuracy: 0.8549\n",
      "Epoch 81/100\n",
      "27676/27676 [==============================] - 4s 131us/step - loss: 0.3104 - accuracy: 0.8557\n",
      "Epoch 82/100\n",
      "27676/27676 [==============================] - 4s 128us/step - loss: 0.3100 - accuracy: 0.8550\n",
      "Epoch 83/100\n",
      "27676/27676 [==============================] - 4s 127us/step - loss: 0.3095 - accuracy: 0.8559\n",
      "Epoch 84/100\n",
      "27676/27676 [==============================] - 4s 144us/step - loss: 0.3099 - accuracy: 0.8542\n",
      "Epoch 85/100\n",
      "27676/27676 [==============================] - 4s 145us/step - loss: 0.3100 - accuracy: 0.8545\n",
      "Epoch 86/100\n",
      "27676/27676 [==============================] - 4s 149us/step - loss: 0.3097 - accuracy: 0.8547\n",
      "Epoch 87/100\n",
      "27676/27676 [==============================] - 4s 149us/step - loss: 0.3098 - accuracy: 0.8552\n",
      "Epoch 88/100\n",
      "27676/27676 [==============================] - 4s 139us/step - loss: 0.3097 - accuracy: 0.8542\n",
      "Epoch 89/100\n",
      "27676/27676 [==============================] - 4s 140us/step - loss: 0.3097 - accuracy: 0.8560\n",
      "Epoch 90/100\n",
      "27676/27676 [==============================] - 4s 145us/step - loss: 0.3094 - accuracy: 0.8547\n",
      "Epoch 91/100\n",
      "27676/27676 [==============================] - 4s 128us/step - loss: 0.3093 - accuracy: 0.8557\n",
      "Epoch 92/100\n",
      "27676/27676 [==============================] - 4s 127us/step - loss: 0.3092 - accuracy: 0.8553\n",
      "Epoch 93/100\n",
      "27676/27676 [==============================] - 4s 127us/step - loss: 0.3093 - accuracy: 0.8542\n",
      "Epoch 94/100\n",
      "27676/27676 [==============================] - 4s 127us/step - loss: 0.3090 - accuracy: 0.8546\n",
      "Epoch 95/100\n",
      "27676/27676 [==============================] - 3s 126us/step - loss: 0.3095 - accuracy: 0.8554\n",
      "Epoch 96/100\n",
      "27676/27676 [==============================] - 3s 125us/step - loss: 0.3093 - accuracy: 0.8558\n",
      "Epoch 97/100\n",
      "27676/27676 [==============================] - 3s 125us/step - loss: 0.3091 - accuracy: 0.8553\n",
      "Epoch 98/100\n",
      "27676/27676 [==============================] - 4s 127us/step - loss: 0.3090 - accuracy: 0.8557\n",
      "Epoch 99/100\n",
      "27676/27676 [==============================] - 3s 126us/step - loss: 0.3089 - accuracy: 0.8554\n",
      "Epoch 100/100\n",
      "27676/27676 [==============================] - 3s 126us/step - loss: 0.3090 - accuracy: 0.8559\n"
     ]
    },
    {
     "data": {
      "text/plain": [
       "<keras.callbacks.callbacks.History at 0x7fb3ec0b2278>"
      ]
     },
     "execution_count": 9,
     "metadata": {
      "tags": []
     },
     "output_type": "execute_result"
    }
   ],
   "source": [
    "# realizando o treinamento com a base de dados\n",
    "classificador.fit(previsores_treinamento, classe_treinamento, batch_size = 10, nb_epoch = 100)"
   ]
  },
  {
   "cell_type": "code",
   "execution_count": null,
   "metadata": {
    "colab": {},
    "colab_type": "code",
    "id": "Jv1Vc2HjiH87"
   },
   "outputs": [],
   "source": [
    "# realizando a predição com a base de dados de teste\n",
    "previsoes = classificador.predict(previsores_teste)"
   ]
  },
  {
   "cell_type": "code",
   "execution_count": 11,
   "metadata": {
    "colab": {
     "base_uri": "https://localhost:8080/",
     "height": 142
    },
    "colab_type": "code",
    "id": "_ow540Gui8f0",
    "outputId": "c5f57bf0-dff5-4af1-f30b-3a3a3b43c623"
   },
   "outputs": [
    {
     "name": "stdout",
     "output_type": "stream",
     "text": [
      "[[1.4841139e-02]\n",
      " [2.1438897e-02]\n",
      " [2.4466136e-01]\n",
      " ...\n",
      " [3.3843826e-04]\n",
      " [4.3996010e-02]\n",
      " [6.8978620e-01]]\n"
     ]
    }
   ],
   "source": [
    "# observando na saída de dados as previsões feitas\n",
    "print(previsoes)"
   ]
  },
  {
   "cell_type": "code",
   "execution_count": 12,
   "metadata": {
    "colab": {
     "base_uri": "https://localhost:8080/",
     "height": 35
    },
    "colab_type": "code",
    "id": "BFo7vp_mi_YU",
    "outputId": "c0acf432-7fee-47dd-e2e5-887016bb5124"
   },
   "outputs": [
    {
     "name": "stdout",
     "output_type": "stream",
     "text": [
      "[0 0 0 ... 0 0 0]\n"
     ]
    }
   ],
   "source": [
    "# observando as previsões ideais na saída de dados para a base de teste\n",
    "print(classe_teste)"
   ]
  },
  {
   "cell_type": "code",
   "execution_count": null,
   "metadata": {
    "colab": {},
    "colab_type": "code",
    "id": "tli878DOjB0u"
   },
   "outputs": [],
   "source": [
    "# convertendo os registros previstos para uma base binária, com um limiar de 0.5\n",
    "previsoes = (previsoes > 0.5)"
   ]
  },
  {
   "cell_type": "code",
   "execution_count": 14,
   "metadata": {
    "colab": {
     "base_uri": "https://localhost:8080/",
     "height": 142
    },
    "colab_type": "code",
    "id": "8Bp0lXuejGFg",
    "outputId": "6f43d1be-8c18-4ed7-b69d-87892b8c08b3"
   },
   "outputs": [
    {
     "name": "stdout",
     "output_type": "stream",
     "text": [
      "[[False]\n",
      " [False]\n",
      " [False]\n",
      " ...\n",
      " [False]\n",
      " [False]\n",
      " [ True]]\n"
     ]
    }
   ],
   "source": [
    "# visualizando os valores previstos pelo algoritmo de forma binarizada\n",
    "print(previsoes)"
   ]
  },
  {
   "cell_type": "markdown",
   "metadata": {
    "colab_type": "text",
    "id": "Hgwh5gRJjLiX"
   },
   "source": [
    "### Observando a capacidade de predição do algoritmo"
   ]
  },
  {
   "cell_type": "code",
   "execution_count": null,
   "metadata": {
    "colab": {},
    "colab_type": "code",
    "id": "eiim3PJijIcF"
   },
   "outputs": [],
   "source": [
    "# importando a biblioteca sklearn do python\n",
    "from sklearn.metrics import accuracy_score, confusion_matrix"
   ]
  },
  {
   "cell_type": "code",
   "execution_count": null,
   "metadata": {
    "colab": {},
    "colab_type": "code",
    "id": "BrnYlN65jPlW"
   },
   "outputs": [],
   "source": [
    "# visualizado a precisão de acertos do algoritmo\n",
    "precisao = accuracy_score(classe_teste, previsoes)"
   ]
  },
  {
   "cell_type": "code",
   "execution_count": 17,
   "metadata": {
    "colab": {
     "base_uri": "https://localhost:8080/",
     "height": 35
    },
    "colab_type": "code",
    "id": "nHdZQf7XjRQE",
    "outputId": "c023aaed-2a50-4c6e-d17c-71edb804b180"
   },
   "outputs": [
    {
     "name": "stdout",
     "output_type": "stream",
     "text": [
      "0.8452405322415558\n"
     ]
    }
   ],
   "source": [
    "# visualizando a precisão de acertos do algoritmo\n",
    "print(precisao)"
   ]
  },
  {
   "cell_type": "markdown",
   "metadata": {
    "colab_type": "text",
    "id": "DFmpZgns0W_Y"
   },
   "source": [
    "O algoritmo obteve **84.52%** de precisão de acertos para a base de dados de acerto."
   ]
  },
  {
   "cell_type": "code",
   "execution_count": null,
   "metadata": {
    "colab": {},
    "colab_type": "code",
    "id": "r50UwMaFjTQg"
   },
   "outputs": [],
   "source": [
    "# criando a matriz de confusão \n",
    "matriz = confusion_matrix(classe_teste, previsoes)"
   ]
  },
  {
   "cell_type": "code",
   "execution_count": 19,
   "metadata": {
    "colab": {
     "base_uri": "https://localhost:8080/",
     "height": 53
    },
    "colab_type": "code",
    "id": "Ectg6ss2jVUB",
    "outputId": "9516727f-1289-42f0-9ba5-7acf535cb94c"
   },
   "outputs": [
    {
     "name": "stdout",
     "output_type": "stream",
     "text": [
      "[[3462  231]\n",
      " [ 525  667]]\n"
     ]
    }
   ],
   "source": [
    "# observando a matriz de confusão\n",
    "print(matriz)"
   ]
  },
  {
   "cell_type": "markdown",
   "metadata": {
    "colab_type": "text",
    "id": "lFhVBNJX0g24"
   },
   "source": [
    "Observe que houve muitos registros classificado de forma incorreta, mas no geral o algoritmo se saiu bem."
   ]
  },
  {
   "cell_type": "markdown",
   "metadata": {
    "colab_type": "text",
    "id": "tokY79_NwUz6"
   },
   "source": [
    "### Visualizando o balanceamento dos dados da classe"
   ]
  },
  {
   "cell_type": "code",
   "execution_count": null,
   "metadata": {
    "colab": {},
    "colab_type": "code",
    "id": "SdddUMp5jW3-"
   },
   "outputs": [],
   "source": [
    "# importando a biblioteca collections do python\n",
    "import collections"
   ]
  },
  {
   "cell_type": "code",
   "execution_count": 21,
   "metadata": {
    "colab": {
     "base_uri": "https://localhost:8080/",
     "height": 35
    },
    "colab_type": "code",
    "id": "Y8hIgd-BjZxB",
    "outputId": "91864e62-b778-4ff0-ebf9-c191f940b699"
   },
   "outputs": [
    {
     "data": {
      "text/plain": [
       "Counter({0: 3693, 1: 1192})"
      ]
     },
     "execution_count": 21,
     "metadata": {
      "tags": []
     },
     "output_type": "execute_result"
    }
   ],
   "source": [
    "# observando a quantidade de registros para cada classe da base de dados de teste\n",
    "collections.Counter(classe_teste)"
   ]
  },
  {
   "cell_type": "markdown",
   "metadata": {
    "colab_type": "text",
    "id": "YOi3nffswjSd"
   },
   "source": [
    "### Alguma dúvida? Entre em contato comigo:"
   ]
  },
  {
   "cell_type": "markdown",
   "metadata": {
    "colab_type": "text",
    "id": "NxiB5PFbwmtx"
   },
   "source": [
    "- [Me envie um e-mail](mailto:alysson.barbosa@ee.ufcg.edu.br);"
   ]
  }
 ],
 "metadata": {
  "colab": {
   "name": "prog51_Keras-Base-Censo.ipynb",
   "provenance": [],
   "toc_visible": true
  },
  "kernelspec": {
   "display_name": "Python 3",
   "language": "python",
   "name": "python3"
  },
  "language_info": {
   "codemirror_mode": {
    "name": "ipython",
    "version": 3
   },
   "file_extension": ".py",
   "mimetype": "text/x-python",
   "name": "python",
   "nbconvert_exporter": "python",
   "pygments_lexer": "ipython3",
   "version": "3.7.4"
  }
 },
 "nbformat": 4,
 "nbformat_minor": 4
}
