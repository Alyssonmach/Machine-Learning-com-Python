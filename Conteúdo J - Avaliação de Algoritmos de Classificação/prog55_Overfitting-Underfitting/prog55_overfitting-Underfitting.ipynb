{
 "cells": [
  {
   "cell_type": "markdown",
   "metadata": {},
   "source": [
    "# Underfitting e Overfitting\n",
    "#### Entendendo os dois principais problemas recorrentes que pode acontencer em algoritmos de Machine Learning."
   ]
  },
  {
   "cell_type": "markdown",
   "metadata": {},
   "source": [
    "### Underfitting "
   ]
  },
  {
   "cell_type": "markdown",
   "metadata": {},
   "source": [
    "O underfitting ocorre quando o algoritmo não consegue se adequar bem a base de dados. Dessa forma, a precisão de acertos tende a ser baixa. "
   ]
  },
  {
   "cell_type": "markdown",
   "metadata": {},
   "source": [
    "![underfitting](Imagens/underfitting.png)"
   ]
  },
  {
   "cell_type": "markdown",
   "metadata": {},
   "source": [
    "A esquerda, é possível observar uma situação ideal de classificação. Já a direita, observe como os dados estão separados por classe de forma inadequada. Em outras palavras, foi usado um método linear em um problema que não é linear, fazendo com que a modelagem do algoritmo garanta uma baixa precisão."
   ]
  },
  {
   "cell_type": "markdown",
   "metadata": {},
   "source": [
    "### Overfitting"
   ]
  },
  {
   "cell_type": "markdown",
   "metadata": {},
   "source": [
    "O overfitting ocorre quando o algoritmo se acostuma demais com a base de dados. Desse modo, a precisão tende a ser muito alta para atributos parecidos com a base de dados, mas totalmente inconsistente para atributos que possam ter alguma diferença, ou seja, o algoritmo não aprendeu nada com a base de dados, ele apenas decorou."
   ]
  },
  {
   "cell_type": "markdown",
   "metadata": {},
   "source": [
    "![overfitting](Imagens/overfitting.png)"
   ]
  },
  {
   "cell_type": "markdown",
   "metadata": {},
   "source": [
    "A esquerda é possível observar uma situação ideial para a classificação das classes. Já a direita, observe como o gráfico se encaixou perfeitamente nos pontos. Isso é uma falsa ideia de ganho, pois na realidade o modelo da direita é muito sensível a dados diversificados para uma mesma classe. "
   ]
  },
  {
   "cell_type": "markdown",
   "metadata": {},
   "source": [
    "### Alguma dúvida? Entre em contato comigo:"
   ]
  },
  {
   "cell_type": "markdown",
   "metadata": {},
   "source": [
    "- [Me envie um e-mail](mailto:alyssonmachado388@gmail.com);"
   ]
  }
 ],
 "metadata": {
  "kernelspec": {
   "display_name": "Python 3",
   "language": "python",
   "name": "python3"
  },
  "language_info": {
   "codemirror_mode": {
    "name": "ipython",
    "version": 3
   },
   "file_extension": ".py",
   "mimetype": "text/x-python",
   "name": "python",
   "nbconvert_exporter": "python",
   "pygments_lexer": "ipython3",
   "version": "3.7.4"
  }
 },
 "nbformat": 4,
 "nbformat_minor": 4
}
