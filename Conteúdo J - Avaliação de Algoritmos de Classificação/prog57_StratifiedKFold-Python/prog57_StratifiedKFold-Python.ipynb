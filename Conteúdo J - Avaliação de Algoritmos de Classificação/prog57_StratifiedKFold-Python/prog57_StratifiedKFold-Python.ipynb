{
 "cells": [
  {
   "cell_type": "markdown",
   "metadata": {},
   "source": [
    "# Obtendo precisões de acertos reais do algoritmo\n",
    "#### Usando o método 'StratifiedKFold' de validação cruzada na base de dados para visualizar a precisão de acertos do algoritmo."
   ]
  },
  {
   "cell_type": "markdown",
   "metadata": {},
   "source": [
    "### Pré-processamento da base de dados"
   ]
  },
  {
   "cell_type": "code",
   "execution_count": 1,
   "metadata": {},
   "outputs": [],
   "source": [
    "# importando a biblioteca pandas do python\n",
    "import pandas as pd\n",
    "\n",
    "# importando a base de dados para o objeto \"dataframe\"\n",
    "dataframe = pd.read_csv('Dados de Credito.csv', encoding = 'utf-8', sep = ',')\n",
    "\n",
    "# substituindo valores inconsistentes no campo idades pela média das idades consistentes\n",
    "dataframe.loc[dataframe.age < 0, 'age'] = 40.92\n",
    "\n",
    "# separando os atributos previsores do meta classe\n",
    "previsores = dataframe.iloc[:, 1:4].values\n",
    "classe = dataframe.iloc[:, 4].values\n",
    "\n",
    "# importando a biblioteca sklearn do python\n",
    "from sklearn.impute import SimpleImputer\n",
    "# função \"SimpleImputer\" responsável por corrigir valores faltantes na base de dados\n",
    "\n",
    "# importando a biblioteca numpy do python\n",
    "import numpy as np\n",
    "\n",
    "# criando o objeto \"imputer\"\n",
    "imputer = SimpleImputer(missing_values = np.nan, strategy = \"mean\")\n",
    "\n",
    "# fazendo o treinamento com a base de dados para correção de valores faltantes\n",
    "imputer = imputer.fit(previsores[:,0:3])\n",
    "\n",
    "# corrigindo os valores faltantes usando o objeto criado \"imputer\"\n",
    "previsores[:, 0:3] = imputer.transform(previsores[:, 0:3])\n",
    "\n",
    "# importando a biblioteca sklearn do python\n",
    "from sklearn.preprocessing import StandardScaler\n",
    "# a função \"StandardScaler\" tem a função de escalonas toda a base de dados para corrigir a discrepância\n",
    "# dos valores\n",
    "\n",
    "# criando o objeto \"scaler\"\n",
    "scaler = StandardScaler()\n",
    "\n",
    "# escalonando todos os atributos para auxiliar no cálculo de distâncias euclidianas\n",
    "previsores = scaler.fit_transform(previsores)"
   ]
  },
  {
   "cell_type": "markdown",
   "metadata": {},
   "source": [
    "> Nesse caso, não será preciso separar a base de testes em um modelo de treinamento e outro de teste. O própio algoritmo irá fazer isso automaticamente em N porções informadas, usando diversos testes com essas porções."
   ]
  },
  {
   "cell_type": "markdown",
   "metadata": {},
   "source": [
    "### 'StratifiedKFold' no Python"
   ]
  },
  {
   "cell_type": "markdown",
   "metadata": {},
   "source": [
    "Para testar esse modelo de validação cruzada, vamos usar o algoritmo naive bayes para fazer a previsão na base de dados, dado que a execução é mais rápida. Entretanto, qualquer algoritmo de Machine Learning pode ser usado."
   ]
  },
  {
   "cell_type": "code",
   "execution_count": 2,
   "metadata": {},
   "outputs": [],
   "source": [
    "# importando a biblioteca sklearn do python\n",
    "from sklearn.model_selection import StratifiedKFold\n",
    "# 'cross_val_score' aplica o método de validação cruzada que possui esse mesmo nome\n",
    "\n",
    "# importando a biblioteca sklearn do python\n",
    "from sklearn.naive_bayes import GaussianNB\n",
    "# 'GaussianNB' aplica o método do algoritmo naive bayes na base de dados\n",
    "\n",
    "# importando a biblioteca sklearn do python\n",
    "from sklearn.metrics import accuracy_score, confusion_matrix\n",
    "# 'accuracy_score' responsável por determinar a precisão de acertos do algoritmo\n",
    "# 'confusion_matrix' cria uma matriz de confusão para a previsão feita no algoritmo\n",
    "\n",
    "# importando a biblioteca numpy do python\n",
    "import numpy as np"
   ]
  },
  {
   "cell_type": "code",
   "execution_count": 3,
   "metadata": {},
   "outputs": [],
   "source": [
    "# configurando o objeto 'kfold' para realizar a validação cruzada\n",
    "kfold = StratifiedKFold(n_splits = 10, shuffle = True, random_state = 0)\n",
    "# 'n_splits' indica a quantidade de fracionamentos que será realizada na base de dados\n",
    "# 'shuffle' garante a aleatoriedade do fracionamento na base de dados\n",
    "# 'random_state' define uma semente geradora para os dados pseudo-aleatórios"
   ]
  },
  {
   "cell_type": "code",
   "execution_count": 4,
   "metadata": {},
   "outputs": [],
   "source": [
    "# criando uma lista para armazer os resultados obtidos\n",
    "resultados = []\n",
    "# criando uma lista para armazenar as matrizes de confusão obtidas\n",
    "matrizes = []"
   ]
  },
  {
   "cell_type": "code",
   "execution_count": 5,
   "metadata": {},
   "outputs": [
    {
     "name": "stdout",
     "output_type": "stream",
     "text": [
      "Indice de Treinamento: [   0    1    2 ... 1997 1998 1999]\n",
      "Indice de Teste: [   9   13   37   40   43   52   64   76   77   81   90   92   97  104\n",
      "  117  119  121  123  131  144  147  154  172  173  231  249  255  261\n",
      "  283  289  290  310  312  322  323  329  337  339  347  350  358  361\n",
      "  366  379  382  391  401  410  444  465  485  490  512  533  534  555\n",
      "  559  561  565  568  569  578  596  599  617  619  625  634  655  677\n",
      "  690  700  708  719  723  730  736  739  740  769  782  784  794  799\n",
      "  819  868  878  885  890  897  929  933  939  943  980  981 1000 1002\n",
      " 1007 1010 1019 1022 1042 1052 1055 1059 1065 1066 1082 1104 1124 1140\n",
      " 1149 1165 1170 1174 1179 1182 1191 1197 1199 1216 1221 1224 1233 1243\n",
      " 1246 1249 1262 1266 1267 1268 1289 1310 1328 1362 1372 1391 1417 1436\n",
      " 1446 1461 1469 1470 1492 1497 1502 1510 1513 1526 1552 1554 1613 1614\n",
      " 1627 1628 1640 1644 1661 1667 1675 1677 1683 1684 1685 1690 1693 1697\n",
      " 1705 1714 1750 1751 1758 1759 1765 1773 1785 1787 1798 1803 1813 1830\n",
      " 1834 1837 1850 1854 1856 1858 1881 1905 1911 1918 1935 1937 1943 1959\n",
      " 1967 1970 1976 1977]\n",
      "Indice de Treinamento: [   0    1    2 ... 1997 1998 1999]\n",
      "Indice de Teste: [  12   46   47   54   69   70   74   82   85   87   89   99  110  132\n",
      "  133  139  146  156  177  179  183  188  197  210  212  214  215  217\n",
      "  247  259  277  293  306  307  316  317  335  367  370  372  390  396\n",
      "  403  407  415  421  423  431  432  445  450  463  475  491  509  517\n",
      "  530  540  544  563  577  589  605  607  637  646  652  654  657  660\n",
      "  661  675  693  718  722  725  727  747  756  789  798  830  845  899\n",
      "  901  906  909  911  918  920  924  952  953  967  969 1009 1018 1021\n",
      " 1027 1033 1051 1061 1073 1076 1079 1087 1098 1107 1113 1117 1121 1144\n",
      " 1145 1171 1173 1176 1178 1187 1188 1190 1194 1198 1201 1207 1210 1223\n",
      " 1232 1234 1238 1239 1245 1255 1269 1282 1285 1299 1301 1321 1331 1332\n",
      " 1355 1376 1408 1425 1445 1448 1451 1458 1459 1472 1473 1478 1482 1485\n",
      " 1495 1524 1527 1528 1532 1553 1579 1601 1634 1664 1665 1691 1695 1702\n",
      " 1713 1736 1747 1753 1761 1764 1770 1802 1810 1818 1826 1832 1846 1855\n",
      " 1862 1864 1865 1867 1871 1875 1886 1903 1904 1910 1917 1920 1926 1927\n",
      " 1928 1944 1981 1989]\n",
      "Indice de Treinamento: [   1    2    3 ... 1996 1997 1999]\n",
      "Indice de Teste: [   0   16   26   28   35   38   45   53   56   68   88  102  135  143\n",
      "  150  152  158  170  174  192  193  202  208  220  223  224  228  240\n",
      "  241  246  262  264  270  274  295  364  376  377  381  387  399  400\n",
      "  405  406  414  425  429  435  439  447  448  452  462  469  484  503\n",
      "  508  513  515  536  547  548  552  571  575  583  603  606  608  624\n",
      "  627  630  633  640  647  670  674  676  683  689  691  696  705  724\n",
      "  732  733  742  752  767  771  772  775  814  817  829  832  839  846\n",
      "  861  880  883  894  903  913  916  919  932  936  948  955  959  963\n",
      "  973  978  982  986 1025 1044 1060 1069 1092 1100 1112 1133 1137 1139\n",
      " 1147 1150 1160 1161 1169 1177 1192 1213 1227 1244 1261 1263 1265 1279\n",
      " 1293 1298 1302 1311 1371 1397 1401 1406 1412 1413 1420 1431 1491 1501\n",
      " 1514 1522 1536 1538 1541 1542 1546 1560 1566 1576 1583 1589 1591 1598\n",
      " 1611 1612 1635 1636 1642 1658 1662 1663 1672 1706 1717 1766 1769 1771\n",
      " 1796 1805 1820 1821 1845 1849 1861 1884 1913 1941 1946 1947 1952 1961\n",
      " 1972 1978 1986 1998]\n",
      "Indice de Treinamento: [   0    1    2 ... 1996 1997 1998]\n",
      "Indice de Teste: [   3   14   22   65  115  118  128  138  141  145  155  168  176  191\n",
      "  201  211  219  221  230  238  244  271  273  276  285  286  287  297\n",
      "  303  320  336  342  344  353  359  373  395  404  412  427  437  438\n",
      "  443  449  460  464  487  493  510  531  539  545  549  556  581  586\n",
      "  590  597  604  613  618  620  628  641  666  672  682  685  687  692\n",
      "  714  717  728  754  764  786  796  807  823  825  865  873  875  879\n",
      "  882  888  889  904  934  961  974  991  995  999 1003 1028 1029 1031\n",
      " 1036 1040 1045 1057 1077 1085 1091 1105 1111 1115 1123 1136 1138 1141\n",
      " 1148 1204 1208 1219 1220 1228 1272 1273 1276 1280 1290 1292 1300 1309\n",
      " 1313 1330 1336 1342 1345 1350 1353 1360 1366 1367 1375 1390 1407 1418\n",
      " 1424 1429 1430 1434 1460 1466 1474 1488 1496 1509 1517 1530 1569 1588\n",
      " 1590 1603 1604 1616 1624 1626 1631 1648 1656 1694 1696 1711 1725 1730\n",
      " 1741 1743 1755 1778 1791 1799 1807 1816 1833 1838 1843 1848 1851 1888\n",
      " 1889 1902 1906 1909 1914 1929 1942 1945 1948 1949 1955 1956 1965 1969\n",
      " 1980 1983 1994 1999]\n",
      "Indice de Treinamento: [   0    1    2 ... 1997 1998 1999]\n",
      "Indice de Teste: [  39   55   60   66   71   80  105  109  112  120  126  130  136  157\n",
      "  165  187  194  203  222  242  243  248  272  294  296  299  315  326\n",
      "  334  349  354  371  380  384  419  426  446  451  457  471  473  479\n",
      "  486  492  495  501  504  507  516  518  527  557  560  576  587  591\n",
      "  593  595  621  623  626  651  662  671  679  703  706  707  734  761\n",
      "  762  763  765  791  793  795  797  800  804  822  828  851  866  870\n",
      "  871  874  887  914  915  922  923  951  954  962  965  970  972  975\n",
      "  976  989  992  996 1005 1013 1016 1035 1048 1072 1096 1110 1118 1122\n",
      " 1130 1146 1153 1181 1202 1222 1226 1231 1235 1241 1252 1316 1318 1341\n",
      " 1346 1347 1365 1379 1380 1383 1392 1393 1409 1419 1439 1450 1462 1471\n",
      " 1493 1508 1515 1516 1519 1544 1551 1561 1570 1572 1578 1592 1600 1602\n",
      " 1605 1606 1618 1619 1641 1645 1647 1657 1671 1676 1689 1701 1710 1712\n",
      " 1716 1720 1724 1749 1754 1777 1782 1783 1788 1792 1794 1827 1835 1852\n",
      " 1866 1868 1872 1887 1890 1896 1897 1901 1907 1921 1936 1939 1953 1960\n",
      " 1966 1971 1974 1995]\n",
      "Indice de Treinamento: [   0    3    4 ... 1997 1998 1999]\n",
      "Indice de Teste: [   1    2    5   24   27   31   34   36   49   58   62   83   91  106\n",
      "  113  122  125  129  162  169  198  200  213  235  236  260  263  275\n",
      "  279  281  284  301  311  313  333  343  355  363  378  383  422  434\n",
      "  440  455  459  481  482  494  500  505  506  511  523  528  535  542\n",
      "  546  558  567  609  622  632  639  642  644  665  668  697  704  709\n",
      "  710  712  715  731  738  773  776  787  790  792  803  808  827  831\n",
      "  833  836  842  843  844  848  856  863  902  921  938  944  950  987\n",
      " 1004 1012 1024 1032 1050 1067 1071 1080 1084 1090 1094 1106 1114 1159\n",
      " 1180 1183 1195 1209 1211 1214 1225 1248 1264 1270 1271 1284 1288 1304\n",
      " 1307 1312 1314 1317 1319 1324 1335 1340 1348 1358 1363 1364 1394 1398\n",
      " 1416 1422 1427 1432 1433 1438 1440 1449 1475 1504 1511 1535 1543 1550\n",
      " 1555 1575 1581 1582 1585 1607 1609 1615 1617 1629 1643 1669 1670 1698\n",
      " 1700 1703 1735 1738 1744 1748 1756 1781 1786 1789 1797 1801 1808 1825\n",
      " 1828 1831 1836 1839 1841 1842 1847 1878 1893 1898 1900 1912 1915 1924\n",
      " 1933 1954 1985 1991]\n",
      "Indice de Treinamento: [   0    1    2 ... 1997 1998 1999]\n",
      "Indice de Teste: [   7   10   19   21   25   30   41   42   51   63   67  101  108  127\n",
      "  137  159  163  185  186  195  204  209  218  239  245  258  265  266\n",
      "  288  292  302  304  328  330  341  356  362  368  374  385  386  388\n",
      "  393  394  416  418  436  442  478  498  519  522  543  550  554  564\n",
      "  573  574  598  602  612  614  649  659  678  694  699  721  737  748\n",
      "  750  755  757  758  759  778  781  783  785  788  806  810  821  824\n",
      "  847  854  869  872  895  910  926  927  928  940  949  958  966  971\n",
      "  990  993  994 1011 1014 1026 1047 1058 1083 1086 1093 1101 1109 1120\n",
      " 1127 1129 1131 1154 1155 1158 1162 1168 1172 1175 1215 1229 1237 1260\n",
      " 1303 1326 1329 1333 1339 1343 1349 1369 1373 1381 1384 1387 1395 1399\n",
      " 1400 1404 1405 1410 1443 1447 1457 1481 1483 1484 1494 1503 1525 1540\n",
      " 1548 1567 1568 1573 1577 1584 1595 1596 1597 1608 1621 1622 1623 1652\n",
      " 1655 1660 1666 1668 1678 1681 1688 1726 1757 1772 1776 1800 1804 1809\n",
      " 1811 1812 1817 1822 1823 1829 1873 1877 1883 1891 1895 1919 1938 1950\n",
      " 1951 1958 1992 1996]\n",
      "Indice de Treinamento: [   0    1    2 ... 1997 1998 1999]\n",
      "Indice de Teste: [   6   11   18   23   50   59   61   79   93   94  103  114  142  171\n",
      "  180  181  190  216  237  280  282  298  300  318  321  325  327  338\n",
      "  348  352  360  365  369  375  408  409  413  417  424  428  430  433\n",
      "  453  456  461  466  470  472  474  488  489  496  497  499  526  532\n",
      "  541  579  580  582  585  592  611  615  629  635  658  664  695  701\n",
      "  702  716  735  744  749  777  779  809  811  813  816  820  834  837\n",
      "  838  850  853  884  892  896  908  912  917  925  931  935  937  945\n",
      "  956  977  984 1006 1015 1030 1043 1062 1063 1068 1081 1089 1102 1116\n",
      " 1125 1126 1135 1143 1164 1166 1167 1185 1217 1230 1250 1275 1291 1295\n",
      " 1306 1334 1338 1352 1374 1388 1402 1403 1411 1414 1421 1426 1428 1435\n",
      " 1437 1442 1444 1455 1463 1464 1467 1486 1489 1499 1531 1537 1539 1558\n",
      " 1563 1565 1574 1587 1594 1599 1625 1630 1633 1638 1649 1650 1674 1679\n",
      " 1686 1704 1708 1715 1719 1727 1733 1752 1762 1763 1775 1780 1784 1790\n",
      " 1795 1806 1814 1844 1853 1859 1863 1869 1879 1908 1923 1930 1931 1940\n",
      " 1962 1979 1982 1984]\n",
      "Indice de Treinamento: [   0    1    2 ... 1996 1998 1999]\n",
      "Indice de Teste: [   4   33   44   48   57   73   75   78   84   86  107  124  140  148\n",
      "  153  166  178  184  199  205  206  207  225  227  234  251  252  253\n",
      "  254  257  268  269  278  291  308  309  314  319  324  331  332  346\n",
      "  389  398  420  477  483  502  537  551  562  572  600  601  616  643\n",
      "  645  650  653  663  667  673  680  698  711  720  726  746  751  753\n",
      "  760  766  780  801  812  818  855  859  862  881  900  905  930  941\n",
      "  947  957  964  968  979  988  997  998 1001 1023 1037 1038 1041 1049\n",
      " 1053 1054 1056 1070 1074 1078 1095 1097 1099 1119 1128 1134 1142 1152\n",
      " 1156 1163 1184 1189 1196 1205 1242 1247 1251 1253 1254 1257 1274 1277\n",
      " 1278 1283 1297 1315 1320 1323 1327 1344 1351 1356 1357 1359 1361 1370\n",
      " 1377 1378 1385 1389 1415 1423 1441 1453 1456 1476 1479 1480 1487 1500\n",
      " 1505 1506 1507 1512 1520 1533 1545 1547 1549 1559 1564 1580 1610 1620\n",
      " 1632 1639 1646 1654 1680 1707 1718 1731 1732 1734 1737 1746 1767 1768\n",
      " 1779 1793 1819 1857 1870 1874 1876 1880 1882 1892 1925 1964 1973 1975\n",
      " 1988 1990 1993 1997]\n",
      "Indice de Treinamento: [   0    1    2 ... 1997 1998 1999]\n",
      "Indice de Teste: [   8   15   17   20   29   32   72   95   96   98  100  111  116  134\n",
      "  149  151  160  161  164  167  175  182  189  196  226  229  232  233\n",
      "  250  256  267  305  340  345  351  357  392  397  402  411  441  454\n",
      "  458  467  468  476  480  514  520  521  524  525  529  538  553  566\n",
      "  570  584  588  594  610  631  636  638  648  656  669  681  684  686\n",
      "  688  713  729  741  743  745  768  770  774  802  805  815  826  835\n",
      "  840  841  849  852  857  858  860  864  867  876  877  886  891  893\n",
      "  898  907  942  946  960  983  985 1008 1017 1020 1034 1039 1046 1064\n",
      " 1075 1088 1103 1108 1132 1151 1157 1186 1193 1200 1203 1206 1212 1218\n",
      " 1236 1240 1256 1258 1259 1281 1286 1287 1294 1296 1305 1308 1322 1325\n",
      " 1337 1354 1368 1382 1386 1396 1452 1454 1465 1468 1477 1490 1498 1518\n",
      " 1521 1523 1529 1534 1556 1557 1562 1571 1586 1593 1637 1651 1653 1659\n",
      " 1673 1682 1687 1692 1699 1709 1721 1722 1723 1728 1729 1739 1740 1742\n",
      " 1745 1760 1774 1815 1824 1840 1860 1885 1894 1899 1916 1922 1932 1934\n",
      " 1957 1963 1968 1987]\n"
     ]
    }
   ],
   "source": [
    "# criando uma estrutura de reptição for para verificar como a base de dados é fracionada em cada execução\n",
    "for indice_treinamento, indice_teste in kfold.split(previsores, np.zeros(shape = (previsores.shape[0], 1))):\n",
    "    print('Indice de Treinamento: {}'.format(indice_treinamento))\n",
    "    print('Indice de Teste: {}'.format(indice_teste))"
   ]
  },
  {
   "cell_type": "markdown",
   "metadata": {},
   "source": [
    "Verifique que a base de dados foi fracionada 10 vezes, e para cada vez são escolhidos registros aleatórios. a diferença desse método para o 'cross_val_score' é que é possível repetir valores em diferentes base de dados fracionadas, sempre de forma aleatória."
   ]
  },
  {
   "cell_type": "code",
   "execution_count": 6,
   "metadata": {},
   "outputs": [],
   "source": [
    "# criando uma estrutura de reptição for para obter a precisão de cada base de dados fracionada\n",
    "for indice_treinamento, indice_teste in kfold.split(previsores, np.zeros(shape = (previsores.shape[0], 1))):\n",
    "    # criando o objeto 'classificador' responsável por gerar a tabela de probabilidades pelo método naive bayes\n",
    "    classificador = GaussianNB()\n",
    "    # realizando o treinamento com cada base de dados fracionada de forma randômica\n",
    "    classificador.fit(previsores[indice_treinamento], classe[indice_treinamento])\n",
    "    # obtendo a capacidade de previsão de algoritmos usando as bases de teste fracionada\n",
    "    previsoes = classificador.predict(previsores[indice_teste])\n",
    "    # obtendo a precisão de acertos do algoritmo para cada base de dados de teste fracionada\n",
    "    precisao = accuracy_score(classe[indice_teste], previsoes)\n",
    "    # obtendo as matrizes de confusão e armazenando na lista 'matrizes'\n",
    "    matrizes.append(confusion_matrix(classe[indice_teste], previsoes))\n",
    "    # adicionando o valor da precisão na lista 'resultados'\n",
    "    resultados.append(precisao)"
   ]
  },
  {
   "cell_type": "code",
   "execution_count": 7,
   "metadata": {},
   "outputs": [],
   "source": [
    "# convertendo a lista para um array numpy\n",
    "resultados = np.asarray(resultados)"
   ]
  },
  {
   "cell_type": "code",
   "execution_count": 8,
   "metadata": {},
   "outputs": [
    {
     "name": "stdout",
     "output_type": "stream",
     "text": [
      "[0.945 0.905 0.925 0.935 0.91  0.935 0.94  0.925 0.93  0.905]\n"
     ]
    }
   ],
   "source": [
    "# visualizando a porcentagem de acertos para cada um dos fracionamentos feitos na base de dados original\n",
    "print(resultados)"
   ]
  },
  {
   "cell_type": "code",
   "execution_count": 9,
   "metadata": {},
   "outputs": [
    {
     "data": {
      "text/plain": [
       "0.9254999999999999"
      ]
     },
     "execution_count": 9,
     "metadata": {},
     "output_type": "execute_result"
    }
   ],
   "source": [
    "# observando um resultado geral para a base de dados usando a média dos dados\n",
    "resultados.mean()"
   ]
  },
  {
   "cell_type": "markdown",
   "metadata": {},
   "source": [
    "Desse modo, é mais preciso dizer que a porcentagem de acertos pelo algoritmo com a base de dados usada é **92.4%**, pois é um valor mais preciso do que usar um modelo somente para teste."
   ]
  },
  {
   "cell_type": "code",
   "execution_count": 10,
   "metadata": {},
   "outputs": [
    {
     "data": {
      "text/plain": [
       "0.013683932183403994"
      ]
     },
     "execution_count": 10,
     "metadata": {},
     "output_type": "execute_result"
    }
   ],
   "source": [
    "# observando o quanto os dados se desviaram dos valores necessários de serem obtidos\n",
    "resultados.std()"
   ]
  },
  {
   "cell_type": "markdown",
   "metadata": {},
   "source": [
    "Com o desvio padrão, é possível visualizar o quão os dados obtidos estão distantes do resultado correto, quanto maior for o valor obtido, mais inconsistente é a precisão do algoritmo para uma determinada base de dados."
   ]
  },
  {
   "cell_type": "code",
   "execution_count": 11,
   "metadata": {},
   "outputs": [
    {
     "name": "stdout",
     "output_type": "stream",
     "text": [
      "[[179   3]\n",
      " [  8  10]] \n",
      "\n",
      "[[168   6]\n",
      " [ 13  13]] \n",
      "\n",
      "[[170   4]\n",
      " [ 11  15]] \n",
      "\n",
      "[[167   2]\n",
      " [ 11  20]] \n",
      "\n",
      "[[163   5]\n",
      " [ 13  19]] \n",
      "\n",
      "[[172   5]\n",
      " [  8  15]] \n",
      "\n",
      "[[171   2]\n",
      " [ 10  17]] \n",
      "\n",
      "[[160   1]\n",
      " [ 14  25]] \n",
      "\n",
      "[[170   2]\n",
      " [ 12  16]] \n",
      "\n",
      "[[160   7]\n",
      " [ 12  21]] \n",
      "\n"
     ]
    }
   ],
   "source": [
    "# observando a matriz de confusão obtida para o primeiro fracionamento feito\n",
    "print(matrizes[0], '\\n')\n",
    "# observando a matriz de confusão obtida para o segundo fracionamento feito\n",
    "print(matrizes[1], '\\n')\n",
    "# observando a matriz de confusão obtida para o terceiro fracionamento feito\n",
    "print(matrizes[2], '\\n')\n",
    "# observando a matriz de confusão obtida para o quarto fracionamento feito\n",
    "print(matrizes[3], '\\n')\n",
    "# observando a matriz de confusão obtida para o quinto fracionamento feito\n",
    "print(matrizes[4], '\\n')\n",
    "# observando a matriz de confusão obtida para o sexto fracionamento feito\n",
    "print(matrizes[5], '\\n')\n",
    "# observando a matriz de confusão obtida para o sétimo fracionamento feito\n",
    "print(matrizes[6], '\\n')\n",
    "# observando a matriz de confusão obtida para o oitavo fracionamento feito\n",
    "print(matrizes[7], '\\n')\n",
    "# observando a matriz de confusão obtida para o nono fracionamento feito\n",
    "print(matrizes[8], '\\n')\n",
    "# observando a matriz de confusão obtida para o décimo fracionamento feito\n",
    "print(matrizes[9], '\\n')"
   ]
  },
  {
   "cell_type": "code",
   "execution_count": 12,
   "metadata": {},
   "outputs": [],
   "source": [
    "# obtendo uma média dos resultados para a matriz de confusão\n",
    "matriz_final = np.mean(matrizes, axis = 0)"
   ]
  },
  {
   "cell_type": "code",
   "execution_count": 13,
   "metadata": {},
   "outputs": [
    {
     "name": "stdout",
     "output_type": "stream",
     "text": [
      "[[168.    3.7]\n",
      " [ 11.2  17.1]]\n"
     ]
    }
   ],
   "source": [
    "# visualizando a matriz de confusão geral\n",
    "print(matriz_final)"
   ]
  },
  {
   "cell_type": "markdown",
   "metadata": {},
   "source": [
    "Desse modo, essa é a matriz de confusão mais correta em relação as outras obtidas, pois ela levou em consideração processos estatísticos mais seguros de se confiar."
   ]
  },
  {
   "cell_type": "markdown",
   "metadata": {},
   "source": [
    "### Alguma dúvida? Entre em contato comigo:"
   ]
  },
  {
   "cell_type": "markdown",
   "metadata": {},
   "source": [
    "- [Me envie um e-mail](mailto:alyssonmachado388@gmail.com);"
   ]
  }
 ],
 "metadata": {
  "kernelspec": {
   "display_name": "Python 3",
   "language": "python",
   "name": "python3"
  },
  "language_info": {
   "codemirror_mode": {
    "name": "ipython",
    "version": 3
   },
   "file_extension": ".py",
   "mimetype": "text/x-python",
   "name": "python",
   "nbconvert_exporter": "python",
   "pygments_lexer": "ipython3",
   "version": "3.7.4"
  }
 },
 "nbformat": 4,
 "nbformat_minor": 4
}
