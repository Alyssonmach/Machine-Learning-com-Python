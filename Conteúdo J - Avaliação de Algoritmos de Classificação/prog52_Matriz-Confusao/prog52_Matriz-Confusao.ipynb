{
 "cells": [
  {
   "cell_type": "markdown",
   "metadata": {},
   "source": [
    "# Matriz de Confusão\n",
    "### Entenda o funcionamento dessa ferramenta de grande serventia para avalir os resultados dos algoritmos de Machine Learning."
   ]
  },
  {
   "cell_type": "markdown",
   "metadata": {},
   "source": [
    "Uma matriz de confusão mostra os dados de acertos e erros para cada classe da base de dados, em que as linhas da matriz indicam as classes que o algoritmo previu e as colunas as classes originais da base de dados. A leitura dos dados é sempre se a classe da linha condiz com a classe da coluna (diagonal da matriz), caso essa relação não esteja definida, dizemos que: x quantidades de registros foram classificadas na classe y da linha, de forma que ela é originalmente z da coluna. A relação é verdadeira quando a classe y da linha é classificada como a classe y da coluna."
   ]
  },
  {
   "cell_type": "markdown",
   "metadata": {},
   "source": [
    "![matriz-confusao](Imagens/matriz-confusao.png)"
   ]
  },
  {
   "cell_type": "markdown",
   "metadata": {},
   "source": [
    "A análise da precisão aceitável de um algoritmo depende do problema que está sendo resolvido. Algoritmos de Machine Learning para a medicina e bancos devem possuir uma alta precisão, já um algoritmo de classificação entre gato ou cachorro, por exemplo, não precisa ter uma precisão muito alta, pois nenhuma vida estará sendo colocada em risco caso o algoritmo faça uma classificação indevida. Em situações que uma precisão seja menor do que 50%, um algoritmo de classificação randômica pode ser mais eficaz que isso."
   ]
  },
  {
   "cell_type": "markdown",
   "metadata": {},
   "source": [
    "### Alguma dúvida? Entre em contato comigo:"
   ]
  },
  {
   "cell_type": "markdown",
   "metadata": {},
   "source": [
    "- [Me envie um e-mail](mailto:alyssonmachado388@gmail.com);"
   ]
  }
 ],
 "metadata": {
  "kernelspec": {
   "display_name": "Python 3",
   "language": "python",
   "name": "python3"
  },
  "language_info": {
   "codemirror_mode": {
    "name": "ipython",
    "version": 3
   },
   "file_extension": ".py",
   "mimetype": "text/x-python",
   "name": "python",
   "nbconvert_exporter": "python",
   "pygments_lexer": "ipython3",
   "version": "3.7.4"
  }
 },
 "nbformat": 4,
 "nbformat_minor": 4
}
