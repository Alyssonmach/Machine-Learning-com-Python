{
 "cells": [
  {
   "cell_type": "markdown",
   "metadata": {},
   "source": [
    "# Pré-Processamento de Dados com Pandas e Scikit-learn\n",
    "#### Pré-processamento de uma base de dados para corrigir diversos atributos danosos ao aprendizado de uma máquina durante a fase de treinamento."
   ]
  },
  {
   "cell_type": "code",
   "execution_count": 1,
   "metadata": {},
   "outputs": [],
   "source": [
    "# importando a biblioteca Pandas do Python\n",
    "import pandas as pd"
   ]
  },
  {
   "cell_type": "markdown",
   "metadata": {},
   "source": [
    "Vamos atribuir os dados do documento \"Dados Bancarios.csv\" a variável do tipo objeto \"dataframe\". A partir dessa atribuição, vamos fazer toda a manipulação com os dados através da variável."
   ]
  },
  {
   "cell_type": "code",
   "execution_count": 13,
   "metadata": {},
   "outputs": [],
   "source": [
    "# importando a base de dados para a variável\n",
    "dataframe = pd.read_csv(\"Dados Bancarios.csv\", encoding = \"UTF-8\", sep = \",\")"
   ]
  },
  {
   "cell_type": "markdown",
   "metadata": {},
   "source": [
    "Vamos usar o atributo \"describe\" da biblioteca \"pandas\" na variável \"dataframe\". A partir disso, vamos poder observar inúmeros dados estatísticos sobre essa base de dados. Observe:"
   ]
  },
  {
   "cell_type": "code",
   "execution_count": 5,
   "metadata": {},
   "outputs": [
    {
     "data": {
      "text/html": [
       "<div>\n",
       "<style scoped>\n",
       "    .dataframe tbody tr th:only-of-type {\n",
       "        vertical-align: middle;\n",
       "    }\n",
       "\n",
       "    .dataframe tbody tr th {\n",
       "        vertical-align: top;\n",
       "    }\n",
       "\n",
       "    .dataframe thead th {\n",
       "        text-align: right;\n",
       "    }\n",
       "</style>\n",
       "<table border=\"1\" class=\"dataframe\">\n",
       "  <thead>\n",
       "    <tr style=\"text-align: right;\">\n",
       "      <th></th>\n",
       "      <th>clienteID</th>\n",
       "      <th>renda</th>\n",
       "      <th>idade</th>\n",
       "      <th>emprestimo</th>\n",
       "      <th>padrao</th>\n",
       "    </tr>\n",
       "  </thead>\n",
       "  <tbody>\n",
       "    <tr>\n",
       "      <th>count</th>\n",
       "      <td>2000.000000</td>\n",
       "      <td>2000.000000</td>\n",
       "      <td>1997.000000</td>\n",
       "      <td>2000.000000</td>\n",
       "      <td>2000.000000</td>\n",
       "    </tr>\n",
       "    <tr>\n",
       "      <th>mean</th>\n",
       "      <td>1000.500000</td>\n",
       "      <td>45331.600018</td>\n",
       "      <td>40.807559</td>\n",
       "      <td>4444.369695</td>\n",
       "      <td>0.141500</td>\n",
       "    </tr>\n",
       "    <tr>\n",
       "      <th>std</th>\n",
       "      <td>577.494589</td>\n",
       "      <td>14326.327119</td>\n",
       "      <td>13.624469</td>\n",
       "      <td>3045.410024</td>\n",
       "      <td>0.348624</td>\n",
       "    </tr>\n",
       "    <tr>\n",
       "      <th>min</th>\n",
       "      <td>1.000000</td>\n",
       "      <td>20014.489470</td>\n",
       "      <td>-52.423280</td>\n",
       "      <td>1.377630</td>\n",
       "      <td>0.000000</td>\n",
       "    </tr>\n",
       "    <tr>\n",
       "      <th>25%</th>\n",
       "      <td>500.750000</td>\n",
       "      <td>32796.459717</td>\n",
       "      <td>28.990415</td>\n",
       "      <td>1939.708847</td>\n",
       "      <td>0.000000</td>\n",
       "    </tr>\n",
       "    <tr>\n",
       "      <th>50%</th>\n",
       "      <td>1000.500000</td>\n",
       "      <td>45789.117313</td>\n",
       "      <td>41.317159</td>\n",
       "      <td>3974.719419</td>\n",
       "      <td>0.000000</td>\n",
       "    </tr>\n",
       "    <tr>\n",
       "      <th>75%</th>\n",
       "      <td>1500.250000</td>\n",
       "      <td>57791.281668</td>\n",
       "      <td>52.587040</td>\n",
       "      <td>6432.410625</td>\n",
       "      <td>0.000000</td>\n",
       "    </tr>\n",
       "    <tr>\n",
       "      <th>max</th>\n",
       "      <td>2000.000000</td>\n",
       "      <td>69995.685578</td>\n",
       "      <td>63.971796</td>\n",
       "      <td>13766.051239</td>\n",
       "      <td>1.000000</td>\n",
       "    </tr>\n",
       "  </tbody>\n",
       "</table>\n",
       "</div>"
      ],
      "text/plain": [
       "         clienteID         renda        idade    emprestimo       padrao\n",
       "count  2000.000000   2000.000000  1997.000000   2000.000000  2000.000000\n",
       "mean   1000.500000  45331.600018    40.807559   4444.369695     0.141500\n",
       "std     577.494589  14326.327119    13.624469   3045.410024     0.348624\n",
       "min       1.000000  20014.489470   -52.423280      1.377630     0.000000\n",
       "25%     500.750000  32796.459717    28.990415   1939.708847     0.000000\n",
       "50%    1000.500000  45789.117313    41.317159   3974.719419     0.000000\n",
       "75%    1500.250000  57791.281668    52.587040   6432.410625     0.000000\n",
       "max    2000.000000  69995.685578    63.971796  13766.051239     1.000000"
      ]
     },
     "execution_count": 5,
     "metadata": {},
     "output_type": "execute_result"
    }
   ],
   "source": [
    "# usando o atributo \"describe\" para analisar informações estatísticas do dataframe\n",
    "dataframe.describe()"
   ]
  },
  {
   "cell_type": "markdown",
   "metadata": {},
   "source": [
    "Com esse atributo, podemos identificar valores incosistentes presentes em uma base de dados. Desse modo, poderemos fazer as devidas correções de forma mais eficaz."
   ]
  },
  {
   "cell_type": "markdown",
   "metadata": {},
   "source": [
    "1. **Count**: quantidade de dados obtidos para cada um dos campos de dados;\n",
    "> Observe que já conseguimos observar o primeiro problema: há valores faltantes no campo de dados \"idade\"."
   ]
  },
  {
   "cell_type": "markdown",
   "metadata": {},
   "source": [
    "2. **Mean**: média dos valores armazenados em cada campo de dados;\n",
    "> Valores incorretos armazenados podem prejudicar o valor médio real dos dados que, por consequência, prejudicará o nosso algoritmo durante o treinamento com a base de dados."
   ]
  },
  {
   "cell_type": "markdown",
   "metadata": {},
   "source": [
    "3. **std**: desvio padrão dos valores armazenados em cada campo de dados;"
   ]
  },
  {
   "cell_type": "markdown",
   "metadata": {},
   "source": [
    "4. **min**: valor mínimo armazenado em cada campo de dado;"
   ]
  },
  {
   "cell_type": "markdown",
   "metadata": {},
   "source": [
    "> Observe que há um valor negativo armazenado na idade, devemos concertar esse erro também."
   ]
  },
  {
   "cell_type": "markdown",
   "metadata": {},
   "source": [
    "5. **25%**: Valor armazenado para a localização do cliente que está a 25% na base de dados, fazendo uma busca do primeiro ao último valor;"
   ]
  },
  {
   "cell_type": "markdown",
   "metadata": {},
   "source": [
    "6. **50%**: Valor armazenado para a localização do cliente que está a 50% na base de dados, fazendo uma busca do primeiro ao último valor;"
   ]
  },
  {
   "cell_type": "markdown",
   "metadata": {},
   "source": [
    "7. **75%**: Valor armazenado para a localização do cliente que está a 75% na base de dados, fazendo uma busca do primeiro ao último valor;"
   ]
  },
  {
   "cell_type": "markdown",
   "metadata": {},
   "source": [
    "8. **min**: valor mínimo armazenado em cada campo de dado;"
   ]
  },
  {
   "cell_type": "markdown",
   "metadata": {},
   "source": [
    "Observe abaixo a base de dados que está sendo trabalhada. Nela, há informações de 2000 usuários para os seguintes campos de dados:"
   ]
  },
  {
   "cell_type": "markdown",
   "metadata": {},
   "source": [
    "|**Dados dos Clientes:**|\n",
    "|:-----------------------|\n",
    "|1. Identificação do Cliente|\n",
    "|2. Renda do Cliente|\n",
    "|3. Idade do Cliente|\n",
    "|4. Emprestimo solicitado|\n",
    "|5. Chance do Valor ser Pago pelo Cliente|"
   ]
  },
  {
   "cell_type": "code",
   "execution_count": 7,
   "metadata": {},
   "outputs": [
    {
     "data": {
      "text/html": [
       "<div>\n",
       "<style scoped>\n",
       "    .dataframe tbody tr th:only-of-type {\n",
       "        vertical-align: middle;\n",
       "    }\n",
       "\n",
       "    .dataframe tbody tr th {\n",
       "        vertical-align: top;\n",
       "    }\n",
       "\n",
       "    .dataframe thead th {\n",
       "        text-align: right;\n",
       "    }\n",
       "</style>\n",
       "<table border=\"1\" class=\"dataframe\">\n",
       "  <thead>\n",
       "    <tr style=\"text-align: right;\">\n",
       "      <th></th>\n",
       "      <th>clienteID</th>\n",
       "      <th>renda</th>\n",
       "      <th>idade</th>\n",
       "      <th>emprestimo</th>\n",
       "      <th>padrao</th>\n",
       "    </tr>\n",
       "  </thead>\n",
       "  <tbody>\n",
       "    <tr>\n",
       "      <th>0</th>\n",
       "      <td>1</td>\n",
       "      <td>66155.925095</td>\n",
       "      <td>59.017015</td>\n",
       "      <td>8106.532131</td>\n",
       "      <td>0</td>\n",
       "    </tr>\n",
       "    <tr>\n",
       "      <th>1</th>\n",
       "      <td>2</td>\n",
       "      <td>34415.153966</td>\n",
       "      <td>48.117153</td>\n",
       "      <td>6564.745018</td>\n",
       "      <td>0</td>\n",
       "    </tr>\n",
       "    <tr>\n",
       "      <th>2</th>\n",
       "      <td>3</td>\n",
       "      <td>57317.170063</td>\n",
       "      <td>63.108049</td>\n",
       "      <td>8020.953296</td>\n",
       "      <td>0</td>\n",
       "    </tr>\n",
       "    <tr>\n",
       "      <th>3</th>\n",
       "      <td>4</td>\n",
       "      <td>42709.534201</td>\n",
       "      <td>45.751972</td>\n",
       "      <td>6103.642260</td>\n",
       "      <td>0</td>\n",
       "    </tr>\n",
       "    <tr>\n",
       "      <th>4</th>\n",
       "      <td>5</td>\n",
       "      <td>66952.688845</td>\n",
       "      <td>18.584336</td>\n",
       "      <td>8770.099235</td>\n",
       "      <td>1</td>\n",
       "    </tr>\n",
       "    <tr>\n",
       "      <th>...</th>\n",
       "      <td>...</td>\n",
       "      <td>...</td>\n",
       "      <td>...</td>\n",
       "      <td>...</td>\n",
       "      <td>...</td>\n",
       "    </tr>\n",
       "    <tr>\n",
       "      <th>1995</th>\n",
       "      <td>1996</td>\n",
       "      <td>59221.044874</td>\n",
       "      <td>48.518179</td>\n",
       "      <td>1926.729397</td>\n",
       "      <td>0</td>\n",
       "    </tr>\n",
       "    <tr>\n",
       "      <th>1996</th>\n",
       "      <td>1997</td>\n",
       "      <td>69516.127573</td>\n",
       "      <td>23.162104</td>\n",
       "      <td>3503.176156</td>\n",
       "      <td>0</td>\n",
       "    </tr>\n",
       "    <tr>\n",
       "      <th>1997</th>\n",
       "      <td>1998</td>\n",
       "      <td>44311.449262</td>\n",
       "      <td>28.017167</td>\n",
       "      <td>5522.786693</td>\n",
       "      <td>1</td>\n",
       "    </tr>\n",
       "    <tr>\n",
       "      <th>1998</th>\n",
       "      <td>1999</td>\n",
       "      <td>43756.056605</td>\n",
       "      <td>63.971796</td>\n",
       "      <td>1622.722598</td>\n",
       "      <td>0</td>\n",
       "    </tr>\n",
       "    <tr>\n",
       "      <th>1999</th>\n",
       "      <td>2000</td>\n",
       "      <td>69436.579552</td>\n",
       "      <td>56.152617</td>\n",
       "      <td>7378.833599</td>\n",
       "      <td>0</td>\n",
       "    </tr>\n",
       "  </tbody>\n",
       "</table>\n",
       "<p>2000 rows × 5 columns</p>\n",
       "</div>"
      ],
      "text/plain": [
       "      clienteID         renda      idade   emprestimo  padrao\n",
       "0             1  66155.925095  59.017015  8106.532131       0\n",
       "1             2  34415.153966  48.117153  6564.745018       0\n",
       "2             3  57317.170063  63.108049  8020.953296       0\n",
       "3             4  42709.534201  45.751972  6103.642260       0\n",
       "4             5  66952.688845  18.584336  8770.099235       1\n",
       "...         ...           ...        ...          ...     ...\n",
       "1995       1996  59221.044874  48.518179  1926.729397       0\n",
       "1996       1997  69516.127573  23.162104  3503.176156       0\n",
       "1997       1998  44311.449262  28.017167  5522.786693       1\n",
       "1998       1999  43756.056605  63.971796  1622.722598       0\n",
       "1999       2000  69436.579552  56.152617  7378.833599       0\n",
       "\n",
       "[2000 rows x 5 columns]"
      ]
     },
     "execution_count": 7,
     "metadata": {},
     "output_type": "execute_result"
    }
   ],
   "source": [
    "# imprime os dados contidos na variável do tipo objeto \"dataframe\"\n",
    "dataframe"
   ]
  },
  {
   "cell_type": "code",
   "execution_count": 8,
   "metadata": {},
   "outputs": [
    {
     "data": {
      "text/plain": [
       "(2000, 5)"
      ]
     },
     "execution_count": 8,
     "metadata": {},
     "output_type": "execute_result"
    }
   ],
   "source": [
    "# visualizando as dimensões do vetor multidimensional \"dataframe\"\n",
    "dataframe.shape"
   ]
  },
  {
   "cell_type": "markdown",
   "metadata": {},
   "source": [
    "### Corrigindo valores incosistentes"
   ]
  },
  {
   "cell_type": "markdown",
   "metadata": {},
   "source": [
    "Foi analisado acima, usando o atributo \"describe\", uma série de informações estatísticas sobre o banco de dados utilizado. A partir disso, foi possível localizar alguns problemas nos valores armazenados na base de dados, entre eles, valores negativos armazenados no campo de dados \"idade\"."
   ]
  },
  {
   "cell_type": "markdown",
   "metadata": {},
   "source": [
    "Vamos usar o atributo \"loc\" (de localizar) da biblioteca \"pandas\" na variável dataframe para encontrar os valores negativos. Ou seja, menores que 0."
   ]
  },
  {
   "cell_type": "code",
   "execution_count": 9,
   "metadata": {},
   "outputs": [
    {
     "data": {
      "text/html": [
       "<div>\n",
       "<style scoped>\n",
       "    .dataframe tbody tr th:only-of-type {\n",
       "        vertical-align: middle;\n",
       "    }\n",
       "\n",
       "    .dataframe tbody tr th {\n",
       "        vertical-align: top;\n",
       "    }\n",
       "\n",
       "    .dataframe thead th {\n",
       "        text-align: right;\n",
       "    }\n",
       "</style>\n",
       "<table border=\"1\" class=\"dataframe\">\n",
       "  <thead>\n",
       "    <tr style=\"text-align: right;\">\n",
       "      <th></th>\n",
       "      <th>clienteID</th>\n",
       "      <th>renda</th>\n",
       "      <th>idade</th>\n",
       "      <th>emprestimo</th>\n",
       "      <th>padrao</th>\n",
       "    </tr>\n",
       "  </thead>\n",
       "  <tbody>\n",
       "    <tr>\n",
       "      <th>15</th>\n",
       "      <td>16</td>\n",
       "      <td>50501.726689</td>\n",
       "      <td>-28.218361</td>\n",
       "      <td>3977.287432</td>\n",
       "      <td>0</td>\n",
       "    </tr>\n",
       "    <tr>\n",
       "      <th>21</th>\n",
       "      <td>22</td>\n",
       "      <td>32197.620701</td>\n",
       "      <td>-52.423280</td>\n",
       "      <td>4244.057136</td>\n",
       "      <td>0</td>\n",
       "    </tr>\n",
       "    <tr>\n",
       "      <th>26</th>\n",
       "      <td>27</td>\n",
       "      <td>63287.038908</td>\n",
       "      <td>-36.496976</td>\n",
       "      <td>9595.286289</td>\n",
       "      <td>0</td>\n",
       "    </tr>\n",
       "  </tbody>\n",
       "</table>\n",
       "</div>"
      ],
      "text/plain": [
       "    clienteID         renda      idade   emprestimo  padrao\n",
       "15         16  50501.726689 -28.218361  3977.287432       0\n",
       "21         22  32197.620701 -52.423280  4244.057136       0\n",
       "26         27  63287.038908 -36.496976  9595.286289       0"
      ]
     },
     "execution_count": 9,
     "metadata": {},
     "output_type": "execute_result"
    }
   ],
   "source": [
    "# Usando o atributo loc para identificar valores menores que 0\n",
    "dataframe.loc[dataframe[\"idade\"] < 0]"
   ]
  },
  {
   "cell_type": "markdown",
   "metadata": {},
   "source": [
    "Após a varredura, foi encontrado três valores inconsistentes. Vamos analisar três possiblidades para fazer a correção desse problema."
   ]
  },
  {
   "cell_type": "markdown",
   "metadata": {},
   "source": [
    "##### Método 1 - Apagar toda a coluna \"idade\""
   ]
  },
  {
   "cell_type": "markdown",
   "metadata": {},
   "source": [
    "Esse método é o menos recomendado, pois estaremos perdendendo todo um campo de dado. Caso esse campo for importante na hora de se treinar algum algoritmo, poderemos prejudicá-lo. Entretanto, em alguns casos, convém apagar toda a coluna defeituosa se for garantido que não teremos nenhum prejuízo ou perda de qualidade em nossa IA."
   ]
  },
  {
   "cell_type": "markdown",
   "metadata": {},
   "source": [
    "Vamos usar o atributo \"drop\" da biblioteca \"pandas\" na variável dataframe para excluir a coluna defeituosa."
   ]
  },
  {
   "cell_type": "code",
   "execution_count": 15,
   "metadata": {},
   "outputs": [],
   "source": [
    "# usando o atributo \"drop\" para excluir a coluna defeituosa\n",
    "dataframe.drop(\"idade\", 1, inplace = True)\n",
    "\n",
    "# obs: o parâmetro 1 indica que queremos trabalhar com colunas;\n",
    "# obs: inplace = True indica que a alteração feita será permanente;"
   ]
  },
  {
   "cell_type": "code",
   "execution_count": 16,
   "metadata": {},
   "outputs": [
    {
     "data": {
      "text/html": [
       "<div>\n",
       "<style scoped>\n",
       "    .dataframe tbody tr th:only-of-type {\n",
       "        vertical-align: middle;\n",
       "    }\n",
       "\n",
       "    .dataframe tbody tr th {\n",
       "        vertical-align: top;\n",
       "    }\n",
       "\n",
       "    .dataframe thead th {\n",
       "        text-align: right;\n",
       "    }\n",
       "</style>\n",
       "<table border=\"1\" class=\"dataframe\">\n",
       "  <thead>\n",
       "    <tr style=\"text-align: right;\">\n",
       "      <th></th>\n",
       "      <th>clienteID</th>\n",
       "      <th>renda</th>\n",
       "      <th>emprestimo</th>\n",
       "      <th>padrao</th>\n",
       "    </tr>\n",
       "  </thead>\n",
       "  <tbody>\n",
       "    <tr>\n",
       "      <th>count</th>\n",
       "      <td>2000.000000</td>\n",
       "      <td>2000.000000</td>\n",
       "      <td>2000.000000</td>\n",
       "      <td>2000.000000</td>\n",
       "    </tr>\n",
       "    <tr>\n",
       "      <th>mean</th>\n",
       "      <td>1000.500000</td>\n",
       "      <td>45331.600018</td>\n",
       "      <td>4444.369695</td>\n",
       "      <td>0.141500</td>\n",
       "    </tr>\n",
       "    <tr>\n",
       "      <th>std</th>\n",
       "      <td>577.494589</td>\n",
       "      <td>14326.327119</td>\n",
       "      <td>3045.410024</td>\n",
       "      <td>0.348624</td>\n",
       "    </tr>\n",
       "    <tr>\n",
       "      <th>min</th>\n",
       "      <td>1.000000</td>\n",
       "      <td>20014.489470</td>\n",
       "      <td>1.377630</td>\n",
       "      <td>0.000000</td>\n",
       "    </tr>\n",
       "    <tr>\n",
       "      <th>25%</th>\n",
       "      <td>500.750000</td>\n",
       "      <td>32796.459717</td>\n",
       "      <td>1939.708847</td>\n",
       "      <td>0.000000</td>\n",
       "    </tr>\n",
       "    <tr>\n",
       "      <th>50%</th>\n",
       "      <td>1000.500000</td>\n",
       "      <td>45789.117313</td>\n",
       "      <td>3974.719419</td>\n",
       "      <td>0.000000</td>\n",
       "    </tr>\n",
       "    <tr>\n",
       "      <th>75%</th>\n",
       "      <td>1500.250000</td>\n",
       "      <td>57791.281668</td>\n",
       "      <td>6432.410625</td>\n",
       "      <td>0.000000</td>\n",
       "    </tr>\n",
       "    <tr>\n",
       "      <th>max</th>\n",
       "      <td>2000.000000</td>\n",
       "      <td>69995.685578</td>\n",
       "      <td>13766.051239</td>\n",
       "      <td>1.000000</td>\n",
       "    </tr>\n",
       "  </tbody>\n",
       "</table>\n",
       "</div>"
      ],
      "text/plain": [
       "         clienteID         renda    emprestimo       padrao\n",
       "count  2000.000000   2000.000000   2000.000000  2000.000000\n",
       "mean   1000.500000  45331.600018   4444.369695     0.141500\n",
       "std     577.494589  14326.327119   3045.410024     0.348624\n",
       "min       1.000000  20014.489470      1.377630     0.000000\n",
       "25%     500.750000  32796.459717   1939.708847     0.000000\n",
       "50%    1000.500000  45789.117313   3974.719419     0.000000\n",
       "75%    1500.250000  57791.281668   6432.410625     0.000000\n",
       "max    2000.000000  69995.685578  13766.051239     1.000000"
      ]
     },
     "execution_count": 16,
     "metadata": {},
     "output_type": "execute_result"
    }
   ],
   "source": [
    "# usando o atributo \"describe\" para ver novamente as informações estatísticas da base de dados\n",
    "dataframe.describe()"
   ]
  },
  {
   "cell_type": "markdown",
   "metadata": {},
   "source": [
    "Observe que todo o campo de dado \"idade\" foi excluido permanentemente."
   ]
  },
  {
   "cell_type": "markdown",
   "metadata": {},
   "source": [
    "##### Método 2 - Excluir Apenas os Registros Defeituosos"
   ]
  },
  {
   "cell_type": "code",
   "execution_count": 17,
   "metadata": {},
   "outputs": [],
   "source": [
    "# importando novamente a base de dados para a variável\n",
    "dataframe = pd.read_csv(\"Dados Bancarios.csv\", encoding = \"UTF-8\", sep = \",\")"
   ]
  },
  {
   "cell_type": "markdown",
   "metadata": {},
   "source": [
    "Podemos optar também por excluir as entradas defeituosas em nosso banco de dados, sendo esse método mais interessante que o primeiro. Entretanto, ainda haverá valores faltantes na base de dados, continuando a ser prejudicial ao treinamento da nossa IA."
   ]
  },
  {
   "cell_type": "code",
   "execution_count": 18,
   "metadata": {},
   "outputs": [],
   "source": [
    "# usando o atributo \"drop\" para excluir os registros com problemas\n",
    "dataframe.drop(dataframe[dataframe.idade < 0].index, inplace = True)\n",
    "# obs: index encotra o exato elemento e retorna a posição dele na lista;\n",
    "# obs: inplace = True indica que a alteração feita será permanente;"
   ]
  },
  {
   "cell_type": "markdown",
   "metadata": {},
   "source": [
    "Verifique que os registros negativos não existem mais:"
   ]
  },
  {
   "cell_type": "code",
   "execution_count": 21,
   "metadata": {},
   "outputs": [
    {
     "data": {
      "text/html": [
       "<div>\n",
       "<style scoped>\n",
       "    .dataframe tbody tr th:only-of-type {\n",
       "        vertical-align: middle;\n",
       "    }\n",
       "\n",
       "    .dataframe tbody tr th {\n",
       "        vertical-align: top;\n",
       "    }\n",
       "\n",
       "    .dataframe thead th {\n",
       "        text-align: right;\n",
       "    }\n",
       "</style>\n",
       "<table border=\"1\" class=\"dataframe\">\n",
       "  <thead>\n",
       "    <tr style=\"text-align: right;\">\n",
       "      <th></th>\n",
       "      <th>clienteID</th>\n",
       "      <th>renda</th>\n",
       "      <th>idade</th>\n",
       "      <th>emprestimo</th>\n",
       "      <th>padrao</th>\n",
       "    </tr>\n",
       "  </thead>\n",
       "  <tbody>\n",
       "  </tbody>\n",
       "</table>\n",
       "</div>"
      ],
      "text/plain": [
       "Empty DataFrame\n",
       "Columns: [clienteID, renda, idade, emprestimo, padrao]\n",
       "Index: []"
      ]
     },
     "execution_count": 21,
     "metadata": {},
     "output_type": "execute_result"
    }
   ],
   "source": [
    "# localizando os registros no campo de dados \"idade\" que são menores que 0\n",
    "dataframe.loc[dataframe[\"idade\"] < 0]"
   ]
  },
  {
   "cell_type": "code",
   "execution_count": 19,
   "metadata": {},
   "outputs": [
    {
     "data": {
      "text/html": [
       "<div>\n",
       "<style scoped>\n",
       "    .dataframe tbody tr th:only-of-type {\n",
       "        vertical-align: middle;\n",
       "    }\n",
       "\n",
       "    .dataframe tbody tr th {\n",
       "        vertical-align: top;\n",
       "    }\n",
       "\n",
       "    .dataframe thead th {\n",
       "        text-align: right;\n",
       "    }\n",
       "</style>\n",
       "<table border=\"1\" class=\"dataframe\">\n",
       "  <thead>\n",
       "    <tr style=\"text-align: right;\">\n",
       "      <th></th>\n",
       "      <th>clienteID</th>\n",
       "      <th>renda</th>\n",
       "      <th>idade</th>\n",
       "      <th>emprestimo</th>\n",
       "      <th>padrao</th>\n",
       "    </tr>\n",
       "  </thead>\n",
       "  <tbody>\n",
       "    <tr>\n",
       "      <th>count</th>\n",
       "      <td>1997.000000</td>\n",
       "      <td>1997.000000</td>\n",
       "      <td>1994.000000</td>\n",
       "      <td>1997.000000</td>\n",
       "      <td>1997.000000</td>\n",
       "    </tr>\n",
       "    <tr>\n",
       "      <th>mean</th>\n",
       "      <td>1001.970456</td>\n",
       "      <td>45326.596720</td>\n",
       "      <td>40.927700</td>\n",
       "      <td>4442.124566</td>\n",
       "      <td>0.141713</td>\n",
       "    </tr>\n",
       "    <tr>\n",
       "      <th>std</th>\n",
       "      <td>576.679293</td>\n",
       "      <td>14327.971550</td>\n",
       "      <td>13.271802</td>\n",
       "      <td>3045.494192</td>\n",
       "      <td>0.348842</td>\n",
       "    </tr>\n",
       "    <tr>\n",
       "      <th>min</th>\n",
       "      <td>1.000000</td>\n",
       "      <td>20014.489470</td>\n",
       "      <td>18.055189</td>\n",
       "      <td>1.377630</td>\n",
       "      <td>0.000000</td>\n",
       "    </tr>\n",
       "    <tr>\n",
       "      <th>25%</th>\n",
       "      <td>503.000000</td>\n",
       "      <td>32804.904487</td>\n",
       "      <td>29.043284</td>\n",
       "      <td>1936.813257</td>\n",
       "      <td>0.000000</td>\n",
       "    </tr>\n",
       "    <tr>\n",
       "      <th>50%</th>\n",
       "      <td>1002.000000</td>\n",
       "      <td>45788.747100</td>\n",
       "      <td>41.382673</td>\n",
       "      <td>3971.155479</td>\n",
       "      <td>0.000000</td>\n",
       "    </tr>\n",
       "    <tr>\n",
       "      <th>75%</th>\n",
       "      <td>1501.000000</td>\n",
       "      <td>57787.565659</td>\n",
       "      <td>52.616900</td>\n",
       "      <td>6429.593688</td>\n",
       "      <td>0.000000</td>\n",
       "    </tr>\n",
       "    <tr>\n",
       "      <th>max</th>\n",
       "      <td>2000.000000</td>\n",
       "      <td>69995.685578</td>\n",
       "      <td>63.971796</td>\n",
       "      <td>13766.051239</td>\n",
       "      <td>1.000000</td>\n",
       "    </tr>\n",
       "  </tbody>\n",
       "</table>\n",
       "</div>"
      ],
      "text/plain": [
       "         clienteID         renda        idade    emprestimo       padrao\n",
       "count  1997.000000   1997.000000  1994.000000   1997.000000  1997.000000\n",
       "mean   1001.970456  45326.596720    40.927700   4442.124566     0.141713\n",
       "std     576.679293  14327.971550    13.271802   3045.494192     0.348842\n",
       "min       1.000000  20014.489470    18.055189      1.377630     0.000000\n",
       "25%     503.000000  32804.904487    29.043284   1936.813257     0.000000\n",
       "50%    1002.000000  45788.747100    41.382673   3971.155479     0.000000\n",
       "75%    1501.000000  57787.565659    52.616900   6429.593688     0.000000\n",
       "max    2000.000000  69995.685578    63.971796  13766.051239     1.000000"
      ]
     },
     "execution_count": 19,
     "metadata": {},
     "output_type": "execute_result"
    }
   ],
   "source": [
    "# usando o atributo \"describe\" para ver novamente as informações estatísticas da base de dados\n",
    "dataframe.describe()"
   ]
  },
  {
   "cell_type": "markdown",
   "metadata": {},
   "source": [
    "Observe que não há valores negativos no campo de dados \"idade\". Entretanto, houve a perda de três dados."
   ]
  },
  {
   "cell_type": "markdown",
   "metadata": {},
   "source": [
    "##### Método 3 - Preencher os Valores Manualmente"
   ]
  },
  {
   "cell_type": "markdown",
   "metadata": {},
   "source": [
    "Dependendo da disposição do programador, os valores podem ser preenchidos manualmente. Entre os métodos acima, esse é o mais seguro, porém menos eficaz."
   ]
  },
  {
   "cell_type": "markdown",
   "metadata": {},
   "source": [
    "##### Método 5 - Preencher os valores Incorretos com as Médias das Idades"
   ]
  },
  {
   "cell_type": "code",
   "execution_count": 27,
   "metadata": {},
   "outputs": [],
   "source": [
    "# importando novamente a base de dados para a variável\n",
    "dataframe = pd.read_csv(\"Dados Bancarios.csv\", encoding = \"UTF-8\", sep = \",\")"
   ]
  },
  {
   "cell_type": "markdown",
   "metadata": {},
   "source": [
    "Podemos realizar a média dos valores do campo de dados \"idade\" e preencher os registros inconsistentes com essa média, mas cuidado! Na hora de realizar o cálculo médio, os valores incorretos não podem participar do cálculo para não produzir valores distópicos da realidade."
   ]
  },
  {
   "cell_type": "code",
   "execution_count": 23,
   "metadata": {},
   "outputs": [
    {
     "data": {
      "text/plain": [
       "clienteID      1000.500000\n",
       "renda         45331.600018\n",
       "idade            40.807559\n",
       "emprestimo     4444.369695\n",
       "padrao            0.141500\n",
       "dtype: float64"
      ]
     },
     "execution_count": 23,
     "metadata": {},
     "output_type": "execute_result"
    }
   ],
   "source": [
    "# a média de todos os campos de dados \n",
    "dataframe.mean()"
   ]
  },
  {
   "cell_type": "code",
   "execution_count": 24,
   "metadata": {},
   "outputs": [
    {
     "data": {
      "text/plain": [
       "40.80755937840458"
      ]
     },
     "execution_count": 24,
     "metadata": {},
     "output_type": "execute_result"
    }
   ],
   "source": [
    "# a média do campo de dados \"idade\", considerando os valores incorretos\n",
    "dataframe[\"idade\"].mean()"
   ]
  },
  {
   "cell_type": "code",
   "execution_count": 28,
   "metadata": {},
   "outputs": [
    {
     "data": {
      "text/plain": [
       "40.92770044906149"
      ]
     },
     "execution_count": 28,
     "metadata": {},
     "output_type": "execute_result"
    }
   ],
   "source": [
    "# agora realizando a média do campo de dados \"idade\", mas sem os registros incorretos\n",
    "dataframe[\"idade\"][dataframe.idade > 0].mean()"
   ]
  },
  {
   "cell_type": "markdown",
   "metadata": {},
   "source": [
    "Com isso, fazemos a substituição dos registros negativos com a média correta:"
   ]
  },
  {
   "cell_type": "code",
   "execution_count": 29,
   "metadata": {},
   "outputs": [],
   "source": [
    "# atribuindo aos registros incorretos a média dos valores sem os registros inconsistentes\n",
    "dataframe.loc[dataframe.idade < 0, \"idade\"] = 40.92770044906149"
   ]
  },
  {
   "cell_type": "markdown",
   "metadata": {},
   "source": [
    "Observe que o problema foi resolvido, e não tivemos perda de nenhum dos três registros:"
   ]
  },
  {
   "cell_type": "code",
   "execution_count": 31,
   "metadata": {},
   "outputs": [
    {
     "data": {
      "text/html": [
       "<div>\n",
       "<style scoped>\n",
       "    .dataframe tbody tr th:only-of-type {\n",
       "        vertical-align: middle;\n",
       "    }\n",
       "\n",
       "    .dataframe tbody tr th {\n",
       "        vertical-align: top;\n",
       "    }\n",
       "\n",
       "    .dataframe thead th {\n",
       "        text-align: right;\n",
       "    }\n",
       "</style>\n",
       "<table border=\"1\" class=\"dataframe\">\n",
       "  <thead>\n",
       "    <tr style=\"text-align: right;\">\n",
       "      <th></th>\n",
       "      <th>clienteID</th>\n",
       "      <th>renda</th>\n",
       "      <th>idade</th>\n",
       "      <th>emprestimo</th>\n",
       "      <th>padrao</th>\n",
       "    </tr>\n",
       "  </thead>\n",
       "  <tbody>\n",
       "  </tbody>\n",
       "</table>\n",
       "</div>"
      ],
      "text/plain": [
       "Empty DataFrame\n",
       "Columns: [clienteID, renda, idade, emprestimo, padrao]\n",
       "Index: []"
      ]
     },
     "execution_count": 31,
     "metadata": {},
     "output_type": "execute_result"
    }
   ],
   "source": [
    "# localizando os registros no campo de dados \"idade\" que são menores que 0\n",
    "dataframe.loc[dataframe[\"idade\"] < 0]"
   ]
  },
  {
   "cell_type": "code",
   "execution_count": 32,
   "metadata": {},
   "outputs": [
    {
     "data": {
      "text/html": [
       "<div>\n",
       "<style scoped>\n",
       "    .dataframe tbody tr th:only-of-type {\n",
       "        vertical-align: middle;\n",
       "    }\n",
       "\n",
       "    .dataframe tbody tr th {\n",
       "        vertical-align: top;\n",
       "    }\n",
       "\n",
       "    .dataframe thead th {\n",
       "        text-align: right;\n",
       "    }\n",
       "</style>\n",
       "<table border=\"1\" class=\"dataframe\">\n",
       "  <thead>\n",
       "    <tr style=\"text-align: right;\">\n",
       "      <th></th>\n",
       "      <th>clienteID</th>\n",
       "      <th>renda</th>\n",
       "      <th>idade</th>\n",
       "      <th>emprestimo</th>\n",
       "      <th>padrao</th>\n",
       "    </tr>\n",
       "  </thead>\n",
       "  <tbody>\n",
       "    <tr>\n",
       "      <th>count</th>\n",
       "      <td>2000.000000</td>\n",
       "      <td>2000.000000</td>\n",
       "      <td>1997.000000</td>\n",
       "      <td>2000.000000</td>\n",
       "      <td>2000.000000</td>\n",
       "    </tr>\n",
       "    <tr>\n",
       "      <th>mean</th>\n",
       "      <td>1000.500000</td>\n",
       "      <td>45331.600018</td>\n",
       "      <td>40.927700</td>\n",
       "      <td>4444.369695</td>\n",
       "      <td>0.141500</td>\n",
       "    </tr>\n",
       "    <tr>\n",
       "      <th>std</th>\n",
       "      <td>577.494589</td>\n",
       "      <td>14326.327119</td>\n",
       "      <td>13.261825</td>\n",
       "      <td>3045.410024</td>\n",
       "      <td>0.348624</td>\n",
       "    </tr>\n",
       "    <tr>\n",
       "      <th>min</th>\n",
       "      <td>1.000000</td>\n",
       "      <td>20014.489470</td>\n",
       "      <td>18.055189</td>\n",
       "      <td>1.377630</td>\n",
       "      <td>0.000000</td>\n",
       "    </tr>\n",
       "    <tr>\n",
       "      <th>25%</th>\n",
       "      <td>500.750000</td>\n",
       "      <td>32796.459717</td>\n",
       "      <td>29.072097</td>\n",
       "      <td>1939.708847</td>\n",
       "      <td>0.000000</td>\n",
       "    </tr>\n",
       "    <tr>\n",
       "      <th>50%</th>\n",
       "      <td>1000.500000</td>\n",
       "      <td>45789.117313</td>\n",
       "      <td>41.317159</td>\n",
       "      <td>3974.719419</td>\n",
       "      <td>0.000000</td>\n",
       "    </tr>\n",
       "    <tr>\n",
       "      <th>75%</th>\n",
       "      <td>1500.250000</td>\n",
       "      <td>57791.281668</td>\n",
       "      <td>52.587040</td>\n",
       "      <td>6432.410625</td>\n",
       "      <td>0.000000</td>\n",
       "    </tr>\n",
       "    <tr>\n",
       "      <th>max</th>\n",
       "      <td>2000.000000</td>\n",
       "      <td>69995.685578</td>\n",
       "      <td>63.971796</td>\n",
       "      <td>13766.051239</td>\n",
       "      <td>1.000000</td>\n",
       "    </tr>\n",
       "  </tbody>\n",
       "</table>\n",
       "</div>"
      ],
      "text/plain": [
       "         clienteID         renda        idade    emprestimo       padrao\n",
       "count  2000.000000   2000.000000  1997.000000   2000.000000  2000.000000\n",
       "mean   1000.500000  45331.600018    40.927700   4444.369695     0.141500\n",
       "std     577.494589  14326.327119    13.261825   3045.410024     0.348624\n",
       "min       1.000000  20014.489470    18.055189      1.377630     0.000000\n",
       "25%     500.750000  32796.459717    29.072097   1939.708847     0.000000\n",
       "50%    1000.500000  45789.117313    41.317159   3974.719419     0.000000\n",
       "75%    1500.250000  57791.281668    52.587040   6432.410625     0.000000\n",
       "max    2000.000000  69995.685578    63.971796  13766.051239     1.000000"
      ]
     },
     "execution_count": 32,
     "metadata": {},
     "output_type": "execute_result"
    }
   ],
   "source": [
    "# usando o atributo \"describe\" para analisar os dados estatísticos do nosso banco de dados\n",
    "dataframe.describe()"
   ]
  },
  {
   "cell_type": "markdown",
   "metadata": {},
   "source": [
    "### Tratamento de Valores Faltantes"
   ]
  },
  {
   "cell_type": "markdown",
   "metadata": {},
   "source": [
    "Temos também alguns valores faltantes no campo de dados \"idade\". Devemos fazer a correção desse problema."
   ]
  },
  {
   "cell_type": "markdown",
   "metadata": {},
   "source": [
    "Observe quais são esse valores usando a função \"isnull\" da biblioteca \"pandas\" aplicada na nossa variável do tipo objeto \"dataframe\"."
   ]
  },
  {
   "cell_type": "code",
   "execution_count": 33,
   "metadata": {},
   "outputs": [
    {
     "data": {
      "text/plain": [
       "0       False\n",
       "1       False\n",
       "2       False\n",
       "3       False\n",
       "4       False\n",
       "        ...  \n",
       "1995    False\n",
       "1996    False\n",
       "1997    False\n",
       "1998    False\n",
       "1999    False\n",
       "Name: idade, Length: 2000, dtype: bool"
      ]
     },
     "execution_count": 33,
     "metadata": {},
     "output_type": "execute_result"
    }
   ],
   "source": [
    "# usando a função \"isnull\" da biblioteca \"pandas\" para visualizar os registros nulos no \"dataframe\"\n",
    "pd.isnull(dataframe[\"idade\"])"
   ]
  },
  {
   "cell_type": "markdown",
   "metadata": {},
   "source": [
    "Usando o atributo \"loc\" poderemos visualizar somente os valores armazenados com registros nulos ao invés de uma lista de dados booleanos para todos os registros (se for True o registro é nulo)."
   ]
  },
  {
   "cell_type": "code",
   "execution_count": 35,
   "metadata": {},
   "outputs": [
    {
     "data": {
      "text/html": [
       "<div>\n",
       "<style scoped>\n",
       "    .dataframe tbody tr th:only-of-type {\n",
       "        vertical-align: middle;\n",
       "    }\n",
       "\n",
       "    .dataframe tbody tr th {\n",
       "        vertical-align: top;\n",
       "    }\n",
       "\n",
       "    .dataframe thead th {\n",
       "        text-align: right;\n",
       "    }\n",
       "</style>\n",
       "<table border=\"1\" class=\"dataframe\">\n",
       "  <thead>\n",
       "    <tr style=\"text-align: right;\">\n",
       "      <th></th>\n",
       "      <th>clienteID</th>\n",
       "      <th>renda</th>\n",
       "      <th>idade</th>\n",
       "      <th>emprestimo</th>\n",
       "      <th>padrao</th>\n",
       "    </tr>\n",
       "  </thead>\n",
       "  <tbody>\n",
       "    <tr>\n",
       "      <th>28</th>\n",
       "      <td>29</td>\n",
       "      <td>59417.805406</td>\n",
       "      <td>NaN</td>\n",
       "      <td>2082.625938</td>\n",
       "      <td>0</td>\n",
       "    </tr>\n",
       "    <tr>\n",
       "      <th>30</th>\n",
       "      <td>31</td>\n",
       "      <td>48528.852796</td>\n",
       "      <td>NaN</td>\n",
       "      <td>6155.784670</td>\n",
       "      <td>0</td>\n",
       "    </tr>\n",
       "    <tr>\n",
       "      <th>31</th>\n",
       "      <td>32</td>\n",
       "      <td>23526.302555</td>\n",
       "      <td>NaN</td>\n",
       "      <td>2862.010139</td>\n",
       "      <td>0</td>\n",
       "    </tr>\n",
       "  </tbody>\n",
       "</table>\n",
       "</div>"
      ],
      "text/plain": [
       "    clienteID         renda  idade   emprestimo  padrao\n",
       "28         29  59417.805406    NaN  2082.625938       0\n",
       "30         31  48528.852796    NaN  6155.784670       0\n",
       "31         32  23526.302555    NaN  2862.010139       0"
      ]
     },
     "execution_count": 35,
     "metadata": {},
     "output_type": "execute_result"
    }
   ],
   "source": [
    "# usando o atributo \"loc\" com a função \"isnull\" do \"pandas\" para visualizar os registros nulos em \n",
    "# \"dataframe\"\n",
    "dataframe.loc[pd.isnull(dataframe[\"idade\"])]"
   ]
  },
  {
   "cell_type": "markdown",
   "metadata": {},
   "source": [
    "Temos exatamente três registros nulos no campo de dados \"idade\", exatamente como foi previsto quando visualizamos os dados estatísticos usando o atributo \"describe\"."
   ]
  },
  {
   "cell_type": "markdown",
   "metadata": {},
   "source": [
    "Não podemos fazer uma atribuição com números flutuantes em um campo de dados \"NaN\", pois são tipos de dados diferentes (lembre-se do programa 06). Por esse motivo, vamos chamar a biblioteca \"sklearn\" para fazer esse tratamento de dados."
   ]
  },
  {
   "cell_type": "code",
   "execution_count": 36,
   "metadata": {},
   "outputs": [],
   "source": [
    "# importando a biblioteca sklearn do Python\n",
    "from sklearn.impute import SimpleImputer"
   ]
  },
  {
   "cell_type": "markdown",
   "metadata": {},
   "source": [
    "Além disso, vamos chamar também a biblioteca \"numpy\" para identificar os tipos de dados nulos."
   ]
  },
  {
   "cell_type": "code",
   "execution_count": 37,
   "metadata": {},
   "outputs": [],
   "source": [
    "# importando a biblioteca numpy do Python\n",
    "import numpy as np"
   ]
  },
  {
   "cell_type": "markdown",
   "metadata": {},
   "source": [
    "Anteriormente, foi dito que os dados **previsores** são independentes e a **meta classe** é dependente dos dados previsores. Desse modo, temos que os dados previsores são: \"renda\", \"idade\" e \"emprestimo\", e os dados meta classe são \"padrao\". \"clienteID\" não será importante no nosso algoritmo, então vamos descartá-lo."
   ]
  },
  {
   "cell_type": "code",
   "execution_count": 42,
   "metadata": {},
   "outputs": [],
   "source": [
    "# atribuindo a variável do tipo objeto \"previsores\" os dados previsores presentes em \"dataframe\"\n",
    "previsores = dataframe.iloc[:, 1:4].values\n",
    "# obs: \"iloc\" tem as mesmas propiedades de \"loc\", exeto que os métodos são somente inteiros\n",
    "# obs: o atributo \"values\" permite retornar os registros encontrados através do atributo \"iloc\"\n",
    "# obs: foi adicionado todas as linhs (:) e as colunas de 1 a 3 (1:4)"
   ]
  },
  {
   "cell_type": "code",
   "execution_count": 43,
   "metadata": {},
   "outputs": [],
   "source": [
    "# atribuindo a variável do tipo objeto \"classe\" os dados meta classe presentes em \"dataframe\"\n",
    "classe = dataframe.iloc[:, 4].values"
   ]
  },
  {
   "cell_type": "markdown",
   "metadata": {},
   "source": [
    "Agora que separamos os dados previsores dos meta classe, podemos usar a função \"SimpleImpute\" do \"sklearn\" para corrigir os valores faltantes."
   ]
  },
  {
   "cell_type": "code",
   "execution_count": 48,
   "metadata": {},
   "outputs": [],
   "source": [
    "# atribuindo a variável \"imputer\" os requisitos de busca para corrigir os valores nulos\n",
    "# estamos criando o objeto \"imputer\"\n",
    "imputer = SimpleImputer(missing_values = np.nan, strategy = \"mean\")\n",
    "# obs: método \"missing_values\" recebe \"np.nan\", indicando que os valores a serem corrigidos são os que \n",
    "# estão nulos\n",
    "# obs: o método \"strategy\" recebe \"mean\" indicando que os valores núlos receberam a média dos registros do \n",
    "# campo. Poderiamos usar a mediana (median) e a moda (most_frequent)"
   ]
  },
  {
   "cell_type": "markdown",
   "metadata": {},
   "source": [
    "Agora vamos usar o nosso \"imputer\" para fazer a carga nos valores nulos presentes nos nossos dados previsores no campo \"idade\". Em outras palavras, ele é responsável por colocar valores de entrada."
   ]
  },
  {
   "cell_type": "code",
   "execution_count": 49,
   "metadata": {},
   "outputs": [
    {
     "data": {
      "text/plain": [
       "SimpleImputer(add_indicator=False, copy=True, fill_value=None,\n",
       "              missing_values=nan, strategy='mean', verbose=0)"
      ]
     },
     "execution_count": 49,
     "metadata": {},
     "output_type": "execute_result"
    }
   ],
   "source": [
    "# observando as características da variável \"imputer\"\n",
    "imputer"
   ]
  },
  {
   "cell_type": "code",
   "execution_count": 50,
   "metadata": {},
   "outputs": [],
   "source": [
    "imputer = imputer.fit(previsores[:, 0:3])\n",
    "# obs: o atributo \"fit\" de \"imputer\" estima a melhor função representativa para os pontos de dados, ela \n",
    "# vai encaixar o \"imputer\" em nossa base de dados\n",
    "\n",
    "# estamos fazendo essa busca por valores nulos em todos os registros dos nossos dados previsores"
   ]
  },
  {
   "cell_type": "code",
   "execution_count": 51,
   "metadata": {},
   "outputs": [
    {
     "data": {
      "text/plain": [
       "SimpleImputer(add_indicator=False, copy=True, fill_value=None,\n",
       "              missing_values=nan, strategy='mean', verbose=0)"
      ]
     },
     "execution_count": 51,
     "metadata": {},
     "output_type": "execute_result"
    }
   ],
   "source": [
    "# observe as características do objeto \"imputer\"\n",
    "imputer"
   ]
  },
  {
   "cell_type": "markdown",
   "metadata": {},
   "source": [
    "Agora que nosso \"imputer\" já está definido e já realizou o tratamento de dados com os valores faltantes, vamos aplicar e atribuir a transformação dos dados nos \"previsores\"."
   ]
  },
  {
   "cell_type": "code",
   "execution_count": 55,
   "metadata": {},
   "outputs": [],
   "source": [
    "# atribuindo a todos os dados de \"previsores\" a transformação dos seus dados, usando o atributo \"transform\"\n",
    "# no objeto \"imputer\"\n",
    "previsores[:, 0:3] = imputer.transform(previsores[:, 0:3])"
   ]
  },
  {
   "cell_type": "code",
   "execution_count": 56,
   "metadata": {},
   "outputs": [
    {
     "data": {
      "text/plain": [
       "(2000, 3)"
      ]
     },
     "execution_count": 56,
     "metadata": {},
     "output_type": "execute_result"
    }
   ],
   "source": [
    "# observe que não há mais valores nulos nos dados previsores, todos estão completos\n",
    "previsores.shape"
   ]
  },
  {
   "cell_type": "markdown",
   "metadata": {},
   "source": [
    "### Alguma dúvida? Entre em contato comigo:\n"
   ]
  },
  {
   "cell_type": "markdown",
   "metadata": {},
   "source": [
    "- <a href = \"mailto:alyssonmachado388@gmail.com\" target = \"_blank\">Me envie um e-mail</a>;"
   ]
  }
 ],
 "metadata": {
  "kernelspec": {
   "display_name": "Python 3",
   "language": "python",
   "name": "python3"
  },
  "language_info": {
   "codemirror_mode": {
    "name": "ipython",
    "version": 3
   },
   "file_extension": ".py",
   "mimetype": "text/x-python",
   "name": "python",
   "nbconvert_exporter": "python",
   "pygments_lexer": "ipython3",
   "version": "3.7.6"
  }
 },
 "nbformat": 4,
 "nbformat_minor": 4
}
