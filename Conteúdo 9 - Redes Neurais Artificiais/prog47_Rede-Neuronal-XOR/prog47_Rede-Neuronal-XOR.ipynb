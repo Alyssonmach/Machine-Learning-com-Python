{
 "cells": [
  {
   "cell_type": "markdown",
   "metadata": {},
   "source": [
    "# Rede Neuronal da condição lógica XOR\n",
    "#### criando uma rede neural via pybrain para a estrutura de condição lógica XOR."
   ]
  },
  {
   "cell_type": "markdown",
   "metadata": {},
   "source": [
    "**Ou exclusivo** ou **disjunção exclusiva** (**XOR**) é uma operação lógica entre dois operandos que resulta em um valor lógico verdadeiro se e somente se os dois operandos forem diferentes, ou seja, se um for verdadeiro e o outro for falso."
   ]
  },
  {
   "cell_type": "markdown",
   "metadata": {},
   "source": [
    "### Importando as funções do pybrain"
   ]
  },
  {
   "cell_type": "code",
   "execution_count": 1,
   "metadata": {},
   "outputs": [],
   "source": [
    "# importando as funções da biblioteca pybrain do python\n",
    "# 'shortcuts' já nos fornece estruturas de redes neurais prontas para aplicar\n",
    "from pybrain.tools.shortcuts import buildNetwork\n",
    "from pybrain.datasets import SupervisedDataSet\n",
    "from pybrain.supervised.trainers import BackpropTrainer\n",
    "from pybrain.structure.modules import SoftmaxLayer\n",
    "from pybrain.structure.modules import SigmoidLayer\n",
    "from pybrain.structure.modules import LinearLayer"
   ]
  },
  {
   "cell_type": "code",
   "execution_count": 2,
   "metadata": {},
   "outputs": [],
   "source": [
    "# definindo uma rede neural com 2 neurônios na camada de entrada, 3 na camada oculta e 1 na camada de saída\n",
    "# usando o melhoramento 'LinearLayer' na função de ativação da camada de saída\n",
    "# usando o melhoramento 'SigmoidLayer' na função de ativação das camadas ocultas\n",
    "rede = buildNetwork(2, 3, 1, outclass = LinearLayer, hiddenclass = SigmoidLayer)"
   ]
  },
  {
   "cell_type": "code",
   "execution_count": 3,
   "metadata": {},
   "outputs": [],
   "source": [
    "# definindo uma base de dados com 2 entradas nos atributos previsores e 1 saída no atributo meta\n",
    "base = SupervisedDataSet(2, 1)"
   ]
  },
  {
   "cell_type": "code",
   "execution_count": 4,
   "metadata": {},
   "outputs": [],
   "source": [
    "# adicionando o primeiro dado para o treinamento da base de dados\n",
    "base.addSample((0,0), (0, ))\n",
    "# adicionando o segundo dado para o treinamento da base de dados\n",
    "base.addSample((0,1), (1, ))\n",
    "# adicionando o terceiro dado para o treinamento da base de dados\n",
    "base.addSample((1,0), (1, ))\n",
    "# adicionando o quarto dado para o treinamento da base de dados\n",
    "base.addSample((1,1), (0, ))\n",
    "# observe que os dados obedecem ao estilo da estrutura de condição lógica XOR"
   ]
  },
  {
   "cell_type": "code",
   "execution_count": 5,
   "metadata": {},
   "outputs": [
    {
     "name": "stdout",
     "output_type": "stream",
     "text": [
      "[[0. 0.]\n",
      " [0. 1.]\n",
      " [1. 0.]\n",
      " [1. 1.]]\n"
     ]
    }
   ],
   "source": [
    "# visualizando os atributos previsores da base de treinamento\n",
    "print(base['input'])"
   ]
  },
  {
   "cell_type": "code",
   "execution_count": 6,
   "metadata": {},
   "outputs": [
    {
     "name": "stdout",
     "output_type": "stream",
     "text": [
      "[[0.]\n",
      " [1.]\n",
      " [1.]\n",
      " [0.]]\n"
     ]
    }
   ],
   "source": [
    "# visualizando os atributos meta da base de treinamento\n",
    "print(base['target'])"
   ]
  },
  {
   "cell_type": "code",
   "execution_count": 7,
   "metadata": {},
   "outputs": [
    {
     "name": "stdout",
     "output_type": "stream",
     "text": [
      "<LinearLayer 'in'>\n"
     ]
    }
   ],
   "source": [
    "# visualiznado a função de ativação na camada de neurônios de entrada\n",
    "print(rede['in'])"
   ]
  },
  {
   "cell_type": "code",
   "execution_count": 8,
   "metadata": {},
   "outputs": [
    {
     "name": "stdout",
     "output_type": "stream",
     "text": [
      "<SigmoidLayer 'hidden0'>\n"
     ]
    }
   ],
   "source": [
    "# visualizando a função de ativação na camada de neurônios de saída\n",
    "print(rede['hidden0'])"
   ]
  },
  {
   "cell_type": "code",
   "execution_count": 9,
   "metadata": {},
   "outputs": [
    {
     "name": "stdout",
     "output_type": "stream",
     "text": [
      "<LinearLayer 'out'>\n"
     ]
    }
   ],
   "source": [
    "# visualizando a função de ativação na camada de neurônios de saída\n",
    "print(rede['out'])"
   ]
  },
  {
   "cell_type": "code",
   "execution_count": 10,
   "metadata": {},
   "outputs": [
    {
     "name": "stdout",
     "output_type": "stream",
     "text": [
      "<BiasUnit 'bias'>\n"
     ]
    }
   ],
   "source": [
    "# visualizando os parâmetros de escolha dos bias\n",
    "print(rede['bias'])"
   ]
  },
  {
   "cell_type": "code",
   "execution_count": 11,
   "metadata": {},
   "outputs": [],
   "source": [
    "# definindo o objeto de treinamento para a base de dados criada\n",
    "# a taxa de aprendizagem será de 0.01\n",
    "# o momentum será de 0.06\n",
    "treinamento = BackpropTrainer(rede, dataset = base, learningrate = 0.01, momentum = 0.06)"
   ]
  },
  {
   "cell_type": "code",
   "execution_count": 12,
   "metadata": {},
   "outputs": [],
   "source": [
    "# criando uma lista para plotar um gráfico para a taxa de erro do algoritmo\n",
    "eixoX = list()\n",
    "eixoY = list()"
   ]
  },
  {
   "cell_type": "code",
   "execution_count": 13,
   "metadata": {},
   "outputs": [
    {
     "name": "stdout",
     "output_type": "stream",
     "text": [
      "Erro: 0.12485558096673324\n",
      "Erro: 0.1207507092025156\n",
      "Erro: 0.11272155985808016\n",
      "Erro: 0.09729167728837051\n",
      "Erro: 0.06224336166138503\n",
      "Erro: 0.01779412840063646\n",
      "Erro: 0.0019225875652021918\n",
      "Erro: 0.00013016521521308505\n",
      "Erro: 7.677507490069275e-06\n",
      "Erro: 4.3756009189693104e-07\n",
      "Erro: 2.4781290775292193e-08\n",
      "Erro: 1.402606966570794e-09\n",
      "Erro: 7.936647916809234e-11\n",
      "Erro: 4.467016177845877e-12\n",
      "Erro: 2.5262756400269067e-13\n",
      "Erro: 1.4249301504164686e-14\n",
      "Erro: 8.071887962205441e-16\n",
      "Erro: 4.558395720362185e-17\n",
      "Erro: 2.5732633240661148e-18\n",
      "Erro: 1.4551281756593215e-19\n",
      "Erro: 8.207510960642073e-21\n",
      "Erro: 4.638146061039292e-22\n",
      "Erro: 2.6197400028931263e-23\n",
      "Erro: 1.4772129674928432e-24\n",
      "Erro: 8.527582003948514e-26\n",
      "Erro: 4.552734299300164e-27\n",
      "Erro: 1.1342273295332807e-27\n",
      "Erro: 1.085879843470853e-27\n",
      "Erro: 1.087199009186261e-27\n"
     ]
    }
   ],
   "source": [
    "# estrutura de repetição para realizar o treinamento da rede neural 30000 vezes\n",
    "for indice in range(1, 30000):\n",
    "    # fazendo o treinamento com a base de dados criada\n",
    "    erro = treinamento.train()\n",
    "    eixoX.append(indice - 1)\n",
    "    eixoY.append(erro)\n",
    "    # mostra a taxa de erro a cada 1000 repetições\n",
    "    if indice % 1000 == 0:\n",
    "        print('Erro: {}'.format(erro))"
   ]
  },
  {
   "cell_type": "code",
   "execution_count": 14,
   "metadata": {},
   "outputs": [
    {
     "name": "stdout",
     "output_type": "stream",
     "text": [
      "[2.49800181e-14]\n",
      "[1.]\n",
      "[1.]\n",
      "[5.91748872e-14]\n"
     ]
    }
   ],
   "source": [
    "# visualizando a capacidade de predição do algoritmo\n",
    "print(rede.activate([0, 0])) # saída esperada: próximo de 0\n",
    "print(rede.activate([1, 0])) # saída esperada: próximo de 1\n",
    "print(rede.activate([0, 1])) # saída esperada: próximo de 1\n",
    "print(rede.activate([1, 1])) # saída esperada: próximo de 0"
   ]
  },
  {
   "cell_type": "markdown",
   "metadata": {},
   "source": [
    "Observe que os dados foram  previstos corretamente com uma taxa de erro muito pequena. Além disso, todos os resultados da predição forma consistentes. Abaixo, vamos visualizar um gráfico que mostra o avanço do erro em cada treinamento feito."
   ]
  },
  {
   "cell_type": "code",
   "execution_count": 16,
   "metadata": {},
   "outputs": [],
   "source": [
    "# importando a biblioteca de funções matplotlib do Python\n",
    "import matplotlib.pyplot as plt\n",
    "%matplotlib inline"
   ]
  },
  {
   "cell_type": "code",
   "execution_count": 19,
   "metadata": {},
   "outputs": [
    {
     "data": {
      "text/plain": [
       "Text(0, 0.5, 'Erro')"
      ]
     },
     "execution_count": 19,
     "metadata": {},
     "output_type": "execute_result"
    },
    {
     "data": {
      "image/png": "[encoded data removed]",
      "text/plain": [
       "<Figure size 720x360 with 1 Axes>"
      ]
     },
     "metadata": {
      "needs_background": "light"
     },
     "output_type": "display_data"
    }
   ],
   "source": [
    "# definindo as dimensões do gráfico\n",
    "plt.figure(figsize = (10,5))\n",
    "# plotando o gráfico da taxa de erro durante cada treinamento\n",
    "plt.plot(eixoX, eixoY, color = \"Red\", label = \"Gráfico da taxa de erro após cada etapa do treinamento\")\n",
    "# plotando o título do gráfico\n",
    "plt.title(\"Taxa de Erro do algoritmo\")\n",
    "# adicionando uma grade ao gráfico\n",
    "plt.grid(True)\n",
    "# removendo a moldura do gráfico\n",
    "plt.box(False)\n",
    "# adicionando as legendas do gráfico\n",
    "plt.legend()\n",
    "# adicionando uma legenda ao eixo x\n",
    "plt.xlabel(\"Treinamento\")\n",
    "# adicionando uma legenda ao eixo y\n",
    "plt.ylabel(\"Erro\")"
   ]
  },
  {
   "cell_type": "markdown",
   "metadata": {},
   "source": [
    "### Alguma dúvida? Entre em contato comigo:"
   ]
  },
  {
   "cell_type": "markdown",
   "metadata": {},
   "source": [
    "- [Me envie um e-mail](mailto:alyssonmachado388@gmail.com);"
   ]
  }
 ],
 "metadata": {
  "kernelspec": {
   "display_name": "Python 3",
   "language": "python",
   "name": "python3"
  },
  "language_info": {
   "codemirror_mode": {
    "name": "ipython",
    "version": 3
   },
   "file_extension": ".py",
   "mimetype": "text/x-python",
   "name": "python",
   "nbconvert_exporter": "python",
   "pygments_lexer": "ipython3",
   "version": "3.7.4"
  }
 },
 "nbformat": 4,
 "nbformat_minor": 4
}
