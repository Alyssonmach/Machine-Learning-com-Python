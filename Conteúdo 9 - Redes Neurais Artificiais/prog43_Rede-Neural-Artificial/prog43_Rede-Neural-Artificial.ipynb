{
 "cells": [
  {
   "cell_type": "markdown",
   "metadata": {},
   "source": [
    "# Rede Neural Artificial\n",
    "#### Entendendo o funcionamento de uma rede neural artificial"
   ]
  },
  {
   "cell_type": "markdown",
   "metadata": {},
   "source": [
    "### Introdução"
   ]
  },
  {
   "cell_type": "markdown",
   "metadata": {},
   "source": [
    "Tudo começou quando **McCulloch e Pritts** em 1943 conseguiram fazer o primeira esquema funcional de um neurônio biológico. Desse ponto em diante, muitos entusiastas e pesquisadores começaram a corrida em busca de entender como funcionava o cérebro humano. Com o avançar das descobertas, o entusiasmo em aplicar tais conhecimentos em um máquina começou a aflorar, e já em 1958, **Frank Rosenblatt** desenvolve um esquema de neurônio artificial bem mais avançado que o **Adaline** (**Adaptative Linear Element**). Esse esquema poderoso era chamado de **Perceptron**, fazendo muito sucesso na época e atiçando a mente das pessoas sobre como seria o futuro após todas essas descobertas. após anos e anos de tentativas e falhas, atualmente conseguimos ter diversas aplicações de **redes neurais artificiais** em várias instâncias de nossas vidas, mesmo que ainda exista a necessidade de tornar aperfeiçoado essas redes para que elas se tornem análogas a capacidade de raciocínio humano."
   ]
  },
  {
   "cell_type": "markdown",
   "metadata": {},
   "source": [
    "### Inteligência Computacional"
   ]
  },
  {
   "cell_type": "markdown",
   "metadata": {},
   "source": [
    "O objetivo da inteligência computacional é o desenvolvimento de técnicas, mesmo que de forma limitada, que permitam incorporar ao ambiente algumas das funcionalidades dos sistemas biológicos no que se refere ao aspecto inteligência. Esse campo ainda está em desenvolvimento, pois o poder das máquinas ainda não pode ser comparado a extraordinária capacidade humana de raciocinar. Além disso, mesmo sabendo que ainda há um caminho logo a se desenvolver na área de inteligência computacional, já podemos desfrutar de inúmeras ferramentas aplicadas em redes neurais e, a união deles em um só problema dá mais capacidade a máquina para aprender sobre um determinado problema."
   ]
  },
  {
   "cell_type": "markdown",
   "metadata": {},
   "source": [
    "### Ferramentas da Inteligência Computacional"
   ]
  },
  {
   "cell_type": "markdown",
   "metadata": {},
   "source": [
    "- Redes Neurais;\n",
    "- Técnicas de Inteligência Artificial Simbólica;\n",
    "- Linguagens declarativas para IA;\n",
    "- Lógica Difusa (Fuzzy Logic);\n",
    "- Algoritmos Genéticos;\n",
    "- Técnicas de Filtragem Adaptativa;\n",
    "- Decisão com base em Métodos Estatísticos;\n",
    "- Classificação e Reconhecimento de Padrões com métodos diversos, inclusive métodos estatísticos;\n",
    "- Técnicas de Visão Computacional e Reconhecimento de Padrões Visuais;\n",
    "- Técnicas de Reconhecimento e Síntese de Voz ;\n",
    "- Ferramentas de Otimização;\n",
    "- Ferramentas Estatísticas em geral;\n",
    "- Técnicas de Aprendizado de Máquina;"
   ]
  },
  {
   "cell_type": "markdown",
   "metadata": {},
   "source": [
    "### O que é uma rede Neural?"
   ]
  },
  {
   "cell_type": "markdown",
   "metadata": {},
   "source": [
    "**Rede Neural Artificial**, **Nós de Processamento** ou **Nós de Rede Neural** é um sistema baseado no funcionamento do sistema nervoso e sensorial humano, em que é possível criar sistemas de computação adaptativo, pois uma mesma rede pode se adaptar a inúmeros problemas e conseguir resultados satisfatórios para tais problemas. Cada neurônio é ligado a outro, de forma que a saída do primeiro e a entrada do posterior. Além disso, essa interconexão entre os neurônios e feita por **camadas**."
   ]
  },
  {
   "cell_type": "markdown",
   "metadata": {},
   "source": [
    "### Evolução Histórica"
   ]
  },
  {
   "cell_type": "markdown",
   "metadata": {},
   "source": [
    "Abaixo é possível conferir a evolução histórica dos estudos em redes neurais artificiais."
   ]
  },
  {
   "cell_type": "markdown",
   "metadata": {},
   "source": [
    "- **Década de 40**: McCulloch e Pitts desenvolvem uma proposta de cálculos lógicos com base nas estruturas neurais biológicas;\n",
    "- **Década de 50**: Ocorre a primeira Conferência Internacional de Inteligência Artificial, Nathaniel Rochester da IBM apresenta um modelo de rede neural;\n",
    "- **Em 1959**: Foi apresentado a rede adaptativa **Adaline** capaz de resolver problemas lineares;\n",
    "- **Em 1960**: Rosenblat desenvolve o **Perceptron**, bem mais desenvolvido que o Adaline e capaz de resolver problemas não lineares. Além disso, foi muito fiel ao modelo de McCulloc e Pitts, sendo um algoritmo de aprendizado supervisionado bastante eficaz;\n",
    "- **Em 1969**: Marvin Minsky e Seymour Papert publicam um livro sobre o Perceptron, possibilitando a difusão desse conhecimento;\n",
    "- **Em 1982**: John Hopfield apresenta um sistema neuronal capaz de armazenar informações complexas em suas interconexões, como imagens por exemplo. Essa ideia teve um grande impacto no avanço das aplicações feitas, pois tornou a máquina mais próxima da inteligência humana. Além disso, foi nesse ano que ocorrei a primeira conferência Estados Unidos-Japão sobre Redes Neurais, na cidade de Kioto;\n",
    "- **Em 1984**: Foi o ano que ocorreu o primeiro congresso de Redes Neurais no Brasil. Após esse ano o tema estava difundido pelo mundo e diversas conferências ocorreriam por todo o mundo sobre esse tema;"
   ]
  },
  {
   "cell_type": "markdown",
   "metadata": {},
   "source": [
    "### Redes Neurais"
   ]
  },
  {
   "cell_type": "markdown",
   "metadata": {},
   "source": [
    "Como já foi dito anteriormente, no neurônio biológico, a informação é representada no sistema nervoso através de pulsos eletrícos gerados pelos neurônios, denominados de potênciais de ação. Quando pensamos em desenvolver tal ideia artificialmente, o modelo assume diversas simplificações. "
   ]
  },
  {
   "cell_type": "markdown",
   "metadata": {},
   "source": [
    "Basicamente, todos os tipos de redes neurais apresentam a mesma unidade de processamento: um **neurônio artificial**, que simula o comportamento mais simplificado do neurônio biológico. Esse neurônio possui várias entradas, que correspondem às conexões sinápticas com outras unidades similares a ele, e uma saída, cujo valor depende diretamente do somatório ponderado de todas as saídas dos outros neurônios a esse conectado. Neste cálculo de integração dos estímulos das várias entradas, a ponderação é dada pelos pesos que cada conexão possui."
   ]
  },
  {
   "cell_type": "markdown",
   "metadata": {},
   "source": [
    "O modelo de neurônio artificial chamado Adaline (Adaptative Linear Element) incorpora somente transformações lineares. Já o Perceptron, permite resolver problemas não lineares utilizando uma função de transferência. De modo que a saída seja igual a: $Output = f(\\sum)$. Já no Adaline, a saída era diretamente a soma das entradas em relação aos pesos. Observe abaixo o esquema de um **perceptron**."
   ]
  },
  {
   "cell_type": "markdown",
   "metadata": {},
   "source": [
    "![perceptron](Imagens/perceptron.png)"
   ]
  },
  {
   "cell_type": "markdown",
   "metadata": {},
   "source": [
    "Nele, é possível observar que $x_{i}$ são as entradas, $w_{i}$ são os pesos, $\\sum$ é a soma das entradas em relação aos pesos e $g(.)$ é a função de ativação, geralmente é utilizada a função **sigmoidal** por conseguir ser mais precisa. Na explicação de regressão logística foi dito como funcionava o esquema da função sigmoidal e porque ela é mais viável para problemas de classificação e regressão. Por fim, **y** é a saída de dados do neurônio."
   ]
  },
  {
   "cell_type": "markdown",
   "metadata": {},
   "source": [
    "Os valores dos pesos, esses que serão obtidos na etapa de treinamento com os dados, possuem características fundamentais sobre o comportamento do neurônio: \n",
    "\n",
    "- Pesos positivos - sinapse excitadora;\n",
    "- Pesos negativos - sinapse inibidora;\n",
    "- Pesos amplificam ou reduzem o sinal de entrada;\n",
    "- Conhecimento da rede neural são os pesos;  \n",
    "\n",
    "Com isso, podemos ver a importância que os pesos possuem para a construção da rede neural, de modo que o conhecimento dela reside na descoberta de pessos ideais para um determinado problema."
   ]
  },
  {
   "cell_type": "markdown",
   "metadata": {},
   "source": [
    "Mesmo sendo o perceptron uma solução boa para resolver problemas um pouco mais complexos que o Adaline não é possível de resolver, ele ainda não era suficiente para aplicações ainda mais complexas. Desse modo, foi definido o **Multi Layer Perceptron** (**MLP**), cujas características são as seguintes:"
   ]
  },
  {
   "cell_type": "markdown",
   "metadata": {},
   "source": [
    "- Possui múltiplas entradas/ múltiplas saídas/ múltiplas camadas;\n",
    "- Entrada e saídas podem ser tanto analógicas quanto digitais;\n",
    "- não há mais restrição de separabilidade linear entre classes;"
   ]
  },
  {
   "cell_type": "markdown",
   "metadata": {},
   "source": [
    "![multi-layer](Imagens/multi-layer.png)"
   ]
  },
  {
   "cell_type": "markdown",
   "metadata": {},
   "source": [
    "Observe que no fluxo de informações do neurônio não há retroalimentação. Cada saída de um neurônio é ligada a entrada de outro neurônio, e eles se organizam em camadas. Desse modo, é possível partir de um sistema pequeno de um neurônio até milhares deles interagindo, igualmente como o sistema nervoso funciona."
   ]
  },
  {
   "cell_type": "markdown",
   "metadata": {},
   "source": [
    "### Como uma rede neuronal aprende?"
   ]
  },
  {
   "cell_type": "markdown",
   "metadata": {},
   "source": [
    "O aprendizado pela rede neural se dá pela informação apresentada a ele, essa que extraí informações a partir de padrões apresentados. a expresão “**aprendizado da rede neural**”, embora normalmente traga um toque de charme às redes neurais, nada mais significa do que o processo de adaptação educada dos pesos $w_{i}$ da rede, de forma a viabilizar o mapeamento entre entradas e saídas descritos por uma lista de exemplos representativos de uma dada aplicação. Dessa forma, pode-se dizer que ao final do processo de aprendizado, o conhecimento dos neurônios e da rede neural como um todo, reside nos pesos sinápticos."
   ]
  },
  {
   "cell_type": "markdown",
   "metadata": {},
   "source": [
    "Na prática, os **atributos previsores** são as entradas $x_{i}$, em que baseado nesses atributos e feito o cálculo dos pesos $w_{i}$. considerandos essas entradas, a função soma e a função de ativação serão responsáveis pela saída de dados do neurônio, essa que será o que chamamos de atributo **classe**."
   ]
  },
  {
   "cell_type": "markdown",
   "metadata": {},
   "source": [
    "### Aplicações de redes neurais"
   ]
  },
  {
   "cell_type": "markdown",
   "metadata": {},
   "source": [
    "- Reconhecimento de padrões;\n",
    "- Reconhecimento de caracteres;\n",
    "- Reconhecimento e síntese de voz;\n",
    "- Conversão de texto para voz;\n",
    "- Visão artificial e visão robótica;\n",
    "- Avaliação de riscos da inadimplência/detecção de padrões de risco;\n",
    "- Previsão de vendas/previsão de séries temporais;\n",
    "- Modelagem e identificação de sistemas não lineares multivariáveis;\n",
    "- Sistemas para o apoio à decisão;\n",
    "- Processamento de informações não estruturadas;\n",
    "- Processamento/reconhecimento/ classificação de sinais e imagens;\n",
    "- interfaces homem-máquina naturais;\n",
    "- Mineração de dados (dataminig);\n",
    "- Problemas de otimização;\n",
    "- Modelagem cognitiva;"
   ]
  },
  {
   "cell_type": "markdown",
   "metadata": {},
   "source": [
    "### Alguma dúvida? Entre em contato comigo:"
   ]
  },
  {
   "cell_type": "markdown",
   "metadata": {},
   "source": [
    "- [Me envie um e-mail](mailto:alyssonmachado388@gmail.com);"
   ]
  }
 ],
 "metadata": {
  "kernelspec": {
   "display_name": "Python 3",
   "language": "python",
   "name": "python3"
  },
  "language_info": {
   "codemirror_mode": {
    "name": "ipython",
    "version": 3
   },
   "file_extension": ".py",
   "mimetype": "text/x-python",
   "name": "python",
   "nbconvert_exporter": "python",
   "pygments_lexer": "ipython3",
   "version": "3.7.4"
  }
 },
 "nbformat": 4,
 "nbformat_minor": 4
}
