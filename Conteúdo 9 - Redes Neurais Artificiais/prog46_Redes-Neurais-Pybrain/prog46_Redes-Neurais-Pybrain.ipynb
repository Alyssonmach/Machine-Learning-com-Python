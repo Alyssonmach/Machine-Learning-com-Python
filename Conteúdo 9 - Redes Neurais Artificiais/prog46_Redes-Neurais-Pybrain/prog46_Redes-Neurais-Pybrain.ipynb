{
 "cells": [
  {
   "cell_type": "markdown",
   "metadata": {},
   "source": [
    "# Redes Neurais com o Pybrain\n",
    "#### criando uma rede neural simples usando a biblioteca do python pybrain."
   ]
  },
  {
   "cell_type": "markdown",
   "metadata": {},
   "source": [
    "Nesse arquivo, será montado manualmente uma rede neural usando o **pybrain**, uma biblioteca pertencente a linguagem de programação python."
   ]
  },
  {
   "cell_type": "markdown",
   "metadata": {},
   "source": [
    "### Importação das funções do pybrain"
   ]
  },
  {
   "cell_type": "code",
   "execution_count": 1,
   "metadata": {},
   "outputs": [],
   "source": [
    "# importando funções do pybrain\n",
    "# o pacote structure define a estrutura da rede neural\n",
    "from pybrain.structure import FeedForwardNetwork \n",
    "from pybrain.structure import LinearLayer, SigmoidLayer, BiasUnit \n",
    "from pybrain.structure import FullConnection "
   ]
  },
  {
   "cell_type": "code",
   "execution_count": 2,
   "metadata": {},
   "outputs": [],
   "source": [
    "# definindo o esqueleto da rede neural\n",
    "rede = FeedForwardNetwork()"
   ]
  },
  {
   "cell_type": "code",
   "execution_count": 3,
   "metadata": {},
   "outputs": [],
   "source": [
    "# definindo a quantidade de neurônios na camada de entrada\n",
    "camadaEntrada = LinearLayer(2) # 2 neurônios na camada de entrada\n",
    "# 'LinearLayer' não passa por nenhuma função de ativação"
   ]
  },
  {
   "cell_type": "code",
   "execution_count": 4,
   "metadata": {},
   "outputs": [],
   "source": [
    "# definindo a quantidade de neurônios na camada oculta\n",
    "camadaOculta = SigmoidLayer(3) # 3 neurônios na camada oculta"
   ]
  },
  {
   "cell_type": "code",
   "execution_count": 5,
   "metadata": {},
   "outputs": [],
   "source": [
    "# definindo a quantidade de neurônios na camada de saída\n",
    "camadaSaida = SigmoidLayer(1) # 1 neurônio na camada de saída "
   ]
  },
  {
   "cell_type": "code",
   "execution_count": 6,
   "metadata": {},
   "outputs": [],
   "source": [
    "# definindo os parâmetros adicionais chamados 'bias'\n",
    "bias1 = BiasUnit() # para a camada oculta\n",
    "bias2 = BiasUnit() # para a camada de saída"
   ]
  },
  {
   "cell_type": "code",
   "execution_count": 8,
   "metadata": {},
   "outputs": [],
   "source": [
    "# adicionando a camada de entrada na rede neural\n",
    "rede.addModule(camadaEntrada)\n",
    "# adicionando a camada oculta na rede neural\n",
    "rede.addModule(camadaOculta)\n",
    "# adicionando a camada de saída na rede neural\n",
    "rede.addModule(camadaSaida)\n",
    "# adicionando o bias da camada oculta na rede neural\n",
    "rede.addModule(bias1)\n",
    "# adicionando o bias para a camada de saída na rede neural\n",
    "rede.addModule(bias2)"
   ]
  },
  {
   "cell_type": "code",
   "execution_count": 9,
   "metadata": {},
   "outputs": [],
   "source": [
    "# estabelecendo a conexâo entre a camada de entrada com a camada oculta\n",
    "entradaOculta = FullConnection(camadaEntrada, camadaOculta)\n",
    "# estabelecendo a conexão entre a camada oculta e a camada de saída\n",
    "ocultaSaida = FullConnection(camadaOculta, camadaSaida)\n",
    "# estabelecendo a conexão entre o bias e a camada oculta\n",
    "biasOculta = FullConnection(bias1, camadaOculta)\n",
    "# estabelecendo a conexxão entre o bias e a camada de saída\n",
    "biasSaida = FullConnection(bias2, camadaSaida)"
   ]
  },
  {
   "cell_type": "code",
   "execution_count": 10,
   "metadata": {},
   "outputs": [],
   "source": [
    "# solicitando que a rede escolha os pesos randomicamente na primeira execução\n",
    "rede.sortModules()"
   ]
  },
  {
   "cell_type": "code",
   "execution_count": 11,
   "metadata": {},
   "outputs": [
    {
     "name": "stdout",
     "output_type": "stream",
     "text": [
      "FeedForwardNetwork-10\n",
      "   Modules:\n",
      "    [<BiasUnit 'BiasUnit-6'>, <BiasUnit 'BiasUnit-7'>, <LinearLayer 'LinearLayer-5'>, <SigmoidLayer 'SigmoidLayer-8'>, <SigmoidLayer 'SigmoidLayer-9'>]\n",
      "   Connections:\n",
      "    []\n",
      "\n"
     ]
    }
   ],
   "source": [
    "# observando a configuração da rede neural criada\n",
    "print(rede)"
   ]
  },
  {
   "cell_type": "code",
   "execution_count": 12,
   "metadata": {},
   "outputs": [
    {
     "name": "stdout",
     "output_type": "stream",
     "text": [
      "[ 1.1760887   0.38495131 -0.33768632 -0.29005483  1.00110362 -0.05971014]\n"
     ]
    }
   ],
   "source": [
    "# visualizando os pesos dos neurônios na camada oculta\n",
    "print(entradaOculta.params) # pesos escolhidos randomicamente"
   ]
  },
  {
   "cell_type": "code",
   "execution_count": 13,
   "metadata": {},
   "outputs": [
    {
     "name": "stdout",
     "output_type": "stream",
     "text": [
      "[-0.07760963 -2.35455571 -0.22396427]\n"
     ]
    }
   ],
   "source": [
    "# visualizando os pesos dos neurônios na camada de saída\n",
    "print(ocultaSaida.params) # pesos escolhidos randomicamente"
   ]
  },
  {
   "cell_type": "code",
   "execution_count": 14,
   "metadata": {},
   "outputs": [
    {
     "name": "stdout",
     "output_type": "stream",
     "text": [
      "[-1.26651939 -1.64822819  0.5683673 ]\n"
     ]
    }
   ],
   "source": [
    "# visualizando os pesos dos neurônios para os bias da camada oculta\n",
    "print(biasOculta.params) # pesos escolhidos randomicamente"
   ]
  },
  {
   "cell_type": "code",
   "execution_count": 15,
   "metadata": {},
   "outputs": [
    {
     "name": "stdout",
     "output_type": "stream",
     "text": [
      "[-0.06274156]\n"
     ]
    }
   ],
   "source": [
    "# visualizando o peso do bias do neurônio da camada de saída\n",
    "print(biasSaida.params) # pesos escolhidos randomicamente"
   ]
  },
  {
   "cell_type": "markdown",
   "metadata": {},
   "source": [
    "### Alguma dúvida? Entre em contato comigo:"
   ]
  },
  {
   "cell_type": "markdown",
   "metadata": {},
   "source": [
    "- [Me envie um e-mail](mailto:alyssonmachado388@gmail.com);"
   ]
  }
 ],
 "metadata": {
  "kernelspec": {
   "display_name": "Python 3",
   "language": "python",
   "name": "python3"
  },
  "language_info": {
   "codemirror_mode": {
    "name": "ipython",
    "version": 3
   },
   "file_extension": ".py",
   "mimetype": "text/x-python",
   "name": "python",
   "nbconvert_exporter": "python",
   "pygments_lexer": "ipython3",
   "version": "3.7.4"
  }
 },
 "nbformat": 4,
 "nbformat_minor": 4
}
