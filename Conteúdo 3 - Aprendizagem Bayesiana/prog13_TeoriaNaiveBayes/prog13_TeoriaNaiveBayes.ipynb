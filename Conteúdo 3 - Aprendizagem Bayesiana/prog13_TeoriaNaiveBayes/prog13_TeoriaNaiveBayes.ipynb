{
 "cells": [
  {
   "cell_type": "markdown",
   "metadata": {},
   "source": [
    "# Teoria Sobre Naive Bayes\n",
    "### Aprendendo sobre o algoritmo Naive Bayes, um classificador probabilístico bastante utilizado em Machine Learning."
   ]
  },
  {
   "cell_type": "markdown",
   "metadata": {},
   "source": [
    "Esse algoritmo é baseado em uma abordagem probabilística chamada de **Teorema de Bayes**, esse que tem a seguinte interpretação:"
   ]
  },
  {
   "cell_type": "markdown",
   "metadata": {},
   "source": [
    "> \"*Na interpretação bayesiana (ou epistemológica), a probabilidade mede o grau de crença. O teorema de Bayes liga o grau de crença em uma posição antes e depois de se considerar as evidências. Por exemplo, acredita–se com 50% de certeza que uma moeda tem o dobro de probabilidade de cair cara. Se a moeda for jogada várias vezes, o grau de crença pode aumentar, diminuir ou se manter igual dependendo dos resultados observados (ver inferência bayesiana)*.\" (Wikipédia)"
   ]
  },
  {
   "cell_type": "markdown",
   "metadata": {},
   "source": [
    "Em outras palavras, vamos construir uma tabela probabilística a partir dos dados informados e, por meio dessa tabela, realizar a classificação."
   ]
  },
  {
   "cell_type": "markdown",
   "metadata": {},
   "source": [
    "|**Aplicações do Naive Bayes**|\n",
    "|:----------------------------|\n",
    "|1. Filtro de SPAM            |\n",
    "|2. Mineração de Emoção       |\n",
    "|3. Separação de Documentos   |"
   ]
  },
  {
   "cell_type": "markdown",
   "metadata": {},
   "source": [
    "Na pasta onde esse arquivo está localizado, há um documento excel de nome \"Exemplo de Naive Bayes.xlsx\" em que na primeira aba do arquivo há um banco de dados utilizado para classificar riscos de créditos em clientes e, na segunda aba, está a montagem probabilística com esses dados. Analise cuidadosamente como os dados probabilísticos foram montados, pois será um passo importante para entender como funciona o algoritmo naive bayes."
   ]
  },
  {
   "cell_type": "markdown",
   "metadata": {},
   "source": [
    "### Alguma dúvida? Entre em contato comigo:"
   ]
  },
  {
   "cell_type": "markdown",
   "metadata": {},
   "source": [
    "- [Me envie um e-mail](mailto:alyssonmachado388@gmail.com);"
   ]
  }
 ],
 "metadata": {
  "kernelspec": {
   "display_name": "Python 3",
   "language": "python",
   "name": "python3"
  },
  "language_info": {
   "codemirror_mode": {
    "name": "ipython",
    "version": 3
   },
   "file_extension": ".py",
   "mimetype": "text/x-python",
   "name": "python",
   "nbconvert_exporter": "python",
   "pygments_lexer": "ipython3",
   "version": "3.7.4"
  }
 },
 "nbformat": 4,
 "nbformat_minor": 4
}
