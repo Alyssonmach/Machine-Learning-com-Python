{
 "cells": [
  {
   "cell_type": "markdown",
   "metadata": {},
   "source": [
    "# Machine Learning com Python de A a Z (Grade do Curso)"
   ]
  },
  {
   "cell_type": "markdown",
   "metadata": {},
   "source": [
    "#### Introdução"
   ]
  },
  {
   "cell_type": "markdown",
   "metadata": {},
   "source": [
    "Veja os tópicos que vão compor este curso sobre Machine Learning com Python."
   ]
  },
  {
   "cell_type": "markdown",
   "metadata": {},
   "source": [
    "<table align = \"center\">\n",
    "    <tr>\n",
    "        <td colspan = \"2\"><b>Introdução</b><br/>Conceitos básicos sobre aprendizagem de máquina.</td>\n",
    "    </tr>\n",
    "    <tr>\n",
    "        <td><b>Parte 1 - Classificação</b><br/>Pré-processamento, Naive Bayes, Árvores de Decisão, Instâncias, Regressão Liguística, Máquinas de Vetores de Suporte, Redes Neurais Artificiais, Avaliação de Algoritmos, Combinação e Rejeição de Classificadores, base de dados bom ou mal pagador, base de dados para previsão da classe do salário.</td>\n",
    "        <td><b>Parte 2 - Regrssão</b><br/>Regressão Linear, Regressão Polinomial, Árvores de Decisão, Random Forest, Vetores de Suport, Redes Neurais Artificiais, base de dados plano de saúde, base de dados previsão de preço das casas.</td>\n",
    "    </tr>\n",
    "    <tr>\n",
    "        <td><b>Parte 3 - Regras de Associação</b><br/>Algoritmo Apriori, Algoritmo ECLAT, base de dados do mercado.</td>\n",
    "        <td><b>parte 4 - Agrupamento</b><br/>K-means, agrupamento hierárquico, DBSCAN, base de dados de gastos no cartão de crédito.</td>\n",
    "    </tr>\n",
    "    <tr>\n",
    "        <td colspan = \"2\"><b>Parte 5 - Tópicos Complementares</b></td>\n",
    "    </tr>\n",
    "</table>"
   ]
  },
  {
   "cell_type": "markdown",
   "metadata": {},
   "source": [
    "#### Pré-requisitos"
   ]
  },
  {
   "cell_type": "markdown",
   "metadata": {},
   "source": [
    "- Conhecimento sobre lógica de programação, principalmente estruturas condicionais de repetição.\n",
    "- Conhecimentos básicos em Python são desejáveis, embora seja possível acompanhar o curso sem saber essa linguagem com profundidade.\n",
    "- Conhecimentos básicos sobre instalação de softwares básicos.\n",
    "- Nível: todos os níveis."
   ]
  }
 ],
 "metadata": {
  "kernelspec": {
   "display_name": "Python 3",
   "language": "python",
   "name": "python3"
  },
  "language_info": {
   "codemirror_mode": {
    "name": "ipython",
    "version": 3
   },
   "file_extension": ".py",
   "mimetype": "text/x-python",
   "name": "python",
   "nbconvert_exporter": "python",
   "pygments_lexer": "ipython3",
   "version": "3.7.4"
  }
 },
 "nbformat": 4,
 "nbformat_minor": 4
}
