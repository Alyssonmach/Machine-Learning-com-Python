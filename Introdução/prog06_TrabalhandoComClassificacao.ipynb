{
 "cells": [
  {
   "cell_type": "markdown",
   "metadata": {},
   "source": [
    "# Trabalhando com Classificação"
   ]
  },
  {
   "cell_type": "markdown",
   "metadata": {},
   "source": [
    "Vamos aprender os tópicos que serão abordados no curso, usando o método de classificação."
   ]
  },
  {
   "cell_type": "markdown",
   "metadata": {},
   "source": [
    "- Pré-processamento e preparação de bases de dados para classificação;\n",
    "- Aprendizagem bayesiana(algoritmo Naive Bayes);\n",
    "- Aprendizagem por árvores de decisão(álgoritmo básico de árvores e Random Forest);\n",
    "- Aprendizagem por regras (algoritmo OneR);\n",
    "- Aprendizagem baseada em instâncias (algoritmo kNN);\n",
    "- Regressão Logística;\n",
    "- Máquina de vetores de suporte (SVM);\n",
    "- Redes neurais artificiais;\n",
    "- Avaliação de algoritmos de classificação;\n",
    "- Combinação e rejeição de classificadores;"
   ]
  }
 ],
 "metadata": {
  "kernelspec": {
   "display_name": "Python 3",
   "language": "python",
   "name": "python3"
  },
  "language_info": {
   "codemirror_mode": {
    "name": "ipython",
    "version": 3
   },
   "file_extension": ".py",
   "mimetype": "text/x-python",
   "name": "python",
   "nbconvert_exporter": "python",
   "pygments_lexer": "ipython3",
   "version": "3.7.4"
  }
 },
 "nbformat": 4,
 "nbformat_minor": 4
}
