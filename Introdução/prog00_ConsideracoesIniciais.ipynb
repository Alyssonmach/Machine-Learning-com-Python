{
 "cells": [
  {
   "cell_type": "markdown",
   "metadata": {},
   "source": [
    "# Considerações Iniciais Sobre Inteligência Artificial"
   ]
  },
  {
   "cell_type": "markdown",
   "metadata": {},
   "source": [
    "Antes de começarmos a falar sobre inteligência artificial, vamos primeiro olhar as definições dadas por dicionários para o termo **inteligência**: \n",
    ">\"*Habilidade para entender e solucionar adversidades ou problemas, adaptando-se a circunstâncias novas; Faculdade de conhecer, de compreender; intelecto: a inteligência distingue o homem do animal; Conhecimento profundo em; destreza, habilidade: ter inteligência para os negócios; cumprir com inteligência uma missão.*\""
   ]
  },
  {
   "cell_type": "markdown",
   "metadata": {},
   "source": [
    "Analisando as definições que o dicionário nos informa, fica claro perceber que não há uma definição totalmente exata que explique de forma concisa o termo inteligência. Por esse motivo, também não é possível dar uma definição universal para inteligência artificial. Entretanto, podemos tentar compreender de forma clara o seu objetivo e seus métodos."
   ]
  },
  {
   "cell_type": "markdown",
   "metadata": {},
   "source": [
    "Podemos pensar que **Inteligência Artificial (IA)** ou **_Artificial Intelligence (AI)_** tem como objetivo criar sistemas que pensam e agem como humanos ou pensam e agem logicamente. Dessa forma, se olharmos para os avanços da computação no geral, podemos perceber que os algoritmos usados em diversas tecnologias são bastante refinados. Conseguintemente, eles são detentores de uma qualidade de interação e análise muitas vezes tão natural, a ponto de parecer que há humanos trabalhando em saídas de dados ao invés de máquinas previamente definidas. Além disso, diversos sistemas tecnológicos possuem a capacidade de, através de uma série de dados e de treinamentos com base nesses dados, fazer predições ou até mesmo classificar elementos. Caso a mesma situação fosse definida na computação tradicional ou feito manualmente, não seria uma obra tão trivial assim. Com isso, fica fácil entender o motivo pelo qual a inteligência artificial é algo extremamente proveitoso e lucrativo para inúmeras empresas e startups, fazendo com que muita das vezes nos pareça que o estudo em IA é algo deveras recente, mas na verdade, para chegar no estágio atual, temos uma longa data de desenvolvimento, com um estopim durante a segunda guerra mundial."
   ]
  },
  {
   "cell_type": "markdown",
   "metadata": {},
   "source": [
    "### O Teste proposto por Alan Turing"
   ]
  },
  {
   "cell_type": "markdown",
   "metadata": {},
   "source": [
    "Como foi discutido antes, não é possível darmos uma definição totalmente clara sobre inteligência artificial. Sabendo disso, o estudioso **Alan Turing**, em plena segunda guerra mundial propôs um teste capaz de determinar se uma máquina demonstra ou não possuir inteligência, baseado nos seguintes argumentos:\n",
    "> **_Não é possível definir precisamente o que é inteligência e inteligência artificial, mas podemos assumir como verdade lógica que o ser humano é inteligente. Desse modo, se uma máquina for capaz de possuir um comportamento de modo que ela se torne indistinguível em comparação com um ser humano, tal máquina demonstra ser possuidora de um certo tipo de inteligência, e essa é artificial._**"
   ]
  },
  {
   "cell_type": "markdown",
   "metadata": {},
   "source": [
    "O teste se baseava em um ser humano fazer uma entrevista com \"algo\" ou \"alguém\" em uma espécie de chat de conversa e, após um determinado tempo, caso o entrevistador não conseguisse distinguir se quem ele está entrevistando é uma máquina ou não, então a hipótese do teste de turing estaria confirmada."
   ]
  },
  {
   "cell_type": "markdown",
   "metadata": {},
   "source": [
    "Entretanto, programar um computador para possuir as características necessárias das propostas pelo teste de Alan Turing não é uma tarefa tão fácil assim. Deveriamos ter uma máquina que fosse responsável por fazer o processamento de linguagem natural, ela deveria mostrar-se com conhecimentos através de uma base de dados extensa (fato esse que não é problema na atualidade, pois vivemos em uma era **big data**) e possuidora de raciocínio automatizado através de uma série de treinamentos, para que no fim esteja definindo um aprendizado de máquina, em que a mesma se adaptaria a novas circunstâncias e fosse além dos seus padrões."
   ]
  },
  {
   "cell_type": "markdown",
   "metadata": {},
   "source": [
    "### Fatos Históricos Relevantes para os Estudos em Inteligência Artificial"
   ]
  },
  {
   "cell_type": "markdown",
   "metadata": {},
   "source": [
    "- **(1943-1950)**: As pesquisas eram voltadas para o desenvolvimento de neurônios artificiais (**Redes Neurais**) para possibilitar o aprendizado de máquina (**Machine Learning**). Principais pesquisadores: **McCulloch & Pitts**."
   ]
  },
  {
   "cell_type": "markdown",
   "metadata": {},
   "source": [
    "- **(1951-1969)**: Foi a época em que as máquinas, antes vistas apenas como calculadoras, começaram a apresentar resultados em inteligência artifical. Como exemplo, tinham máquinas capazes de jogar xadrez, provar teoremas lógicos e mimetizar raciocínios humanos. Principais pesquisadores: **Shannon**, **Turing**, **Newell**, **Simon**, **Weizenbaum**, **Evans** e **Buchan**."
   ]
  },
  {
   "cell_type": "markdown",
   "metadata": {},
   "source": [
    "- **(1970-1980)**: os pesquisadores da área de IA se depararam com um imenso problema. Para avançar com os estudos, eles precisariam de mais armazenamento de dados e poder de processamento em suas máquinas, fato esse que levou inúmeros estudiosos ao desânimo em continuar investindo na área."
   ]
  },
  {
   "cell_type": "markdown",
   "metadata": {},
   "source": [
    "- **(1981-Atualidade)**: com os avanços de hardware, os estudos em inteligência artifical voltaram a ganhar os holofotes de inúmeros pesquisadores e, por possuimos inúmeras tecnologias enraizadas no nosso sistema de globalização, as aplicações em IAs começaram a ficar mais práticas e voltadas para áreais específicas, como indústria, robótica, startups, mercados financeiro, marketing, etc."
   ]
  },
  {
   "cell_type": "markdown",
   "metadata": {},
   "source": [
    "### Diferentes Formas de se Pensar em Inteligência Artificial"
   ]
  },
  {
   "cell_type": "markdown",
   "metadata": {},
   "source": [
    "- **Conexionista**: essa abordagem é baseada em causa e efeito, na qual a criação de um modelo preciso do cérebro humano seria capaz para uma máquina reproduzir o conhecimento humano. Entretanto, até o ano de 2020, os estudos na neurociência sobre a consciência, principal fator que nos faz pensar, ainda é bastante impreciso. Com isso, podemos perceber que ainda estamos em uma era embrionária sobre inteligência artifical, pois ainda há muito o que se aprender sobre ela."
   ]
  },
  {
   "cell_type": "markdown",
   "metadata": {},
   "source": [
    "- **Simbólica**: baseia-se na ideia de que um conjunto de estruturas simbólicas, como um cojunto de regras de manipulação através dos dados, são os meios necessários para se produzir inteligência em uma máquina."
   ]
  },
  {
   "cell_type": "markdown",
   "metadata": {},
   "source": [
    "- **Evolucionária**: baseada nas teorias do estudioso **Charles Darwin**, ela trata sobre a seleção natural, baseada em eventos aleatórios, para fazer uma máquina aprender sobre algo. É uma abordagem de otimização, também conhecida com **Algoritmos Genéticos**."
   ]
  },
  {
   "cell_type": "markdown",
   "metadata": {},
   "source": [
    "Entretanto, é evidente que combinar cada uma das abordagens pode nos oferecer um sistema poderoso em aprendizagem de máquina. Por fim, é evidente que a inteligência artifical cobre uma área ampla de conhecimentos e, para cada uma delas, há um tipo diferente de abordagem satisfatória e de alta complexidade."
   ]
  },
  {
   "cell_type": "markdown",
   "metadata": {},
   "source": [
    "|**Referências**|\n",
    "|:------------------------:|\n",
    "|*Lago, S. P. Introdução a Inteligência Artificial, USP, 2020.*|\n",
    "|*Dicio - Dicionário Online de Português, Empresa 7GRAUS, 2020.*|\n",
    "|*Granatyr, J. IA Expert. Disponível em: https://iaexpert.com.br/. Acesso em 19 de Abril de 2020.*|"
   ]
  }
 ],
 "metadata": {
  "kernelspec": {
   "display_name": "Python 3",
   "language": "python",
   "name": "python3"
  },
  "language_info": {
   "codemirror_mode": {
    "name": "ipython",
    "version": 3
   },
   "file_extension": ".py",
   "mimetype": "text/x-python",
   "name": "python",
   "nbconvert_exporter": "python",
   "pygments_lexer": "ipython3",
   "version": "3.7.4"
  }
 },
 "nbformat": 4,
 "nbformat_minor": 4
}
