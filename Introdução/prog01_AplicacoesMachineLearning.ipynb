{
 "cells": [
  {
   "cell_type": "markdown",
   "metadata": {},
   "source": [
    "# Aplicações de Machine Learning"
   ]
  },
  {
   "cell_type": "markdown",
   "metadata": {},
   "source": [
    "Aprendizado de Máquina ou Machine Learning tem como objetivo criar sistemas com caracteristicas de raciocínio humanoides. Por isso, se pensarmos pela vertente de que a computação é um instrumento de auxílio no trabalho humano, fica fácil compreender a importante função desse mesmo instrumento com traços de raciocínio humano vinculados a ele. Dado isso, há diversos exemplos de IAs que fazem parte da nossa vida ou pelo menos fizeram e, com elas, o poder tecnológico que temos disponível em nossas mãos sofreu um crescimento exponencial nesses últimos anos, graças ao nosso **big data** e a capacidade absurda de processamento e armazenamento de dados por meio de hardwares potentes."
   ]
  },
  {
   "cell_type": "markdown",
   "metadata": {},
   "source": [
    "- Veja abaixo uma lista sobre as principais aplicações de machine learning no mundo moderno."
   ]
  },
  {
   "cell_type": "markdown",
   "metadata": {},
   "source": [
    "> 1. Capturas de imagens faciais;\n",
    "> 2. Kinect do xbox;\n",
    "> 3. Algoritmo de inteligência artificial nos games para criar oponentes desafiadores;\n",
    "> 4. Carros Autônomos;\n",
    "> 5. Desenvolvimento de Robôs para diversas finalidades;\n",
    "> 6. Inteligência Artificial na área de saúde;\n",
    "> 7. Criação de sistemas de recomendações baseadas no gosto do usuário;\n",
    "> 8. Auxílio de vendas, coletando dados sobre gostos do usuário;\n",
    "> 9. Aplicações desenvolvidas pela NASA para exploração espacial;\n",
    "> 10. Detecção de pesquisa por voz ou digitação por voz;\n",
    "> 11. Óculos de realidade aumentada;\n",
    "> 12. Algoritmo de pesquisa do Google;\n",
    "> 13. Aprendizado de características humanoides, como a criatividade e expressão artística;\n",
    "> 14. Ajuda a previnir malwares;\n",
    "> 15. Ajuda na redução de roubo em eletricidade no Brasil;\n",
    "> 16. Processamento de Imagens;\n",
    "> 17. Detecta doenças em momentos iniciais em que poucos médicos poderiam fazer esse diagnóstico;\n",
    "> 18. Aumento de produtividade, pois tarefas extensas podem ser feitas em segundos com inteligência artificial;\n",
    "> 19. Serviços de atendimento ao cliente;"
   ]
  },
  {
   "cell_type": "markdown",
   "metadata": {},
   "source": [
    "# Vale a Pena Aprender Machine Learning na atualidade?"
   ]
  },
  {
   "cell_type": "markdown",
   "metadata": {},
   "source": [
    "A origem dos estudos em inteligência artificial é antiga. Entretanto, na atualidade, vemos uma explosão de empresas que investem no desenvolvimento de IAs em suas tecnologias dado que, agora, os estudos estão mais aplicáveis em diversas áreas da nossa vida."
   ]
  },
  {
   "cell_type": "markdown",
   "metadata": {},
   "source": [
    "Outro fator que ajuda ao grande incentivo em uso de IAs nas indústrias de tecnologia é o barateamento e o desenvolvimento de tecnologias mais refinadas e de baixo custo. Além disso, vivemos em uma era em que o crescimento em armazenamento de dados está em crescimento exponencial e, através da manipulação desses dados, podemos desenvolver IAs com mais segurança e facilidade."
   ]
  },
  {
   "cell_type": "markdown",
   "metadata": {},
   "source": [
    "Se pensarmos em como o uso da internet \"explodiu\" a partir dos anos 2000, com a popularização dos computadores pessoais, e até que estágio conseguimos avançar desde então, podemos fazer uma predição de que o cenário no desenvolvimento de novas tecnologia é promissor para as próximas decádas. Com isso, aplicações na área de inteligência artificial são peças chaves desse tabuleiro da globalização. Como diz **Yuval Harari** em seu livro \"*Homo Deus: uma breve história do amanhã*\" o poder estará nas mãos de quem detém profundos conhecimentos em manipular os fatores que moldam o mundo modernizado. Se pensarmos essa ideia consoante com o livro de **Henry Timms** e **Jeremy Heimans** chamado de \"*O Novo Poder*\", em que eles expressam o poder do trabalho colaborativo e com um canal de Feedback ativo como superior ao poder hierarquizado e concentrado nas mãos de poucas pessoas (aqui vale um paralelo sobre as inúmeras contribuições de códigos **Open Source**, tais quais fazem parte da nova filosofia da empresa Microsoft, essa que se adequou ao novo poder citado acima), é perceptível que se aprimorar no mercado tech como colaborador aberto a se adequar em trabalhos de equipes é uma aposta segura e necessária. Portanto, podemos entender que vale a pena sim aprender Machine Learning na atualidade."
   ]
  }
 ],
 "metadata": {
  "kernelspec": {
   "display_name": "Python 3",
   "language": "python",
   "name": "python3"
  },
  "language_info": {
   "codemirror_mode": {
    "name": "ipython",
    "version": 3
   },
   "file_extension": ".py",
   "mimetype": "text/x-python",
   "name": "python",
   "nbconvert_exporter": "python",
   "pygments_lexer": "ipython3",
   "version": "3.7.4"
  }
 },
 "nbformat": 4,
 "nbformat_minor": 4
}
