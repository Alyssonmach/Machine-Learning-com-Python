{
 "cells": [
  {
   "cell_type": "markdown",
   "metadata": {},
   "source": [
    "# Random Forest\n",
    "### O random forest é uma das melhorias feitas no algoritmo  \"árvore de decisão\", essa que ao invés de usar só um fluxograma, usa vários."
   ]
  },
  {
   "cell_type": "markdown",
   "metadata": {},
   "source": [
    "Nesse arquivo, será estudado o **Random Forest**, uma das melhorias feitas no algoritmo de IA pelo método de **árvores de decisão**. Com ela, esse método voltou a ser usado com mais frequência na atualidade, pois com a chegada das redes neurais, as árvores de decisão ficaram defasadas. Abaixo, conheça a ideia dessa melhoria."
   ]
  },
  {
   "cell_type": "markdown",
   "metadata": {},
   "source": [
    "#### Random Forest"
   ]
  },
  {
   "cell_type": "markdown",
   "metadata": {},
   "source": [
    "O Random Forest (ou floresta randômica) é uma melhoria na forma de fazer predição pelo algoritmo de IA baseado em árvores de decisões. A ideia inovadora é utilizar não só um fluxograma para determinar atributos meta classe, mas sim vários, podendo ser usados tanto em classificações quanto em regressões lineares. Essa combinação de decisões utilizando diversas árvores é chamada de **Ensemble Learning** (ou aprendizado em conjunto)."
   ]
  },
  {
   "cell_type": "markdown",
   "metadata": {},
   "source": [
    "![Exemplo de Random Forest](random-forest.png)"
   ]
  },
  {
   "cell_type": "markdown",
   "metadata": {},
   "source": [
    "A capacidade de vários algoritmos juntos torna o resultado de análise por IA mais fiél. Na classificação é usado os resultados preditivos apontados pela maioria das árvores e, na regressão linear, é utilizado a média dos dados."
   ]
  },
  {
   "cell_type": "markdown",
   "metadata": {},
   "source": [
    "Entretanto, quanto mais árvores houver, mais chances de ocorrer um problema conhecido por **overfitting**, em que o algoritmo pode se adequar intensamente a base de dados a ponto de ficar totalmente instável caso o sistema sofra uma pequena modificação."
   ]
  },
  {
   "cell_type": "markdown",
   "metadata": {},
   "source": [
    "Cada árvore vai utilizar uma quantidade **k** de atributos da base de dados e, para cada árvore em questão, a distribuição desse dados será randômica, de modo a preservar a independência das árvores em sua capacidade preditiva. Assim, é possível classificar a maioria dos resultados de cada árvore que apontam para uma mesma saída de dados como corretos ou **puros** e a minoria como incorretos ou **impuros**. Essa estratégia de puro/impuro é usada no método de cálculo **Impureza de Gini**, essa que também leva em consideração a entropia (o grau de desordem na distribuição de cada campo de dado)."
   ]
  },
  {
   "cell_type": "markdown",
   "metadata": {},
   "source": [
    "### Alguma dúvida? Entre em contato comigo:"
   ]
  },
  {
   "cell_type": "markdown",
   "metadata": {},
   "source": [
    "- [Me envie um e-mail](mailto:alysson.barbosa@ee.ufcg.edu.br)"
   ]
  }
 ],
 "metadata": {
  "kernelspec": {
   "display_name": "Python 3",
   "language": "python",
   "name": "python3"
  },
  "language_info": {
   "codemirror_mode": {
    "name": "ipython",
    "version": 3
   },
   "file_extension": ".py",
   "mimetype": "text/x-python",
   "name": "python",
   "nbconvert_exporter": "python",
   "pygments_lexer": "ipython3",
   "version": "3.7.4"
  }
 },
 "nbformat": 4,
 "nbformat_minor": 4
}
