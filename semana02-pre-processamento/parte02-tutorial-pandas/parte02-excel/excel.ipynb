{
 "cells": [
  {
   "cell_type": "markdown",
   "metadata": {},
   "source": [
    "# Lidando com Arquivos XLSX do Excel"
   ]
  },
  {
   "cell_type": "markdown",
   "metadata": {},
   "source": [
    "Foi visto no programa anterior algumas formas de tratar dados em arquivos com extensão **.csv**. Nesse arquivo, vamos trilhar os mesmos passos, só que dessa vez, usando arquivos do tipo **.xlsx**."
   ]
  },
  {
   "cell_type": "markdown",
   "metadata": {},
   "source": [
    "> *O arquivo do Microsoft Excel que possui a extensão .XLSX ou .XLS é uma planilha.*"
   ]
  },
  {
   "cell_type": "code",
   "execution_count": 1,
   "metadata": {},
   "outputs": [],
   "source": [
    "# importando o pacote pandas do python\n",
    "import pandas as pd"
   ]
  },
  {
   "cell_type": "code",
   "execution_count": 2,
   "metadata": {},
   "outputs": [],
   "source": [
    "# abrindo o dataset em um objeto\n",
    "dataframe = pd.read_excel(\"Enderecos.xlsx\")"
   ]
  },
  {
   "cell_type": "code",
   "execution_count": 3,
   "metadata": {},
   "outputs": [
    {
     "data": {
      "text/html": [
       "<div>\n",
       "<style scoped>\n",
       "    .dataframe tbody tr th:only-of-type {\n",
       "        vertical-align: middle;\n",
       "    }\n",
       "\n",
       "    .dataframe tbody tr th {\n",
       "        vertical-align: top;\n",
       "    }\n",
       "\n",
       "    .dataframe thead th {\n",
       "        text-align: right;\n",
       "    }\n",
       "</style>\n",
       "<table border=\"1\" class=\"dataframe\">\n",
       "  <thead>\n",
       "    <tr style=\"text-align: right;\">\n",
       "      <th></th>\n",
       "      <th>EnderecoID</th>\n",
       "      <th>EnderecoPrimario</th>\n",
       "      <th>EnderecoSecundario</th>\n",
       "      <th>Cidade</th>\n",
       "      <th>ProvinciaID</th>\n",
       "      <th>CodigoPostal</th>\n",
       "      <th>LocalizacaoEspacial</th>\n",
       "      <th>GuiaDeLinha</th>\n",
       "      <th>DataModificada</th>\n",
       "    </tr>\n",
       "  </thead>\n",
       "  <tbody>\n",
       "    <tr>\n",
       "      <th>0</th>\n",
       "      <td>1</td>\n",
       "      <td>1970 Napa Ct.</td>\n",
       "      <td>NaN</td>\n",
       "      <td>Bothell</td>\n",
       "      <td>79</td>\n",
       "      <td>98011</td>\n",
       "      <td>0xE6100000010CAE8BFC28BCE4474067A89189898A5EC0</td>\n",
       "      <td>9AADCB0D-36CF-483F-84D8-585C2D4EC6E9</td>\n",
       "      <td>2007-12-04 00:00:00.000</td>\n",
       "    </tr>\n",
       "    <tr>\n",
       "      <th>1</th>\n",
       "      <td>2</td>\n",
       "      <td>9833 Mt. Dias Blv.</td>\n",
       "      <td>NaN</td>\n",
       "      <td>Bothell</td>\n",
       "      <td>79</td>\n",
       "      <td>98011</td>\n",
       "      <td>0xE6100000010CD6FA851AE6D74740BC262A0A03905EC0</td>\n",
       "      <td>32A54B9E-E034-4BFB-B573-A71CDE60D8C0</td>\n",
       "      <td>2008-11-30 00:00:00.000</td>\n",
       "    </tr>\n",
       "    <tr>\n",
       "      <th>2</th>\n",
       "      <td>3</td>\n",
       "      <td>7484 Roundtree Drive</td>\n",
       "      <td>NaN</td>\n",
       "      <td>Bothell</td>\n",
       "      <td>79</td>\n",
       "      <td>98011</td>\n",
       "      <td>0xE6100000010C18E304C4ADE14740DA930C7893915EC0</td>\n",
       "      <td>4C506923-6D1B-452C-A07C-BAA6F5B142A4</td>\n",
       "      <td>2013-03-07 00:00:00.000</td>\n",
       "    </tr>\n",
       "    <tr>\n",
       "      <th>3</th>\n",
       "      <td>4</td>\n",
       "      <td>9539 Glenside Dr</td>\n",
       "      <td>NaN</td>\n",
       "      <td>Bothell</td>\n",
       "      <td>79</td>\n",
       "      <td>98011</td>\n",
       "      <td>0xE6100000010C813A0D5F9FDE474011A5C28A7C955EC0</td>\n",
       "      <td>E5946C78-4BCC-477F-9FA1-CC09DE16A880</td>\n",
       "      <td>2009-02-03 00:00:00.000</td>\n",
       "    </tr>\n",
       "    <tr>\n",
       "      <th>4</th>\n",
       "      <td>5</td>\n",
       "      <td>1226 Shoe St.</td>\n",
       "      <td>NaN</td>\n",
       "      <td>Bothell</td>\n",
       "      <td>79</td>\n",
       "      <td>98011</td>\n",
       "      <td>0xE6100000010C61C64D8ABBD94740C460EA3FD8855EC0</td>\n",
       "      <td>FBAFF937-4A97-4AF0-81FD-B849900E9BB0</td>\n",
       "      <td>2008-12-19 00:00:00.000</td>\n",
       "    </tr>\n",
       "  </tbody>\n",
       "</table>\n",
       "</div>"
      ],
      "text/plain": [
       "   EnderecoID      EnderecoPrimario EnderecoSecundario   Cidade  ProvinciaID  \\\n",
       "0           1         1970 Napa Ct.                NaN  Bothell           79   \n",
       "1           2    9833 Mt. Dias Blv.                NaN  Bothell           79   \n",
       "2           3  7484 Roundtree Drive                NaN  Bothell           79   \n",
       "3           4      9539 Glenside Dr                NaN  Bothell           79   \n",
       "4           5         1226 Shoe St.                NaN  Bothell           79   \n",
       "\n",
       "  CodigoPostal                             LocalizacaoEspacial  \\\n",
       "0        98011  0xE6100000010CAE8BFC28BCE4474067A89189898A5EC0   \n",
       "1        98011  0xE6100000010CD6FA851AE6D74740BC262A0A03905EC0   \n",
       "2        98011  0xE6100000010C18E304C4ADE14740DA930C7893915EC0   \n",
       "3        98011  0xE6100000010C813A0D5F9FDE474011A5C28A7C955EC0   \n",
       "4        98011  0xE6100000010C61C64D8ABBD94740C460EA3FD8855EC0   \n",
       "\n",
       "                            GuiaDeLinha           DataModificada  \n",
       "0  9AADCB0D-36CF-483F-84D8-585C2D4EC6E9  2007-12-04 00:00:00.000  \n",
       "1  32A54B9E-E034-4BFB-B573-A71CDE60D8C0  2008-11-30 00:00:00.000  \n",
       "2  4C506923-6D1B-452C-A07C-BAA6F5B142A4  2013-03-07 00:00:00.000  \n",
       "3  E5946C78-4BCC-477F-9FA1-CC09DE16A880  2009-02-03 00:00:00.000  \n",
       "4  FBAFF937-4A97-4AF0-81FD-B849900E9BB0  2008-12-19 00:00:00.000  "
      ]
     },
     "execution_count": 3,
     "metadata": {},
     "output_type": "execute_result"
    }
   ],
   "source": [
    "# visualizando os primeiros exemplos treinaveis do dataset\n",
    "dataframe.head(5)"
   ]
  },
  {
   "cell_type": "code",
   "execution_count": 4,
   "metadata": {},
   "outputs": [
    {
     "data": {
      "text/plain": [
       "(1000, 9)"
      ]
     },
     "execution_count": 4,
     "metadata": {},
     "output_type": "execute_result"
    }
   ],
   "source": [
    "# dimensao dos dados\n",
    "dataframe.shape"
   ]
  },
  {
   "cell_type": "markdown",
   "metadata": {},
   "source": [
    "Como estamos trabalhando com arquivos no excel, podemos ter diferentes abas nele. Por padrão, é aberta somente a primeria aba, essa que é representada pelo inteiro == 0. No documento anexado, há duas abas disponíveis, veja como você pode adicionar os dados da segunda aba a variável \"dataframe\"."
   ]
  },
  {
   "cell_type": "code",
   "execution_count": 5,
   "metadata": {},
   "outputs": [],
   "source": [
    "# selecionando os dados da segunda aba da planilha \n",
    "dataframe = pd.read_excel(\"Enderecos.xlsx\", sheet_name = 1)"
   ]
  },
  {
   "cell_type": "markdown",
   "metadata": {},
   "source": [
    "Observe que agora os dados são relativos a segunda aba."
   ]
  },
  {
   "cell_type": "code",
   "execution_count": 6,
   "metadata": {},
   "outputs": [
    {
     "data": {
      "text/html": [
       "<div>\n",
       "<style scoped>\n",
       "    .dataframe tbody tr th:only-of-type {\n",
       "        vertical-align: middle;\n",
       "    }\n",
       "\n",
       "    .dataframe tbody tr th {\n",
       "        vertical-align: top;\n",
       "    }\n",
       "\n",
       "    .dataframe thead th {\n",
       "        text-align: right;\n",
       "    }\n",
       "</style>\n",
       "<table border=\"1\" class=\"dataframe\">\n",
       "  <thead>\n",
       "    <tr style=\"text-align: right;\">\n",
       "      <th></th>\n",
       "      <th>EnderecoID</th>\n",
       "      <th>EnderecoPrimario</th>\n",
       "      <th>EnderecoSecundario</th>\n",
       "      <th>Cidade</th>\n",
       "      <th>provinciaID</th>\n",
       "      <th>CodigoPostal</th>\n",
       "      <th>LocalizacaoEspacial</th>\n",
       "      <th>GuiaDeLinha</th>\n",
       "      <th>DataModificada</th>\n",
       "    </tr>\n",
       "  </thead>\n",
       "  <tbody>\n",
       "    <tr>\n",
       "      <th>0</th>\n",
       "      <td>1</td>\n",
       "      <td>1970 Napa Ct.</td>\n",
       "      <td>NaN</td>\n",
       "      <td>Bothell</td>\n",
       "      <td>79</td>\n",
       "      <td>98011</td>\n",
       "      <td>0xE6100000010CAE8BFC28BCE4474067A89189898A5EC0</td>\n",
       "      <td>9AADCB0D-36CF-483F-84D8-585C2D4EC6E9</td>\n",
       "      <td>2007-12-04 00:00:00.000</td>\n",
       "    </tr>\n",
       "    <tr>\n",
       "      <th>1</th>\n",
       "      <td>2</td>\n",
       "      <td>9833 Mt. Dias Blv.</td>\n",
       "      <td>NaN</td>\n",
       "      <td>Bothell</td>\n",
       "      <td>79</td>\n",
       "      <td>98011</td>\n",
       "      <td>0xE6100000010CD6FA851AE6D74740BC262A0A03905EC0</td>\n",
       "      <td>32A54B9E-E034-4BFB-B573-A71CDE60D8C0</td>\n",
       "      <td>2008-11-30 00:00:00.000</td>\n",
       "    </tr>\n",
       "  </tbody>\n",
       "</table>\n",
       "</div>"
      ],
      "text/plain": [
       "   EnderecoID    EnderecoPrimario  EnderecoSecundario   Cidade  provinciaID  \\\n",
       "0           1       1970 Napa Ct.                 NaN  Bothell           79   \n",
       "1           2  9833 Mt. Dias Blv.                 NaN  Bothell           79   \n",
       "\n",
       "   CodigoPostal                             LocalizacaoEspacial  \\\n",
       "0         98011  0xE6100000010CAE8BFC28BCE4474067A89189898A5EC0   \n",
       "1         98011  0xE6100000010CD6FA851AE6D74740BC262A0A03905EC0   \n",
       "\n",
       "                            GuiaDeLinha           DataModificada  \n",
       "0  9AADCB0D-36CF-483F-84D8-585C2D4EC6E9  2007-12-04 00:00:00.000  \n",
       "1  32A54B9E-E034-4BFB-B573-A71CDE60D8C0  2008-11-30 00:00:00.000  "
      ]
     },
     "execution_count": 6,
     "metadata": {},
     "output_type": "execute_result"
    }
   ],
   "source": [
    "# visualizando os primeiros exemplos treinaveis do dataset\n",
    "dataframe.head()"
   ]
  },
  {
   "cell_type": "markdown",
   "metadata": {},
   "source": [
    "Observe que os dados são diferentes, podemos tirar essa prova usando olhando a quantidade de linhas e colunas armazenadas nele."
   ]
  },
  {
   "cell_type": "code",
   "execution_count": 7,
   "metadata": {},
   "outputs": [
    {
     "data": {
      "text/plain": [
       "(2, 9)"
      ]
     },
     "execution_count": 7,
     "metadata": {},
     "output_type": "execute_result"
    }
   ],
   "source": [
    "# dimensao dos dados\n",
    "dataframe.shape"
   ]
  },
  {
   "cell_type": "markdown",
   "metadata": {},
   "source": [
    "A mesma seleção pode ser feita se, ao invés de usar como atributo no método \"**sheet_name**\" um inteiro, usasse uma string com o exato nome da aba."
   ]
  },
  {
   "cell_type": "code",
   "execution_count": 8,
   "metadata": {},
   "outputs": [],
   "source": [
    "# selecionando os dados da primeira aba da planilha\n",
    "dataframe = pd.read_excel(\"Enderecos.xlsx\", sheet_name = \"Aba1\")"
   ]
  },
  {
   "cell_type": "code",
   "execution_count": 9,
   "metadata": {},
   "outputs": [
    {
     "data": {
      "text/html": [
       "<div>\n",
       "<style scoped>\n",
       "    .dataframe tbody tr th:only-of-type {\n",
       "        vertical-align: middle;\n",
       "    }\n",
       "\n",
       "    .dataframe tbody tr th {\n",
       "        vertical-align: top;\n",
       "    }\n",
       "\n",
       "    .dataframe thead th {\n",
       "        text-align: right;\n",
       "    }\n",
       "</style>\n",
       "<table border=\"1\" class=\"dataframe\">\n",
       "  <thead>\n",
       "    <tr style=\"text-align: right;\">\n",
       "      <th></th>\n",
       "      <th>EnderecoID</th>\n",
       "      <th>EnderecoPrimario</th>\n",
       "      <th>EnderecoSecundario</th>\n",
       "      <th>Cidade</th>\n",
       "      <th>ProvinciaID</th>\n",
       "      <th>CodigoPostal</th>\n",
       "      <th>LocalizacaoEspacial</th>\n",
       "      <th>GuiaDeLinha</th>\n",
       "      <th>DataModificada</th>\n",
       "    </tr>\n",
       "  </thead>\n",
       "  <tbody>\n",
       "    <tr>\n",
       "      <th>0</th>\n",
       "      <td>1</td>\n",
       "      <td>1970 Napa Ct.</td>\n",
       "      <td>NaN</td>\n",
       "      <td>Bothell</td>\n",
       "      <td>79</td>\n",
       "      <td>98011</td>\n",
       "      <td>0xE6100000010CAE8BFC28BCE4474067A89189898A5EC0</td>\n",
       "      <td>9AADCB0D-36CF-483F-84D8-585C2D4EC6E9</td>\n",
       "      <td>2007-12-04 00:00:00.000</td>\n",
       "    </tr>\n",
       "    <tr>\n",
       "      <th>1</th>\n",
       "      <td>2</td>\n",
       "      <td>9833 Mt. Dias Blv.</td>\n",
       "      <td>NaN</td>\n",
       "      <td>Bothell</td>\n",
       "      <td>79</td>\n",
       "      <td>98011</td>\n",
       "      <td>0xE6100000010CD6FA851AE6D74740BC262A0A03905EC0</td>\n",
       "      <td>32A54B9E-E034-4BFB-B573-A71CDE60D8C0</td>\n",
       "      <td>2008-11-30 00:00:00.000</td>\n",
       "    </tr>\n",
       "    <tr>\n",
       "      <th>2</th>\n",
       "      <td>3</td>\n",
       "      <td>7484 Roundtree Drive</td>\n",
       "      <td>NaN</td>\n",
       "      <td>Bothell</td>\n",
       "      <td>79</td>\n",
       "      <td>98011</td>\n",
       "      <td>0xE6100000010C18E304C4ADE14740DA930C7893915EC0</td>\n",
       "      <td>4C506923-6D1B-452C-A07C-BAA6F5B142A4</td>\n",
       "      <td>2013-03-07 00:00:00.000</td>\n",
       "    </tr>\n",
       "    <tr>\n",
       "      <th>3</th>\n",
       "      <td>4</td>\n",
       "      <td>9539 Glenside Dr</td>\n",
       "      <td>NaN</td>\n",
       "      <td>Bothell</td>\n",
       "      <td>79</td>\n",
       "      <td>98011</td>\n",
       "      <td>0xE6100000010C813A0D5F9FDE474011A5C28A7C955EC0</td>\n",
       "      <td>E5946C78-4BCC-477F-9FA1-CC09DE16A880</td>\n",
       "      <td>2009-02-03 00:00:00.000</td>\n",
       "    </tr>\n",
       "    <tr>\n",
       "      <th>4</th>\n",
       "      <td>5</td>\n",
       "      <td>1226 Shoe St.</td>\n",
       "      <td>NaN</td>\n",
       "      <td>Bothell</td>\n",
       "      <td>79</td>\n",
       "      <td>98011</td>\n",
       "      <td>0xE6100000010C61C64D8ABBD94740C460EA3FD8855EC0</td>\n",
       "      <td>FBAFF937-4A97-4AF0-81FD-B849900E9BB0</td>\n",
       "      <td>2008-12-19 00:00:00.000</td>\n",
       "    </tr>\n",
       "  </tbody>\n",
       "</table>\n",
       "</div>"
      ],
      "text/plain": [
       "   EnderecoID      EnderecoPrimario EnderecoSecundario   Cidade  ProvinciaID  \\\n",
       "0           1         1970 Napa Ct.                NaN  Bothell           79   \n",
       "1           2    9833 Mt. Dias Blv.                NaN  Bothell           79   \n",
       "2           3  7484 Roundtree Drive                NaN  Bothell           79   \n",
       "3           4      9539 Glenside Dr                NaN  Bothell           79   \n",
       "4           5         1226 Shoe St.                NaN  Bothell           79   \n",
       "\n",
       "  CodigoPostal                             LocalizacaoEspacial  \\\n",
       "0        98011  0xE6100000010CAE8BFC28BCE4474067A89189898A5EC0   \n",
       "1        98011  0xE6100000010CD6FA851AE6D74740BC262A0A03905EC0   \n",
       "2        98011  0xE6100000010C18E304C4ADE14740DA930C7893915EC0   \n",
       "3        98011  0xE6100000010C813A0D5F9FDE474011A5C28A7C955EC0   \n",
       "4        98011  0xE6100000010C61C64D8ABBD94740C460EA3FD8855EC0   \n",
       "\n",
       "                            GuiaDeLinha           DataModificada  \n",
       "0  9AADCB0D-36CF-483F-84D8-585C2D4EC6E9  2007-12-04 00:00:00.000  \n",
       "1  32A54B9E-E034-4BFB-B573-A71CDE60D8C0  2008-11-30 00:00:00.000  \n",
       "2  4C506923-6D1B-452C-A07C-BAA6F5B142A4  2013-03-07 00:00:00.000  \n",
       "3  E5946C78-4BCC-477F-9FA1-CC09DE16A880  2009-02-03 00:00:00.000  \n",
       "4  FBAFF937-4A97-4AF0-81FD-B849900E9BB0  2008-12-19 00:00:00.000  "
      ]
     },
     "execution_count": 9,
     "metadata": {},
     "output_type": "execute_result"
    }
   ],
   "source": [
    "# visualizando os primeiros exemplos treinaveis do dataset\n",
    "dataframe.head()"
   ]
  },
  {
   "cell_type": "markdown",
   "metadata": {},
   "source": [
    "E assim a primeira aba foi escolhinda. Vale a pena ressaltar que poderiamos obter o mesmo resultado usando \"sheet_name\" = 0."
   ]
  },
  {
   "cell_type": "markdown",
   "metadata": {},
   "source": [
    "Vamos selecionar a segunda aba usando uma entrada em \"sheet_name\" no formato string."
   ]
  },
  {
   "cell_type": "code",
   "execution_count": 10,
   "metadata": {},
   "outputs": [],
   "source": [
    "# abrindo os dados da segunda aba da planilha\n",
    "dataframe = pd.read_excel(\"Enderecos.xlsx\", sheet_name = \"Aba2\")"
   ]
  },
  {
   "cell_type": "code",
   "execution_count": 11,
   "metadata": {},
   "outputs": [
    {
     "data": {
      "text/html": [
       "<div>\n",
       "<style scoped>\n",
       "    .dataframe tbody tr th:only-of-type {\n",
       "        vertical-align: middle;\n",
       "    }\n",
       "\n",
       "    .dataframe tbody tr th {\n",
       "        vertical-align: top;\n",
       "    }\n",
       "\n",
       "    .dataframe thead th {\n",
       "        text-align: right;\n",
       "    }\n",
       "</style>\n",
       "<table border=\"1\" class=\"dataframe\">\n",
       "  <thead>\n",
       "    <tr style=\"text-align: right;\">\n",
       "      <th></th>\n",
       "      <th>EnderecoID</th>\n",
       "      <th>EnderecoPrimario</th>\n",
       "      <th>EnderecoSecundario</th>\n",
       "      <th>Cidade</th>\n",
       "      <th>provinciaID</th>\n",
       "      <th>CodigoPostal</th>\n",
       "      <th>LocalizacaoEspacial</th>\n",
       "      <th>GuiaDeLinha</th>\n",
       "      <th>DataModificada</th>\n",
       "    </tr>\n",
       "  </thead>\n",
       "  <tbody>\n",
       "    <tr>\n",
       "      <th>0</th>\n",
       "      <td>1</td>\n",
       "      <td>1970 Napa Ct.</td>\n",
       "      <td>NaN</td>\n",
       "      <td>Bothell</td>\n",
       "      <td>79</td>\n",
       "      <td>98011</td>\n",
       "      <td>0xE6100000010CAE8BFC28BCE4474067A89189898A5EC0</td>\n",
       "      <td>9AADCB0D-36CF-483F-84D8-585C2D4EC6E9</td>\n",
       "      <td>2007-12-04 00:00:00.000</td>\n",
       "    </tr>\n",
       "    <tr>\n",
       "      <th>1</th>\n",
       "      <td>2</td>\n",
       "      <td>9833 Mt. Dias Blv.</td>\n",
       "      <td>NaN</td>\n",
       "      <td>Bothell</td>\n",
       "      <td>79</td>\n",
       "      <td>98011</td>\n",
       "      <td>0xE6100000010CD6FA851AE6D74740BC262A0A03905EC0</td>\n",
       "      <td>32A54B9E-E034-4BFB-B573-A71CDE60D8C0</td>\n",
       "      <td>2008-11-30 00:00:00.000</td>\n",
       "    </tr>\n",
       "  </tbody>\n",
       "</table>\n",
       "</div>"
      ],
      "text/plain": [
       "   EnderecoID    EnderecoPrimario  EnderecoSecundario   Cidade  provinciaID  \\\n",
       "0           1       1970 Napa Ct.                 NaN  Bothell           79   \n",
       "1           2  9833 Mt. Dias Blv.                 NaN  Bothell           79   \n",
       "\n",
       "   CodigoPostal                             LocalizacaoEspacial  \\\n",
       "0         98011  0xE6100000010CAE8BFC28BCE4474067A89189898A5EC0   \n",
       "1         98011  0xE6100000010CD6FA851AE6D74740BC262A0A03905EC0   \n",
       "\n",
       "                            GuiaDeLinha           DataModificada  \n",
       "0  9AADCB0D-36CF-483F-84D8-585C2D4EC6E9  2007-12-04 00:00:00.000  \n",
       "1  32A54B9E-E034-4BFB-B573-A71CDE60D8C0  2008-11-30 00:00:00.000  "
      ]
     },
     "execution_count": 11,
     "metadata": {},
     "output_type": "execute_result"
    }
   ],
   "source": [
    "# visualizando os primeiros exemplos treinaveis do dataset\n",
    "dataframe.head()"
   ]
  },
  {
   "cell_type": "markdown",
   "metadata": {},
   "source": [
    "Caso você queira saber o nome das abas, use a função \"ExcelFile\" atribuida a uma variável, essa que será do tipo objeto após a atribuição."
   ]
  },
  {
   "cell_type": "code",
   "execution_count": 12,
   "metadata": {},
   "outputs": [],
   "source": [
    "# definindo um objeto com os atributos do documento excel\n",
    "arquivos_excel = pd.ExcelFile(\"Enderecos.xlsx\")"
   ]
  },
  {
   "cell_type": "markdown",
   "metadata": {},
   "source": [
    "Observe que não visualizamos os nome das abas quando colocamos \"arquivos_excel\" na saída de dados, pois ela é um objeto e, dessa forma, visualizamos somente as propiedades do objeto."
   ]
  },
  {
   "cell_type": "code",
   "execution_count": 13,
   "metadata": {},
   "outputs": [
    {
     "data": {
      "text/plain": [
       "<pandas.io.excel._base.ExcelFile at 0x1d2b0464fc8>"
      ]
     },
     "execution_count": 13,
     "metadata": {},
     "output_type": "execute_result"
    }
   ],
   "source": [
    "# visualizando o objeto\n",
    "arquivos_excel"
   ]
  },
  {
   "cell_type": "markdown",
   "metadata": {},
   "source": [
    "Para visualizar o nome das aba contidas no documento excel, usamos o atributo \"**sheet_names**\" no objeto."
   ]
  },
  {
   "cell_type": "code",
   "execution_count": 14,
   "metadata": {},
   "outputs": [
    {
     "data": {
      "text/plain": [
       "['Aba1', 'Aba2']"
      ]
     },
     "execution_count": 14,
     "metadata": {},
     "output_type": "execute_result"
    }
   ],
   "source": [
    "# visualizando o nome das abas contidas na planilha \n",
    "arquivos_excel.sheet_names"
   ]
  },
  {
   "cell_type": "markdown",
   "metadata": {},
   "source": [
    "Além do método \"sheet_name\" da função \"read_excel\" para passar os dados relativos a uma determinada aba do arquivo Excel a uma variável do tipo objeto, temos também o atributo \"parse\" que cumpre o mesmo objetivo. Observe isso nos códigos abaixo."
   ]
  },
  {
   "cell_type": "code",
   "execution_count": 15,
   "metadata": {},
   "outputs": [],
   "source": [
    "# selecionando os dados por abas da planilha \n",
    "aba1 = arquivos_excel.parse(\"Aba1\")\n",
    "aba2 = arquivos_excel.parse(\"Aba2\")"
   ]
  },
  {
   "cell_type": "markdown",
   "metadata": {},
   "source": [
    "Observe agora que o objeto \"aba1\" armazena os dados relativos a primeira aba usada no documento excel."
   ]
  },
  {
   "cell_type": "code",
   "execution_count": 16,
   "metadata": {},
   "outputs": [
    {
     "data": {
      "text/html": [
       "<div>\n",
       "<style scoped>\n",
       "    .dataframe tbody tr th:only-of-type {\n",
       "        vertical-align: middle;\n",
       "    }\n",
       "\n",
       "    .dataframe tbody tr th {\n",
       "        vertical-align: top;\n",
       "    }\n",
       "\n",
       "    .dataframe thead th {\n",
       "        text-align: right;\n",
       "    }\n",
       "</style>\n",
       "<table border=\"1\" class=\"dataframe\">\n",
       "  <thead>\n",
       "    <tr style=\"text-align: right;\">\n",
       "      <th></th>\n",
       "      <th>EnderecoID</th>\n",
       "      <th>EnderecoPrimario</th>\n",
       "      <th>EnderecoSecundario</th>\n",
       "      <th>Cidade</th>\n",
       "      <th>ProvinciaID</th>\n",
       "      <th>CodigoPostal</th>\n",
       "      <th>LocalizacaoEspacial</th>\n",
       "      <th>GuiaDeLinha</th>\n",
       "      <th>DataModificada</th>\n",
       "    </tr>\n",
       "  </thead>\n",
       "  <tbody>\n",
       "    <tr>\n",
       "      <th>0</th>\n",
       "      <td>1</td>\n",
       "      <td>1970 Napa Ct.</td>\n",
       "      <td>NaN</td>\n",
       "      <td>Bothell</td>\n",
       "      <td>79</td>\n",
       "      <td>98011</td>\n",
       "      <td>0xE6100000010CAE8BFC28BCE4474067A89189898A5EC0</td>\n",
       "      <td>9AADCB0D-36CF-483F-84D8-585C2D4EC6E9</td>\n",
       "      <td>2007-12-04 00:00:00.000</td>\n",
       "    </tr>\n",
       "    <tr>\n",
       "      <th>1</th>\n",
       "      <td>2</td>\n",
       "      <td>9833 Mt. Dias Blv.</td>\n",
       "      <td>NaN</td>\n",
       "      <td>Bothell</td>\n",
       "      <td>79</td>\n",
       "      <td>98011</td>\n",
       "      <td>0xE6100000010CD6FA851AE6D74740BC262A0A03905EC0</td>\n",
       "      <td>32A54B9E-E034-4BFB-B573-A71CDE60D8C0</td>\n",
       "      <td>2008-11-30 00:00:00.000</td>\n",
       "    </tr>\n",
       "    <tr>\n",
       "      <th>2</th>\n",
       "      <td>3</td>\n",
       "      <td>7484 Roundtree Drive</td>\n",
       "      <td>NaN</td>\n",
       "      <td>Bothell</td>\n",
       "      <td>79</td>\n",
       "      <td>98011</td>\n",
       "      <td>0xE6100000010C18E304C4ADE14740DA930C7893915EC0</td>\n",
       "      <td>4C506923-6D1B-452C-A07C-BAA6F5B142A4</td>\n",
       "      <td>2013-03-07 00:00:00.000</td>\n",
       "    </tr>\n",
       "    <tr>\n",
       "      <th>3</th>\n",
       "      <td>4</td>\n",
       "      <td>9539 Glenside Dr</td>\n",
       "      <td>NaN</td>\n",
       "      <td>Bothell</td>\n",
       "      <td>79</td>\n",
       "      <td>98011</td>\n",
       "      <td>0xE6100000010C813A0D5F9FDE474011A5C28A7C955EC0</td>\n",
       "      <td>E5946C78-4BCC-477F-9FA1-CC09DE16A880</td>\n",
       "      <td>2009-02-03 00:00:00.000</td>\n",
       "    </tr>\n",
       "    <tr>\n",
       "      <th>4</th>\n",
       "      <td>5</td>\n",
       "      <td>1226 Shoe St.</td>\n",
       "      <td>NaN</td>\n",
       "      <td>Bothell</td>\n",
       "      <td>79</td>\n",
       "      <td>98011</td>\n",
       "      <td>0xE6100000010C61C64D8ABBD94740C460EA3FD8855EC0</td>\n",
       "      <td>FBAFF937-4A97-4AF0-81FD-B849900E9BB0</td>\n",
       "      <td>2008-12-19 00:00:00.000</td>\n",
       "    </tr>\n",
       "  </tbody>\n",
       "</table>\n",
       "</div>"
      ],
      "text/plain": [
       "   EnderecoID      EnderecoPrimario EnderecoSecundario   Cidade  ProvinciaID  \\\n",
       "0           1         1970 Napa Ct.                NaN  Bothell           79   \n",
       "1           2    9833 Mt. Dias Blv.                NaN  Bothell           79   \n",
       "2           3  7484 Roundtree Drive                NaN  Bothell           79   \n",
       "3           4      9539 Glenside Dr                NaN  Bothell           79   \n",
       "4           5         1226 Shoe St.                NaN  Bothell           79   \n",
       "\n",
       "  CodigoPostal                             LocalizacaoEspacial  \\\n",
       "0        98011  0xE6100000010CAE8BFC28BCE4474067A89189898A5EC0   \n",
       "1        98011  0xE6100000010CD6FA851AE6D74740BC262A0A03905EC0   \n",
       "2        98011  0xE6100000010C18E304C4ADE14740DA930C7893915EC0   \n",
       "3        98011  0xE6100000010C813A0D5F9FDE474011A5C28A7C955EC0   \n",
       "4        98011  0xE6100000010C61C64D8ABBD94740C460EA3FD8855EC0   \n",
       "\n",
       "                            GuiaDeLinha           DataModificada  \n",
       "0  9AADCB0D-36CF-483F-84D8-585C2D4EC6E9  2007-12-04 00:00:00.000  \n",
       "1  32A54B9E-E034-4BFB-B573-A71CDE60D8C0  2008-11-30 00:00:00.000  \n",
       "2  4C506923-6D1B-452C-A07C-BAA6F5B142A4  2013-03-07 00:00:00.000  \n",
       "3  E5946C78-4BCC-477F-9FA1-CC09DE16A880  2009-02-03 00:00:00.000  \n",
       "4  FBAFF937-4A97-4AF0-81FD-B849900E9BB0  2008-12-19 00:00:00.000  "
      ]
     },
     "execution_count": 16,
     "metadata": {},
     "output_type": "execute_result"
    }
   ],
   "source": [
    "# dados da primeira aba da planilha \n",
    "aba1.head()"
   ]
  },
  {
   "cell_type": "markdown",
   "metadata": {},
   "source": [
    "Observe agora que o objeto \"aba2\" armazena os dados relativos a segunda aba usada no documento excel."
   ]
  },
  {
   "cell_type": "code",
   "execution_count": 17,
   "metadata": {},
   "outputs": [
    {
     "data": {
      "text/html": [
       "<div>\n",
       "<style scoped>\n",
       "    .dataframe tbody tr th:only-of-type {\n",
       "        vertical-align: middle;\n",
       "    }\n",
       "\n",
       "    .dataframe tbody tr th {\n",
       "        vertical-align: top;\n",
       "    }\n",
       "\n",
       "    .dataframe thead th {\n",
       "        text-align: right;\n",
       "    }\n",
       "</style>\n",
       "<table border=\"1\" class=\"dataframe\">\n",
       "  <thead>\n",
       "    <tr style=\"text-align: right;\">\n",
       "      <th></th>\n",
       "      <th>EnderecoID</th>\n",
       "      <th>EnderecoPrimario</th>\n",
       "      <th>EnderecoSecundario</th>\n",
       "      <th>Cidade</th>\n",
       "      <th>provinciaID</th>\n",
       "      <th>CodigoPostal</th>\n",
       "      <th>LocalizacaoEspacial</th>\n",
       "      <th>GuiaDeLinha</th>\n",
       "      <th>DataModificada</th>\n",
       "    </tr>\n",
       "  </thead>\n",
       "  <tbody>\n",
       "    <tr>\n",
       "      <th>0</th>\n",
       "      <td>1</td>\n",
       "      <td>1970 Napa Ct.</td>\n",
       "      <td>NaN</td>\n",
       "      <td>Bothell</td>\n",
       "      <td>79</td>\n",
       "      <td>98011</td>\n",
       "      <td>0xE6100000010CAE8BFC28BCE4474067A89189898A5EC0</td>\n",
       "      <td>9AADCB0D-36CF-483F-84D8-585C2D4EC6E9</td>\n",
       "      <td>2007-12-04 00:00:00.000</td>\n",
       "    </tr>\n",
       "    <tr>\n",
       "      <th>1</th>\n",
       "      <td>2</td>\n",
       "      <td>9833 Mt. Dias Blv.</td>\n",
       "      <td>NaN</td>\n",
       "      <td>Bothell</td>\n",
       "      <td>79</td>\n",
       "      <td>98011</td>\n",
       "      <td>0xE6100000010CD6FA851AE6D74740BC262A0A03905EC0</td>\n",
       "      <td>32A54B9E-E034-4BFB-B573-A71CDE60D8C0</td>\n",
       "      <td>2008-11-30 00:00:00.000</td>\n",
       "    </tr>\n",
       "  </tbody>\n",
       "</table>\n",
       "</div>"
      ],
      "text/plain": [
       "   EnderecoID    EnderecoPrimario  EnderecoSecundario   Cidade  provinciaID  \\\n",
       "0           1       1970 Napa Ct.                 NaN  Bothell           79   \n",
       "1           2  9833 Mt. Dias Blv.                 NaN  Bothell           79   \n",
       "\n",
       "   CodigoPostal                             LocalizacaoEspacial  \\\n",
       "0         98011  0xE6100000010CAE8BFC28BCE4474067A89189898A5EC0   \n",
       "1         98011  0xE6100000010CD6FA851AE6D74740BC262A0A03905EC0   \n",
       "\n",
       "                            GuiaDeLinha           DataModificada  \n",
       "0  9AADCB0D-36CF-483F-84D8-585C2D4EC6E9  2007-12-04 00:00:00.000  \n",
       "1  32A54B9E-E034-4BFB-B573-A71CDE60D8C0  2008-11-30 00:00:00.000  "
      ]
     },
     "execution_count": 17,
     "metadata": {},
     "output_type": "execute_result"
    }
   ],
   "source": [
    "# dados da segunda aba da planilha \n",
    "aba2"
   ]
  },
  {
   "cell_type": "markdown",
   "metadata": {},
   "source": [
    "Desse modo, podemos usar alguns mecanismos da biblioteca \"Pandas\" do Python para fazer o pré-processamento de dados, tanto em documentos com extensão .csv quanto documentos com extensão .xlsx."
   ]
  },
  {
   "cell_type": "markdown",
   "metadata": {},
   "source": [
    "### Alguma Dúvida? Entre em Contato Comigo:"
   ]
  },
  {
   "cell_type": "markdown",
   "metadata": {},
   "source": [
    "- [Me envie um e-mail](mailto:alysson.barbosa@ee.ufcg.edu.br)"
   ]
  }
 ],
 "metadata": {
  "kernelspec": {
   "display_name": "Python 3",
   "language": "python",
   "name": "python3"
  },
  "language_info": {
   "codemirror_mode": {
    "name": "ipython",
    "version": 3
   },
   "file_extension": ".py",
   "mimetype": "text/x-python",
   "name": "python",
   "nbconvert_exporter": "python",
   "pygments_lexer": "ipython3",
   "version": "3.7.4"
  }
 },
 "nbformat": 4,
 "nbformat_minor": 4
}
