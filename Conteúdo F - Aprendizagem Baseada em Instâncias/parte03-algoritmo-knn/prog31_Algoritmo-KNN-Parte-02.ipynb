{
 "cells": [
  {
   "cell_type": "markdown",
   "metadata": {},
   "source": [
    "# Algoritmo KNN"
   ]
  },
  {
   "cell_type": "markdown",
   "metadata": {},
   "source": [
    "O algoritmo **KNN** é também chamado de **K-Neighbour** (**K vizinhos mais próximos**). O seu objetivo é saber se um determinado registro pertence a uma determinada classe baseado em cálculos de distâncias. Desse modo, quanto mais próximo for os registros pertencentes a determinadas classes do registro em análise, maior a probabilidade dele pertencer a tal classe."
   ]
  },
  {
   "cell_type": "markdown",
   "metadata": {},
   "source": [
    "O parâmetro K é um indicativo da quantidade de vezes que será considerado as menores distâncias entre um registro de outros, de modo a ser considerado a classe **C** predominante nas **K** classes avaliadas entre as **M** menores distâncias."
   ]
  },
  {
   "cell_type": "markdown",
   "metadata": {},
   "source": [
    "A maioria dos métodos de aprendizagem constroem um modelo após o treinamento (os dados são descartados após a criação do modelo, ou seja, após o algoritmo aprender a fazer a predição sobre um determinado assunto,a tabela de dados não é mais necessária). Entretanto, métodos baseados em instâncias simplesmente armazenam os exemplos de treinamento para fazer o cálculo das distâncias com os registros, logo não será criado nenhum modelo."
   ]
  },
  {
   "cell_type": "markdown",
   "metadata": {},
   "source": [
    "Além disso, a generalização/previsão é feita somente quando uma nova instância precisa ser classificada (**lazy**);"
   ]
  },
  {
   "cell_type": "markdown",
   "metadata": {},
   "source": [
    "#### Fórmula da Distância Euclidiana"
   ]
  },
  {
   "cell_type": "markdown",
   "metadata": {},
   "source": [
    "$DE(X,Y) = \\sqrt{\\sum^{p}_{i}(x_{i} - y_{i})^{2}}$"
   ]
  },
  {
   "cell_type": "markdown",
   "metadata": {},
   "source": [
    "O seu uso já foi explicado anteriormente em um exemplo de recomendação de filmes, antes de prosseguir vale a pena dar uma olhada nesse material."
   ]
  },
  {
   "cell_type": "markdown",
   "metadata": {},
   "source": [
    "#### KNN - Variáveis na mesma escala"
   ]
  },
  {
   "cell_type": "markdown",
   "metadata": {},
   "source": [
    "Quando se trabalha com Machine Learning pelo algoritmo KNN é necessário que todos os atributos da base de dados estejam **escalonados**, ou seja, o balancemento de escala de um número comparado com outros não pode ser muito discrepante. Por exemplo, comparar um campo de dado de idades com outro de renda anual e o campo de dados idade com anos de estudo, tal valores seriam extremamente discrepantes para analisar usando distância euclidiana. Por esse motivo, todos os **atributos numéricos** da base de dados devem ser escalonados, de modo que a fórmula consiga ser aplicada sem erros."
   ]
  },
  {
   "cell_type": "markdown",
   "metadata": {},
   "source": [
    "#### Algumas considerações sobre o KNN"
   ]
  },
  {
   "cell_type": "markdown",
   "metadata": {},
   "source": [
    "- Algoritmo Simples e poderoso;\n",
    "- Indicando quando o relacionamento entre as características é complexo;\n",
    "- Valor de K pequeno: dados com ruídos e outliers podem prejudicar;\n",
    "- Valor de K grande: tendência a classificar a classe com mais elementos (overfitting) - Valor default 3 ou 5;\n",
    "- Lento para fazer as previsões (diretamente proporcional ao tamanho da base de dados);"
   ]
  },
  {
   "cell_type": "markdown",
   "metadata": {},
   "source": [
    "#### Outras fórmulas para cálculo de distâncias"
   ]
  },
  {
   "cell_type": "markdown",
   "metadata": {},
   "source": [
    "Foi explicado o uso da distância euclidiana no algoritmo KNN. Entretanto, há diversas outras alternativas para se usar em cálculos de distâncias e possíveis de serem usadas nesse algoritmo, como por exemplo:  \n",
    "- Coeficiente de Pearson;\n",
    "- Índice de Tanimoto;\n",
    "- City Block;"
   ]
  },
  {
   "cell_type": "markdown",
   "metadata": {},
   "source": [
    "### Alguma dúvida? Entre em contato comigo:"
   ]
  },
  {
   "cell_type": "markdown",
   "metadata": {},
   "source": [
    "- [Me envie um e-mail](mailto:alysson.barbosa@ee.ufcg.edu.br);"
   ]
  }
 ],
 "metadata": {
  "kernelspec": {
   "display_name": "Python 3",
   "language": "python",
   "name": "python3"
  },
  "language_info": {
   "codemirror_mode": {
    "name": "ipython",
    "version": 3
   },
   "file_extension": ".py",
   "mimetype": "text/x-python",
   "name": "python",
   "nbconvert_exporter": "python",
   "pygments_lexer": "ipython3",
   "version": "3.7.4"
  }
 },
 "nbformat": 4,
 "nbformat_minor": 4
}
