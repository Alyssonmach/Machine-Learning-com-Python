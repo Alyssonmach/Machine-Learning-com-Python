{
 "cells": [
  {
   "cell_type": "markdown",
   "metadata": {},
   "source": [
    "# Algoritmo DBSCAN\n",
    "#### Entendendo o algoritmo de clusterização DBSCAN."
   ]
  },
  {
   "cell_type": "markdown",
   "metadata": {},
   "source": [
    "O **DBSCAN** ou (**Density-Based Clustering of Applications with Noise**) é um algoritmo que separa os dados em clusters baseado em **densidade**, agrupando os pontos similares no mesmo espaço."
   ]
  },
  {
   "cell_type": "markdown",
   "metadata": {},
   "source": [
    "Uma vantagem desse algoritmo é que não é necessário indicar o número de k clusters, mas sim uma distância mínima (**raio**) que um dado deve estar de outro para considerá-los do mesmo agrupamento. Entretanto, esse valor mínimo do raio pode ser problemático de se encontrar dependendo da base de dados utilizada."
   ]
  },
  {
   "cell_type": "markdown",
   "metadata": {},
   "source": [
    "Em geral, apresenta melhores resultados que o k-means, sendo também mais rápido."
   ]
  },
  {
   "cell_type": "markdown",
   "metadata": {},
   "source": [
    "Além disso, essa distância mínima (raio) também é chamada por (**threshold distance**)."
   ]
  },
  {
   "cell_type": "markdown",
   "metadata": {},
   "source": [
    "![DBSCAN_search](Imagens/DBSCAN_search.gif)"
   ]
  },
  {
   "cell_type": "markdown",
   "metadata": {},
   "source": [
    "Acima, é possível analisar uma base de dados sendo clusterizada pelo algoritmo DBSCAN em duas situações distintas, cada uma com diferentes parâmetros."
   ]
  },
  {
   "cell_type": "markdown",
   "metadata": {},
   "source": [
    "### Características do DBSCAN"
   ]
  },
  {
   "cell_type": "markdown",
   "metadata": {},
   "source": [
    "- Encontra padrões não lineares;\n",
    "- Robusto contra **outliers**;\n",
    "- O resultado pode ser mais consistente que o k-means porque a inicialização dos centróides não afeta tanto o algoritmo;\n",
    "- Dependendo da inicialização, um ponto pode pertencer ao cluster dependendo da ordem;\n",
    "- Pode ser difícil encontrar um bom valor para o parâmetro da distância;"
   ]
  },
  {
   "cell_type": "markdown",
   "metadata": {},
   "source": [
    "### Alguma Dúvida? Entre em Contato Comigo:"
   ]
  },
  {
   "cell_type": "markdown",
   "metadata": {},
   "source": [
    "- [Me envie um e-mail](mailto:alysson.barbosa@ee.ufcg.edu.br);"
   ]
  }
 ],
 "metadata": {
  "kernelspec": {
   "display_name": "Python 3",
   "language": "python",
   "name": "python3"
  },
  "language_info": {
   "codemirror_mode": {
    "name": "ipython",
    "version": 3
   },
   "file_extension": ".py",
   "mimetype": "text/x-python",
   "name": "python",
   "nbconvert_exporter": "python",
   "pygments_lexer": "ipython3",
   "version": "3.7.4"
  }
 },
 "nbformat": 4,
 "nbformat_minor": 4
}
