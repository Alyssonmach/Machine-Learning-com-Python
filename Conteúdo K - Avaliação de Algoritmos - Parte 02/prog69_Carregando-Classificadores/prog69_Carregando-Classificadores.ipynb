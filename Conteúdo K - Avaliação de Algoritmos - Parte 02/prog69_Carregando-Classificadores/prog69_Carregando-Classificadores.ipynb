{
 "cells": [
  {
   "cell_type": "markdown",
   "metadata": {},
   "source": [
    "# Carregando Classificadores Salvos\n",
    "#### Como importar um classificador salvo na máquina em um código Python."
   ]
  },
  {
   "cell_type": "markdown",
   "metadata": {},
   "source": [
    "Vamos realizar o pré-processamento na base de dados de crédito."
   ]
  },
  {
   "cell_type": "markdown",
   "metadata": {},
   "source": [
    "### Pré-processamento na base de dados de crédito"
   ]
  },
  {
   "cell_type": "code",
   "execution_count": 1,
   "metadata": {},
   "outputs": [],
   "source": [
    "# importando a biblioteca pandas do python\n",
    "import pandas as pd\n",
    "\n",
    "# importando a base de dados para o objeto \"dataframe\"\n",
    "dataframe = pd.read_csv('Dados de Credito.csv', encoding = 'utf-8', sep = ',')\n",
    "\n",
    "# substituindo valores inconsistentes no campo idades pela média das idades consistentes\n",
    "dataframe.loc[dataframe.age < 0, 'age'] = 40.92\n",
    "\n",
    "# separando os atributos previsores do meta classe\n",
    "previsores = dataframe.iloc[:, 1:4].values\n",
    "classe = dataframe.iloc[:, 4].values\n",
    "\n",
    "# importando a biblioteca sklearn do python\n",
    "from sklearn.impute import SimpleImputer\n",
    "# função \"SimpleImputer\" responsável por corrigir valores faltantes na base de dados\n",
    "\n",
    "# importando a biblioteca numpy do python\n",
    "import numpy as np\n",
    "\n",
    "# criando o objeto \"imputer\"\n",
    "imputer = SimpleImputer(missing_values = np.nan, strategy = \"mean\")\n",
    "\n",
    "# fazendo o treinamento com a base de dados para correção de valores faltantes\n",
    "imputer = imputer.fit(previsores[:,0:3])\n",
    "\n",
    "# corrigindo os valores faltantes usando o objeto criado \"imputer\"\n",
    "previsores[:, 0:3] = imputer.transform(previsores[:, 0:3])\n",
    "\n",
    "# importando a biblioteca sklearn do python\n",
    "from sklearn.preprocessing import StandardScaler\n",
    "# a função \"StandardScaler\" tem a função de escalonas toda a base de dados para corrigir a discrepância\n",
    "# dos valores\n",
    "\n",
    "# criando o objeto \"scaler\"\n",
    "scaler = StandardScaler()\n",
    "\n",
    "# escalonando todos os atributos para auxiliar no cálculo de distâncias euclidianas\n",
    "previsores = scaler.fit_transform(previsores)"
   ]
  },
  {
   "cell_type": "markdown",
   "metadata": {},
   "source": [
    "### Usando o Pickle para importar classificadores salvos"
   ]
  },
  {
   "cell_type": "code",
   "execution_count": 2,
   "metadata": {},
   "outputs": [],
   "source": [
    "# importando a biblioteca pickle do python\n",
    "import pickle "
   ]
  },
  {
   "cell_type": "code",
   "execution_count": 3,
   "metadata": {},
   "outputs": [],
   "source": [
    "# importando os classificadores para o código python\n",
    "\n",
    "naive_bayes = pickle.load(open('Classificadores Salvos/naive-bayes_finalizado.sav', 'rb'))\n",
    "arvore_decisao = pickle.load(open('Classificadores Salvos/arvore-decisao_finalizado.sav', 'rb'))\n",
    "random_forest = pickle.load(open('Classificadores Salvos/random-forest_finalizado.sav', 'rb'))\n",
    "knn = pickle.load(open('Classificadores Salvos/knn_finalizado.sav', 'rb'))\n",
    "regressao_logistica = pickle.load(open('Classificadores Salvos/regressao-logistica_finalizado.sav', 'rb'))\n",
    "svm = pickle.load(open('Classificadores Salvos/maquina-vetores-suporte_finalizado.sav', 'rb'))\n",
    "redes_neurais = pickle.load(open('Classificadores Salvos/redes-neurais_finalizado.sav', 'rb'))"
   ]
  },
  {
   "cell_type": "code",
   "execution_count": 4,
   "metadata": {},
   "outputs": [
    {
     "name": "stdout",
     "output_type": "stream",
     "text": [
      "Resultado Naive Bayes: 92.60%\n",
      "Resultado Árvore de Decisão: 100.00%\n",
      "Resultado Random Forest: 100.00%\n",
      "Resultado KNN: 99.20%\n",
      "Resultado Regressão Logística: 94.80%\n",
      "Resultado Máquina de Vetores de Suporte: 98.90%\n",
      "Resultado Redes Neurais: 99.95%\n"
     ]
    }
   ],
   "source": [
    "# visualizando a predição de acertos para cada uma das base de dados\n",
    "\n",
    "print('Resultado Naive Bayes: {:.2f}%'.format(naive_bayes.score(previsores, classe) * 100))\n",
    "print('Resultado Árvore de Decisão: {:.2f}%'.format(arvore_decisao.score(previsores, classe) * 100))\n",
    "print('Resultado Random Forest: {:.2f}%'.format(random_forest.score(previsores, classe) * 100))\n",
    "print('Resultado KNN: {:.2f}%'.format(knn.score(previsores, classe) * 100))\n",
    "print('Resultado Regressão Logística: {:.2f}%'.format(regressao_logistica.score(previsores, classe) * 100))\n",
    "print('Resultado Máquina de Vetores de Suporte: {:.2f}%'.format(svm.score(previsores, classe) * 100))\n",
    "print('Resultado Redes Neurais: {:.2f}%'.format(redes_neurais.score(previsores, classe) * 100))"
   ]
  },
  {
   "cell_type": "markdown",
   "metadata": {},
   "source": [
    "### Criando um novo registro para ser salvo"
   ]
  },
  {
   "cell_type": "code",
   "execution_count": 5,
   "metadata": {},
   "outputs": [],
   "source": [
    "# criando uma lista com os campos de dados do 'novo_registro'\n",
    "novo_registro = [[50000, 40, 5000]]\n",
    "\n",
    "# transformando a lista em um numpy array\n",
    "novo_registro = np.asarray(novo_registro)\n",
    "\n",
    "# transformando em um vetor coluna para realizar o escalonamento nos atributos\n",
    "novo_registro = novo_registro.reshape(-1, 1)\n",
    "# '-1' indica que a linha ficará inalterada, e '1' indica que será um vetor de 1 coluna\n",
    "\n",
    "# escalonando os valores do novo registro\n",
    "novo_registro = scaler.fit_transform(novo_registro)\n",
    "\n",
    "# retornado o vetor coluna em um vetor linha \n",
    "novo_registro = novo_registro.reshape(-1, 3)"
   ]
  },
  {
   "cell_type": "code",
   "execution_count": 6,
   "metadata": {},
   "outputs": [
    {
     "name": "stdout",
     "output_type": "stream",
     "text": [
      "[[ 1.40846139 -0.81458192 -0.59387946]]\n"
     ]
    }
   ],
   "source": [
    "# visualizando na saída de dados o novo registro\n",
    "print(novo_registro)"
   ]
  },
  {
   "cell_type": "code",
   "execution_count": 7,
   "metadata": {},
   "outputs": [
    {
     "name": "stdout",
     "output_type": "stream",
     "text": [
      "Resposta Naive Bayes: [0]\n",
      "Resposta Árvore de Decisão: [0]\n",
      "Resposta Random Forest: [0]\n",
      "Resposta KNN: [0]\n",
      "Resposta Regressão Logística: [0]\n",
      "Resposta Máquina de Vetores de Suporte: [0]\n",
      "Resposta Redes Neurais: [0]\n"
     ]
    }
   ],
   "source": [
    "# obtendo a predição da classe em cada classificador criado usando o 'novo_registro'\n",
    "\n",
    "print('Resposta Naive Bayes: {}'.format(naive_bayes.predict(novo_registro)))\n",
    "print('Resposta Árvore de Decisão: {}'.format(arvore_decisao.predict(novo_registro)))\n",
    "print('Resposta Random Forest: {}'.format(random_forest.predict(novo_registro)))\n",
    "print('Resposta KNN: {}'.format(knn.predict(novo_registro) * 100))\n",
    "print('Resposta Regressão Logística: {}'.format(regressao_logistica.predict(novo_registro)))\n",
    "print('Resposta Máquina de Vetores de Suporte: {}'.format(svm.predict(novo_registro)))\n",
    "print('Resposta Redes Neurais: {}'.format(redes_neurais.predict(novo_registro)))"
   ]
  },
  {
   "cell_type": "markdown",
   "metadata": {},
   "source": [
    "Observe que a resposta de todos os classificadores convergiram para um só resultado, indicando que o novo registro feito indica que o usuário não tem chance de pagar o que deve."
   ]
  },
  {
   "cell_type": "markdown",
   "metadata": {},
   "source": [
    "### Alguma dúvida? Entre em contato comigo:"
   ]
  },
  {
   "cell_type": "markdown",
   "metadata": {},
   "source": [
    "- [Me envie um e-mail](mailto:alyssonmachado388@gmail.com);"
   ]
  }
 ],
 "metadata": {
  "kernelspec": {
   "display_name": "Python 3",
   "language": "python",
   "name": "python3"
  },
  "language_info": {
   "codemirror_mode": {
    "name": "ipython",
    "version": 3
   },
   "file_extension": ".py",
   "mimetype": "text/x-python",
   "name": "python",
   "nbconvert_exporter": "python",
   "pygments_lexer": "ipython3",
   "version": "3.7.6"
  }
 },
 "nbformat": 4,
 "nbformat_minor": 4
}
