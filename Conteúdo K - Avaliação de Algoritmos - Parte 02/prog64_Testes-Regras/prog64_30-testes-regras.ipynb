{
 "cells": [
  {
   "cell_type": "markdown",
   "metadata": {},
   "source": [
    "# 30 Testes Aprendizagem por Regras - Dados de Crédito\n",
    "#### realizando 30 testes com diferentes sementes de geração randômica usando o algoritmo de aprendizagem por regras na base de dados de crédito."
   ]
  },
  {
   "cell_type": "markdown",
   "metadata": {},
   "source": [
    "### Algoritmo Aprendizagem por Regras"
   ]
  },
  {
   "cell_type": "code",
   "execution_count": 1,
   "metadata": {},
   "outputs": [],
   "source": [
    "# importando a biblioteca pandas do python\n",
    "import pandas as pd\n",
    "# importando a biblioteca Orange do python\n",
    "import Orange\n",
    "# importando a biblioteca numpy do python\n",
    "import numpy as np\n",
    "# importando a biblioteca sklearn do python\n",
    "from sklearn.model_selection import StratifiedKFold\n",
    "from sklearn.metrics import accuracy_score"
   ]
  },
  {
   "cell_type": "code",
   "execution_count": 3,
   "metadata": {},
   "outputs": [],
   "source": [
    "# atribuindo a base de dados ao objeto 'dataframe'\n",
    "base = Orange.data.Table('Dados de Credito.csv')\n",
    "# lembrando que na base de dado 'c#' indica a classe e 'i#' indica o campo de registros a serem ignorados"
   ]
  },
  {
   "cell_type": "code",
   "execution_count": 4,
   "metadata": {},
   "outputs": [],
   "source": [
    "# criando uma lista vazia para armazenar os 30 resultados obtidos com o algoritmo\n",
    "resultados30 = []"
   ]
  },
  {
   "cell_type": "code",
   "execution_count": 5,
   "metadata": {},
   "outputs": [
    {
     "name": "stdout",
     "output_type": "stream",
     "text": [
      "0,9790000000000001\n",
      "0,975\n",
      "0,9764999999999999\n",
      "0,9764999999999999\n",
      "0,9744999999999999\n",
      "0,975\n",
      "0,9754999999999999\n",
      "0,97\n",
      "0,9775\n",
      "0,978\n",
      "0,9784999999999998\n",
      "0,97\n",
      "0,9785\n",
      "0,9785\n",
      "0,978\n",
      "0,977\n",
      "0,9734999999999999\n",
      "0,975\n",
      "0,9754999999999999\n",
      "0,9795\n",
      "0,978\n",
      "0,9774999999999998\n",
      "0,9729999999999999\n",
      "0,9744999999999999\n",
      "0,9814999999999999\n",
      "0,975\n",
      "0,9785\n",
      "0,9784999999999998\n",
      "0,9745000000000001\n",
      "0,9775\n"
     ]
    }
   ],
   "source": [
    "# estrutura de repetição para executar 30 vezes o algoritmo de aprendizagem por regras\n",
    "for i in range(30):\n",
    "    # criando o fracionador da base de dados em 10 partes diferentes e randomicamente arquitetadas\n",
    "    kfold = StratifiedKFold(n_splits=10, shuffle=True, random_state = i)\n",
    "    # criando uma lista para armazenar os resultados de cada parte fracionada da base de dados \n",
    "    resultados1 = []\n",
    "    # estrutura de repetição para escolher randomicamente os registros nas 10 bases de treinamento e teste\n",
    "    for indice_treinamento, indice_teste in kfold.split(base, np.zeros(shape=(2000, 1))):\n",
    "        # criando um classificador para o algoritmo de aprendizagem por regras\n",
    "        cn2_learner = Orange.classification.rules.CN2Learner()\n",
    "        # realizando o treinamento do algoritmo com o classificador criado\n",
    "        classificador = cn2_learner(base[indice_treinamento])\n",
    "        # obtendo as predições do algoritmo com a base de dados de teste\n",
    "        previsoes = classificador(base[indice_teste])\n",
    "        # obtendo a precisao de acertos do algoritmo com base em suas predições\n",
    "        precisao = accuracy_score(base.Y[indice_teste], previsoes)\n",
    "        # adicionando a precisao obtida em cada parte fracionada da base de dados\n",
    "        resultados1.append(precisao)\n",
    "    # transformando uma lista em um array numpy\n",
    "    resultados1 = np.asarray(resultados1)\n",
    "    # obtendo a media das precisões da base de dados fracionada\n",
    "    media = resultados1.mean()\n",
    "    # adicionando a média das precisão geral a lista \n",
    "    resultados30.append(media)\n",
    "# transformando uma lista em um array numpy\n",
    "resultados30 = np.asarray(resultados30)    \n",
    "# imprimindo na saída de dados a precisão dos 30 testes feitos\n",
    "for i in range(resultados30.size):\n",
    "    # transformando a saída numérica em uma versão compatível com o excel\n",
    "    print(str(resultados30[i]).replace('.', ','))"
   ]
  },
  {
   "cell_type": "markdown",
   "metadata": {},
   "source": [
    "### Alguma dúvida? Entre em contato comigo:"
   ]
  },
  {
   "cell_type": "markdown",
   "metadata": {},
   "source": [
    "- [Me envie um e-mail](mailto:alysson.barbosa@ee.ufcg.edu.br);"
   ]
  }
 ],
 "metadata": {
  "kernelspec": {
   "display_name": "Python 3",
   "language": "python",
   "name": "python3"
  },
  "language_info": {
   "codemirror_mode": {
    "name": "ipython",
    "version": 3
   },
   "file_extension": ".py",
   "mimetype": "text/x-python",
   "name": "python",
   "nbconvert_exporter": "python",
   "pygments_lexer": "ipython3",
   "version": "3.7.4"
  }
 },
 "nbformat": 4,
 "nbformat_minor": 4
}
