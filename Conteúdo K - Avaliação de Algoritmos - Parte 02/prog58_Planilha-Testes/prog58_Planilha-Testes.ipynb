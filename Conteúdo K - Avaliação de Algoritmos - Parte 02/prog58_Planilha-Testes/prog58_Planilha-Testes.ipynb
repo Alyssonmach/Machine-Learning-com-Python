{
 "cells": [
  {
   "cell_type": "markdown",
   "metadata": {},
   "source": [
    "# Planilha de Testes\n",
    "#### Usando uma planilha de testes para dar mais rigor científico ao algoritmo de Machine Learning feito."
   ]
  },
  {
   "cell_type": "markdown",
   "metadata": {},
   "source": [
    "### Usando planilhas"
   ]
  },
  {
   "cell_type": "markdown",
   "metadata": {},
   "source": [
    "Quando se está usando uma base de dados para fazer um algoritmo de machine learning, é necessário testar inúmeros algoritmos para analisar qual se adapta melhor aos dados que o programador possui. Como forma de organização, sempre é interessante anotar a capacidade de predição para cada classificador usado e, ao final do processo, analisar qual método se saiu melhor para a base de dados analisada. Com isso, é possível garantir qualidade no código de machine learning feito. Anexo a esse arquivo, é possível visualizar uma planilha vazia que ajuda na montagem dessa análise. Nela, é possível analisar a acurácia de cada um dos algoritmos em difentes sementes de randomização (essa que terá escolha de dados pseudo-diferentes no momento de separar o modelo de treinamento e de teste)."
   ]
  },
  {
   "cell_type": "markdown",
   "metadata": {},
   "source": [
    "### Alguma dúvida? Entre em contato comigo:"
   ]
  },
  {
   "cell_type": "markdown",
   "metadata": {},
   "source": [
    "- [Me envie um e-mail](mailto:alyssonmachado388@gmail.com);"
   ]
  }
 ],
 "metadata": {
  "kernelspec": {
   "display_name": "Python 3",
   "language": "python",
   "name": "python3"
  },
  "language_info": {
   "codemirror_mode": {
    "name": "ipython",
    "version": 3
   },
   "file_extension": ".py",
   "mimetype": "text/x-python",
   "name": "python",
   "nbconvert_exporter": "python",
   "pygments_lexer": "ipython3",
   "version": "3.7.4"
  }
 },
 "nbformat": 4,
 "nbformat_minor": 4
}
