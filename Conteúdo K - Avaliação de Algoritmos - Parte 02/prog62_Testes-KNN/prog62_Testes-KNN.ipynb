{
 "cells": [
  {
   "cell_type": "markdown",
   "metadata": {},
   "source": [
    "# 30 Testes KNN - Dados de Crédito\n",
    "#### Realizando 30 testes com diferentes sementes de geração randômica usando o algoritmo KNN na base de dados de crédito."
   ]
  },
  {
   "cell_type": "markdown",
   "metadata": {},
   "source": [
    "### Pré-processamento da base de dados¶"
   ]
  },
  {
   "cell_type": "code",
   "execution_count": 1,
   "metadata": {},
   "outputs": [],
   "source": [
    "# importando a biblioteca pandas do python\n",
    "import pandas as pd\n",
    "\n",
    "# importando a base de dados para o objeto \"dataframe\"\n",
    "dataframe = pd.read_csv('Dados de Credito.csv', encoding = 'utf-8', sep = ',')\n",
    "\n",
    "# substituindo valores inconsistentes no campo idades pela média das idades consistentes\n",
    "dataframe.loc[dataframe.age < 0, 'age'] = 40.92\n",
    "\n",
    "# separando os atributos previsores do meta classe\n",
    "previsores = dataframe.iloc[:, 1:4].values\n",
    "classe = dataframe.iloc[:, 4].values\n",
    "\n",
    "# importando a biblioteca sklearn do python\n",
    "from sklearn.impute import SimpleImputer\n",
    "# função \"SimpleImputer\" responsável por corrigir valores faltantes na base de dados\n",
    "\n",
    "# importando a biblioteca numpy do python\n",
    "import numpy as np\n",
    "\n",
    "# criando o objeto \"imputer\"\n",
    "imputer = SimpleImputer(missing_values = np.nan, strategy = \"mean\")\n",
    "\n",
    "# fazendo o treinamento com a base de dados para correção de valores faltantes\n",
    "imputer = imputer.fit(previsores[:,0:3])\n",
    "\n",
    "# corrigindo os valores faltantes usando o objeto criado \"imputer\"\n",
    "previsores[:, 0:3] = imputer.transform(previsores[:, 0:3])\n",
    "\n",
    "# importando a biblioteca sklearn do python\n",
    "from sklearn.preprocessing import StandardScaler\n",
    "# a função \"StandardScaler\" tem a função de escalonas toda a base de dados para corrigir a discrepância\n",
    "# dos valores\n",
    "\n",
    "# criando o objeto \"scaler\"\n",
    "scaler = StandardScaler()\n",
    "\n",
    "# escalonando todos os atributos para auxiliar no cálculo de distâncias euclidianas\n",
    "previsores = scaler.fit_transform(previsores)"
   ]
  },
  {
   "cell_type": "markdown",
   "metadata": {},
   "source": [
    "### Algoritmo KNN"
   ]
  },
  {
   "cell_type": "code",
   "execution_count": 2,
   "metadata": {},
   "outputs": [],
   "source": [
    "# importando a biblioteca sklearn do python\n",
    "from sklearn.model_selection import StratifiedKFold\n",
    "from sklearn.metrics import accuracy_score\n",
    "# 'StratifiedKFold' responsável por fazer a validação cruzada na base de dados\n",
    "# 'accuracy_score' responsável por informar a capacidade de predição do algoritmo feito"
   ]
  },
  {
   "cell_type": "code",
   "execution_count": 3,
   "metadata": {},
   "outputs": [],
   "source": [
    "# importando a biblioteca sklearn do python\n",
    "from sklearn.neighbors import KNeighborsClassifier\n",
    "# 'KNeighborsClassifier' responsável por realizar o cálculo das distâncias euclidianas com os registros"
   ]
  },
  {
   "cell_type": "code",
   "execution_count": 4,
   "metadata": {},
   "outputs": [],
   "source": [
    "# criando uma lista vazia para armazenar os 30 resultado obtidos\n",
    "resultados30 = []"
   ]
  },
  {
   "cell_type": "code",
   "execution_count": 5,
   "metadata": {},
   "outputs": [
    {
     "name": "stdout",
     "output_type": "stream",
     "text": [
      "0,9814999999999999\n",
      "0,9810000000000001\n",
      "0,9809999999999999\n",
      "0,9804999999999999\n",
      "0,983\n",
      "0,9804999999999999\n",
      "0,9835\n",
      "0,9819999999999999\n",
      "0,9800000000000001\n",
      "0,9810000000000001\n",
      "0,982\n",
      "0,984\n",
      "0,9799999999999999\n",
      "0,9775\n",
      "0,9814999999999999\n",
      "0,9795\n",
      "0,982\n",
      "0,9789999999999999\n",
      "0,9814999999999999\n",
      "0,9810000000000001\n",
      "0,9804999999999999\n",
      "0,9785\n",
      "0,977\n",
      "0,9775\n",
      "0,9824999999999999\n",
      "0,9825000000000002\n",
      "0,9809999999999999\n",
      "0,9810000000000001\n",
      "0,9814999999999998\n",
      "0,9795\n"
     ]
    }
   ],
   "source": [
    "# estrutura de repetição para realizar os 30 testes com o algoritmo KNN\n",
    "for i in range(30):\n",
    "    \n",
    "    # criando o separador 'kfold' para realizar a transformação na base de dados\n",
    "    kfold = StratifiedKFold(n_splits = 10, shuffle = True, random_state = i)\n",
    "    # criando uma lista vazia para armazenar os resultado obtidos em cada fracionamento da base de dados\n",
    "    resultados1 = []\n",
    "    \n",
    "    # estrutura de repetição que escolhe aleatoriamente os registros para cada base de dados de treinamento\n",
    "    # e teste gerados randomicamente\n",
    "    for indice_treinamento, indice_teste in kfold.split(previsores, np.zeros(shape = (classe.shape[0], 1))):\n",
    "        \n",
    "        # criando um classificador para calcular as distâncias euclianas dos registros na base de dados\n",
    "        classificador = KNeighborsClassifier(n_neighbors=5, metric='minkowski', p = 2)\n",
    "        \n",
    "        # realizando o treinamento com cada parcela fracionada da base de dados\n",
    "        classificador.fit(previsores[indice_treinamento], classe[indice_treinamento])\n",
    "        # realizando a predição com cada parcela fracionada da base de dados\n",
    "        previsoes = classificador.predict(previsores[indice_teste])\n",
    "        # obtendo a precisão de acertos para cada modelo de treinamento fracionado\n",
    "        precisao = accuracy_score(classe[indice_teste], previsoes)\n",
    "        resultados1.append(precisao)\n",
    "    \n",
    "    # transformando a lista de resultados em um array numpy para visualizar dados estatísticos sobre ela\n",
    "    resultados1 = np.asarray(resultados1)\n",
    "    # calculando a média de todos os dados do vetor\n",
    "    media = resultados1.mean()\n",
    "    # adiciona a média, em cada execução, na lista criada 'resultados30'\n",
    "    resultados30.append(media)\n",
    "    \n",
    "# transformando a lista de resultados em um array numpy para visualizar dados estatísticos sobre ela\n",
    "resultados30 = np.asarray(resultados30)\n",
    "\n",
    "# visualizando na saída de dos os 30 resultado obtidos com o naive bayes\n",
    "for i in range(resultados30.size):\n",
    "    # imprimindo os resultados no formato aceito pela planilha excel\n",
    "    print(str(resultados30[i]).replace('.', ','))"
   ]
  },
  {
   "cell_type": "markdown",
   "metadata": {},
   "source": [
    "### Alguma dúvida? Entre em contato comigo:"
   ]
  },
  {
   "cell_type": "markdown",
   "metadata": {},
   "source": [
    "- [Me envie um e-mail](mailto:alysson.barbosa@ee.ufcg.edu.br);"
   ]
  }
 ],
 "metadata": {
  "kernelspec": {
   "display_name": "Python 3",
   "language": "python",
   "name": "python3"
  },
  "language_info": {
   "codemirror_mode": {
    "name": "ipython",
    "version": 3
   },
   "file_extension": ".py",
   "mimetype": "text/x-python",
   "name": "python",
   "nbconvert_exporter": "python",
   "pygments_lexer": "ipython3",
   "version": "3.7.4"
  }
 },
 "nbformat": 4,
 "nbformat_minor": 4
}
