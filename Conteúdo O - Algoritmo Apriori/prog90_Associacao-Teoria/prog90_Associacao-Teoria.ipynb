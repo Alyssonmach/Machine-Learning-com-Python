{
 "cells": [
  {
   "cell_type": "markdown",
   "metadata": {},
   "source": [
    "# Introdução a Regras de Associação\n",
    "#### Entendendo o funcionamento do algoritmo de machine learning que usa regras de associações."
   ]
  },
  {
   "cell_type": "markdown",
   "metadata": {},
   "source": [
    "### Introdução a Associação"
   ]
  },
  {
   "cell_type": "markdown",
   "metadata": {},
   "source": [
    "![regras-associacao-ex](Imagens/regras-associacao-ex.jpeg)"
   ]
  },
  {
   "cell_type": "markdown",
   "metadata": {},
   "source": [
    "As **regras de associação** consistem basicamente em descobrir padrões entre elementos, de modo que surjam conjuntos de elementos que compartilhem algo incomum, seja direta ou indiretamente. Tais algoritmos são muito usados para otimizar vendas de produtos em diversos setores de mercado, asssim como sistemas de recomendação com base no perfil do usuário, como a famosa Netflix e Amazon aplicam."
   ]
  },
  {
   "cell_type": "markdown",
   "metadata": {},
   "source": [
    "Abaixo, é possível ver uma série de exemplos que usam regras de associação. São eles:"
   ]
  },
  {
   "cell_type": "markdown",
   "metadata": {},
   "source": [
    "- disposição de produtos em prateleiras de mercado;\n",
    "- promoção em itens vendidos em conjunto;\n",
    "- planejar catálogos de lojas e folhetos de promoções;\n",
    "- controle de evasão em universidades;\n",
    "- sistemas de recomendação;\n",
    "- Análise de cestas de compras (Market Basket Analysis);"
   ]
  },
  {
   "cell_type": "markdown",
   "metadata": {},
   "source": [
    "Ao olho humano, muitas vezes é uma tarefa árdua encontrar padrões em elementos que possam parecer muito distintos, mas dispondo de ótimos dados sobre os elementos, essa tarefa é muito simples para os algoritmos de Machine Learning, como o **algoritmo apriori**."
   ]
  },
  {
   "cell_type": "markdown",
   "metadata": {},
   "source": [
    "### Algoritmo Apriori"
   ]
  },
  {
   "cell_type": "markdown",
   "metadata": {},
   "source": [
    "O **algoritmo apriori** é composto de duas principais fases:"
   ]
  },
  {
   "cell_type": "markdown",
   "metadata": {},
   "source": [
    "#### 1º Fase"
   ]
  },
  {
   "cell_type": "markdown",
   "metadata": {},
   "source": [
    "Descobrir todos os conjuntos de itens com **suporte** maior ou igual ao mínimo especificado pelo usuário."
   ]
  },
  {
   "cell_type": "markdown",
   "metadata": {},
   "source": [
    "O suporte é calculado da seguinte forma:"
   ]
  },
  {
   "cell_type": "markdown",
   "metadata": {},
   "source": [
    "**Suporte**: Números de registros com X e Y /  Número total de registros."
   ]
  },
  {
   "cell_type": "markdown",
   "metadata": {},
   "source": [
    "O suporte é a **frequência** que um determinado produto aparece na base de dados. O usuário informa um limiar para o suporte a ser aceito e, com base nisso, é gerado os elementos com maior relevância na base de dados para serem usados como referência na criação do conjunto de itens. Com isso, os conjuntos são montados em pares, gerando todas as combinações possíveis. Desse modo, a fórmula do suporte é aplicada novamente para identificar a frequência dos dois itens comprados em conjunto  em relação a todas as compras feitas, obtendo uma frequência de compras para esses conjuntos. Essa fórmula é repetida até os **N** produtos relevantes serem avaliados em conjunto."
   ]
  },
  {
   "cell_type": "markdown",
   "metadata": {},
   "source": [
    "#### 2º Fase"
   ]
  },
  {
   "cell_type": "markdown",
   "metadata": {},
   "source": [
    "A partir do conjunto de itens frequentes, descobrir regras de associação com fator de **confiança** maior ou igual ao especificado pelo usuário."
   ]
  },
  {
   "cell_type": "markdown",
   "metadata": {},
   "source": [
    "A confiança é calculada da seguinte forma:"
   ]
  },
  {
   "cell_type": "markdown",
   "metadata": {},
   "source": [
    "**Confiança** = Número de registros com X e Y / Número total de registros com X."
   ]
  },
  {
   "cell_type": "markdown",
   "metadata": {},
   "source": [
    "A partir dos resultados do suporte, é gerado todas as regras possíveis a partir de dois ou mais registros (de forma consecutiva). Caso as regras geradas obtenham um valor maior ou igual que a confiança especificada pelo usuário, então elas são validadas. Um outro recurso que garante maior poder a escolha das regras de forma precisa é chamado de **lift**. Esse recurso garante, a partir de fórmulas estatísticas, o quão mais frequente torna-se **B** quando **A** ocorre. Desse modo, o modelo por regras de associação estará pronto."
   ]
  },
  {
   "cell_type": "markdown",
   "metadata": {},
   "source": [
    "### Base de Dados"
   ]
  },
  {
   "cell_type": "markdown",
   "metadata": {},
   "source": [
    "Para exemplificar como os dados podem ser dispostos, vamos considerar uma base de dados de compras de supermecado. A partir das compras feitas pelos clientes, podemos dispor os dados da seguinte forma:"
   ]
  },
  {
   "cell_type": "markdown",
   "metadata": {},
   "source": [
    "- Separados por 'sim' para item comprado e 'não' para item não comprado."
   ]
  },
  {
   "cell_type": "markdown",
   "metadata": {},
   "source": [
    "![dado1](Imagens/dados1.png)"
   ]
  },
  {
   "cell_type": "markdown",
   "metadata": {},
   "source": [
    "- Alinhados em linha todos os produtos comprados em relação a cada um dos clientes."
   ]
  },
  {
   "cell_type": "markdown",
   "metadata": {},
   "source": [
    "![dado2](Imagens/dados2.png)"
   ]
  },
  {
   "cell_type": "markdown",
   "metadata": {},
   "source": [
    "### Alguma Dúvida? Entre em Contato Comigo:"
   ]
  },
  {
   "cell_type": "markdown",
   "metadata": {},
   "source": [
    "- [Me envie um e-mail](mailto:alyssonmachado388@gmail.com);"
   ]
  }
 ],
 "metadata": {
  "kernelspec": {
   "display_name": "Python 3",
   "language": "python",
   "name": "python3"
  },
  "language_info": {
   "codemirror_mode": {
    "name": "ipython",
    "version": 3
   },
   "file_extension": ".py",
   "mimetype": "text/x-python",
   "name": "python",
   "nbconvert_exporter": "python",
   "pygments_lexer": "ipython3",
   "version": "3.7.4"
  }
 },
 "nbformat": 4,
 "nbformat_minor": 4
}
