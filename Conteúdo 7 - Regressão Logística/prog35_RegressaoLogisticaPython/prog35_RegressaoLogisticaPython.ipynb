{
 "cells": [
  {
   "cell_type": "markdown",
   "metadata": {},
   "source": [
    "# Regressão Logística com Python\n",
    "### Aplicando o algoritmo de classificação usando o método de regressão logística para uma base de dados de risco de crédito."
   ]
  },
  {
   "cell_type": "markdown",
   "metadata": {},
   "source": [
    "#### Pré-processamento da base de dados"
   ]
  },
  {
   "cell_type": "code",
   "execution_count": 1,
   "metadata": {},
   "outputs": [],
   "source": [
    "# importando a biblioteca pandas do python\n",
    "import pandas as pd\n",
    "\n",
    "# importando todos os registros da base de dados no objeto \"dataframe\"\n",
    "dataframe = pd.read_csv('Risco_credito.csv', encoding = 'utf-8', sep = ',')\n",
    "\n",
    "# separando os atributos previsores das classes\n",
    "previsores = dataframe.iloc[:, 0:4].values\n",
    "classe = dataframe.iloc[:, 4].values\n",
    "\n",
    "# importando a biblioteca sklearn do python\n",
    "from sklearn.preprocessing import LabelEncoder\n",
    "\n",
    "# criando o objeto 'labelencoder' para realizar a transformação dos atributos categóricos em numéricos\n",
    "labelencoder = LabelEncoder()\n",
    "\n",
    "# transformando as variáveis categóricas em numéricas usando o objeto 'LabelEncoder'\n",
    "previsores[:, 0] = labelencoder.fit_transform(previsores[:, 0])\n",
    "previsores[:, 1] = labelencoder.fit_transform(previsores[:, 1])\n",
    "previsores[:, 2] = labelencoder.fit_transform(previsores[:, 2])\n",
    "previsores[:, 3] = labelencoder.fit_transform(previsores[:, 3])"
   ]
  },
  {
   "cell_type": "markdown",
   "metadata": {},
   "source": [
    "#### Regressão Linear com Python"
   ]
  },
  {
   "cell_type": "code",
   "execution_count": 9,
   "metadata": {},
   "outputs": [],
   "source": [
    "# importando a biblioteca sklearn do Python\n",
    "from sklearn.linear_model import LogisticRegression\n",
    "# a função 'LogisticRegression' é a responsável por aplicar o método de regressão linear no algoritmo"
   ]
  },
  {
   "cell_type": "code",
   "execution_count": 10,
   "metadata": {},
   "outputs": [],
   "source": [
    "# criando o objeto 'classificador' para conseguir encontrar a melhor curva sigmoidal possível com a base de \n",
    "# dados em questão\n",
    "classificador = LogisticRegression()"
   ]
  },
  {
   "cell_type": "code",
   "execution_count": 11,
   "metadata": {},
   "outputs": [
    {
     "data": {
      "text/plain": [
       "LogisticRegression(C=1.0, class_weight=None, dual=False, fit_intercept=True,\n",
       "                   intercept_scaling=1, l1_ratio=None, max_iter=100,\n",
       "                   multi_class='auto', n_jobs=None, penalty='l2',\n",
       "                   random_state=None, solver='lbfgs', tol=0.0001, verbose=0,\n",
       "                   warm_start=False)"
      ]
     },
     "execution_count": 11,
     "metadata": {},
     "output_type": "execute_result"
    }
   ],
   "source": [
    "# aplicando o treinamento com a base de dados armazenadas no objete 'dataframe'\n",
    "classificador.fit(previsores, classe)"
   ]
  },
  {
   "cell_type": "code",
   "execution_count": 7,
   "metadata": {},
   "outputs": [
    {
     "name": "stdout",
     "output_type": "stream",
     "text": [
      "[-0.52358972]\n"
     ]
    }
   ],
   "source": [
    "# visualizando o parâmetro b0\n",
    "print(classificador.intercept_)"
   ]
  },
  {
   "cell_type": "code",
   "execution_count": 8,
   "metadata": {},
   "outputs": [
    {
     "name": "stdout",
     "output_type": "stream",
     "text": [
      "[[-0.65034407  0.25428474 -0.45375558  1.17384764]]\n"
     ]
    }
   ],
   "source": [
    "# visualizando os parâmetros obtidos para cada um dos campos de dados \n",
    "print(classificador.coef_)"
   ]
  },
  {
   "cell_type": "markdown",
   "metadata": {},
   "source": [
    "#### Testando a capacidade de predição do algoritmo"
   ]
  },
  {
   "cell_type": "code",
   "execution_count": 12,
   "metadata": {},
   "outputs": [],
   "source": [
    "# obtendo a predição utilizando o algoritmo feito, com as seguintes entradas:\n",
    "\n",
    "# historia boa, divida alta, garantias nenhuma, renda > 35\n",
    "# história ruim, dívida adequada, garantias adequada, renda < 15\n",
    "resultado = classificador.predict([[0, 0, 1, 2], [3, 0, 0, 0]])"
   ]
  },
  {
   "cell_type": "code",
   "execution_count": 13,
   "metadata": {},
   "outputs": [
    {
     "name": "stdout",
     "output_type": "stream",
     "text": [
      "['baixo' 'alto']\n"
     ]
    }
   ],
   "source": [
    "# visualizando a predição para os dois casos informados acima\n",
    "print(resultado)"
   ]
  },
  {
   "cell_type": "markdown",
   "metadata": {},
   "source": [
    "Dessa forma, para o cliente que possui em seu histórico um **historia boa, divida alta, garantias nenhuma e renda > 35**, o algoritmo previu o risco de realizar um empréstimo para esse cliente é baixo. Em contrapartida, para o usuário com os registros de **história ruim, dívida adequada, garantias adequada e renda < 15**, o algoritmo previu um risco de empréstimo alto."
   ]
  },
  {
   "cell_type": "markdown",
   "metadata": {},
   "source": [
    "#### Alguma dúvida? Entre em contato comigo:"
   ]
  },
  {
   "cell_type": "markdown",
   "metadata": {},
   "source": [
    "- [Me envie um e-mail](mailto:alyssonmachado388@gmail.com);"
   ]
  }
 ],
 "metadata": {
  "kernelspec": {
   "display_name": "Python 3",
   "language": "python",
   "name": "python3"
  },
  "language_info": {
   "codemirror_mode": {
    "name": "ipython",
    "version": 3
   },
   "file_extension": ".py",
   "mimetype": "text/x-python",
   "name": "python",
   "nbconvert_exporter": "python",
   "pygments_lexer": "ipython3",
   "version": "3.7.4"
  }
 },
 "nbformat": 4,
 "nbformat_minor": 4
}
