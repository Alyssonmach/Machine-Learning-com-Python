{
 "cells": [
  {
   "cell_type": "markdown",
   "metadata": {},
   "source": [
    "# Conteúdo"
   ]
  },
  {
   "cell_type": "markdown",
   "metadata": {},
   "source": [
    "- **Base de dados**\n",
    "> - Dados de crédito\n",
    "> - Censo\n",
    "\n",
    "- **Carregamento de bases de dados**\n",
    "- **Valores inconsistentes**\n",
    "- **Valores faltantes**\n",
    "- **Escalonamento de atributos**\n",
    "- **Transformação de variáveis categóricas**\n",
    "- **Introdução a avaliação de algoritmos**\n",
    "- **Base de treinamento e base de teste**\n",
    "> - Vários recursos do pandas(localizar, remover linhas e colunas, alterar valores)"
   ]
  }
 ],
 "metadata": {
  "kernelspec": {
   "display_name": "Python 3",
   "language": "python",
   "name": "python3"
  },
  "language_info": {
   "codemirror_mode": {
    "name": "ipython",
    "version": 3
   },
   "file_extension": ".py",
   "mimetype": "text/x-python",
   "name": "python",
   "nbconvert_exporter": "python",
   "pygments_lexer": "ipython3",
   "version": "3.7.4"
  }
 },
 "nbformat": 4,
 "nbformat_minor": 4
}
